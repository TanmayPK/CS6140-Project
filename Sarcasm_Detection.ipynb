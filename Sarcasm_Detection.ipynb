{
 "cells": [
  {
   "cell_type": "markdown",
   "id": "0bf920e4",
   "metadata": {
    "id": "0bf920e4"
   },
   "source": [
    "# CS6140 Project - Detection Of Sarcasm In Text"
   ]
  },
  {
   "cell_type": "code",
   "execution_count": 1,
   "id": "9XVRKMEBMj01",
   "metadata": {
    "id": "9XVRKMEBMj01"
   },
   "outputs": [],
   "source": []
  },
  {
   "cell_type": "markdown",
   "id": "5ea373ee",
   "metadata": {
    "id": "5ea373ee"
   },
   "source": [
    "## 1. Data Preprocessing"
   ]
  },
  {
   "cell_type": "code",
   "execution_count": 2,
   "id": "37ee3da6",
   "metadata": {
    "id": "37ee3da6"
   },
   "outputs": [],
   "source": [
    "import pandas as pd\n",
    "import numpy as np\n",
    "import matplotlib.pyplot as plt\n",
    "import nltk\n",
    "from nltk.corpus import stopwords\n",
    "from nltk.tokenize import wordpunct_tokenize\n",
    "from nltk.stem import WordNetLemmatizer\n",
    "import re\n",
    "import gensim\n",
    "import gensim.downloader as api\n",
    "import sklearn\n",
    "import torch\n",
    "import torch.nn as nn\n",
    "import torch.nn.functional as F\n",
    "from torch.utils.data import Dataset\n",
    "from sklearn.feature_extraction.text import TfidfVectorizer\n",
    "from sklearn.model_selection import train_test_split\n",
    "from gensim.models import KeyedVectors\n",
    "from sklearn.linear_model import LogisticRegression\n",
    "import math"
   ]
  },
  {
   "cell_type": "code",
   "execution_count": 3,
   "id": "5aa9eaa5",
   "metadata": {
    "colab": {
     "base_uri": "https://localhost:8080/"
    },
    "id": "5aa9eaa5",
    "outputId": "f448d476-8aae-48d6-c07f-42c7bfe381fc"
   },
   "outputs": [
    {
     "name": "stdout",
     "output_type": "stream",
     "text": [
      "[==================================================] 100.0% 376.1/376.1MB downloaded\n"
     ]
    }
   ],
   "source": [
    "#Run if running notebook with vectors locally for first time. Files added to gitignore\n",
    "glove = api.load('glove-wiki-gigaword-300')\n",
    "glove.save('glovevectors.bin')"
   ]
  },
  {
   "cell_type": "code",
   "execution_count": 4,
   "id": "a64e61aa",
   "metadata": {
    "id": "a64e61aa"
   },
   "outputs": [],
   "source": [
    "glove = KeyedVectors.load('glovevectors.bin')"
   ]
  },
  {
   "cell_type": "code",
   "execution_count": 5,
   "id": "3f59226c",
   "metadata": {
    "colab": {
     "base_uri": "https://localhost:8080/"
    },
    "id": "3f59226c",
    "outputId": "f90d0dc2-d5c3-453f-b148-1a58122e7435"
   },
   "outputs": [
    {
     "name": "stdout",
     "output_type": "stream",
     "text": [
      "[nltk_data] Downloading package stopwords to /root/nltk_data...\n",
      "[nltk_data]   Unzipping corpora/stopwords.zip.\n",
      "[nltk_data] Downloading package punkt to /root/nltk_data...\n",
      "[nltk_data]   Unzipping tokenizers/punkt.zip.\n",
      "[nltk_data] Downloading package wordnet to /root/nltk_data...\n",
      "[nltk_data]   Unzipping corpora/wordnet.zip.\n",
      "[nltk_data] Downloading package omw-1.4 to /root/nltk_data...\n",
      "[nltk_data]   Unzipping corpora/omw-1.4.zip.\n"
     ]
    },
    {
     "data": {
      "text/plain": [
       "True"
      ]
     },
     "execution_count": 5,
     "metadata": {},
     "output_type": "execute_result"
    }
   ],
   "source": [
    "# Run these if not up to date\n",
    "nltk.download('stopwords')\n",
    "nltk.download('punkt')\n",
    "nltk.download('wordnet')\n",
    "nltk.download('omw-1.4')"
   ]
  },
  {
   "cell_type": "code",
   "execution_count": 16,
   "id": "aaaa146a",
   "metadata": {
    "id": "aaaa146a"
   },
   "outputs": [],
   "source": [
    "#glove_vocab = glove.key_to_index\n",
    "glove.vocab['the'].index\n",
    "\n",
    "glove_vocab = {}\n",
    "for entry in glove.vocab:\n",
    "  glove_vocab[entry] = glove.vocab[entry].index"
   ]
  },
  {
   "cell_type": "code",
   "execution_count": 18,
   "id": "LTwdGtPHQGTY",
   "metadata": {
    "colab": {
     "base_uri": "https://localhost:8080/"
    },
    "id": "LTwdGtPHQGTY",
    "outputId": "3f6f2d82-93db-4d84-a3df-925d2c9b6738"
   },
   "outputs": [
    {
     "data": {
      "text/plain": [
       "0"
      ]
     },
     "execution_count": 18,
     "metadata": {},
     "output_type": "execute_result"
    }
   ],
   "source": [
    "glove_vocab['the']"
   ]
  },
  {
   "cell_type": "code",
   "execution_count": 19,
   "id": "75692538",
   "metadata": {
    "colab": {
     "base_uri": "https://localhost:8080/"
    },
    "id": "75692538",
    "outputId": "97a0e347-3888-476e-96e2-23c4392ed75c"
   },
   "outputs": [
    {
     "data": {
      "text/plain": [
       "True"
      ]
     },
     "execution_count": 19,
     "metadata": {},
     "output_type": "execute_result"
    }
   ],
   "source": [
    "torch.cuda.is_available()"
   ]
  },
  {
   "cell_type": "code",
   "execution_count": 20,
   "id": "72f30ef5",
   "metadata": {
    "id": "72f30ef5"
   },
   "outputs": [],
   "source": [
    "def get_default_device():\n",
    "    \"\"\"Picking GPU if available or else CPU\"\"\"\n",
    "    if torch.cuda.is_available():\n",
    "        return torch.device('cuda')\n",
    "    else:\n",
    "        return torch.device('cpu')\n",
    "device = get_default_device()\n",
    "#device = torch.device('cpu')"
   ]
  },
  {
   "cell_type": "code",
   "execution_count": 21,
   "id": "43b8b302",
   "metadata": {
    "id": "43b8b302"
   },
   "outputs": [],
   "source": [
    "def to_device(data, device):\n",
    "    \"\"\"Move tensor(s) to chosen device\"\"\"\n",
    "    if isinstance(data, (list,tuple)):\n",
    "        return [to_device(x, device) for x in data]\n",
    "    return data.to(device, non_blocking=True)"
   ]
  },
  {
   "cell_type": "code",
   "execution_count": 22,
   "id": "cf45eb7f",
   "metadata": {
    "id": "cf45eb7f"
   },
   "outputs": [],
   "source": [
    "data = pd.read_csv(\"train-balanced-sarcasm.csv\")"
   ]
  },
  {
   "cell_type": "code",
   "execution_count": 23,
   "id": "5032e62d",
   "metadata": {
    "id": "5032e62d"
   },
   "outputs": [],
   "source": [
    "data = data[['label', 'comment', 'subreddit', 'score', 'parent_comment']]"
   ]
  },
  {
   "cell_type": "code",
   "execution_count": 24,
   "id": "4d63ca11",
   "metadata": {
    "colab": {
     "base_uri": "https://localhost:8080/",
     "height": 363
    },
    "id": "4d63ca11",
    "outputId": "a7a16a10-e177-4d6e-bbe9-280ff4c26f31"
   },
   "outputs": [
    {
     "data": {
      "text/html": [
       "\n",
       "  <div id=\"df-c57cd780-9b7a-4adf-b90c-1c5a2cd930f2\">\n",
       "    <div class=\"colab-df-container\">\n",
       "      <div>\n",
       "<style scoped>\n",
       "    .dataframe tbody tr th:only-of-type {\n",
       "        vertical-align: middle;\n",
       "    }\n",
       "\n",
       "    .dataframe tbody tr th {\n",
       "        vertical-align: top;\n",
       "    }\n",
       "\n",
       "    .dataframe thead th {\n",
       "        text-align: right;\n",
       "    }\n",
       "</style>\n",
       "<table border=\"1\" class=\"dataframe\">\n",
       "  <thead>\n",
       "    <tr style=\"text-align: right;\">\n",
       "      <th></th>\n",
       "      <th>label</th>\n",
       "      <th>comment</th>\n",
       "      <th>subreddit</th>\n",
       "      <th>score</th>\n",
       "      <th>parent_comment</th>\n",
       "    </tr>\n",
       "  </thead>\n",
       "  <tbody>\n",
       "    <tr>\n",
       "      <th>0</th>\n",
       "      <td>0</td>\n",
       "      <td>NC and NH.</td>\n",
       "      <td>politics</td>\n",
       "      <td>2</td>\n",
       "      <td>Yeah, I get that argument. At this point, I'd ...</td>\n",
       "    </tr>\n",
       "    <tr>\n",
       "      <th>1</th>\n",
       "      <td>0</td>\n",
       "      <td>You do know west teams play against west teams...</td>\n",
       "      <td>nba</td>\n",
       "      <td>-4</td>\n",
       "      <td>The blazers and Mavericks (The wests 5 and 6 s...</td>\n",
       "    </tr>\n",
       "    <tr>\n",
       "      <th>2</th>\n",
       "      <td>0</td>\n",
       "      <td>They were underdogs earlier today, but since G...</td>\n",
       "      <td>nfl</td>\n",
       "      <td>3</td>\n",
       "      <td>They're favored to win.</td>\n",
       "    </tr>\n",
       "    <tr>\n",
       "      <th>3</th>\n",
       "      <td>0</td>\n",
       "      <td>This meme isn't funny none of the \"new york ni...</td>\n",
       "      <td>BlackPeopleTwitter</td>\n",
       "      <td>-8</td>\n",
       "      <td>deadass don't kill my buzz</td>\n",
       "    </tr>\n",
       "    <tr>\n",
       "      <th>4</th>\n",
       "      <td>0</td>\n",
       "      <td>I could use one of those tools.</td>\n",
       "      <td>MaddenUltimateTeam</td>\n",
       "      <td>6</td>\n",
       "      <td>Yep can confirm I saw the tool they use for th...</td>\n",
       "    </tr>\n",
       "    <tr>\n",
       "      <th>5</th>\n",
       "      <td>0</td>\n",
       "      <td>I don't pay attention to her, but as long as s...</td>\n",
       "      <td>AskReddit</td>\n",
       "      <td>0</td>\n",
       "      <td>do you find ariana grande sexy ?</td>\n",
       "    </tr>\n",
       "    <tr>\n",
       "      <th>6</th>\n",
       "      <td>0</td>\n",
       "      <td>Trick or treating in general is just weird...</td>\n",
       "      <td>AskReddit</td>\n",
       "      <td>1</td>\n",
       "      <td>What's your weird or unsettling Trick or Treat...</td>\n",
       "    </tr>\n",
       "    <tr>\n",
       "      <th>7</th>\n",
       "      <td>0</td>\n",
       "      <td>Blade Mastery+Masamune or GTFO!</td>\n",
       "      <td>FFBraveExvius</td>\n",
       "      <td>2</td>\n",
       "      <td>Probably Sephiroth. I refuse to taint his grea...</td>\n",
       "    </tr>\n",
       "    <tr>\n",
       "      <th>8</th>\n",
       "      <td>0</td>\n",
       "      <td>You don't have to, you have a good build, buy ...</td>\n",
       "      <td>pcmasterrace</td>\n",
       "      <td>1</td>\n",
       "      <td>What to upgrade? I have $500 to spend (mainly ...</td>\n",
       "    </tr>\n",
       "    <tr>\n",
       "      <th>9</th>\n",
       "      <td>0</td>\n",
       "      <td>I would love to see him at lolla.</td>\n",
       "      <td>Lollapalooza</td>\n",
       "      <td>2</td>\n",
       "      <td>Probably count Kanye out Since the rest of his...</td>\n",
       "    </tr>\n",
       "  </tbody>\n",
       "</table>\n",
       "</div>\n",
       "      <button class=\"colab-df-convert\" onclick=\"convertToInteractive('df-c57cd780-9b7a-4adf-b90c-1c5a2cd930f2')\"\n",
       "              title=\"Convert this dataframe to an interactive table.\"\n",
       "              style=\"display:none;\">\n",
       "        \n",
       "  <svg xmlns=\"http://www.w3.org/2000/svg\" height=\"24px\"viewBox=\"0 0 24 24\"\n",
       "       width=\"24px\">\n",
       "    <path d=\"M0 0h24v24H0V0z\" fill=\"none\"/>\n",
       "    <path d=\"M18.56 5.44l.94 2.06.94-2.06 2.06-.94-2.06-.94-.94-2.06-.94 2.06-2.06.94zm-11 1L8.5 8.5l.94-2.06 2.06-.94-2.06-.94L8.5 2.5l-.94 2.06-2.06.94zm10 10l.94 2.06.94-2.06 2.06-.94-2.06-.94-.94-2.06-.94 2.06-2.06.94z\"/><path d=\"M17.41 7.96l-1.37-1.37c-.4-.4-.92-.59-1.43-.59-.52 0-1.04.2-1.43.59L10.3 9.45l-7.72 7.72c-.78.78-.78 2.05 0 2.83L4 21.41c.39.39.9.59 1.41.59.51 0 1.02-.2 1.41-.59l7.78-7.78 2.81-2.81c.8-.78.8-2.07 0-2.86zM5.41 20L4 18.59l7.72-7.72 1.47 1.35L5.41 20z\"/>\n",
       "  </svg>\n",
       "      </button>\n",
       "      \n",
       "  <style>\n",
       "    .colab-df-container {\n",
       "      display:flex;\n",
       "      flex-wrap:wrap;\n",
       "      gap: 12px;\n",
       "    }\n",
       "\n",
       "    .colab-df-convert {\n",
       "      background-color: #E8F0FE;\n",
       "      border: none;\n",
       "      border-radius: 50%;\n",
       "      cursor: pointer;\n",
       "      display: none;\n",
       "      fill: #1967D2;\n",
       "      height: 32px;\n",
       "      padding: 0 0 0 0;\n",
       "      width: 32px;\n",
       "    }\n",
       "\n",
       "    .colab-df-convert:hover {\n",
       "      background-color: #E2EBFA;\n",
       "      box-shadow: 0px 1px 2px rgba(60, 64, 67, 0.3), 0px 1px 3px 1px rgba(60, 64, 67, 0.15);\n",
       "      fill: #174EA6;\n",
       "    }\n",
       "\n",
       "    [theme=dark] .colab-df-convert {\n",
       "      background-color: #3B4455;\n",
       "      fill: #D2E3FC;\n",
       "    }\n",
       "\n",
       "    [theme=dark] .colab-df-convert:hover {\n",
       "      background-color: #434B5C;\n",
       "      box-shadow: 0px 1px 3px 1px rgba(0, 0, 0, 0.15);\n",
       "      filter: drop-shadow(0px 1px 2px rgba(0, 0, 0, 0.3));\n",
       "      fill: #FFFFFF;\n",
       "    }\n",
       "  </style>\n",
       "\n",
       "      <script>\n",
       "        const buttonEl =\n",
       "          document.querySelector('#df-c57cd780-9b7a-4adf-b90c-1c5a2cd930f2 button.colab-df-convert');\n",
       "        buttonEl.style.display =\n",
       "          google.colab.kernel.accessAllowed ? 'block' : 'none';\n",
       "\n",
       "        async function convertToInteractive(key) {\n",
       "          const element = document.querySelector('#df-c57cd780-9b7a-4adf-b90c-1c5a2cd930f2');\n",
       "          const dataTable =\n",
       "            await google.colab.kernel.invokeFunction('convertToInteractive',\n",
       "                                                     [key], {});\n",
       "          if (!dataTable) return;\n",
       "\n",
       "          const docLinkHtml = 'Like what you see? Visit the ' +\n",
       "            '<a target=\"_blank\" href=https://colab.research.google.com/notebooks/data_table.ipynb>data table notebook</a>'\n",
       "            + ' to learn more about interactive tables.';\n",
       "          element.innerHTML = '';\n",
       "          dataTable['output_type'] = 'display_data';\n",
       "          await google.colab.output.renderOutput(dataTable, element);\n",
       "          const docLink = document.createElement('div');\n",
       "          docLink.innerHTML = docLinkHtml;\n",
       "          element.appendChild(docLink);\n",
       "        }\n",
       "      </script>\n",
       "    </div>\n",
       "  </div>\n",
       "  "
      ],
      "text/plain": [
       "   label                                            comment  \\\n",
       "0      0                                         NC and NH.   \n",
       "1      0  You do know west teams play against west teams...   \n",
       "2      0  They were underdogs earlier today, but since G...   \n",
       "3      0  This meme isn't funny none of the \"new york ni...   \n",
       "4      0                    I could use one of those tools.   \n",
       "5      0  I don't pay attention to her, but as long as s...   \n",
       "6      0      Trick or treating in general is just weird...   \n",
       "7      0                    Blade Mastery+Masamune or GTFO!   \n",
       "8      0  You don't have to, you have a good build, buy ...   \n",
       "9      0                  I would love to see him at lolla.   \n",
       "\n",
       "            subreddit  score  \\\n",
       "0            politics      2   \n",
       "1                 nba     -4   \n",
       "2                 nfl      3   \n",
       "3  BlackPeopleTwitter     -8   \n",
       "4  MaddenUltimateTeam      6   \n",
       "5           AskReddit      0   \n",
       "6           AskReddit      1   \n",
       "7       FFBraveExvius      2   \n",
       "8        pcmasterrace      1   \n",
       "9        Lollapalooza      2   \n",
       "\n",
       "                                      parent_comment  \n",
       "0  Yeah, I get that argument. At this point, I'd ...  \n",
       "1  The blazers and Mavericks (The wests 5 and 6 s...  \n",
       "2                            They're favored to win.  \n",
       "3                         deadass don't kill my buzz  \n",
       "4  Yep can confirm I saw the tool they use for th...  \n",
       "5                   do you find ariana grande sexy ?  \n",
       "6  What's your weird or unsettling Trick or Treat...  \n",
       "7  Probably Sephiroth. I refuse to taint his grea...  \n",
       "8  What to upgrade? I have $500 to spend (mainly ...  \n",
       "9  Probably count Kanye out Since the rest of his...  "
      ]
     },
     "execution_count": 24,
     "metadata": {},
     "output_type": "execute_result"
    }
   ],
   "source": [
    "data.head(10)"
   ]
  },
  {
   "cell_type": "code",
   "execution_count": 25,
   "id": "78c3dff9",
   "metadata": {
    "colab": {
     "base_uri": "https://localhost:8080/"
    },
    "id": "78c3dff9",
    "outputId": "73ff6e25-d760-4925-aff0-9ba53f1180dc"
   },
   "outputs": [
    {
     "data": {
      "text/plain": [
       "label              0\n",
       "comment           53\n",
       "subreddit          0\n",
       "score              0\n",
       "parent_comment     0\n",
       "dtype: int64"
      ]
     },
     "execution_count": 25,
     "metadata": {},
     "output_type": "execute_result"
    }
   ],
   "source": [
    "data.isna().sum()"
   ]
  },
  {
   "cell_type": "code",
   "execution_count": 26,
   "id": "fa9de7f6",
   "metadata": {
    "id": "fa9de7f6"
   },
   "outputs": [],
   "source": [
    "data = data.dropna(axis=0)"
   ]
  },
  {
   "cell_type": "code",
   "execution_count": 27,
   "id": "44452775",
   "metadata": {
    "colab": {
     "base_uri": "https://localhost:8080/"
    },
    "id": "44452775",
    "outputId": "86ccf151-d64c-45cb-be94-cef3728d172d"
   },
   "outputs": [
    {
     "data": {
      "text/plain": [
       "label             0\n",
       "comment           0\n",
       "subreddit         0\n",
       "score             0\n",
       "parent_comment    0\n",
       "dtype: int64"
      ]
     },
     "execution_count": 27,
     "metadata": {},
     "output_type": "execute_result"
    }
   ],
   "source": [
    "data.isna().sum()"
   ]
  },
  {
   "cell_type": "code",
   "execution_count": 28,
   "id": "da54b5f5",
   "metadata": {
    "id": "da54b5f5"
   },
   "outputs": [],
   "source": [
    "data['comment_tokens'] = data['comment']\n",
    "data['comment_tokens'] = data['comment_tokens'].str.lower()\n",
    "data['comment_tokens'] = data['comment_tokens'].str.replace('can\\'t','can not',regex = True)\n",
    "data['comment_tokens'] = data['comment_tokens'].str.replace('\\'d',' would',regex = True)\n",
    "data['comment_tokens'] = data['comment_tokens'].str.replace('wouldn\\'t','would not',regex = True)\n",
    "data['comment_tokens'] = data['comment_tokens'].str.replace('couldn\\'t','could not',regex = True)\n",
    "data['comment_tokens'] = data['comment_tokens'].str.replace('[^\\w\\s]','', regex = True)"
   ]
  },
  {
   "cell_type": "code",
   "execution_count": 29,
   "id": "663d9e8b",
   "metadata": {
    "id": "663d9e8b",
    "pycharm": {
     "name": "#%%\n"
    }
   },
   "outputs": [],
   "source": [
    "data['parent_comment_tokens'] = data['parent_comment']\n",
    "data['parent_comment_tokens'] = data['parent_comment_tokens'].str.lower()\n",
    "data['parent_comment_tokens'] = data['parent_comment_tokens'].str.replace('can\\'t','can not',regex = True)\n",
    "data['parent_comment_tokens'] = data['parent_comment_tokens'].str.replace('\\'d',' would',regex = True)\n",
    "data['parent_comment_tokens'] = data['parent_comment_tokens'].str.replace('wouldn\\'t','would not',regex = True)\n",
    "data['parent_comment_tokens'] = data['parent_comment_tokens'].str.replace('couldn\\'t','could not',regex = True)\n",
    "data['parent_comment_tokens'] = data['parent_comment_tokens'].str.replace('[^\\w\\s]','', regex = True)"
   ]
  },
  {
   "cell_type": "code",
   "execution_count": 30,
   "id": "0d4aaeef",
   "metadata": {
    "id": "0d4aaeef"
   },
   "outputs": [],
   "source": [
    "lemma = WordNetLemmatizer()\n",
    "def apply_lemmatizer(sentence):\n",
    "    return [lemma.lemmatize(token) for token in wordpunct_tokenize(sentence)]"
   ]
  },
  {
   "cell_type": "code",
   "execution_count": 31,
   "id": "0ae498bb",
   "metadata": {
    "id": "0ae498bb",
    "pycharm": {
     "name": "#%%\n"
    }
   },
   "outputs": [],
   "source": [
    "data[\"comment_tokens\"] = data.comment_tokens.apply(apply_lemmatizer)\n",
    "data[\"parent_comment_tokens\"] = data.parent_comment_tokens.apply(apply_lemmatizer)"
   ]
  },
  {
   "cell_type": "code",
   "execution_count": 32,
   "id": "e005b2f7",
   "metadata": {
    "colab": {
     "base_uri": "https://localhost:8080/",
     "height": 363
    },
    "id": "e005b2f7",
    "outputId": "7a04a490-00db-43f1-e0d2-8226a9a492b9"
   },
   "outputs": [
    {
     "data": {
      "text/html": [
       "\n",
       "  <div id=\"df-59467f03-0e77-4d5f-8550-5abc4fdb85a2\">\n",
       "    <div class=\"colab-df-container\">\n",
       "      <div>\n",
       "<style scoped>\n",
       "    .dataframe tbody tr th:only-of-type {\n",
       "        vertical-align: middle;\n",
       "    }\n",
       "\n",
       "    .dataframe tbody tr th {\n",
       "        vertical-align: top;\n",
       "    }\n",
       "\n",
       "    .dataframe thead th {\n",
       "        text-align: right;\n",
       "    }\n",
       "</style>\n",
       "<table border=\"1\" class=\"dataframe\">\n",
       "  <thead>\n",
       "    <tr style=\"text-align: right;\">\n",
       "      <th></th>\n",
       "      <th>comment</th>\n",
       "      <th>comment_tokens</th>\n",
       "    </tr>\n",
       "  </thead>\n",
       "  <tbody>\n",
       "    <tr>\n",
       "      <th>0</th>\n",
       "      <td>NC and NH.</td>\n",
       "      <td>[nc, and, nh]</td>\n",
       "    </tr>\n",
       "    <tr>\n",
       "      <th>1</th>\n",
       "      <td>You do know west teams play against west teams...</td>\n",
       "      <td>[you, do, know, west, team, play, against, wes...</td>\n",
       "    </tr>\n",
       "    <tr>\n",
       "      <th>2</th>\n",
       "      <td>They were underdogs earlier today, but since G...</td>\n",
       "      <td>[they, were, underdog, earlier, today, but, si...</td>\n",
       "    </tr>\n",
       "    <tr>\n",
       "      <th>3</th>\n",
       "      <td>This meme isn't funny none of the \"new york ni...</td>\n",
       "      <td>[this, meme, isnt, funny, none, of, the, new, ...</td>\n",
       "    </tr>\n",
       "    <tr>\n",
       "      <th>4</th>\n",
       "      <td>I could use one of those tools.</td>\n",
       "      <td>[i, could, use, one, of, those, tool]</td>\n",
       "    </tr>\n",
       "    <tr>\n",
       "      <th>5</th>\n",
       "      <td>I don't pay attention to her, but as long as s...</td>\n",
       "      <td>[i, dont, pay, attention, to, her, but, a, lon...</td>\n",
       "    </tr>\n",
       "    <tr>\n",
       "      <th>6</th>\n",
       "      <td>Trick or treating in general is just weird...</td>\n",
       "      <td>[trick, or, treating, in, general, is, just, w...</td>\n",
       "    </tr>\n",
       "    <tr>\n",
       "      <th>7</th>\n",
       "      <td>Blade Mastery+Masamune or GTFO!</td>\n",
       "      <td>[blade, masterymasamune, or, gtfo]</td>\n",
       "    </tr>\n",
       "    <tr>\n",
       "      <th>8</th>\n",
       "      <td>You don't have to, you have a good build, buy ...</td>\n",
       "      <td>[you, dont, have, to, you, have, a, good, buil...</td>\n",
       "    </tr>\n",
       "    <tr>\n",
       "      <th>9</th>\n",
       "      <td>I would love to see him at lolla.</td>\n",
       "      <td>[i, would, love, to, see, him, at, lolla]</td>\n",
       "    </tr>\n",
       "  </tbody>\n",
       "</table>\n",
       "</div>\n",
       "      <button class=\"colab-df-convert\" onclick=\"convertToInteractive('df-59467f03-0e77-4d5f-8550-5abc4fdb85a2')\"\n",
       "              title=\"Convert this dataframe to an interactive table.\"\n",
       "              style=\"display:none;\">\n",
       "        \n",
       "  <svg xmlns=\"http://www.w3.org/2000/svg\" height=\"24px\"viewBox=\"0 0 24 24\"\n",
       "       width=\"24px\">\n",
       "    <path d=\"M0 0h24v24H0V0z\" fill=\"none\"/>\n",
       "    <path d=\"M18.56 5.44l.94 2.06.94-2.06 2.06-.94-2.06-.94-.94-2.06-.94 2.06-2.06.94zm-11 1L8.5 8.5l.94-2.06 2.06-.94-2.06-.94L8.5 2.5l-.94 2.06-2.06.94zm10 10l.94 2.06.94-2.06 2.06-.94-2.06-.94-.94-2.06-.94 2.06-2.06.94z\"/><path d=\"M17.41 7.96l-1.37-1.37c-.4-.4-.92-.59-1.43-.59-.52 0-1.04.2-1.43.59L10.3 9.45l-7.72 7.72c-.78.78-.78 2.05 0 2.83L4 21.41c.39.39.9.59 1.41.59.51 0 1.02-.2 1.41-.59l7.78-7.78 2.81-2.81c.8-.78.8-2.07 0-2.86zM5.41 20L4 18.59l7.72-7.72 1.47 1.35L5.41 20z\"/>\n",
       "  </svg>\n",
       "      </button>\n",
       "      \n",
       "  <style>\n",
       "    .colab-df-container {\n",
       "      display:flex;\n",
       "      flex-wrap:wrap;\n",
       "      gap: 12px;\n",
       "    }\n",
       "\n",
       "    .colab-df-convert {\n",
       "      background-color: #E8F0FE;\n",
       "      border: none;\n",
       "      border-radius: 50%;\n",
       "      cursor: pointer;\n",
       "      display: none;\n",
       "      fill: #1967D2;\n",
       "      height: 32px;\n",
       "      padding: 0 0 0 0;\n",
       "      width: 32px;\n",
       "    }\n",
       "\n",
       "    .colab-df-convert:hover {\n",
       "      background-color: #E2EBFA;\n",
       "      box-shadow: 0px 1px 2px rgba(60, 64, 67, 0.3), 0px 1px 3px 1px rgba(60, 64, 67, 0.15);\n",
       "      fill: #174EA6;\n",
       "    }\n",
       "\n",
       "    [theme=dark] .colab-df-convert {\n",
       "      background-color: #3B4455;\n",
       "      fill: #D2E3FC;\n",
       "    }\n",
       "\n",
       "    [theme=dark] .colab-df-convert:hover {\n",
       "      background-color: #434B5C;\n",
       "      box-shadow: 0px 1px 3px 1px rgba(0, 0, 0, 0.15);\n",
       "      filter: drop-shadow(0px 1px 2px rgba(0, 0, 0, 0.3));\n",
       "      fill: #FFFFFF;\n",
       "    }\n",
       "  </style>\n",
       "\n",
       "      <script>\n",
       "        const buttonEl =\n",
       "          document.querySelector('#df-59467f03-0e77-4d5f-8550-5abc4fdb85a2 button.colab-df-convert');\n",
       "        buttonEl.style.display =\n",
       "          google.colab.kernel.accessAllowed ? 'block' : 'none';\n",
       "\n",
       "        async function convertToInteractive(key) {\n",
       "          const element = document.querySelector('#df-59467f03-0e77-4d5f-8550-5abc4fdb85a2');\n",
       "          const dataTable =\n",
       "            await google.colab.kernel.invokeFunction('convertToInteractive',\n",
       "                                                     [key], {});\n",
       "          if (!dataTable) return;\n",
       "\n",
       "          const docLinkHtml = 'Like what you see? Visit the ' +\n",
       "            '<a target=\"_blank\" href=https://colab.research.google.com/notebooks/data_table.ipynb>data table notebook</a>'\n",
       "            + ' to learn more about interactive tables.';\n",
       "          element.innerHTML = '';\n",
       "          dataTable['output_type'] = 'display_data';\n",
       "          await google.colab.output.renderOutput(dataTable, element);\n",
       "          const docLink = document.createElement('div');\n",
       "          docLink.innerHTML = docLinkHtml;\n",
       "          element.appendChild(docLink);\n",
       "        }\n",
       "      </script>\n",
       "    </div>\n",
       "  </div>\n",
       "  "
      ],
      "text/plain": [
       "                                             comment  \\\n",
       "0                                         NC and NH.   \n",
       "1  You do know west teams play against west teams...   \n",
       "2  They were underdogs earlier today, but since G...   \n",
       "3  This meme isn't funny none of the \"new york ni...   \n",
       "4                    I could use one of those tools.   \n",
       "5  I don't pay attention to her, but as long as s...   \n",
       "6      Trick or treating in general is just weird...   \n",
       "7                    Blade Mastery+Masamune or GTFO!   \n",
       "8  You don't have to, you have a good build, buy ...   \n",
       "9                  I would love to see him at lolla.   \n",
       "\n",
       "                                      comment_tokens  \n",
       "0                                      [nc, and, nh]  \n",
       "1  [you, do, know, west, team, play, against, wes...  \n",
       "2  [they, were, underdog, earlier, today, but, si...  \n",
       "3  [this, meme, isnt, funny, none, of, the, new, ...  \n",
       "4              [i, could, use, one, of, those, tool]  \n",
       "5  [i, dont, pay, attention, to, her, but, a, lon...  \n",
       "6  [trick, or, treating, in, general, is, just, w...  \n",
       "7                 [blade, masterymasamune, or, gtfo]  \n",
       "8  [you, dont, have, to, you, have, a, good, buil...  \n",
       "9          [i, would, love, to, see, him, at, lolla]  "
      ]
     },
     "execution_count": 32,
     "metadata": {},
     "output_type": "execute_result"
    }
   ],
   "source": [
    "data[[\"comment\", \"comment_tokens\"]].head(10)"
   ]
  },
  {
   "cell_type": "code",
   "execution_count": 33,
   "id": "236d24fa",
   "metadata": {
    "colab": {
     "base_uri": "https://localhost:8080/"
    },
    "id": "236d24fa",
    "outputId": "bd874fb6-a466-464d-b6f6-a199117e2f0c",
    "pycharm": {
     "name": "#%%\n"
    }
   },
   "outputs": [
    {
     "data": {
      "text/plain": [
       "(1010773,)"
      ]
     },
     "execution_count": 33,
     "metadata": {},
     "output_type": "execute_result"
    }
   ],
   "source": [
    "data['comment_tokens'].shape"
   ]
  },
  {
   "cell_type": "code",
   "execution_count": 34,
   "id": "6a8312b3",
   "metadata": {
    "colab": {
     "base_uri": "https://localhost:8080/",
     "height": 363
    },
    "id": "6a8312b3",
    "outputId": "6084bfde-a674-47e6-970e-18d88e593474",
    "pycharm": {
     "name": "#%%\n"
    }
   },
   "outputs": [
    {
     "data": {
      "text/html": [
       "\n",
       "  <div id=\"df-180377d9-7fc8-4b1a-ba56-13d5db1315f0\">\n",
       "    <div class=\"colab-df-container\">\n",
       "      <div>\n",
       "<style scoped>\n",
       "    .dataframe tbody tr th:only-of-type {\n",
       "        vertical-align: middle;\n",
       "    }\n",
       "\n",
       "    .dataframe tbody tr th {\n",
       "        vertical-align: top;\n",
       "    }\n",
       "\n",
       "    .dataframe thead th {\n",
       "        text-align: right;\n",
       "    }\n",
       "</style>\n",
       "<table border=\"1\" class=\"dataframe\">\n",
       "  <thead>\n",
       "    <tr style=\"text-align: right;\">\n",
       "      <th></th>\n",
       "      <th>parent_comment</th>\n",
       "      <th>parent_comment_tokens</th>\n",
       "    </tr>\n",
       "  </thead>\n",
       "  <tbody>\n",
       "    <tr>\n",
       "      <th>0</th>\n",
       "      <td>Yeah, I get that argument. At this point, I'd ...</td>\n",
       "      <td>[yeah, i, get, that, argument, at, this, point...</td>\n",
       "    </tr>\n",
       "    <tr>\n",
       "      <th>1</th>\n",
       "      <td>The blazers and Mavericks (The wests 5 and 6 s...</td>\n",
       "      <td>[the, blazer, and, maverick, the, west, 5, and...</td>\n",
       "    </tr>\n",
       "    <tr>\n",
       "      <th>2</th>\n",
       "      <td>They're favored to win.</td>\n",
       "      <td>[theyre, favored, to, win]</td>\n",
       "    </tr>\n",
       "    <tr>\n",
       "      <th>3</th>\n",
       "      <td>deadass don't kill my buzz</td>\n",
       "      <td>[deadass, dont, kill, my, buzz]</td>\n",
       "    </tr>\n",
       "    <tr>\n",
       "      <th>4</th>\n",
       "      <td>Yep can confirm I saw the tool they use for th...</td>\n",
       "      <td>[yep, can, confirm, i, saw, the, tool, they, u...</td>\n",
       "    </tr>\n",
       "    <tr>\n",
       "      <th>5</th>\n",
       "      <td>do you find ariana grande sexy ?</td>\n",
       "      <td>[do, you, find, ariana, grande, sexy]</td>\n",
       "    </tr>\n",
       "    <tr>\n",
       "      <th>6</th>\n",
       "      <td>What's your weird or unsettling Trick or Treat...</td>\n",
       "      <td>[whats, your, weird, or, unsettling, trick, or...</td>\n",
       "    </tr>\n",
       "    <tr>\n",
       "      <th>7</th>\n",
       "      <td>Probably Sephiroth. I refuse to taint his grea...</td>\n",
       "      <td>[probably, sephiroth, i, refuse, to, taint, hi...</td>\n",
       "    </tr>\n",
       "    <tr>\n",
       "      <th>8</th>\n",
       "      <td>What to upgrade? I have $500 to spend (mainly ...</td>\n",
       "      <td>[what, to, upgrade, i, have, 500, to, spend, m...</td>\n",
       "    </tr>\n",
       "    <tr>\n",
       "      <th>9</th>\n",
       "      <td>Probably count Kanye out Since the rest of his...</td>\n",
       "      <td>[probably, count, kanye, out, since, the, rest...</td>\n",
       "    </tr>\n",
       "  </tbody>\n",
       "</table>\n",
       "</div>\n",
       "      <button class=\"colab-df-convert\" onclick=\"convertToInteractive('df-180377d9-7fc8-4b1a-ba56-13d5db1315f0')\"\n",
       "              title=\"Convert this dataframe to an interactive table.\"\n",
       "              style=\"display:none;\">\n",
       "        \n",
       "  <svg xmlns=\"http://www.w3.org/2000/svg\" height=\"24px\"viewBox=\"0 0 24 24\"\n",
       "       width=\"24px\">\n",
       "    <path d=\"M0 0h24v24H0V0z\" fill=\"none\"/>\n",
       "    <path d=\"M18.56 5.44l.94 2.06.94-2.06 2.06-.94-2.06-.94-.94-2.06-.94 2.06-2.06.94zm-11 1L8.5 8.5l.94-2.06 2.06-.94-2.06-.94L8.5 2.5l-.94 2.06-2.06.94zm10 10l.94 2.06.94-2.06 2.06-.94-2.06-.94-.94-2.06-.94 2.06-2.06.94z\"/><path d=\"M17.41 7.96l-1.37-1.37c-.4-.4-.92-.59-1.43-.59-.52 0-1.04.2-1.43.59L10.3 9.45l-7.72 7.72c-.78.78-.78 2.05 0 2.83L4 21.41c.39.39.9.59 1.41.59.51 0 1.02-.2 1.41-.59l7.78-7.78 2.81-2.81c.8-.78.8-2.07 0-2.86zM5.41 20L4 18.59l7.72-7.72 1.47 1.35L5.41 20z\"/>\n",
       "  </svg>\n",
       "      </button>\n",
       "      \n",
       "  <style>\n",
       "    .colab-df-container {\n",
       "      display:flex;\n",
       "      flex-wrap:wrap;\n",
       "      gap: 12px;\n",
       "    }\n",
       "\n",
       "    .colab-df-convert {\n",
       "      background-color: #E8F0FE;\n",
       "      border: none;\n",
       "      border-radius: 50%;\n",
       "      cursor: pointer;\n",
       "      display: none;\n",
       "      fill: #1967D2;\n",
       "      height: 32px;\n",
       "      padding: 0 0 0 0;\n",
       "      width: 32px;\n",
       "    }\n",
       "\n",
       "    .colab-df-convert:hover {\n",
       "      background-color: #E2EBFA;\n",
       "      box-shadow: 0px 1px 2px rgba(60, 64, 67, 0.3), 0px 1px 3px 1px rgba(60, 64, 67, 0.15);\n",
       "      fill: #174EA6;\n",
       "    }\n",
       "\n",
       "    [theme=dark] .colab-df-convert {\n",
       "      background-color: #3B4455;\n",
       "      fill: #D2E3FC;\n",
       "    }\n",
       "\n",
       "    [theme=dark] .colab-df-convert:hover {\n",
       "      background-color: #434B5C;\n",
       "      box-shadow: 0px 1px 3px 1px rgba(0, 0, 0, 0.15);\n",
       "      filter: drop-shadow(0px 1px 2px rgba(0, 0, 0, 0.3));\n",
       "      fill: #FFFFFF;\n",
       "    }\n",
       "  </style>\n",
       "\n",
       "      <script>\n",
       "        const buttonEl =\n",
       "          document.querySelector('#df-180377d9-7fc8-4b1a-ba56-13d5db1315f0 button.colab-df-convert');\n",
       "        buttonEl.style.display =\n",
       "          google.colab.kernel.accessAllowed ? 'block' : 'none';\n",
       "\n",
       "        async function convertToInteractive(key) {\n",
       "          const element = document.querySelector('#df-180377d9-7fc8-4b1a-ba56-13d5db1315f0');\n",
       "          const dataTable =\n",
       "            await google.colab.kernel.invokeFunction('convertToInteractive',\n",
       "                                                     [key], {});\n",
       "          if (!dataTable) return;\n",
       "\n",
       "          const docLinkHtml = 'Like what you see? Visit the ' +\n",
       "            '<a target=\"_blank\" href=https://colab.research.google.com/notebooks/data_table.ipynb>data table notebook</a>'\n",
       "            + ' to learn more about interactive tables.';\n",
       "          element.innerHTML = '';\n",
       "          dataTable['output_type'] = 'display_data';\n",
       "          await google.colab.output.renderOutput(dataTable, element);\n",
       "          const docLink = document.createElement('div');\n",
       "          docLink.innerHTML = docLinkHtml;\n",
       "          element.appendChild(docLink);\n",
       "        }\n",
       "      </script>\n",
       "    </div>\n",
       "  </div>\n",
       "  "
      ],
      "text/plain": [
       "                                      parent_comment  \\\n",
       "0  Yeah, I get that argument. At this point, I'd ...   \n",
       "1  The blazers and Mavericks (The wests 5 and 6 s...   \n",
       "2                            They're favored to win.   \n",
       "3                         deadass don't kill my buzz   \n",
       "4  Yep can confirm I saw the tool they use for th...   \n",
       "5                   do you find ariana grande sexy ?   \n",
       "6  What's your weird or unsettling Trick or Treat...   \n",
       "7  Probably Sephiroth. I refuse to taint his grea...   \n",
       "8  What to upgrade? I have $500 to spend (mainly ...   \n",
       "9  Probably count Kanye out Since the rest of his...   \n",
       "\n",
       "                               parent_comment_tokens  \n",
       "0  [yeah, i, get, that, argument, at, this, point...  \n",
       "1  [the, blazer, and, maverick, the, west, 5, and...  \n",
       "2                         [theyre, favored, to, win]  \n",
       "3                    [deadass, dont, kill, my, buzz]  \n",
       "4  [yep, can, confirm, i, saw, the, tool, they, u...  \n",
       "5              [do, you, find, ariana, grande, sexy]  \n",
       "6  [whats, your, weird, or, unsettling, trick, or...  \n",
       "7  [probably, sephiroth, i, refuse, to, taint, hi...  \n",
       "8  [what, to, upgrade, i, have, 500, to, spend, m...  \n",
       "9  [probably, count, kanye, out, since, the, rest...  "
      ]
     },
     "execution_count": 34,
     "metadata": {},
     "output_type": "execute_result"
    }
   ],
   "source": [
    "data[[\"parent_comment\", \"parent_comment_tokens\"]].head(10)"
   ]
  },
  {
   "cell_type": "code",
   "execution_count": 35,
   "id": "dc59c9f8",
   "metadata": {
    "colab": {
     "base_uri": "https://localhost:8080/"
    },
    "id": "dc59c9f8",
    "outputId": "8a891e00-67bc-411e-a0df-49df56770281",
    "pycharm": {
     "name": "#%%\n"
    }
   },
   "outputs": [
    {
     "data": {
      "text/plain": [
       "(1010773,)"
      ]
     },
     "execution_count": 35,
     "metadata": {},
     "output_type": "execute_result"
    }
   ],
   "source": [
    "data['parent_comment_tokens'].shape"
   ]
  },
  {
   "cell_type": "code",
   "execution_count": 36,
   "id": "08c32428",
   "metadata": {
    "id": "08c32428"
   },
   "outputs": [],
   "source": [
    "X = data[['comment_tokens', 'parent_comment_tokens']]"
   ]
  },
  {
   "cell_type": "code",
   "execution_count": 37,
   "id": "a0e03105",
   "metadata": {
    "colab": {
     "base_uri": "https://localhost:8080/",
     "height": 363
    },
    "id": "a0e03105",
    "outputId": "3847ee02-935e-4780-d405-721d22b5e83e"
   },
   "outputs": [
    {
     "data": {
      "text/html": [
       "\n",
       "  <div id=\"df-2a935c38-2879-4ec4-bc22-955f1e7826ef\">\n",
       "    <div class=\"colab-df-container\">\n",
       "      <div>\n",
       "<style scoped>\n",
       "    .dataframe tbody tr th:only-of-type {\n",
       "        vertical-align: middle;\n",
       "    }\n",
       "\n",
       "    .dataframe tbody tr th {\n",
       "        vertical-align: top;\n",
       "    }\n",
       "\n",
       "    .dataframe thead th {\n",
       "        text-align: right;\n",
       "    }\n",
       "</style>\n",
       "<table border=\"1\" class=\"dataframe\">\n",
       "  <thead>\n",
       "    <tr style=\"text-align: right;\">\n",
       "      <th></th>\n",
       "      <th>comment_tokens</th>\n",
       "      <th>parent_comment_tokens</th>\n",
       "    </tr>\n",
       "  </thead>\n",
       "  <tbody>\n",
       "    <tr>\n",
       "      <th>0</th>\n",
       "      <td>[nc, and, nh]</td>\n",
       "      <td>[yeah, i, get, that, argument, at, this, point...</td>\n",
       "    </tr>\n",
       "    <tr>\n",
       "      <th>1</th>\n",
       "      <td>[you, do, know, west, team, play, against, wes...</td>\n",
       "      <td>[the, blazer, and, maverick, the, west, 5, and...</td>\n",
       "    </tr>\n",
       "    <tr>\n",
       "      <th>2</th>\n",
       "      <td>[they, were, underdog, earlier, today, but, si...</td>\n",
       "      <td>[theyre, favored, to, win]</td>\n",
       "    </tr>\n",
       "    <tr>\n",
       "      <th>3</th>\n",
       "      <td>[this, meme, isnt, funny, none, of, the, new, ...</td>\n",
       "      <td>[deadass, dont, kill, my, buzz]</td>\n",
       "    </tr>\n",
       "    <tr>\n",
       "      <th>4</th>\n",
       "      <td>[i, could, use, one, of, those, tool]</td>\n",
       "      <td>[yep, can, confirm, i, saw, the, tool, they, u...</td>\n",
       "    </tr>\n",
       "    <tr>\n",
       "      <th>5</th>\n",
       "      <td>[i, dont, pay, attention, to, her, but, a, lon...</td>\n",
       "      <td>[do, you, find, ariana, grande, sexy]</td>\n",
       "    </tr>\n",
       "    <tr>\n",
       "      <th>6</th>\n",
       "      <td>[trick, or, treating, in, general, is, just, w...</td>\n",
       "      <td>[whats, your, weird, or, unsettling, trick, or...</td>\n",
       "    </tr>\n",
       "    <tr>\n",
       "      <th>7</th>\n",
       "      <td>[blade, masterymasamune, or, gtfo]</td>\n",
       "      <td>[probably, sephiroth, i, refuse, to, taint, hi...</td>\n",
       "    </tr>\n",
       "    <tr>\n",
       "      <th>8</th>\n",
       "      <td>[you, dont, have, to, you, have, a, good, buil...</td>\n",
       "      <td>[what, to, upgrade, i, have, 500, to, spend, m...</td>\n",
       "    </tr>\n",
       "    <tr>\n",
       "      <th>9</th>\n",
       "      <td>[i, would, love, to, see, him, at, lolla]</td>\n",
       "      <td>[probably, count, kanye, out, since, the, rest...</td>\n",
       "    </tr>\n",
       "  </tbody>\n",
       "</table>\n",
       "</div>\n",
       "      <button class=\"colab-df-convert\" onclick=\"convertToInteractive('df-2a935c38-2879-4ec4-bc22-955f1e7826ef')\"\n",
       "              title=\"Convert this dataframe to an interactive table.\"\n",
       "              style=\"display:none;\">\n",
       "        \n",
       "  <svg xmlns=\"http://www.w3.org/2000/svg\" height=\"24px\"viewBox=\"0 0 24 24\"\n",
       "       width=\"24px\">\n",
       "    <path d=\"M0 0h24v24H0V0z\" fill=\"none\"/>\n",
       "    <path d=\"M18.56 5.44l.94 2.06.94-2.06 2.06-.94-2.06-.94-.94-2.06-.94 2.06-2.06.94zm-11 1L8.5 8.5l.94-2.06 2.06-.94-2.06-.94L8.5 2.5l-.94 2.06-2.06.94zm10 10l.94 2.06.94-2.06 2.06-.94-2.06-.94-.94-2.06-.94 2.06-2.06.94z\"/><path d=\"M17.41 7.96l-1.37-1.37c-.4-.4-.92-.59-1.43-.59-.52 0-1.04.2-1.43.59L10.3 9.45l-7.72 7.72c-.78.78-.78 2.05 0 2.83L4 21.41c.39.39.9.59 1.41.59.51 0 1.02-.2 1.41-.59l7.78-7.78 2.81-2.81c.8-.78.8-2.07 0-2.86zM5.41 20L4 18.59l7.72-7.72 1.47 1.35L5.41 20z\"/>\n",
       "  </svg>\n",
       "      </button>\n",
       "      \n",
       "  <style>\n",
       "    .colab-df-container {\n",
       "      display:flex;\n",
       "      flex-wrap:wrap;\n",
       "      gap: 12px;\n",
       "    }\n",
       "\n",
       "    .colab-df-convert {\n",
       "      background-color: #E8F0FE;\n",
       "      border: none;\n",
       "      border-radius: 50%;\n",
       "      cursor: pointer;\n",
       "      display: none;\n",
       "      fill: #1967D2;\n",
       "      height: 32px;\n",
       "      padding: 0 0 0 0;\n",
       "      width: 32px;\n",
       "    }\n",
       "\n",
       "    .colab-df-convert:hover {\n",
       "      background-color: #E2EBFA;\n",
       "      box-shadow: 0px 1px 2px rgba(60, 64, 67, 0.3), 0px 1px 3px 1px rgba(60, 64, 67, 0.15);\n",
       "      fill: #174EA6;\n",
       "    }\n",
       "\n",
       "    [theme=dark] .colab-df-convert {\n",
       "      background-color: #3B4455;\n",
       "      fill: #D2E3FC;\n",
       "    }\n",
       "\n",
       "    [theme=dark] .colab-df-convert:hover {\n",
       "      background-color: #434B5C;\n",
       "      box-shadow: 0px 1px 3px 1px rgba(0, 0, 0, 0.15);\n",
       "      filter: drop-shadow(0px 1px 2px rgba(0, 0, 0, 0.3));\n",
       "      fill: #FFFFFF;\n",
       "    }\n",
       "  </style>\n",
       "\n",
       "      <script>\n",
       "        const buttonEl =\n",
       "          document.querySelector('#df-2a935c38-2879-4ec4-bc22-955f1e7826ef button.colab-df-convert');\n",
       "        buttonEl.style.display =\n",
       "          google.colab.kernel.accessAllowed ? 'block' : 'none';\n",
       "\n",
       "        async function convertToInteractive(key) {\n",
       "          const element = document.querySelector('#df-2a935c38-2879-4ec4-bc22-955f1e7826ef');\n",
       "          const dataTable =\n",
       "            await google.colab.kernel.invokeFunction('convertToInteractive',\n",
       "                                                     [key], {});\n",
       "          if (!dataTable) return;\n",
       "\n",
       "          const docLinkHtml = 'Like what you see? Visit the ' +\n",
       "            '<a target=\"_blank\" href=https://colab.research.google.com/notebooks/data_table.ipynb>data table notebook</a>'\n",
       "            + ' to learn more about interactive tables.';\n",
       "          element.innerHTML = '';\n",
       "          dataTable['output_type'] = 'display_data';\n",
       "          await google.colab.output.renderOutput(dataTable, element);\n",
       "          const docLink = document.createElement('div');\n",
       "          docLink.innerHTML = docLinkHtml;\n",
       "          element.appendChild(docLink);\n",
       "        }\n",
       "      </script>\n",
       "    </div>\n",
       "  </div>\n",
       "  "
      ],
      "text/plain": [
       "                                      comment_tokens  \\\n",
       "0                                      [nc, and, nh]   \n",
       "1  [you, do, know, west, team, play, against, wes...   \n",
       "2  [they, were, underdog, earlier, today, but, si...   \n",
       "3  [this, meme, isnt, funny, none, of, the, new, ...   \n",
       "4              [i, could, use, one, of, those, tool]   \n",
       "5  [i, dont, pay, attention, to, her, but, a, lon...   \n",
       "6  [trick, or, treating, in, general, is, just, w...   \n",
       "7                 [blade, masterymasamune, or, gtfo]   \n",
       "8  [you, dont, have, to, you, have, a, good, buil...   \n",
       "9          [i, would, love, to, see, him, at, lolla]   \n",
       "\n",
       "                               parent_comment_tokens  \n",
       "0  [yeah, i, get, that, argument, at, this, point...  \n",
       "1  [the, blazer, and, maverick, the, west, 5, and...  \n",
       "2                         [theyre, favored, to, win]  \n",
       "3                    [deadass, dont, kill, my, buzz]  \n",
       "4  [yep, can, confirm, i, saw, the, tool, they, u...  \n",
       "5              [do, you, find, ariana, grande, sexy]  \n",
       "6  [whats, your, weird, or, unsettling, trick, or...  \n",
       "7  [probably, sephiroth, i, refuse, to, taint, hi...  \n",
       "8  [what, to, upgrade, i, have, 500, to, spend, m...  \n",
       "9  [probably, count, kanye, out, since, the, rest...  "
      ]
     },
     "execution_count": 37,
     "metadata": {},
     "output_type": "execute_result"
    }
   ],
   "source": [
    "X.head(10)"
   ]
  },
  {
   "cell_type": "code",
   "execution_count": 38,
   "id": "fc70fc23",
   "metadata": {
    "id": "fc70fc23"
   },
   "outputs": [],
   "source": [
    "Y = data[['label']]"
   ]
  },
  {
   "cell_type": "code",
   "execution_count": 38,
   "id": "52b7eacc",
   "metadata": {
    "id": "52b7eacc"
   },
   "outputs": [],
   "source": []
  },
  {
   "cell_type": "code",
   "execution_count": 39,
   "id": "d447986d",
   "metadata": {
    "colab": {
     "base_uri": "https://localhost:8080/",
     "height": 363
    },
    "id": "d447986d",
    "outputId": "e9baca88-8f39-4a05-8911-b9b7a0ea3f44"
   },
   "outputs": [
    {
     "data": {
      "text/html": [
       "\n",
       "  <div id=\"df-8040623e-0f15-4172-960a-c6270b1f3aa2\">\n",
       "    <div class=\"colab-df-container\">\n",
       "      <div>\n",
       "<style scoped>\n",
       "    .dataframe tbody tr th:only-of-type {\n",
       "        vertical-align: middle;\n",
       "    }\n",
       "\n",
       "    .dataframe tbody tr th {\n",
       "        vertical-align: top;\n",
       "    }\n",
       "\n",
       "    .dataframe thead th {\n",
       "        text-align: right;\n",
       "    }\n",
       "</style>\n",
       "<table border=\"1\" class=\"dataframe\">\n",
       "  <thead>\n",
       "    <tr style=\"text-align: right;\">\n",
       "      <th></th>\n",
       "      <th>label</th>\n",
       "    </tr>\n",
       "  </thead>\n",
       "  <tbody>\n",
       "    <tr>\n",
       "      <th>1010816</th>\n",
       "      <td>1</td>\n",
       "    </tr>\n",
       "    <tr>\n",
       "      <th>1010817</th>\n",
       "      <td>1</td>\n",
       "    </tr>\n",
       "    <tr>\n",
       "      <th>1010818</th>\n",
       "      <td>1</td>\n",
       "    </tr>\n",
       "    <tr>\n",
       "      <th>1010819</th>\n",
       "      <td>1</td>\n",
       "    </tr>\n",
       "    <tr>\n",
       "      <th>1010820</th>\n",
       "      <td>1</td>\n",
       "    </tr>\n",
       "    <tr>\n",
       "      <th>1010821</th>\n",
       "      <td>1</td>\n",
       "    </tr>\n",
       "    <tr>\n",
       "      <th>1010822</th>\n",
       "      <td>1</td>\n",
       "    </tr>\n",
       "    <tr>\n",
       "      <th>1010823</th>\n",
       "      <td>1</td>\n",
       "    </tr>\n",
       "    <tr>\n",
       "      <th>1010824</th>\n",
       "      <td>1</td>\n",
       "    </tr>\n",
       "    <tr>\n",
       "      <th>1010825</th>\n",
       "      <td>1</td>\n",
       "    </tr>\n",
       "  </tbody>\n",
       "</table>\n",
       "</div>\n",
       "      <button class=\"colab-df-convert\" onclick=\"convertToInteractive('df-8040623e-0f15-4172-960a-c6270b1f3aa2')\"\n",
       "              title=\"Convert this dataframe to an interactive table.\"\n",
       "              style=\"display:none;\">\n",
       "        \n",
       "  <svg xmlns=\"http://www.w3.org/2000/svg\" height=\"24px\"viewBox=\"0 0 24 24\"\n",
       "       width=\"24px\">\n",
       "    <path d=\"M0 0h24v24H0V0z\" fill=\"none\"/>\n",
       "    <path d=\"M18.56 5.44l.94 2.06.94-2.06 2.06-.94-2.06-.94-.94-2.06-.94 2.06-2.06.94zm-11 1L8.5 8.5l.94-2.06 2.06-.94-2.06-.94L8.5 2.5l-.94 2.06-2.06.94zm10 10l.94 2.06.94-2.06 2.06-.94-2.06-.94-.94-2.06-.94 2.06-2.06.94z\"/><path d=\"M17.41 7.96l-1.37-1.37c-.4-.4-.92-.59-1.43-.59-.52 0-1.04.2-1.43.59L10.3 9.45l-7.72 7.72c-.78.78-.78 2.05 0 2.83L4 21.41c.39.39.9.59 1.41.59.51 0 1.02-.2 1.41-.59l7.78-7.78 2.81-2.81c.8-.78.8-2.07 0-2.86zM5.41 20L4 18.59l7.72-7.72 1.47 1.35L5.41 20z\"/>\n",
       "  </svg>\n",
       "      </button>\n",
       "      \n",
       "  <style>\n",
       "    .colab-df-container {\n",
       "      display:flex;\n",
       "      flex-wrap:wrap;\n",
       "      gap: 12px;\n",
       "    }\n",
       "\n",
       "    .colab-df-convert {\n",
       "      background-color: #E8F0FE;\n",
       "      border: none;\n",
       "      border-radius: 50%;\n",
       "      cursor: pointer;\n",
       "      display: none;\n",
       "      fill: #1967D2;\n",
       "      height: 32px;\n",
       "      padding: 0 0 0 0;\n",
       "      width: 32px;\n",
       "    }\n",
       "\n",
       "    .colab-df-convert:hover {\n",
       "      background-color: #E2EBFA;\n",
       "      box-shadow: 0px 1px 2px rgba(60, 64, 67, 0.3), 0px 1px 3px 1px rgba(60, 64, 67, 0.15);\n",
       "      fill: #174EA6;\n",
       "    }\n",
       "\n",
       "    [theme=dark] .colab-df-convert {\n",
       "      background-color: #3B4455;\n",
       "      fill: #D2E3FC;\n",
       "    }\n",
       "\n",
       "    [theme=dark] .colab-df-convert:hover {\n",
       "      background-color: #434B5C;\n",
       "      box-shadow: 0px 1px 3px 1px rgba(0, 0, 0, 0.15);\n",
       "      filter: drop-shadow(0px 1px 2px rgba(0, 0, 0, 0.3));\n",
       "      fill: #FFFFFF;\n",
       "    }\n",
       "  </style>\n",
       "\n",
       "      <script>\n",
       "        const buttonEl =\n",
       "          document.querySelector('#df-8040623e-0f15-4172-960a-c6270b1f3aa2 button.colab-df-convert');\n",
       "        buttonEl.style.display =\n",
       "          google.colab.kernel.accessAllowed ? 'block' : 'none';\n",
       "\n",
       "        async function convertToInteractive(key) {\n",
       "          const element = document.querySelector('#df-8040623e-0f15-4172-960a-c6270b1f3aa2');\n",
       "          const dataTable =\n",
       "            await google.colab.kernel.invokeFunction('convertToInteractive',\n",
       "                                                     [key], {});\n",
       "          if (!dataTable) return;\n",
       "\n",
       "          const docLinkHtml = 'Like what you see? Visit the ' +\n",
       "            '<a target=\"_blank\" href=https://colab.research.google.com/notebooks/data_table.ipynb>data table notebook</a>'\n",
       "            + ' to learn more about interactive tables.';\n",
       "          element.innerHTML = '';\n",
       "          dataTable['output_type'] = 'display_data';\n",
       "          await google.colab.output.renderOutput(dataTable, element);\n",
       "          const docLink = document.createElement('div');\n",
       "          docLink.innerHTML = docLinkHtml;\n",
       "          element.appendChild(docLink);\n",
       "        }\n",
       "      </script>\n",
       "    </div>\n",
       "  </div>\n",
       "  "
      ],
      "text/plain": [
       "         label\n",
       "1010816      1\n",
       "1010817      1\n",
       "1010818      1\n",
       "1010819      1\n",
       "1010820      1\n",
       "1010821      1\n",
       "1010822      1\n",
       "1010823      1\n",
       "1010824      1\n",
       "1010825      1"
      ]
     },
     "execution_count": 39,
     "metadata": {},
     "output_type": "execute_result"
    }
   ],
   "source": [
    "Y.tail(10)"
   ]
  },
  {
   "cell_type": "code",
   "execution_count": 40,
   "id": "b2c25f10",
   "metadata": {
    "id": "b2c25f10"
   },
   "outputs": [],
   "source": [
    "X_train, X_val, y_train, y_val = train_test_split(X, Y, train_size= 0.6)"
   ]
  },
  {
   "cell_type": "code",
   "execution_count": 41,
   "id": "4ea1484d",
   "metadata": {
    "id": "4ea1484d"
   },
   "outputs": [],
   "source": [
    "X_val, X_test, y_val, y_test = train_test_split(X_val, y_val, train_size = 0.5) "
   ]
  },
  {
   "cell_type": "code",
   "execution_count": 42,
   "id": "3666b500",
   "metadata": {
    "id": "3666b500"
   },
   "outputs": [],
   "source": [
    "X_train = X_train.reset_index(drop = True)\n",
    "X_val = X_val.reset_index(drop = True)\n",
    "X_test = X_test.reset_index(drop = True)"
   ]
  },
  {
   "cell_type": "code",
   "execution_count": 43,
   "id": "18582005",
   "metadata": {
    "id": "18582005"
   },
   "outputs": [],
   "source": [
    "y_train = y_train.reset_index(drop = True)\n",
    "y_valid = y_val.reset_index(drop = True)\n",
    "y_test = y_test.reset_index(drop = True)"
   ]
  },
  {
   "cell_type": "code",
   "execution_count": 44,
   "id": "073540b4",
   "metadata": {
    "id": "073540b4"
   },
   "outputs": [],
   "source": [
    "X_train_copy = X_train.copy()\n",
    "X_val_copy = X_val.copy()\n",
    "X_test_copy = X_test.copy()\n",
    "y_train_copy = y_train.copy()\n",
    "y_valid_copy = y_valid.copy()\n",
    "y_test_copy = y_test.copy()"
   ]
  },
  {
   "cell_type": "code",
   "execution_count": 44,
   "id": "9f565109",
   "metadata": {
    "id": "9f565109"
   },
   "outputs": [],
   "source": []
  },
  {
   "cell_type": "code",
   "execution_count": 45,
   "id": "30131dad",
   "metadata": {
    "colab": {
     "base_uri": "https://localhost:8080/",
     "height": 363
    },
    "id": "30131dad",
    "outputId": "51def566-f142-4eb0-c340-00d7380b5178"
   },
   "outputs": [
    {
     "data": {
      "text/html": [
       "\n",
       "  <div id=\"df-d5a40166-d7a5-4f3f-af0d-bafa6a6be9c6\">\n",
       "    <div class=\"colab-df-container\">\n",
       "      <div>\n",
       "<style scoped>\n",
       "    .dataframe tbody tr th:only-of-type {\n",
       "        vertical-align: middle;\n",
       "    }\n",
       "\n",
       "    .dataframe tbody tr th {\n",
       "        vertical-align: top;\n",
       "    }\n",
       "\n",
       "    .dataframe thead th {\n",
       "        text-align: right;\n",
       "    }\n",
       "</style>\n",
       "<table border=\"1\" class=\"dataframe\">\n",
       "  <thead>\n",
       "    <tr style=\"text-align: right;\">\n",
       "      <th></th>\n",
       "      <th>comment_tokens</th>\n",
       "      <th>parent_comment_tokens</th>\n",
       "    </tr>\n",
       "  </thead>\n",
       "  <tbody>\n",
       "    <tr>\n",
       "      <th>0</th>\n",
       "      <td>[i, second, that, notion]</td>\n",
       "      <td>[vote, stuff, butt, stuff]</td>\n",
       "    </tr>\n",
       "    <tr>\n",
       "      <th>1</th>\n",
       "      <td>[i, wish, i, didnt, have, all, of, those, self...</td>\n",
       "      <td>[tell, me, how, is, a, modern, selfie, any, di...</td>\n",
       "    </tr>\n",
       "    <tr>\n",
       "      <th>2</th>\n",
       "      <td>[mcgregor, ha, fought, 4, time, in, 14, month,...</td>\n",
       "      <td>[yup, he, a, lot, fresher, than, aldo, thats, ...</td>\n",
       "    </tr>\n",
       "    <tr>\n",
       "      <th>3</th>\n",
       "      <td>[and, for, non, brit, bird, is, a, slang, for,...</td>\n",
       "      <td>[this, is, like, dumping, a, bird, because, sh...</td>\n",
       "    </tr>\n",
       "    <tr>\n",
       "      <th>4</th>\n",
       "      <td>[radical, centrist, then]</td>\n",
       "      <td>[i, think, john, cleese, make, a, very, good, ...</td>\n",
       "    </tr>\n",
       "    <tr>\n",
       "      <th>5</th>\n",
       "      <td>[if, not, you, are, obviously, a, failure]</td>\n",
       "      <td>[just, pulled, that, date, out, of, my, as, im...</td>\n",
       "    </tr>\n",
       "    <tr>\n",
       "      <th>6</th>\n",
       "      <td>[more, like, a, show, whore]</td>\n",
       "      <td>[i, can, only, imagine, the, stress, that, put...</td>\n",
       "    </tr>\n",
       "    <tr>\n",
       "      <th>7</th>\n",
       "      <td>[you, just, study, it, out]</td>\n",
       "      <td>[just, do, the, research, brah]</td>\n",
       "    </tr>\n",
       "    <tr>\n",
       "      <th>8</th>\n",
       "      <td>[no, lion, make, them, a, frog, while, rhastas...</td>\n",
       "      <td>[and, rhasta, and, lion, both, have, sheep, sk...</td>\n",
       "    </tr>\n",
       "    <tr>\n",
       "      <th>9</th>\n",
       "      <td>[alcohol, isnt, really, that, great, for, you,...</td>\n",
       "      <td>[god, thats, fucking, disgusting, im, an, amer...</td>\n",
       "    </tr>\n",
       "  </tbody>\n",
       "</table>\n",
       "</div>\n",
       "      <button class=\"colab-df-convert\" onclick=\"convertToInteractive('df-d5a40166-d7a5-4f3f-af0d-bafa6a6be9c6')\"\n",
       "              title=\"Convert this dataframe to an interactive table.\"\n",
       "              style=\"display:none;\">\n",
       "        \n",
       "  <svg xmlns=\"http://www.w3.org/2000/svg\" height=\"24px\"viewBox=\"0 0 24 24\"\n",
       "       width=\"24px\">\n",
       "    <path d=\"M0 0h24v24H0V0z\" fill=\"none\"/>\n",
       "    <path d=\"M18.56 5.44l.94 2.06.94-2.06 2.06-.94-2.06-.94-.94-2.06-.94 2.06-2.06.94zm-11 1L8.5 8.5l.94-2.06 2.06-.94-2.06-.94L8.5 2.5l-.94 2.06-2.06.94zm10 10l.94 2.06.94-2.06 2.06-.94-2.06-.94-.94-2.06-.94 2.06-2.06.94z\"/><path d=\"M17.41 7.96l-1.37-1.37c-.4-.4-.92-.59-1.43-.59-.52 0-1.04.2-1.43.59L10.3 9.45l-7.72 7.72c-.78.78-.78 2.05 0 2.83L4 21.41c.39.39.9.59 1.41.59.51 0 1.02-.2 1.41-.59l7.78-7.78 2.81-2.81c.8-.78.8-2.07 0-2.86zM5.41 20L4 18.59l7.72-7.72 1.47 1.35L5.41 20z\"/>\n",
       "  </svg>\n",
       "      </button>\n",
       "      \n",
       "  <style>\n",
       "    .colab-df-container {\n",
       "      display:flex;\n",
       "      flex-wrap:wrap;\n",
       "      gap: 12px;\n",
       "    }\n",
       "\n",
       "    .colab-df-convert {\n",
       "      background-color: #E8F0FE;\n",
       "      border: none;\n",
       "      border-radius: 50%;\n",
       "      cursor: pointer;\n",
       "      display: none;\n",
       "      fill: #1967D2;\n",
       "      height: 32px;\n",
       "      padding: 0 0 0 0;\n",
       "      width: 32px;\n",
       "    }\n",
       "\n",
       "    .colab-df-convert:hover {\n",
       "      background-color: #E2EBFA;\n",
       "      box-shadow: 0px 1px 2px rgba(60, 64, 67, 0.3), 0px 1px 3px 1px rgba(60, 64, 67, 0.15);\n",
       "      fill: #174EA6;\n",
       "    }\n",
       "\n",
       "    [theme=dark] .colab-df-convert {\n",
       "      background-color: #3B4455;\n",
       "      fill: #D2E3FC;\n",
       "    }\n",
       "\n",
       "    [theme=dark] .colab-df-convert:hover {\n",
       "      background-color: #434B5C;\n",
       "      box-shadow: 0px 1px 3px 1px rgba(0, 0, 0, 0.15);\n",
       "      filter: drop-shadow(0px 1px 2px rgba(0, 0, 0, 0.3));\n",
       "      fill: #FFFFFF;\n",
       "    }\n",
       "  </style>\n",
       "\n",
       "      <script>\n",
       "        const buttonEl =\n",
       "          document.querySelector('#df-d5a40166-d7a5-4f3f-af0d-bafa6a6be9c6 button.colab-df-convert');\n",
       "        buttonEl.style.display =\n",
       "          google.colab.kernel.accessAllowed ? 'block' : 'none';\n",
       "\n",
       "        async function convertToInteractive(key) {\n",
       "          const element = document.querySelector('#df-d5a40166-d7a5-4f3f-af0d-bafa6a6be9c6');\n",
       "          const dataTable =\n",
       "            await google.colab.kernel.invokeFunction('convertToInteractive',\n",
       "                                                     [key], {});\n",
       "          if (!dataTable) return;\n",
       "\n",
       "          const docLinkHtml = 'Like what you see? Visit the ' +\n",
       "            '<a target=\"_blank\" href=https://colab.research.google.com/notebooks/data_table.ipynb>data table notebook</a>'\n",
       "            + ' to learn more about interactive tables.';\n",
       "          element.innerHTML = '';\n",
       "          dataTable['output_type'] = 'display_data';\n",
       "          await google.colab.output.renderOutput(dataTable, element);\n",
       "          const docLink = document.createElement('div');\n",
       "          docLink.innerHTML = docLinkHtml;\n",
       "          element.appendChild(docLink);\n",
       "        }\n",
       "      </script>\n",
       "    </div>\n",
       "  </div>\n",
       "  "
      ],
      "text/plain": [
       "                                      comment_tokens  \\\n",
       "0                          [i, second, that, notion]   \n",
       "1  [i, wish, i, didnt, have, all, of, those, self...   \n",
       "2  [mcgregor, ha, fought, 4, time, in, 14, month,...   \n",
       "3  [and, for, non, brit, bird, is, a, slang, for,...   \n",
       "4                          [radical, centrist, then]   \n",
       "5         [if, not, you, are, obviously, a, failure]   \n",
       "6                       [more, like, a, show, whore]   \n",
       "7                        [you, just, study, it, out]   \n",
       "8  [no, lion, make, them, a, frog, while, rhastas...   \n",
       "9  [alcohol, isnt, really, that, great, for, you,...   \n",
       "\n",
       "                               parent_comment_tokens  \n",
       "0                         [vote, stuff, butt, stuff]  \n",
       "1  [tell, me, how, is, a, modern, selfie, any, di...  \n",
       "2  [yup, he, a, lot, fresher, than, aldo, thats, ...  \n",
       "3  [this, is, like, dumping, a, bird, because, sh...  \n",
       "4  [i, think, john, cleese, make, a, very, good, ...  \n",
       "5  [just, pulled, that, date, out, of, my, as, im...  \n",
       "6  [i, can, only, imagine, the, stress, that, put...  \n",
       "7                    [just, do, the, research, brah]  \n",
       "8  [and, rhasta, and, lion, both, have, sheep, sk...  \n",
       "9  [god, thats, fucking, disgusting, im, an, amer...  "
      ]
     },
     "execution_count": 45,
     "metadata": {},
     "output_type": "execute_result"
    }
   ],
   "source": [
    "X_train.head(10)"
   ]
  },
  {
   "cell_type": "code",
   "execution_count": 46,
   "id": "47578ddf",
   "metadata": {
    "colab": {
     "base_uri": "https://localhost:8080/"
    },
    "id": "47578ddf",
    "outputId": "f7b2ff5c-af40-4f6e-8fc3-db6ba550e0a9"
   },
   "outputs": [
    {
     "data": {
      "text/plain": [
       "606463"
      ]
     },
     "execution_count": 46,
     "metadata": {},
     "output_type": "execute_result"
    }
   ],
   "source": [
    "len(X_train)"
   ]
  },
  {
   "cell_type": "code",
   "execution_count": 47,
   "id": "dbae060d",
   "metadata": {
    "colab": {
     "base_uri": "https://localhost:8080/"
    },
    "id": "dbae060d",
    "outputId": "34474dec-f7ff-4c6f-f465-b5ee33696584"
   },
   "outputs": [
    {
     "data": {
      "text/plain": [
       "(1010773, 7)"
      ]
     },
     "execution_count": 47,
     "metadata": {},
     "output_type": "execute_result"
    }
   ],
   "source": [
    "data.shape"
   ]
  },
  {
   "cell_type": "code",
   "execution_count": null,
   "id": "b7a03f8e",
   "metadata": {
    "id": "b7a03f8e",
    "pycharm": {
     "name": "#%%\n"
    }
   },
   "outputs": [],
   "source": [
    "# Since comments are already preprocessed and tokenized,\n",
    "# the vectorizer only needs to take tokens as they are.\n",
    "tfidfVectorizer = TfidfVectorizer(analyzer=lambda tokens: tokens)\n",
    "corpus = pd.concat([X_train['comment_tokens'], X_train['parent_comment_tokens']])\n",
    "tfidfMatrix = tfidfVectorizer.fit_transform(corpus)\n",
    "vocabulary = tfidfVectorizer.vocabulary_"
   ]
  },
  {
   "cell_type": "code",
   "execution_count": null,
   "id": "0c014963",
   "metadata": {
    "colab": {
     "base_uri": "https://localhost:8080/"
    },
    "id": "0c014963",
    "outputId": "e61853e7-aa9e-4c38-add0-f4e2b1504bcd"
   },
   "outputs": [
    {
     "data": {
      "text/plain": [
       "(1212926, 282504)"
      ]
     },
     "execution_count": 36,
     "metadata": {},
     "output_type": "execute_result"
    }
   ],
   "source": [
    "tfidfMatrix.shape"
   ]
  },
  {
   "cell_type": "code",
   "execution_count": null,
   "id": "f5b13c91",
   "metadata": {
    "colab": {
     "base_uri": "https://localhost:8080/"
    },
    "id": "f5b13c91",
    "outputId": "4c441989-7674-4ddf-a61b-893986e8bbe8",
    "pycharm": {
     "name": "#%%\n"
    }
   },
   "outputs": [
    {
     "data": {
      "text/plain": [
       "<1212926x282504 sparse matrix of type '<class 'numpy.float64'>'\n",
       "\twith 17806252 stored elements in Compressed Sparse Row format>"
      ]
     },
     "execution_count": 37,
     "metadata": {},
     "output_type": "execute_result"
    }
   ],
   "source": [
    "# the tfidf matrix has 2021546 rows,\n",
    "# where the 0 ~ 606462 rows represent original comments in the same order as those in dataset,\n",
    "# and the 606463 ~ 1212926 rows represent parent comments in the same order as those in dataset;\n",
    "# and the tfidf matrix has 395961 columns, each represents a word in the vocabulary.\n",
    "tfidfMatrix"
   ]
  },
  {
   "cell_type": "code",
   "execution_count": null,
   "id": "63904094",
   "metadata": {
    "colab": {
     "base_uri": "https://localhost:8080/"
    },
    "id": "63904094",
    "outputId": "61235d3a-e6ac-4def-c4e0-ba07c438b02e",
    "pycharm": {
     "name": "#%%\n"
    }
   },
   "outputs": [
    {
     "data": {
      "text/plain": [
       "[('damn', 70783),\n",
       " ('russian', 216671),\n",
       " ('nah', 169333),\n",
       " ('probably', 198549),\n",
       " ('modern', 164172),\n",
       " ('shit', 226125),\n",
       " ('like', 147673),\n",
       " ('justin', 136637),\n",
       " ('bieber', 41708),\n",
       " ('and', 26790)]"
      ]
     },
     "execution_count": 38,
     "metadata": {},
     "output_type": "execute_result"
    }
   ],
   "source": [
    "# By using the following dict, we can obtain the index of a given word for querying tfidf matrix.\n",
    "list(vocabulary.items())[0:10] "
   ]
  },
  {
   "cell_type": "markdown",
   "id": "f81f253d",
   "metadata": {
    "id": "f81f253d",
    "pycharm": {
     "name": "#%% md\n"
    }
   },
   "source": [
    "Once we have learned word vectors, to compute the sentence vector of a comment,\n",
    "first fetch the corresponding row from the tfidf matrix (if it is the i-th original comment, then\n",
    "it is the i-th row; if it is the i-th parent comment, then it is the (1010773 + i)-th row),\n",
    "second for each word in the comment find its corresponding tfidf value from the row,\n",
    "third compute the average of the word vectors weighted by corresponding tfidf values."
   ]
  },
  {
   "cell_type": "code",
   "execution_count": null,
   "id": "b6460a32",
   "metadata": {
    "colab": {
     "base_uri": "https://localhost:8080/"
    },
    "id": "b6460a32",
    "outputId": "d5cf9334-8fdb-4305-f60d-f72b77456c4c"
   },
   "outputs": [
    {
     "data": {
      "text/plain": [
       "(1212926, 283721)"
      ]
     },
     "execution_count": 55,
     "metadata": {},
     "output_type": "execute_result"
    }
   ],
   "source": [
    "tfidfMatrix.shape"
   ]
  },
  {
   "cell_type": "code",
   "execution_count": null,
   "id": "8a113d9b",
   "metadata": {
    "id": "8a113d9b"
   },
   "outputs": [],
   "source": [
    "#tfidfMatrix[0,249920]"
   ]
  },
  {
   "cell_type": "code",
   "execution_count": null,
   "id": "18b2accb",
   "metadata": {
    "colab": {
     "base_uri": "https://localhost:8080/"
    },
    "id": "18b2accb",
    "outputId": "d78f7e9d-0f6f-44c3-beb9-516ec01e0281"
   },
   "outputs": [
    {
     "data": {
      "text/plain": [
       "249379"
      ]
     },
     "execution_count": 58,
     "metadata": {},
     "output_type": "execute_result"
    }
   ],
   "source": [
    "vocabulary['thats']"
   ]
  },
  {
   "cell_type": "code",
   "execution_count": null,
   "id": "1cc375d3",
   "metadata": {
    "id": "1cc375d3"
   },
   "outputs": [],
   "source": [
    "tfidfMatrixtest = tfidfVectorizer.transform(pd.concat([X_test['comment_tokens'], X_test['parent_comment_tokens']]))\n",
    "tfidfMatrixvalid = tfidfVectorizer.transform(pd.concat([X_val['comment_tokens'], X_val['parent_comment_tokens']]))"
   ]
  },
  {
   "cell_type": "code",
   "execution_count": null,
   "id": "1ecd437a",
   "metadata": {
    "colab": {
     "base_uri": "https://localhost:8080/"
    },
    "id": "1ecd437a",
    "outputId": "6e484943-6e6e-4ea7-cdae-2a08ca6cca74"
   },
   "outputs": [
    {
     "data": {
      "text/plain": [
       "(404310, 283721)"
      ]
     },
     "execution_count": 60,
     "metadata": {},
     "output_type": "execute_result"
    }
   ],
   "source": [
    "tfidfMatrixtest.shape"
   ]
  },
  {
   "cell_type": "code",
   "execution_count": null,
   "id": "907e664f",
   "metadata": {
    "colab": {
     "base_uri": "https://localhost:8080/",
     "height": 363
    },
    "id": "907e664f",
    "outputId": "1f354084-2bc7-4b3d-e6fe-48a5de7e33c3"
   },
   "outputs": [
    {
     "data": {
      "text/html": [
       "<div>\n",
       "<style scoped>\n",
       "    .dataframe tbody tr th:only-of-type {\n",
       "        vertical-align: middle;\n",
       "    }\n",
       "\n",
       "    .dataframe tbody tr th {\n",
       "        vertical-align: top;\n",
       "    }\n",
       "\n",
       "    .dataframe thead th {\n",
       "        text-align: right;\n",
       "    }\n",
       "</style>\n",
       "<table border=\"1\" class=\"dataframe\">\n",
       "  <thead>\n",
       "    <tr style=\"text-align: right;\">\n",
       "      <th></th>\n",
       "      <th>comment_tokens</th>\n",
       "      <th>parent_comment_tokens</th>\n",
       "    </tr>\n",
       "  </thead>\n",
       "  <tbody>\n",
       "    <tr>\n",
       "      <th>0</th>\n",
       "      <td>[yeah, you, really, can, not, go, wrong, with,...</td>\n",
       "      <td>[i, decided, to, drop, randle, i, think, boyki...</td>\n",
       "    </tr>\n",
       "    <tr>\n",
       "      <th>1</th>\n",
       "      <td>[my, cushion, are, a, good, three, inch, so, i...</td>\n",
       "      <td>[really, most, of, mine, did, they, were, what...</td>\n",
       "    </tr>\n",
       "    <tr>\n",
       "      <th>2</th>\n",
       "      <td>[gave, me, the, giggle, wa, yaya, right]</td>\n",
       "      <td>[worse, than, not, getting, a, bday, cake]</td>\n",
       "    </tr>\n",
       "    <tr>\n",
       "      <th>3</th>\n",
       "      <td>[just, wanted, to, say, youve, been, very, luc...</td>\n",
       "      <td>[need, help, with, progress, hey, guy, so, i, ...</td>\n",
       "    </tr>\n",
       "    <tr>\n",
       "      <th>4</th>\n",
       "      <td>[this, give, me, hope, for, the, note, 8]</td>\n",
       "      <td>[nytimes, samsung, are, still, unaware, why, t...</td>\n",
       "    </tr>\n",
       "    <tr>\n",
       "      <th>5</th>\n",
       "      <td>[if, you, want, to, replace, your, queen, with...</td>\n",
       "      <td>[down, with, all, these, british, republican]</td>\n",
       "    </tr>\n",
       "    <tr>\n",
       "      <th>6</th>\n",
       "      <td>[lol, yes]</td>\n",
       "      <td>[forest, bound]</td>\n",
       "    </tr>\n",
       "    <tr>\n",
       "      <th>7</th>\n",
       "      <td>[even, the, nazi, could, not, get, away, from,...</td>\n",
       "      <td>[miniature, bible, smuggled, into, nazi, conce...</td>\n",
       "    </tr>\n",
       "    <tr>\n",
       "      <th>8</th>\n",
       "      <td>[with, probably, the, best, customer, service,...</td>\n",
       "      <td>[fuck, apple, they, are, an, evil, greedy, com...</td>\n",
       "    </tr>\n",
       "    <tr>\n",
       "      <th>9</th>\n",
       "      <td>[maybe, they, will, have, an, attribute, for, ...</td>\n",
       "      <td>[i, would, have, poped, surv, link, and, loote...</td>\n",
       "    </tr>\n",
       "  </tbody>\n",
       "</table>\n",
       "</div>"
      ],
      "text/plain": [
       "                                      comment_tokens  \\\n",
       "0  [yeah, you, really, can, not, go, wrong, with,...   \n",
       "1  [my, cushion, are, a, good, three, inch, so, i...   \n",
       "2           [gave, me, the, giggle, wa, yaya, right]   \n",
       "3  [just, wanted, to, say, youve, been, very, luc...   \n",
       "4          [this, give, me, hope, for, the, note, 8]   \n",
       "5  [if, you, want, to, replace, your, queen, with...   \n",
       "6                                         [lol, yes]   \n",
       "7  [even, the, nazi, could, not, get, away, from,...   \n",
       "8  [with, probably, the, best, customer, service,...   \n",
       "9  [maybe, they, will, have, an, attribute, for, ...   \n",
       "\n",
       "                               parent_comment_tokens  \n",
       "0  [i, decided, to, drop, randle, i, think, boyki...  \n",
       "1  [really, most, of, mine, did, they, were, what...  \n",
       "2         [worse, than, not, getting, a, bday, cake]  \n",
       "3  [need, help, with, progress, hey, guy, so, i, ...  \n",
       "4  [nytimes, samsung, are, still, unaware, why, t...  \n",
       "5      [down, with, all, these, british, republican]  \n",
       "6                                    [forest, bound]  \n",
       "7  [miniature, bible, smuggled, into, nazi, conce...  \n",
       "8  [fuck, apple, they, are, an, evil, greedy, com...  \n",
       "9  [i, would, have, poped, surv, link, and, loote...  "
      ]
     },
     "execution_count": 61,
     "metadata": {},
     "output_type": "execute_result"
    }
   ],
   "source": [
    "X_test.head(10)"
   ]
  },
  {
   "cell_type": "code",
   "execution_count": null,
   "id": "8b25529b",
   "metadata": {
    "colab": {
     "base_uri": "https://localhost:8080/"
    },
    "id": "8b25529b",
    "outputId": "c124d6ac-8add-40a5-b01b-12b065f2af62"
   },
   "outputs": [
    {
     "data": {
      "text/plain": [
       "100405"
      ]
     },
     "execution_count": 62,
     "metadata": {},
     "output_type": "execute_result"
    }
   ],
   "source": [
    "vocabulary['for']"
   ]
  },
  {
   "cell_type": "code",
   "execution_count": null,
   "id": "3a209b8b",
   "metadata": {
    "colab": {
     "base_uri": "https://localhost:8080/"
    },
    "id": "3a209b8b",
    "outputId": "d4bd6644-9df2-43ec-e534-cbe013df9418"
   },
   "outputs": [
    {
     "data": {
      "text/plain": [
       "0.0"
      ]
     },
     "execution_count": 63,
     "metadata": {},
     "output_type": "execute_result"
    }
   ],
   "source": [
    "tfidfMatrixtest[0, 100573]"
   ]
  },
  {
   "cell_type": "code",
   "execution_count": null,
   "id": "acf259a2",
   "metadata": {
    "id": "acf259a2"
   },
   "outputs": [],
   "source": [
    "def generate_dataset(X, tfidfmat):\n",
    "    comment_featurevec = []\n",
    "    parent_featurevec = []\n",
    "    \n",
    "    for index, sample in X.iterrows():\n",
    "        \n",
    "        comment_vec = np.zeros(300)\n",
    "        parent_comment_vec = np.zeros(300)\n",
    "        comment_tokens = sample['comment_tokens']\n",
    "        parent_comment_tokens = sample['parent_comment_tokens']\n",
    "        counter1 = 0\n",
    "        \n",
    "        for token in comment_tokens:\n",
    "            \n",
    "            if token in glove and token in vocabulary:\n",
    "                counter1 += 1\n",
    "                comment_vec += tfidfmat[index, vocabulary[token]] * glove[token]\n",
    "        \n",
    "        counter2 = 0\n",
    "        for token in parent_comment_tokens:\n",
    "            \n",
    "            if token in glove and token in vocabulary:\n",
    "                counter2 += 1 \n",
    "                parent_comment_vec += tfidfmat[index+len(X), vocabulary[token]] * glove[token]\n",
    "        \n",
    "        if counter1 != 0:\n",
    "            comment_featurevec.append(comment_vec/counter1)\n",
    "        else:\n",
    "            comment_featurevec.append(comment_vec)\n",
    "        \n",
    "        if counter2 != 0:\n",
    "            parent_featurevec.append(parent_comment_vec/counter2)\n",
    "        else:\n",
    "            parent_featurevec.append(parent_comment_vec)\n",
    "            \n",
    "        \n",
    "    #print(len(comment_featurevec))\n",
    "    X['comment_weighted_vec'] = comment_featurevec\n",
    "    X['parent_weighted_vec'] = parent_featurevec\n",
    "    new_df = pd.DataFrame()\n",
    "        \n",
    "    return X\n",
    "    \n",
    "    \n",
    "    "
   ]
  },
  {
   "cell_type": "code",
   "execution_count": null,
   "id": "900ae47b",
   "metadata": {
    "id": "900ae47b"
   },
   "outputs": [],
   "source": [
    "X_train = generate_dataset(X_train, tfidfMatrix)"
   ]
  },
  {
   "cell_type": "code",
   "execution_count": null,
   "id": "5cc96859",
   "metadata": {
    "id": "5cc96859"
   },
   "outputs": [],
   "source": [
    "X_val = generate_dataset(X_val, tfidfMatrixvalid)"
   ]
  },
  {
   "cell_type": "code",
   "execution_count": null,
   "id": "00520084",
   "metadata": {
    "id": "00520084"
   },
   "outputs": [],
   "source": [
    "X_test = generate_dataset(X_test, tfidfMatrixtest)"
   ]
  },
  {
   "cell_type": "code",
   "execution_count": null,
   "id": "1d600dc0",
   "metadata": {
    "id": "1d600dc0"
   },
   "outputs": [],
   "source": [
    "X_train = X_train[['comment_weighted_vec', 'parent_weighted_vec']]\n",
    "X_val = X_val[['comment_weighted_vec', 'parent_weighted_vec']]\n",
    "X_test = X_test[['comment_weighted_vec', 'parent_weighted_vec']]"
   ]
  },
  {
   "cell_type": "code",
   "execution_count": null,
   "id": "3b4a331b",
   "metadata": {
    "id": "3b4a331b"
   },
   "outputs": [],
   "source": [
    "def featurize(dataset):\n",
    "    x = pd.DataFrame(dataset['parent_weighted_vec'].tolist(), columns = [i for i in range(300)])\n",
    "    y = pd.DataFrame(dataset['comment_weighted_vec'].tolist(), columns = [i for i in range(300, 600)])\n",
    "    return pd.concat([x, y], axis = 1)"
   ]
  },
  {
   "cell_type": "code",
   "execution_count": null,
   "id": "28816d29",
   "metadata": {
    "id": "28816d29"
   },
   "outputs": [],
   "source": [
    "X_train = featurize(X_train)\n",
    "X_val = featurize(X_val)\n",
    "X_test = featurize(X_test)"
   ]
  },
  {
   "cell_type": "code",
   "execution_count": null,
   "id": "a690c8dd",
   "metadata": {
    "id": "a690c8dd"
   },
   "outputs": [],
   "source": [
    "clf = LogisticRegression(max_iter = 500).fit(X_train, y_train.values.ravel())"
   ]
  },
  {
   "cell_type": "code",
   "execution_count": null,
   "id": "b3595214",
   "metadata": {
    "colab": {
     "base_uri": "https://localhost:8080/"
    },
    "id": "b3595214",
    "outputId": "015046bb-ee5e-42db-905a-64112c272e69"
   },
   "outputs": [
    {
     "data": {
      "text/plain": [
       "0.5964977368850635"
      ]
     },
     "execution_count": 53,
     "metadata": {},
     "output_type": "execute_result"
    }
   ],
   "source": [
    "clf.score(X_test, y_test)"
   ]
  },
  {
   "cell_type": "code",
   "execution_count": null,
   "id": "c4d2faa1",
   "metadata": {
    "colab": {
     "base_uri": "https://localhost:8080/"
    },
    "id": "c4d2faa1",
    "outputId": "93e1634a-f3c5-47ea-feb2-10e3ee2edbfb"
   },
   "outputs": [
    {
     "data": {
      "text/plain": [
       "0.5935643441913383"
      ]
     },
     "execution_count": 54,
     "metadata": {},
     "output_type": "execute_result"
    }
   ],
   "source": [
    "clf.score(X_val, y_val)"
   ]
  },
  {
   "cell_type": "code",
   "execution_count": null,
   "id": "55ad9e9a",
   "metadata": {
    "colab": {
     "base_uri": "https://localhost:8080/"
    },
    "id": "55ad9e9a",
    "outputId": "a3d073ec-5854-4743-b037-dd41da9479df"
   },
   "outputs": [
    {
     "data": {
      "text/plain": [
       "array([1])"
      ]
     },
     "execution_count": 55,
     "metadata": {},
     "output_type": "execute_result"
    }
   ],
   "source": [
    "clf.predict(X_test.iloc[2].values.reshape(1,-1))"
   ]
  },
  {
   "cell_type": "markdown",
   "id": "6434cf6e",
   "metadata": {
    "id": "6434cf6e"
   },
   "source": [
    "Feed Forward Neural Net Begin...."
   ]
  },
  {
   "cell_type": "code",
   "execution_count": null,
   "id": "efe36d07",
   "metadata": {
    "id": "efe36d07"
   },
   "outputs": [],
   "source": [
    "x_tr = torch.tensor(X_train.iloc[:,0:600].values, dtype= torch.float32)\n",
    "x_val = torch.tensor(X_val.iloc[:,0:600].values, dtype= torch.float32)\n",
    "x_test = torch.tensor(X_test.iloc[:,0:600].values,dtype= torch.float32)\n",
    "y_tr = torch.tensor(list(y_train['label']), dtype= torch.long)\n",
    "y_vali = torch.tensor(list(y_val['label']), dtype= torch.long)\n",
    "y_tst = torch.tensor(list(y_test['label']), dtype= torch.long)"
   ]
  },
  {
   "cell_type": "code",
   "execution_count": null,
   "id": "395e2e58",
   "metadata": {
    "colab": {
     "base_uri": "https://localhost:8080/"
    },
    "id": "395e2e58",
    "outputId": "bedd0595-e531-4b45-90c1-348452391627"
   },
   "outputs": [
    {
     "data": {
      "text/plain": [
       "tensor([[-0.0248,  0.0141, -0.0494,  ..., -0.0317,  0.0076,  0.0226],\n",
       "        [-0.0096, -0.0013, -0.0602,  ..., -0.0546, -0.0038,  0.0154],\n",
       "        [-0.0444,  0.0113, -0.0118,  ..., -0.0727, -0.0282,  0.0099],\n",
       "        ...,\n",
       "        [-0.0440,  0.0138, -0.0153,  ...,  0.0837, -0.0454, -0.0131],\n",
       "        [ 0.0214,  0.0437,  0.0123,  ..., -0.0339, -0.0062, -0.0168],\n",
       "        [-0.0095,  0.0027, -0.0059,  ..., -0.0492,  0.0064, -0.0106]],\n",
       "       device='cuda:0')"
      ]
     },
     "execution_count": 71,
     "metadata": {},
     "output_type": "execute_result"
    }
   ],
   "source": [
    "x_tr.to(device)"
   ]
  },
  {
   "cell_type": "code",
   "execution_count": null,
   "id": "1c23309f",
   "metadata": {
    "colab": {
     "base_uri": "https://localhost:8080/"
    },
    "id": "1c23309f",
    "outputId": "761ea7cd-1b76-492d-f930-c47dfb4fd045"
   },
   "outputs": [
    {
     "data": {
      "text/plain": [
       "tensor([1, 0, 0,  ..., 0, 0, 1], device='cuda:0')"
      ]
     },
     "execution_count": 72,
     "metadata": {},
     "output_type": "execute_result"
    }
   ],
   "source": [
    "x_val.to(device)\n",
    "x_test.to(device)\n",
    "y_tr.to(device)\n",
    "y_vali.to(device)\n",
    "y_tst.to(device)"
   ]
  },
  {
   "cell_type": "code",
   "execution_count": 59,
   "id": "7fb79ac0",
   "metadata": {
    "id": "7fb79ac0"
   },
   "outputs": [],
   "source": [
    "class XY(Dataset):\n",
    "  def __init__(self, x, y):\n",
    "    self.x = x\n",
    "    self.y = y\n",
    "  def __len__(self):\n",
    "    return len(self.y)\n",
    "  def __getitem__(self, i):\n",
    "    return self.x[i], self.y[i]"
   ]
  },
  {
   "cell_type": "code",
   "execution_count": null,
   "id": "21cafb33",
   "metadata": {
    "id": "21cafb33"
   },
   "outputs": [],
   "source": [
    "trainset = XY(x_tr, y_tr)\n",
    "valset = XY(x_val, y_vali)\n",
    "testset = XY(x_test, y_tst)"
   ]
  },
  {
   "cell_type": "code",
   "execution_count": null,
   "id": "3cc8be1a",
   "metadata": {
    "id": "3cc8be1a"
   },
   "outputs": [],
   "source": [
    "input_dim = 600\n",
    "hidden_dim = 256\n",
    "output_dim = 3\n",
    "num_epochs = 100\n",
    "batch_size = 128"
   ]
  },
  {
   "cell_type": "code",
   "execution_count": null,
   "id": "30edb561",
   "metadata": {
    "id": "30edb561"
   },
   "outputs": [],
   "source": [
    "trainloader = torch.utils.data.DataLoader(trainset, batch_size = batch_size, shuffle=True)\n",
    "valloader = torch.utils.data.DataLoader(valset, batch_size = batch_size, shuffle=True)\n",
    "testloader = torch.utils.data.DataLoader(testset, batch_size = batch_size, shuffle=True)"
   ]
  },
  {
   "cell_type": "markdown",
   "id": "f6eddfbf",
   "metadata": {
    "id": "f6eddfbf"
   },
   "source": [
    "## 2. Models"
   ]
  },
  {
   "cell_type": "code",
   "execution_count": null,
   "id": "6d0ee1a2",
   "metadata": {
    "id": "6d0ee1a2"
   },
   "outputs": [],
   "source": [
    "class FFNN(nn.Module):\n",
    "    def __init__(self, layer_num, input_dim, hidden_dim, output_dim):\n",
    "      super(FFNN, self).__init__()\n",
    "      self.layers = [nn.Linear(input_dim, hidden_dim)]\n",
    "      for i in range(1, layer_num):\n",
    "        self.layers.append(nn.Linear(hidden_dim, hidden_dim))\n",
    "        self.layers.append(nn.ReLU())\n",
    "      self.layers.append(nn.Linear(hidden_dim, output_dim))\n",
    "\n",
    "      self.layers = nn.ModuleList(self.layers)\n",
    "    \n",
    "    def forward(self, x):\n",
    "        for layer in self.layers:\n",
    "          x = layer(x)\n",
    "        return x"
   ]
  },
  {
   "cell_type": "code",
   "execution_count": null,
   "id": "3512215c",
   "metadata": {
    "id": "3512215c"
   },
   "outputs": [],
   "source": [
    "model = FFNN(2, input_dim, hidden_dim, output_dim).to(device)\n",
    "\n",
    "loss_fn = nn.CrossEntropyLoss()\n",
    "optimizer = torch.optim.Adam(model.parameters(), lr=0.001)"
   ]
  },
  {
   "cell_type": "code",
   "execution_count": null,
   "id": "fb1f6246",
   "metadata": {
    "colab": {
     "base_uri": "https://localhost:8080/"
    },
    "id": "fb1f6246",
    "outputId": "4fb8fe19-2e78-4a9e-e0fd-051f68a4c9fe"
   },
   "outputs": [
    {
     "name": "stdout",
     "output_type": "stream",
     "text": [
      "Epoch completed: 20\n",
      "\tTraining Loss: 0.589\n",
      "\tValidation Loss: 0.571\n",
      "\n",
      "Epoch completed: 40\n",
      "\tTraining Loss: 0.572\n",
      "\tValidation Loss: 0.548\n",
      "\n",
      "Epoch completed: 60\n",
      "\tTraining Loss: 0.562\n",
      "\tValidation Loss: 0.537\n",
      "\n",
      "Epoch completed: 80\n",
      "\tTraining Loss: 0.556\n",
      "\tValidation Loss: 0.585\n",
      "\n",
      "Epoch completed: 100\n",
      "\tTraining Loss: 0.551\n",
      "\tValidation Loss: 0.589\n",
      "\n"
     ]
    }
   ],
   "source": [
    "train_losses = []\n",
    "val_losses = []\n",
    "val_loss_min = math.inf\n",
    "for epoch in range(num_epochs):\n",
    "    train_loss = 0\n",
    "    val_loss = 0\n",
    "    \n",
    "    model.train()\n",
    "    for data, target in trainloader:\n",
    "      optimizer.zero_grad()\n",
    "      data = data.to(device)\n",
    "      target = target.to(device)\n",
    "      output = model(data)\n",
    "      optimizer.zero_grad() \n",
    "      loss = loss_fn(output, target)  \n",
    "      train_loss += loss.item()\n",
    "      loss.backward()\n",
    "      optimizer.step()\n",
    "      inpt = []\n",
    "    \n",
    "    model.eval()\n",
    "    for data, target in valloader:\n",
    "      data = data.to(device)\n",
    "      target = target.to(device)\n",
    "      output = model(data)\n",
    "      loss = loss_fn(output, target)    \n",
    "      val_loss += loss.item()\n",
    "    \n",
    "    train_losses.append(train_loss/len(trainloader))\n",
    "    val_losses.append(val_loss/len(valloader))\n",
    "\n",
    "    if val_loss <= val_loss_min:\n",
    "      torch.save(model.state_dict(), 'model.pt')\n",
    "      val_loss_min = val_loss \n",
    "    if (epoch + 1) % 20 == 0:\n",
    "      print(\"Epoch completed: \" + str(epoch+1) +\n",
    "            f\"\\n\\tTraining Loss: {train_losses[epoch]:.3f}\" + \n",
    "            f\"\\n\\tValidation Loss: {val_losses[epoch]:.3f}\\n\")"
   ]
  },
  {
   "cell_type": "code",
   "execution_count": null,
   "id": "ed0ddb9c",
   "metadata": {
    "colab": {
     "base_uri": "https://localhost:8080/"
    },
    "id": "ed0ddb9c",
    "outputId": "0c3b4c98-0c42-427c-bba2-59f41efb2b57"
   },
   "outputs": [
    {
     "name": "stdout",
     "output_type": "stream",
     "text": [
      "              precision    recall  f1-score   support\n",
      "\n",
      "           0       0.64      0.66      0.65    100991\n",
      "           1       0.65      0.64      0.64    101164\n",
      "\n",
      "    accuracy                           0.65    202155\n",
      "   macro avg       0.65      0.65      0.65    202155\n",
      "weighted avg       0.65      0.65      0.65    202155\n",
      "\n"
     ]
    }
   ],
   "source": [
    "from sklearn.metrics import classification_report\n",
    "preds = []\n",
    "labels = torch.tensor(list(y_val['label'].values))\n",
    "model = FFNN(2, input_dim, hidden_dim, output_dim)\n",
    "model.load_state_dict(torch.load('model.pt'))\n",
    "with torch.no_grad():\n",
    "    for index, row in X_val.iterrows():\n",
    "        output = model(torch.Tensor(row))\n",
    "        preds.append(torch.argmax(output, dim=0))\n",
    "        \n",
    "print(classification_report(labels, preds))"
   ]
  },
  {
   "cell_type": "code",
   "execution_count": null,
   "id": "b61ca6a4",
   "metadata": {
    "colab": {
     "base_uri": "https://localhost:8080/"
    },
    "id": "b61ca6a4",
    "outputId": "5f06c15f-a420-4525-b0b7-09ae32645fdf"
   },
   "outputs": [
    {
     "name": "stdout",
     "output_type": "stream",
     "text": [
      "              precision    recall  f1-score   support\n",
      "\n",
      "           0       0.65      0.66      0.65    101295\n",
      "           1       0.65      0.64      0.65    100860\n",
      "\n",
      "    accuracy                           0.65    202155\n",
      "   macro avg       0.65      0.65      0.65    202155\n",
      "weighted avg       0.65      0.65      0.65    202155\n",
      "\n"
     ]
    }
   ],
   "source": [
    "from sklearn.metrics import classification_report\n",
    "preds = []\n",
    "labels = torch.tensor(list(y_test['label'].values))\n",
    "model = FFNN(2, input_dim, hidden_dim, output_dim)\n",
    "model.load_state_dict(torch.load('model.pt'))\n",
    "with torch.no_grad():\n",
    "    for index, row in X_test.iterrows():\n",
    "        output = model(torch.Tensor(row))\n",
    "        preds.append(torch.argmax(output, dim=0))\n",
    "        \n",
    "print(classification_report(labels, preds))"
   ]
  },
  {
   "cell_type": "markdown",
   "id": "c9612073",
   "metadata": {
    "id": "c9612073"
   },
   "source": [
    "## 3. Evaluation"
   ]
  },
  {
   "cell_type": "code",
   "execution_count": null,
   "id": "f947c63d",
   "metadata": {
    "colab": {
     "base_uri": "https://localhost:8080/",
     "height": 279
    },
    "id": "f947c63d",
    "outputId": "a7d12a7d-c43c-4e02-ae7d-3d0839d9d898"
   },
   "outputs": [
    {
     "data": {
      "image/png": "[encoded data removed]",
      "text/plain": [
       "<Figure size 432x288 with 1 Axes>"
      ]
     },
     "metadata": {
      "needs_background": "light"
     },
     "output_type": "display_data"
    }
   ],
   "source": [
    "plt.plot(list(range(1,len(train_losses) + 1)), train_losses, label = \"Training loss\")\n",
    "plt.plot(list(range(1,len(val_losses) +1)), val_losses, label = \"Validation loss\")\n",
    "plt.legend()\n",
    "plt.xlabel(\"Loss\")\n",
    "plt.ylabel(\"Epoch\")\n",
    "plt.show()"
   ]
  },
  {
   "cell_type": "code",
   "execution_count": null,
   "id": "53373714",
   "metadata": {
    "id": "53373714"
   },
   "outputs": [],
   "source": []
  },
  {
   "cell_type": "code",
   "execution_count": null,
   "id": "f9f2d34a",
   "metadata": {
    "id": "f9f2d34a"
   },
   "outputs": [],
   "source": []
  },
  {
   "cell_type": "code",
   "execution_count": null,
   "id": "1d1ebd20",
   "metadata": {
    "id": "1d1ebd20"
   },
   "outputs": [],
   "source": []
  },
  {
   "cell_type": "markdown",
   "id": "1dce49cc",
   "metadata": {
    "id": "1dce49cc"
   },
   "source": [
    "# LSTMs"
   ]
  },
  {
   "cell_type": "code",
   "execution_count": null,
   "id": "4c896104",
   "metadata": {
    "id": "4c896104"
   },
   "outputs": [],
   "source": []
  },
  {
   "cell_type": "code",
   "execution_count": null,
   "id": "905a23bc",
   "metadata": {
    "id": "905a23bc"
   },
   "outputs": [],
   "source": []
  },
  {
   "cell_type": "code",
   "execution_count": 48,
   "id": "c7dedb5f",
   "metadata": {
    "colab": {
     "base_uri": "https://localhost:8080/"
    },
    "id": "c7dedb5f",
    "outputId": "4d8ab3db-a97c-4a4d-bc75-7460b6f3d979"
   },
   "outputs": [
    {
     "data": {
      "text/plain": [
       "count    606463.000000\n",
       "mean         10.450085\n",
       "std           9.423726\n",
       "min           0.000000\n",
       "25%           5.000000\n",
       "50%           9.000000\n",
       "75%          14.000000\n",
       "max        1819.000000\n",
       "dtype: float64"
      ]
     },
     "execution_count": 48,
     "metadata": {},
     "output_type": "execute_result"
    }
   ],
   "source": [
    "pd.Series([len(x) for x in X_train_copy['comment_tokens']]).describe()"
   ]
  },
  {
   "cell_type": "code",
   "execution_count": 49,
   "id": "cd01914e",
   "metadata": {
    "colab": {
     "base_uri": "https://localhost:8080/"
    },
    "id": "cd01914e",
    "outputId": "354ce260-5a73-4ee3-cdd6-d4f6f8435e0a"
   },
   "outputs": [
    {
     "data": {
      "text/plain": [
       "count    606463.000000\n",
       "mean         24.337153\n",
       "std          41.023734\n",
       "min           0.000000\n",
       "25%           8.000000\n",
       "50%          14.000000\n",
       "75%          26.000000\n",
       "max        4206.000000\n",
       "dtype: float64"
      ]
     },
     "execution_count": 49,
     "metadata": {},
     "output_type": "execute_result"
    }
   ],
   "source": [
    "pd.Series([len(x) for x in X_train_copy['parent_comment_tokens']]).describe()"
   ]
  },
  {
   "cell_type": "code",
   "execution_count": 50,
   "id": "b1d6749b",
   "metadata": {
    "id": "b1d6749b"
   },
   "outputs": [],
   "source": [
    "def encode_lstm_training_data(dataset, vocabulary, seq_length):\n",
    "    new_com, new_par = [], []\n",
    "    \n",
    "    \n",
    "    for i, row in dataset.iterrows():\n",
    "        temp = []\n",
    "        temp_par = []\n",
    "        com = row['comment_tokens']\n",
    "        par = row['parent_comment_tokens']\n",
    "        for token in com :\n",
    "            if token in vocabulary:\n",
    "                temp.append(vocabulary[token])\n",
    "        for token in par :\n",
    "            if token in vocabulary:\n",
    "                temp_par.append(vocabulary[token])\n",
    "        \n",
    "        if len(temp) > seq_length:\n",
    "            temp = temp[:seq_length]\n",
    "        elif len(temp) < seq_length:\n",
    "            temp = [0 for i in range(seq_length - len(temp))] + temp\n",
    "        if len(temp_par) > seq_length:\n",
    "            temp_par = temp_par[:seq_length]\n",
    "        elif len(temp_par) < seq_length:\n",
    "            temp_par = [0 for i in range(seq_length - len(temp_par))] + temp_par\n",
    "        new_com.append(temp_par + temp)\n",
    "\n",
    "    \n",
    "    return pd.DataFrame({'encoded_sequence': new_com})\n",
    "        "
   ]
  },
  {
   "cell_type": "code",
   "execution_count": 51,
   "id": "3867bede",
   "metadata": {
    "id": "3867bede"
   },
   "outputs": [],
   "source": [
    "encoded_x_train = encode_lstm_training_data(X_train_copy, glove_vocab, 30)\n",
    "encoded_x_valid = encode_lstm_training_data(X_val_copy, glove_vocab, 30)\n",
    "encoded_x_test = encode_lstm_training_data(X_test_copy, glove_vocab, 30)"
   ]
  },
  {
   "cell_type": "code",
   "execution_count": 52,
   "id": "1f156978",
   "metadata": {
    "colab": {
     "base_uri": "https://localhost:8080/"
    },
    "id": "1f156978",
    "outputId": "d47d19d7-76c1-4572-e12f-f234a94ff2b0"
   },
   "outputs": [
    {
     "data": {
      "text/plain": [
       "count    202155.0\n",
       "mean         60.0\n",
       "std           0.0\n",
       "min          60.0\n",
       "25%          60.0\n",
       "50%          60.0\n",
       "75%          60.0\n",
       "max          60.0\n",
       "dtype: float64"
      ]
     },
     "execution_count": 52,
     "metadata": {},
     "output_type": "execute_result"
    }
   ],
   "source": [
    "pd.Series([len(x) for x in encoded_x_test['encoded_sequence']]).describe()"
   ]
  },
  {
   "cell_type": "code",
   "execution_count": 53,
   "id": "debf5dd1",
   "metadata": {
    "id": "debf5dd1"
   },
   "outputs": [],
   "source": [
    "encoded_x_train2 = pd.DataFrame(encoded_x_train['encoded_sequence'].tolist(), columns = [i for i in range(60)])\n",
    "encoded_x_valid2 = pd.DataFrame(encoded_x_valid['encoded_sequence'].tolist(), columns = [i for i in range(60)])\n",
    "encoded_x_test2 = pd.DataFrame(encoded_x_test['encoded_sequence'].tolist(), columns = [i for i in range(60)])"
   ]
  },
  {
   "cell_type": "code",
   "execution_count": 54,
   "id": "ebd728ef",
   "metadata": {
    "colab": {
     "base_uri": "https://localhost:8080/"
    },
    "id": "ebd728ef",
    "outputId": "72772601-a296-42a8-bc5a-2b3f035f4ff1"
   },
   "outputs": [
    {
     "data": {
      "text/plain": [
       "array([[    0,     0,     0, ...,   390,    30,    20],\n",
       "       [    0,     0,     0, ...,  1094,   100,   372],\n",
       "       [    0,     0,     0, ...,    39,   772,   285],\n",
       "       ...,\n",
       "       [    0,     0,     0, ...,   439,    73,  2587],\n",
       "       [    0,     0,     0, ...,    83,   190,    20],\n",
       "       [20102, 15277,  1673, ...,  3665,    73,  5815]])"
      ]
     },
     "execution_count": 54,
     "metadata": {},
     "output_type": "execute_result"
    }
   ],
   "source": [
    "encoded_x_test2.values"
   ]
  },
  {
   "cell_type": "code",
   "execution_count": 55,
   "id": "f0f1ecc9",
   "metadata": {
    "id": "f0f1ecc9"
   },
   "outputs": [],
   "source": [
    "x_tr_lstm = torch.tensor(encoded_x_train2.values, dtype= torch.long)\n",
    "x_val_lstm = torch.tensor(encoded_x_valid2.values, dtype= torch.long)\n",
    "x_test_lstm = torch.tensor(encoded_x_test2.values, dtype= torch.long)"
   ]
  },
  {
   "cell_type": "code",
   "execution_count": 56,
   "id": "cd0c95f6",
   "metadata": {
    "id": "cd0c95f6"
   },
   "outputs": [],
   "source": [
    "y_tr_lstm = torch.tensor(list(y_train['label']), dtype= torch.float)\n",
    "y_vali_lstm = torch.tensor(list(y_val['label']), dtype= torch.float)\n",
    "y_tst_lstm = torch.tensor(list(y_test['label']), dtype= torch.float)"
   ]
  },
  {
   "cell_type": "code",
   "execution_count": 60,
   "id": "345a07da",
   "metadata": {
    "id": "345a07da"
   },
   "outputs": [],
   "source": [
    "x_tr_lstm = x_tr_lstm.to(device)\n",
    "x_val_lstm = x_val_lstm.to(device)\n",
    "x_test_lstm = x_test_lstm.to(device)\n",
    "y_tr_lstm = y_tr_lstm.to(device)\n",
    "y_vali_lstm = y_vali_lstm.to(device)\n",
    "y_tst_lstm = y_tst_lstm.to(device)\n"
   ]
  },
  {
   "cell_type": "code",
   "execution_count": 61,
   "id": "b68e3dbf",
   "metadata": {
    "id": "b68e3dbf"
   },
   "outputs": [],
   "source": [
    "trainset_lstm = XY(x_tr_lstm, y_tr_lstm)\n",
    "valset_lstm = XY(x_val_lstm, y_vali_lstm)\n",
    "testset_lstm = XY(x_test_lstm, y_tst_lstm)"
   ]
  },
  {
   "cell_type": "code",
   "execution_count": 64,
   "id": "5217bc85",
   "metadata": {
    "id": "5217bc85"
   },
   "outputs": [],
   "source": [
    "batch_size = 512"
   ]
  },
  {
   "cell_type": "code",
   "execution_count": 82,
   "id": "c761e86c",
   "metadata": {
    "id": "c761e86c"
   },
   "outputs": [],
   "source": [
    "trainloader_lstm = torch.utils.data.DataLoader(trainset_lstm, batch_size = batch_size, shuffle=True)\n",
    "valloader_lstm = torch.utils.data.DataLoader(valset_lstm, batch_size = batch_size, shuffle=True)\n",
    "testloader_lstm = torch.utils.data.DataLoader(testset_lstm, batch_size = batch_size, shuffle=True)"
   ]
  },
  {
   "cell_type": "code",
   "execution_count": 66,
   "id": "08905b61",
   "metadata": {
    "id": "08905b61"
   },
   "outputs": [],
   "source": [
    "def combine_ht(hn):\n",
    "    return torch.cat((hn[-2, :, :], hn[-1, :, :]), dim = 1)\n",
    "\n",
    "class LSTM(nn.Module):\n",
    "    \n",
    "    def __init__(self, hidden_units, num_layers, v_n):\n",
    "        super().__init__()\n",
    "        self.embedding = nn.Embedding.from_pretrained(torch.FloatTensor(glove.vectors))\n",
    "        self.lstmlayer = nn.LSTM(300, hidden_units, num_layers = num_layers , dropout = 0.3, batch_first = True, bidirectional = True)\n",
    "        #self.dropout = nn.Dropout(0.2)\n",
    "        self.linear = nn.Linear(hidden_units * 2 , 1)\n",
    "        self.sigmoid = nn.Sigmoid()\n",
    "    \n",
    "    def forward(self, x):\n",
    "        x = self.embedding(x)\n",
    "        out, (hn, cn) = self.lstmlayer(x)\n",
    "        x = self.linear(combine_ht(hn))\n",
    "        x = self.sigmoid(x)\n",
    "        \n",
    "        return x\n",
    "        \n",
    "        "
   ]
  },
  {
   "cell_type": "code",
   "execution_count": 68,
   "id": "55326093",
   "metadata": {
    "id": "55326093"
   },
   "outputs": [],
   "source": [
    "vocab_size = len(glove_vocab)\n",
    "hidden_units = 128\n",
    "num_layers = 2\n",
    "learning_rate = 0.01\n",
    "epochs = 10"
   ]
  },
  {
   "cell_type": "code",
   "execution_count": 69,
   "id": "2f979a9e",
   "metadata": {
    "id": "2f979a9e"
   },
   "outputs": [],
   "source": [
    "LSTMModel = LSTM(hidden_units, num_layers, vocab_size).to(device)"
   ]
  },
  {
   "cell_type": "code",
   "execution_count": 70,
   "id": "60109599",
   "metadata": {
    "colab": {
     "base_uri": "https://localhost:8080/"
    },
    "id": "60109599",
    "outputId": "b82d6d32-e275-46e0-dbca-c28d95975d23"
   },
   "outputs": [
    {
     "name": "stdout",
     "output_type": "stream",
     "text": [
      "LSTM(\n",
      "  (embedding): Embedding(400000, 300)\n",
      "  (lstmlayer): LSTM(300, 128, num_layers=2, batch_first=True, dropout=0.3, bidirectional=True)\n",
      "  (linear): Linear(in_features=256, out_features=1, bias=True)\n",
      "  (sigmoid): Sigmoid()\n",
      ")\n"
     ]
    }
   ],
   "source": [
    "print(LSTMModel)"
   ]
  },
  {
   "cell_type": "code",
   "execution_count": 71,
   "id": "aab2409e",
   "metadata": {
    "id": "aab2409e"
   },
   "outputs": [],
   "source": [
    "optimizer = torch.optim.Adam(LSTMModel.parameters(), lr = learning_rate)\n",
    "loss_fn = nn.BCELoss()"
   ]
  },
  {
   "cell_type": "code",
   "execution_count": 72,
   "id": "66487a83",
   "metadata": {
    "id": "66487a83"
   },
   "outputs": [],
   "source": [
    "def train_lstm(model, epochs):\n",
    "    \n",
    "    #model.train()\n",
    "    train_losses = []\n",
    "    valid_losses = []\n",
    "    \n",
    "    \n",
    "    for epoch in range(epochs):\n",
    "        t_loss = 0\n",
    "        v_loss = 0\n",
    "        model.train()\n",
    "        for sequence, label in trainloader_lstm:\n",
    "            \n",
    "            sequence = sequence.to(device)\n",
    "            label = label.to(device)\n",
    "            #print(label.shape)\n",
    "            output = model(sequence)\n",
    "            #print(torch.round(output))\n",
    "            loss = loss_fn(output.squeeze(), label)\n",
    "            t_loss += loss.item()\n",
    "            optimizer.zero_grad()\n",
    "            loss.backward()\n",
    "            optimizer.step()\n",
    "            #print(\"One batch done\")\n",
    "        \n",
    "        model.eval()\n",
    "        for sequence, label in valloader_lstm:\n",
    "            \n",
    "            sequence.to(device)\n",
    "            label.to(device)\n",
    "            \n",
    "            output = model(sequence)\n",
    "            loss = loss_fn(output.squeeze(), label)\n",
    "            v_loss += loss.item()\n",
    "        \n",
    "        \n",
    "        train_losses.append(t_loss/len(trainloader_lstm))\n",
    "        valid_losses.append(v_loss/len(valloader_lstm))\n",
    "    \n",
    "        print(\"Epoch \", (epoch+1), \" Train loss: \", t_loss/len(trainloader_lstm), \" Validation loss: \", v_loss/len(valloader_lstm))\n",
    "        \n",
    "    return train_losses, valid_losses\n",
    "            \n",
    "            \n",
    "            \n",
    "            \n",
    "            \n",
    "        \n",
    "            "
   ]
  },
  {
   "cell_type": "code",
   "execution_count": 97,
   "id": "0d7c5950",
   "metadata": {
    "colab": {
     "base_uri": "https://localhost:8080/"
    },
    "id": "0d7c5950",
    "outputId": "6369296e-a66a-4ee9-dc56-5f5d33937cfb"
   },
   "outputs": [
    {
     "name": "stdout",
     "output_type": "stream",
     "text": [
      "Epoch  0  Train loss:  0.5462179750329834  Validation loss:  0.547248004433475\n",
      "Epoch  1  Train loss:  0.536191495737446  Validation loss:  0.5418518967266324\n",
      "Epoch  2  Train loss:  0.5298876509384767  Validation loss:  0.5489936980265605\n",
      "Epoch  3  Train loss:  0.5254470142634106  Validation loss:  0.5419224189806588\n",
      "Epoch  4  Train loss:  0.5215522996986969  Validation loss:  0.5470704896540581\n"
     ]
    }
   ],
   "source": [
    "lstm_t_losses, lstm_v_losses = train_lstm(LSTMModel, 5)"
   ]
  },
  {
   "cell_type": "code",
   "execution_count": 102,
   "id": "ed0ee289",
   "metadata": {
    "id": "ed0ee289"
   },
   "outputs": [],
   "source": [
    "preds = []\n",
    "labels = []\n",
    "with torch.no_grad():\n",
    "    for sequences, label in testloader_lstm:\n",
    "        output = LSTMModel(sequences)\n",
    "        preds = preds + torch.round(output.squeeze()).tolist()\n",
    "        labels = labels + label.tolist()\n",
    "        "
   ]
  },
  {
   "cell_type": "code",
   "execution_count": 104,
   "id": "GVUQbyCRcNah",
   "metadata": {
    "colab": {
     "base_uri": "https://localhost:8080/"
    },
    "id": "GVUQbyCRcNah",
    "outputId": "acf22569-62e4-449a-f1a4-cefa6a869cab"
   },
   "outputs": [
    {
     "data": {
      "text/plain": [
       "202155"
      ]
     },
     "execution_count": 104,
     "metadata": {},
     "output_type": "execute_result"
    }
   ],
   "source": [
    "len(labels)"
   ]
  },
  {
   "cell_type": "code",
   "execution_count": 99,
   "id": "f73aaa44",
   "metadata": {
    "colab": {
     "base_uri": "https://localhost:8080/"
    },
    "id": "f73aaa44",
    "outputId": "a710c6f3-b356-487e-ada6-1eecc0733072"
   },
   "outputs": [
    {
     "data": {
      "text/plain": [
       "[0.0, 1.0, 0.0, 1.0, 0.0, 1.0, 1.0, 0.0, 1.0, 0.0]"
      ]
     },
     "execution_count": 99,
     "metadata": {},
     "output_type": "execute_result"
    }
   ],
   "source": [
    "preds[0:10]"
   ]
  },
  {
   "cell_type": "code",
   "execution_count": 100,
   "id": "zSugPhjfWrPa",
   "metadata": {
    "id": "zSugPhjfWrPa"
   },
   "outputs": [],
   "source": [
    "from sklearn.metrics import accuracy_score"
   ]
  },
  {
   "cell_type": "code",
   "execution_count": 106,
   "id": "cue77sb0XAcN",
   "metadata": {
    "colab": {
     "base_uri": "https://localhost:8080/",
     "height": 53
    },
    "id": "cue77sb0XAcN",
    "outputId": "50eca63c-2ae1-4344-fb85-5cc3ee1a042b"
   },
   "outputs": [
    {
     "data": {
      "application/vnd.google.colaboratory.intrinsic+json": {
       "type": "string"
      },
      "text/plain": [
       "'              precision    recall  f1-score   support\\n\\n         0.0       0.68      0.82      0.75    101283\\n         1.0       0.78      0.61      0.69    100872\\n\\n    accuracy                           0.72    202155\\n   macro avg       0.73      0.72      0.72    202155\\nweighted avg       0.73      0.72      0.72    202155\\n'"
      ]
     },
     "execution_count": 106,
     "metadata": {},
     "output_type": "execute_result"
    }
   ],
   "source": [
    "from sklearn.metrics import classification_report\n",
    "classification_report(labels, preds)"
   ]
  },
  {
   "cell_type": "code",
   "execution_count": 107,
   "id": "VF4CmaJkb86i",
   "metadata": {
    "colab": {
     "base_uri": "https://localhost:8080/"
    },
    "id": "VF4CmaJkb86i",
    "outputId": "dee64c66-9c63-47f6-8752-100846761b5c"
   },
   "outputs": [
    {
     "data": {
      "text/plain": [
       "0.7186960500605971"
      ]
     },
     "execution_count": 107,
     "metadata": {},
     "output_type": "execute_result"
    }
   ],
   "source": [
    "accuracy_score(labels, preds)"
   ]
  },
  {
   "cell_type": "code",
   "execution_count": 91,
   "id": "sjSzH1zvXR-c",
   "metadata": {
    "colab": {
     "base_uri": "https://localhost:8080/"
    },
    "id": "sjSzH1zvXR-c",
    "outputId": "8c175439-833b-46c7-993e-271a05a7bac8"
   },
   "outputs": [
    {
     "data": {
      "text/plain": [
       "202155"
      ]
     },
     "execution_count": 91,
     "metadata": {},
     "output_type": "execute_result"
    }
   ],
   "source": [
    "len(preds)"
   ]
  },
  {
   "cell_type": "code",
   "execution_count": 92,
   "id": "mNz7pfk2XWt1",
   "metadata": {
    "colab": {
     "base_uri": "https://localhost:8080/"
    },
    "id": "mNz7pfk2XWt1",
    "outputId": "4f5b3115-c91f-4fa9-d783-5c8cc6d753f9"
   },
   "outputs": [
    {
     "data": {
      "text/plain": [
       "202155"
      ]
     },
     "execution_count": 92,
     "metadata": {},
     "output_type": "execute_result"
    }
   ],
   "source": [
    "len(y_test)"
   ]
  },
  {
   "cell_type": "code",
   "execution_count": 96,
   "id": "SRi1zhwDX2Ay",
   "metadata": {
    "id": "SRi1zhwDX2Ay"
   },
   "outputs": [],
   "source": []
  },
  {
   "cell_type": "code",
   "execution_count": null,
   "id": "jCJmcozYX2dZ",
   "metadata": {
    "id": "jCJmcozYX2dZ"
   },
   "outputs": [],
   "source": []
  }
 ],
 "metadata": {
  "accelerator": "GPU",
  "colab": {
   "collapsed_sections": [
    "c9612073"
   ],
   "machine_shape": "hm",
   "name": "Sarcasm Detection.ipynb",
   "provenance": []
  },
  "kernelspec": {
   "display_name": "Python 3 (ipykernel)",
   "language": "python",
   "name": "python3"
  },
  "language_info": {
   "codemirror_mode": {
    "name": "ipython",
    "version": 3
   },
   "file_extension": ".py",
   "mimetype": "text/x-python",
   "name": "python",
   "nbconvert_exporter": "python",
   "pygments_lexer": "ipython3",
   "version": "3.9.6"
  }
 },
 "nbformat": 4,
 "nbformat_minor": 5
}
