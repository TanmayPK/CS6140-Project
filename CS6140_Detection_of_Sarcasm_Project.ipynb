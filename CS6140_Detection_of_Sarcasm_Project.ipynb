{
  "cells": [
    {
      "cell_type": "markdown",
      "id": "0bf920e4",
      "metadata": {
        "id": "0bf920e4"
      },
      "source": [
        "# CS6140 Project - Detection Of Sarcasm In Text\n",
        "## Team members: Tanmay Khokle, Qiye Chen, Samuel Engida"
      ]
    },
    {
      "cell_type": "markdown",
      "id": "5ea373ee",
      "metadata": {
        "id": "5ea373ee"
      },
      "source": [
        "## 1. Data Preprocessing"
      ]
    },
    {
      "cell_type": "code",
      "execution_count": 1,
      "id": "37ee3da6",
      "metadata": {
        "id": "37ee3da6"
      },
      "outputs": [],
      "source": [
        "import pandas as pd\n",
        "import numpy as np\n",
        "import matplotlib.pyplot as plt\n",
        "import nltk\n",
        "from nltk.corpus import stopwords\n",
        "from nltk.tokenize import wordpunct_tokenize\n",
        "from nltk.stem import WordNetLemmatizer\n",
        "import re\n",
        "import gensim\n",
        "import gensim.downloader as api\n",
        "import sklearn\n",
        "import torch\n",
        "import torch.nn as nn\n",
        "import torch.nn.functional as F\n",
        "from torch.utils.data import Dataset\n",
        "from sklearn.feature_extraction.text import TfidfVectorizer\n",
        "from sklearn.model_selection import train_test_split\n",
        "from gensim.models import KeyedVectors\n",
        "from sklearn.linear_model import LogisticRegression\n",
        "import math"
      ]
    },
    {
      "cell_type": "markdown",
      "source": [
        "## Getting pre-trained GloVe vectors"
      ],
      "metadata": {
        "id": "Ht25REXLvB7m"
      },
      "id": "Ht25REXLvB7m"
    },
    {
      "cell_type": "code",
      "execution_count": 2,
      "id": "5aa9eaa5",
      "metadata": {
        "id": "5aa9eaa5",
        "colab": {
          "base_uri": "https://localhost:8080/"
        },
        "outputId": "ca8f3bac-02e9-4ff0-b499-52179493bd8c"
      },
      "outputs": [
        {
          "output_type": "stream",
          "name": "stdout",
          "text": [
            "[==================================================] 100.0% 376.1/376.1MB downloaded\n"
          ]
        }
      ],
      "source": [
        "# Run if running notebook with vectors locally for first time. Files added to gitignore. Comment out if already have bin file loaded.\n",
        "glove = api.load('glove-wiki-gigaword-300')\n",
        "glove.save('glovevectors.bin')"
      ]
    },
    {
      "cell_type": "code",
      "execution_count": 3,
      "id": "a64e61aa",
      "metadata": {
        "id": "a64e61aa"
      },
      "outputs": [],
      "source": [
        "glove = KeyedVectors.load('glovevectors.bin')"
      ]
    },
    {
      "cell_type": "code",
      "execution_count": 4,
      "id": "3f59226c",
      "metadata": {
        "colab": {
          "base_uri": "https://localhost:8080/"
        },
        "id": "3f59226c",
        "outputId": "813cc459-93c6-4735-8073-99f1ec1d4045"
      },
      "outputs": [
        {
          "output_type": "stream",
          "name": "stdout",
          "text": [
            "[nltk_data] Downloading package stopwords to /root/nltk_data...\n",
            "[nltk_data]   Unzipping corpora/stopwords.zip.\n",
            "[nltk_data] Downloading package punkt to /root/nltk_data...\n",
            "[nltk_data]   Unzipping tokenizers/punkt.zip.\n",
            "[nltk_data] Downloading package wordnet to /root/nltk_data...\n",
            "[nltk_data]   Unzipping corpora/wordnet.zip.\n",
            "[nltk_data] Downloading package omw-1.4 to /root/nltk_data...\n",
            "[nltk_data]   Unzipping corpora/omw-1.4.zip.\n"
          ]
        },
        {
          "output_type": "execute_result",
          "data": {
            "text/plain": [
              "True"
            ]
          },
          "metadata": {},
          "execution_count": 4
        }
      ],
      "source": [
        "# Run these if not up to date\n",
        "nltk.download('stopwords')\n",
        "nltk.download('punkt')\n",
        "nltk.download('wordnet')\n",
        "nltk.download('omw-1.4')"
      ]
    },
    {
      "cell_type": "code",
      "execution_count": 5,
      "id": "aaaa146a",
      "metadata": {
        "id": "aaaa146a"
      },
      "outputs": [],
      "source": [
        "# Generating vocabulary for encoding\n",
        "\n",
        "\n",
        "#glove_vocab = glove.key_to_index\n",
        "glove.vocab['the'].index\n",
        "\n",
        "glove_vocab = {}\n",
        "for entry in glove.vocab:\n",
        "  glove_vocab[entry] = glove.vocab[entry].index"
      ]
    },
    {
      "cell_type": "code",
      "source": [
        "glove_vocab['the']"
      ],
      "metadata": {
        "colab": {
          "base_uri": "https://localhost:8080/"
        },
        "id": "LTwdGtPHQGTY",
        "outputId": "937fac9b-41b4-475a-9021-a7e451ef6e09"
      },
      "id": "LTwdGtPHQGTY",
      "execution_count": 6,
      "outputs": [
        {
          "output_type": "execute_result",
          "data": {
            "text/plain": [
              "0"
            ]
          },
          "metadata": {},
          "execution_count": 6
        }
      ]
    },
    {
      "cell_type": "markdown",
      "source": [
        "##### Enabling GPU "
      ],
      "metadata": {
        "id": "mNgJf_SAveqh"
      },
      "id": "mNgJf_SAveqh"
    },
    {
      "cell_type": "code",
      "execution_count": 7,
      "id": "75692538",
      "metadata": {
        "colab": {
          "base_uri": "https://localhost:8080/"
        },
        "id": "75692538",
        "outputId": "671fbb71-cbde-4474-d2fd-e2026e0f275f"
      },
      "outputs": [
        {
          "output_type": "execute_result",
          "data": {
            "text/plain": [
              "True"
            ]
          },
          "metadata": {},
          "execution_count": 7
        }
      ],
      "source": [
        "torch.cuda.is_available()"
      ]
    },
    {
      "cell_type": "code",
      "execution_count": 8,
      "id": "72f30ef5",
      "metadata": {
        "id": "72f30ef5"
      },
      "outputs": [],
      "source": [
        "def get_default_device():\n",
        "    \"\"\"Picking GPU if available or else CPU\"\"\"\n",
        "    if torch.cuda.is_available():\n",
        "        return torch.device('cuda')\n",
        "    else:\n",
        "        return torch.device('cpu')\n",
        "device = get_default_device()\n",
        "#device = torch.device('cpu')"
      ]
    },
    {
      "cell_type": "code",
      "execution_count": 9,
      "id": "43b8b302",
      "metadata": {
        "id": "43b8b302"
      },
      "outputs": [],
      "source": [
        "def to_device(data, device):\n",
        "    \"\"\"Move tensor(s) to chosen device\"\"\"\n",
        "    if isinstance(data, (list,tuple)):\n",
        "        return [to_device(x, device) for x in data]\n",
        "    return data.to(device, non_blocking=True)"
      ]
    },
    {
      "cell_type": "markdown",
      "source": [
        "## Data loading and preprocessing"
      ],
      "metadata": {
        "id": "ccuwLRbWvlO8"
      },
      "id": "ccuwLRbWvlO8"
    },
    {
      "cell_type": "code",
      "execution_count": 14,
      "id": "cf45eb7f",
      "metadata": {
        "id": "cf45eb7f"
      },
      "outputs": [],
      "source": [
        "data = pd.read_csv(\"train-balanced-sarcasm.csv\")"
      ]
    },
    {
      "cell_type": "code",
      "execution_count": 15,
      "id": "5032e62d",
      "metadata": {
        "id": "5032e62d"
      },
      "outputs": [],
      "source": [
        "data = data[['label', 'comment', 'subreddit', 'score', 'parent_comment']]"
      ]
    },
    {
      "cell_type": "code",
      "execution_count": 16,
      "id": "4d63ca11",
      "metadata": {
        "colab": {
          "base_uri": "https://localhost:8080/",
          "height": 363
        },
        "id": "4d63ca11",
        "outputId": "c0f639fb-e2f3-4e39-9864-8907f960c73a"
      },
      "outputs": [
        {
          "output_type": "execute_result",
          "data": {
            "text/plain": [
              "   label                                            comment  \\\n",
              "0      0                                         NC and NH.   \n",
              "1      0  You do know west teams play against west teams...   \n",
              "2      0  They were underdogs earlier today, but since G...   \n",
              "3      0  This meme isn't funny none of the \"new york ni...   \n",
              "4      0                    I could use one of those tools.   \n",
              "5      0  I don't pay attention to her, but as long as s...   \n",
              "6      0      Trick or treating in general is just weird...   \n",
              "7      0                    Blade Mastery+Masamune or GTFO!   \n",
              "8      0  You don't have to, you have a good build, buy ...   \n",
              "9      0                  I would love to see him at lolla.   \n",
              "\n",
              "            subreddit  score  \\\n",
              "0            politics      2   \n",
              "1                 nba     -4   \n",
              "2                 nfl      3   \n",
              "3  BlackPeopleTwitter     -8   \n",
              "4  MaddenUltimateTeam      6   \n",
              "5           AskReddit      0   \n",
              "6           AskReddit      1   \n",
              "7       FFBraveExvius      2   \n",
              "8        pcmasterrace      1   \n",
              "9        Lollapalooza      2   \n",
              "\n",
              "                                      parent_comment  \n",
              "0  Yeah, I get that argument. At this point, I'd ...  \n",
              "1  The blazers and Mavericks (The wests 5 and 6 s...  \n",
              "2                            They're favored to win.  \n",
              "3                         deadass don't kill my buzz  \n",
              "4  Yep can confirm I saw the tool they use for th...  \n",
              "5                   do you find ariana grande sexy ?  \n",
              "6  What's your weird or unsettling Trick or Treat...  \n",
              "7  Probably Sephiroth. I refuse to taint his grea...  \n",
              "8  What to upgrade? I have $500 to spend (mainly ...  \n",
              "9  Probably count Kanye out Since the rest of his...  "
            ],
            "text/html": [
              "\n",
              "  <div id=\"df-fcb1d2e9-2164-4481-aed0-48792f3b19aa\">\n",
              "    <div class=\"colab-df-container\">\n",
              "      <div>\n",
              "<style scoped>\n",
              "    .dataframe tbody tr th:only-of-type {\n",
              "        vertical-align: middle;\n",
              "    }\n",
              "\n",
              "    .dataframe tbody tr th {\n",
              "        vertical-align: top;\n",
              "    }\n",
              "\n",
              "    .dataframe thead th {\n",
              "        text-align: right;\n",
              "    }\n",
              "</style>\n",
              "<table border=\"1\" class=\"dataframe\">\n",
              "  <thead>\n",
              "    <tr style=\"text-align: right;\">\n",
              "      <th></th>\n",
              "      <th>label</th>\n",
              "      <th>comment</th>\n",
              "      <th>subreddit</th>\n",
              "      <th>score</th>\n",
              "      <th>parent_comment</th>\n",
              "    </tr>\n",
              "  </thead>\n",
              "  <tbody>\n",
              "    <tr>\n",
              "      <th>0</th>\n",
              "      <td>0</td>\n",
              "      <td>NC and NH.</td>\n",
              "      <td>politics</td>\n",
              "      <td>2</td>\n",
              "      <td>Yeah, I get that argument. At this point, I'd ...</td>\n",
              "    </tr>\n",
              "    <tr>\n",
              "      <th>1</th>\n",
              "      <td>0</td>\n",
              "      <td>You do know west teams play against west teams...</td>\n",
              "      <td>nba</td>\n",
              "      <td>-4</td>\n",
              "      <td>The blazers and Mavericks (The wests 5 and 6 s...</td>\n",
              "    </tr>\n",
              "    <tr>\n",
              "      <th>2</th>\n",
              "      <td>0</td>\n",
              "      <td>They were underdogs earlier today, but since G...</td>\n",
              "      <td>nfl</td>\n",
              "      <td>3</td>\n",
              "      <td>They're favored to win.</td>\n",
              "    </tr>\n",
              "    <tr>\n",
              "      <th>3</th>\n",
              "      <td>0</td>\n",
              "      <td>This meme isn't funny none of the \"new york ni...</td>\n",
              "      <td>BlackPeopleTwitter</td>\n",
              "      <td>-8</td>\n",
              "      <td>deadass don't kill my buzz</td>\n",
              "    </tr>\n",
              "    <tr>\n",
              "      <th>4</th>\n",
              "      <td>0</td>\n",
              "      <td>I could use one of those tools.</td>\n",
              "      <td>MaddenUltimateTeam</td>\n",
              "      <td>6</td>\n",
              "      <td>Yep can confirm I saw the tool they use for th...</td>\n",
              "    </tr>\n",
              "    <tr>\n",
              "      <th>5</th>\n",
              "      <td>0</td>\n",
              "      <td>I don't pay attention to her, but as long as s...</td>\n",
              "      <td>AskReddit</td>\n",
              "      <td>0</td>\n",
              "      <td>do you find ariana grande sexy ?</td>\n",
              "    </tr>\n",
              "    <tr>\n",
              "      <th>6</th>\n",
              "      <td>0</td>\n",
              "      <td>Trick or treating in general is just weird...</td>\n",
              "      <td>AskReddit</td>\n",
              "      <td>1</td>\n",
              "      <td>What's your weird or unsettling Trick or Treat...</td>\n",
              "    </tr>\n",
              "    <tr>\n",
              "      <th>7</th>\n",
              "      <td>0</td>\n",
              "      <td>Blade Mastery+Masamune or GTFO!</td>\n",
              "      <td>FFBraveExvius</td>\n",
              "      <td>2</td>\n",
              "      <td>Probably Sephiroth. I refuse to taint his grea...</td>\n",
              "    </tr>\n",
              "    <tr>\n",
              "      <th>8</th>\n",
              "      <td>0</td>\n",
              "      <td>You don't have to, you have a good build, buy ...</td>\n",
              "      <td>pcmasterrace</td>\n",
              "      <td>1</td>\n",
              "      <td>What to upgrade? I have $500 to spend (mainly ...</td>\n",
              "    </tr>\n",
              "    <tr>\n",
              "      <th>9</th>\n",
              "      <td>0</td>\n",
              "      <td>I would love to see him at lolla.</td>\n",
              "      <td>Lollapalooza</td>\n",
              "      <td>2</td>\n",
              "      <td>Probably count Kanye out Since the rest of his...</td>\n",
              "    </tr>\n",
              "  </tbody>\n",
              "</table>\n",
              "</div>\n",
              "      <button class=\"colab-df-convert\" onclick=\"convertToInteractive('df-fcb1d2e9-2164-4481-aed0-48792f3b19aa')\"\n",
              "              title=\"Convert this dataframe to an interactive table.\"\n",
              "              style=\"display:none;\">\n",
              "        \n",
              "  <svg xmlns=\"http://www.w3.org/2000/svg\" height=\"24px\"viewBox=\"0 0 24 24\"\n",
              "       width=\"24px\">\n",
              "    <path d=\"M0 0h24v24H0V0z\" fill=\"none\"/>\n",
              "    <path d=\"M18.56 5.44l.94 2.06.94-2.06 2.06-.94-2.06-.94-.94-2.06-.94 2.06-2.06.94zm-11 1L8.5 8.5l.94-2.06 2.06-.94-2.06-.94L8.5 2.5l-.94 2.06-2.06.94zm10 10l.94 2.06.94-2.06 2.06-.94-2.06-.94-.94-2.06-.94 2.06-2.06.94z\"/><path d=\"M17.41 7.96l-1.37-1.37c-.4-.4-.92-.59-1.43-.59-.52 0-1.04.2-1.43.59L10.3 9.45l-7.72 7.72c-.78.78-.78 2.05 0 2.83L4 21.41c.39.39.9.59 1.41.59.51 0 1.02-.2 1.41-.59l7.78-7.78 2.81-2.81c.8-.78.8-2.07 0-2.86zM5.41 20L4 18.59l7.72-7.72 1.47 1.35L5.41 20z\"/>\n",
              "  </svg>\n",
              "      </button>\n",
              "      \n",
              "  <style>\n",
              "    .colab-df-container {\n",
              "      display:flex;\n",
              "      flex-wrap:wrap;\n",
              "      gap: 12px;\n",
              "    }\n",
              "\n",
              "    .colab-df-convert {\n",
              "      background-color: #E8F0FE;\n",
              "      border: none;\n",
              "      border-radius: 50%;\n",
              "      cursor: pointer;\n",
              "      display: none;\n",
              "      fill: #1967D2;\n",
              "      height: 32px;\n",
              "      padding: 0 0 0 0;\n",
              "      width: 32px;\n",
              "    }\n",
              "\n",
              "    .colab-df-convert:hover {\n",
              "      background-color: #E2EBFA;\n",
              "      box-shadow: 0px 1px 2px rgba(60, 64, 67, 0.3), 0px 1px 3px 1px rgba(60, 64, 67, 0.15);\n",
              "      fill: #174EA6;\n",
              "    }\n",
              "\n",
              "    [theme=dark] .colab-df-convert {\n",
              "      background-color: #3B4455;\n",
              "      fill: #D2E3FC;\n",
              "    }\n",
              "\n",
              "    [theme=dark] .colab-df-convert:hover {\n",
              "      background-color: #434B5C;\n",
              "      box-shadow: 0px 1px 3px 1px rgba(0, 0, 0, 0.15);\n",
              "      filter: drop-shadow(0px 1px 2px rgba(0, 0, 0, 0.3));\n",
              "      fill: #FFFFFF;\n",
              "    }\n",
              "  </style>\n",
              "\n",
              "      <script>\n",
              "        const buttonEl =\n",
              "          document.querySelector('#df-fcb1d2e9-2164-4481-aed0-48792f3b19aa button.colab-df-convert');\n",
              "        buttonEl.style.display =\n",
              "          google.colab.kernel.accessAllowed ? 'block' : 'none';\n",
              "\n",
              "        async function convertToInteractive(key) {\n",
              "          const element = document.querySelector('#df-fcb1d2e9-2164-4481-aed0-48792f3b19aa');\n",
              "          const dataTable =\n",
              "            await google.colab.kernel.invokeFunction('convertToInteractive',\n",
              "                                                     [key], {});\n",
              "          if (!dataTable) return;\n",
              "\n",
              "          const docLinkHtml = 'Like what you see? Visit the ' +\n",
              "            '<a target=\"_blank\" href=https://colab.research.google.com/notebooks/data_table.ipynb>data table notebook</a>'\n",
              "            + ' to learn more about interactive tables.';\n",
              "          element.innerHTML = '';\n",
              "          dataTable['output_type'] = 'display_data';\n",
              "          await google.colab.output.renderOutput(dataTable, element);\n",
              "          const docLink = document.createElement('div');\n",
              "          docLink.innerHTML = docLinkHtml;\n",
              "          element.appendChild(docLink);\n",
              "        }\n",
              "      </script>\n",
              "    </div>\n",
              "  </div>\n",
              "  "
            ]
          },
          "metadata": {},
          "execution_count": 16
        }
      ],
      "source": [
        "data.head(10)"
      ]
    },
    {
      "cell_type": "code",
      "execution_count": 17,
      "id": "78c3dff9",
      "metadata": {
        "colab": {
          "base_uri": "https://localhost:8080/"
        },
        "id": "78c3dff9",
        "outputId": "89eb38df-a6e7-438f-cfe4-b0d707cc49dc"
      },
      "outputs": [
        {
          "output_type": "execute_result",
          "data": {
            "text/plain": [
              "label              0\n",
              "comment           53\n",
              "subreddit          0\n",
              "score              0\n",
              "parent_comment     0\n",
              "dtype: int64"
            ]
          },
          "metadata": {},
          "execution_count": 17
        }
      ],
      "source": [
        "data.isna().sum()"
      ]
    },
    {
      "cell_type": "code",
      "execution_count": 18,
      "id": "fa9de7f6",
      "metadata": {
        "id": "fa9de7f6"
      },
      "outputs": [],
      "source": [
        "data = data.dropna(axis=0)"
      ]
    },
    {
      "cell_type": "code",
      "execution_count": 19,
      "id": "44452775",
      "metadata": {
        "colab": {
          "base_uri": "https://localhost:8080/"
        },
        "id": "44452775",
        "outputId": "d0837b5a-074b-422e-fda6-0a4581c9e09d"
      },
      "outputs": [
        {
          "output_type": "execute_result",
          "data": {
            "text/plain": [
              "label             0\n",
              "comment           0\n",
              "subreddit         0\n",
              "score             0\n",
              "parent_comment    0\n",
              "dtype: int64"
            ]
          },
          "metadata": {},
          "execution_count": 19
        }
      ],
      "source": [
        "data.isna().sum()"
      ]
    },
    {
      "cell_type": "code",
      "source": [
        "# Samples per class\n",
        "print(data['label'].value_counts())"
      ],
      "metadata": {
        "colab": {
          "base_uri": "https://localhost:8080/"
        },
        "id": "-zd-kLXh7rIt",
        "outputId": "54359c36-6d9f-4d00-8cfc-0088044ee099"
      },
      "id": "-zd-kLXh7rIt",
      "execution_count": 30,
      "outputs": [
        {
          "output_type": "stream",
          "name": "stdout",
          "text": [
            "0    505405\n",
            "1    505368\n",
            "Name: label, dtype: int64\n"
          ]
        }
      ]
    },
    {
      "cell_type": "code",
      "execution_count": 28,
      "id": "da54b5f5",
      "metadata": {
        "id": "da54b5f5"
      },
      "outputs": [],
      "source": [
        "# Text cleaning - lowercase, extending abbreviations, removing punctuation and special characters\n",
        "data['comment_tokens'] = data['comment']\n",
        "data['comment_tokens'] = data['comment_tokens'].str.lower()\n",
        "data['comment_tokens'] = data['comment_tokens'].str.replace('can\\'t','can not',regex = True)\n",
        "data['comment_tokens'] = data['comment_tokens'].str.replace('\\'d',' would',regex = True)\n",
        "data['comment_tokens'] = data['comment_tokens'].str.replace('wouldn\\'t','would not',regex = True)\n",
        "data['comment_tokens'] = data['comment_tokens'].str.replace('couldn\\'t','could not',regex = True)\n",
        "data['comment_tokens'] = data['comment_tokens'].str.replace('[^\\w\\s]','', regex = True)"
      ]
    },
    {
      "cell_type": "code",
      "execution_count": 29,
      "id": "663d9e8b",
      "metadata": {
        "id": "663d9e8b",
        "pycharm": {
          "name": "#%%\n"
        }
      },
      "outputs": [],
      "source": [
        "data['parent_comment_tokens'] = data['parent_comment']\n",
        "data['parent_comment_tokens'] = data['parent_comment_tokens'].str.lower()\n",
        "data['parent_comment_tokens'] = data['parent_comment_tokens'].str.replace('can\\'t','can not',regex = True)\n",
        "data['parent_comment_tokens'] = data['parent_comment_tokens'].str.replace('\\'d',' would',regex = True)\n",
        "data['parent_comment_tokens'] = data['parent_comment_tokens'].str.replace('wouldn\\'t','would not',regex = True)\n",
        "data['parent_comment_tokens'] = data['parent_comment_tokens'].str.replace('couldn\\'t','could not',regex = True)\n",
        "data['parent_comment_tokens'] = data['parent_comment_tokens'].str.replace('[^\\w\\s]','', regex = True)"
      ]
    },
    {
      "cell_type": "code",
      "execution_count": 31,
      "id": "0d4aaeef",
      "metadata": {
        "id": "0d4aaeef"
      },
      "outputs": [],
      "source": [
        "# Lemmatization of terms\n",
        "lemma = WordNetLemmatizer()\n",
        "def apply_lemmatizer(sentence):\n",
        "    return [lemma.lemmatize(token) for token in wordpunct_tokenize(sentence)]"
      ]
    },
    {
      "cell_type": "code",
      "execution_count": 32,
      "id": "0ae498bb",
      "metadata": {
        "id": "0ae498bb",
        "pycharm": {
          "name": "#%%\n"
        }
      },
      "outputs": [],
      "source": [
        "data[\"comment_tokens\"] = data.comment_tokens.apply(apply_lemmatizer)\n",
        "data[\"parent_comment_tokens\"] = data.parent_comment_tokens.apply(apply_lemmatizer)"
      ]
    },
    {
      "cell_type": "code",
      "execution_count": 33,
      "id": "e005b2f7",
      "metadata": {
        "colab": {
          "base_uri": "https://localhost:8080/",
          "height": 363
        },
        "id": "e005b2f7",
        "outputId": "39489877-01d3-4d42-de00-538c1588050e"
      },
      "outputs": [
        {
          "output_type": "execute_result",
          "data": {
            "text/plain": [
              "                                             comment  \\\n",
              "0                                         NC and NH.   \n",
              "1  You do know west teams play against west teams...   \n",
              "2  They were underdogs earlier today, but since G...   \n",
              "3  This meme isn't funny none of the \"new york ni...   \n",
              "4                    I could use one of those tools.   \n",
              "5  I don't pay attention to her, but as long as s...   \n",
              "6      Trick or treating in general is just weird...   \n",
              "7                    Blade Mastery+Masamune or GTFO!   \n",
              "8  You don't have to, you have a good build, buy ...   \n",
              "9                  I would love to see him at lolla.   \n",
              "\n",
              "                                      comment_tokens  \n",
              "0                                      [nc, and, nh]  \n",
              "1  [you, do, know, west, team, play, against, wes...  \n",
              "2  [they, were, underdog, earlier, today, but, si...  \n",
              "3  [this, meme, isnt, funny, none, of, the, new, ...  \n",
              "4              [i, could, use, one, of, those, tool]  \n",
              "5  [i, dont, pay, attention, to, her, but, a, lon...  \n",
              "6  [trick, or, treating, in, general, is, just, w...  \n",
              "7                 [blade, masterymasamune, or, gtfo]  \n",
              "8  [you, dont, have, to, you, have, a, good, buil...  \n",
              "9          [i, would, love, to, see, him, at, lolla]  "
            ],
            "text/html": [
              "\n",
              "  <div id=\"df-24d2e8f6-f988-4895-a344-51c3eef8cf2a\">\n",
              "    <div class=\"colab-df-container\">\n",
              "      <div>\n",
              "<style scoped>\n",
              "    .dataframe tbody tr th:only-of-type {\n",
              "        vertical-align: middle;\n",
              "    }\n",
              "\n",
              "    .dataframe tbody tr th {\n",
              "        vertical-align: top;\n",
              "    }\n",
              "\n",
              "    .dataframe thead th {\n",
              "        text-align: right;\n",
              "    }\n",
              "</style>\n",
              "<table border=\"1\" class=\"dataframe\">\n",
              "  <thead>\n",
              "    <tr style=\"text-align: right;\">\n",
              "      <th></th>\n",
              "      <th>comment</th>\n",
              "      <th>comment_tokens</th>\n",
              "    </tr>\n",
              "  </thead>\n",
              "  <tbody>\n",
              "    <tr>\n",
              "      <th>0</th>\n",
              "      <td>NC and NH.</td>\n",
              "      <td>[nc, and, nh]</td>\n",
              "    </tr>\n",
              "    <tr>\n",
              "      <th>1</th>\n",
              "      <td>You do know west teams play against west teams...</td>\n",
              "      <td>[you, do, know, west, team, play, against, wes...</td>\n",
              "    </tr>\n",
              "    <tr>\n",
              "      <th>2</th>\n",
              "      <td>They were underdogs earlier today, but since G...</td>\n",
              "      <td>[they, were, underdog, earlier, today, but, si...</td>\n",
              "    </tr>\n",
              "    <tr>\n",
              "      <th>3</th>\n",
              "      <td>This meme isn't funny none of the \"new york ni...</td>\n",
              "      <td>[this, meme, isnt, funny, none, of, the, new, ...</td>\n",
              "    </tr>\n",
              "    <tr>\n",
              "      <th>4</th>\n",
              "      <td>I could use one of those tools.</td>\n",
              "      <td>[i, could, use, one, of, those, tool]</td>\n",
              "    </tr>\n",
              "    <tr>\n",
              "      <th>5</th>\n",
              "      <td>I don't pay attention to her, but as long as s...</td>\n",
              "      <td>[i, dont, pay, attention, to, her, but, a, lon...</td>\n",
              "    </tr>\n",
              "    <tr>\n",
              "      <th>6</th>\n",
              "      <td>Trick or treating in general is just weird...</td>\n",
              "      <td>[trick, or, treating, in, general, is, just, w...</td>\n",
              "    </tr>\n",
              "    <tr>\n",
              "      <th>7</th>\n",
              "      <td>Blade Mastery+Masamune or GTFO!</td>\n",
              "      <td>[blade, masterymasamune, or, gtfo]</td>\n",
              "    </tr>\n",
              "    <tr>\n",
              "      <th>8</th>\n",
              "      <td>You don't have to, you have a good build, buy ...</td>\n",
              "      <td>[you, dont, have, to, you, have, a, good, buil...</td>\n",
              "    </tr>\n",
              "    <tr>\n",
              "      <th>9</th>\n",
              "      <td>I would love to see him at lolla.</td>\n",
              "      <td>[i, would, love, to, see, him, at, lolla]</td>\n",
              "    </tr>\n",
              "  </tbody>\n",
              "</table>\n",
              "</div>\n",
              "      <button class=\"colab-df-convert\" onclick=\"convertToInteractive('df-24d2e8f6-f988-4895-a344-51c3eef8cf2a')\"\n",
              "              title=\"Convert this dataframe to an interactive table.\"\n",
              "              style=\"display:none;\">\n",
              "        \n",
              "  <svg xmlns=\"http://www.w3.org/2000/svg\" height=\"24px\"viewBox=\"0 0 24 24\"\n",
              "       width=\"24px\">\n",
              "    <path d=\"M0 0h24v24H0V0z\" fill=\"none\"/>\n",
              "    <path d=\"M18.56 5.44l.94 2.06.94-2.06 2.06-.94-2.06-.94-.94-2.06-.94 2.06-2.06.94zm-11 1L8.5 8.5l.94-2.06 2.06-.94-2.06-.94L8.5 2.5l-.94 2.06-2.06.94zm10 10l.94 2.06.94-2.06 2.06-.94-2.06-.94-.94-2.06-.94 2.06-2.06.94z\"/><path d=\"M17.41 7.96l-1.37-1.37c-.4-.4-.92-.59-1.43-.59-.52 0-1.04.2-1.43.59L10.3 9.45l-7.72 7.72c-.78.78-.78 2.05 0 2.83L4 21.41c.39.39.9.59 1.41.59.51 0 1.02-.2 1.41-.59l7.78-7.78 2.81-2.81c.8-.78.8-2.07 0-2.86zM5.41 20L4 18.59l7.72-7.72 1.47 1.35L5.41 20z\"/>\n",
              "  </svg>\n",
              "      </button>\n",
              "      \n",
              "  <style>\n",
              "    .colab-df-container {\n",
              "      display:flex;\n",
              "      flex-wrap:wrap;\n",
              "      gap: 12px;\n",
              "    }\n",
              "\n",
              "    .colab-df-convert {\n",
              "      background-color: #E8F0FE;\n",
              "      border: none;\n",
              "      border-radius: 50%;\n",
              "      cursor: pointer;\n",
              "      display: none;\n",
              "      fill: #1967D2;\n",
              "      height: 32px;\n",
              "      padding: 0 0 0 0;\n",
              "      width: 32px;\n",
              "    }\n",
              "\n",
              "    .colab-df-convert:hover {\n",
              "      background-color: #E2EBFA;\n",
              "      box-shadow: 0px 1px 2px rgba(60, 64, 67, 0.3), 0px 1px 3px 1px rgba(60, 64, 67, 0.15);\n",
              "      fill: #174EA6;\n",
              "    }\n",
              "\n",
              "    [theme=dark] .colab-df-convert {\n",
              "      background-color: #3B4455;\n",
              "      fill: #D2E3FC;\n",
              "    }\n",
              "\n",
              "    [theme=dark] .colab-df-convert:hover {\n",
              "      background-color: #434B5C;\n",
              "      box-shadow: 0px 1px 3px 1px rgba(0, 0, 0, 0.15);\n",
              "      filter: drop-shadow(0px 1px 2px rgba(0, 0, 0, 0.3));\n",
              "      fill: #FFFFFF;\n",
              "    }\n",
              "  </style>\n",
              "\n",
              "      <script>\n",
              "        const buttonEl =\n",
              "          document.querySelector('#df-24d2e8f6-f988-4895-a344-51c3eef8cf2a button.colab-df-convert');\n",
              "        buttonEl.style.display =\n",
              "          google.colab.kernel.accessAllowed ? 'block' : 'none';\n",
              "\n",
              "        async function convertToInteractive(key) {\n",
              "          const element = document.querySelector('#df-24d2e8f6-f988-4895-a344-51c3eef8cf2a');\n",
              "          const dataTable =\n",
              "            await google.colab.kernel.invokeFunction('convertToInteractive',\n",
              "                                                     [key], {});\n",
              "          if (!dataTable) return;\n",
              "\n",
              "          const docLinkHtml = 'Like what you see? Visit the ' +\n",
              "            '<a target=\"_blank\" href=https://colab.research.google.com/notebooks/data_table.ipynb>data table notebook</a>'\n",
              "            + ' to learn more about interactive tables.';\n",
              "          element.innerHTML = '';\n",
              "          dataTable['output_type'] = 'display_data';\n",
              "          await google.colab.output.renderOutput(dataTable, element);\n",
              "          const docLink = document.createElement('div');\n",
              "          docLink.innerHTML = docLinkHtml;\n",
              "          element.appendChild(docLink);\n",
              "        }\n",
              "      </script>\n",
              "    </div>\n",
              "  </div>\n",
              "  "
            ]
          },
          "metadata": {},
          "execution_count": 33
        }
      ],
      "source": [
        "data[[\"comment\", \"comment_tokens\"]].head(10)"
      ]
    },
    {
      "cell_type": "code",
      "execution_count": 34,
      "id": "236d24fa",
      "metadata": {
        "colab": {
          "base_uri": "https://localhost:8080/"
        },
        "id": "236d24fa",
        "outputId": "7cb2ea1b-82b9-4b48-b96c-5b8ba46bf4e3",
        "pycharm": {
          "name": "#%%\n"
        }
      },
      "outputs": [
        {
          "output_type": "execute_result",
          "data": {
            "text/plain": [
              "(1010773,)"
            ]
          },
          "metadata": {},
          "execution_count": 34
        }
      ],
      "source": [
        "data['comment_tokens'].shape"
      ]
    },
    {
      "cell_type": "code",
      "execution_count": 35,
      "id": "6a8312b3",
      "metadata": {
        "colab": {
          "base_uri": "https://localhost:8080/",
          "height": 363
        },
        "id": "6a8312b3",
        "outputId": "0073dc9a-b379-483d-eedd-9fff6237bb99",
        "pycharm": {
          "name": "#%%\n"
        }
      },
      "outputs": [
        {
          "output_type": "execute_result",
          "data": {
            "text/plain": [
              "                                      parent_comment  \\\n",
              "0  Yeah, I get that argument. At this point, I'd ...   \n",
              "1  The blazers and Mavericks (The wests 5 and 6 s...   \n",
              "2                            They're favored to win.   \n",
              "3                         deadass don't kill my buzz   \n",
              "4  Yep can confirm I saw the tool they use for th...   \n",
              "5                   do you find ariana grande sexy ?   \n",
              "6  What's your weird or unsettling Trick or Treat...   \n",
              "7  Probably Sephiroth. I refuse to taint his grea...   \n",
              "8  What to upgrade? I have $500 to spend (mainly ...   \n",
              "9  Probably count Kanye out Since the rest of his...   \n",
              "\n",
              "                               parent_comment_tokens  \n",
              "0  [yeah, i, get, that, argument, at, this, point...  \n",
              "1  [the, blazer, and, maverick, the, west, 5, and...  \n",
              "2                         [theyre, favored, to, win]  \n",
              "3                    [deadass, dont, kill, my, buzz]  \n",
              "4  [yep, can, confirm, i, saw, the, tool, they, u...  \n",
              "5              [do, you, find, ariana, grande, sexy]  \n",
              "6  [whats, your, weird, or, unsettling, trick, or...  \n",
              "7  [probably, sephiroth, i, refuse, to, taint, hi...  \n",
              "8  [what, to, upgrade, i, have, 500, to, spend, m...  \n",
              "9  [probably, count, kanye, out, since, the, rest...  "
            ],
            "text/html": [
              "\n",
              "  <div id=\"df-82f1c80d-0b69-43ca-9bed-55797b8edae9\">\n",
              "    <div class=\"colab-df-container\">\n",
              "      <div>\n",
              "<style scoped>\n",
              "    .dataframe tbody tr th:only-of-type {\n",
              "        vertical-align: middle;\n",
              "    }\n",
              "\n",
              "    .dataframe tbody tr th {\n",
              "        vertical-align: top;\n",
              "    }\n",
              "\n",
              "    .dataframe thead th {\n",
              "        text-align: right;\n",
              "    }\n",
              "</style>\n",
              "<table border=\"1\" class=\"dataframe\">\n",
              "  <thead>\n",
              "    <tr style=\"text-align: right;\">\n",
              "      <th></th>\n",
              "      <th>parent_comment</th>\n",
              "      <th>parent_comment_tokens</th>\n",
              "    </tr>\n",
              "  </thead>\n",
              "  <tbody>\n",
              "    <tr>\n",
              "      <th>0</th>\n",
              "      <td>Yeah, I get that argument. At this point, I'd ...</td>\n",
              "      <td>[yeah, i, get, that, argument, at, this, point...</td>\n",
              "    </tr>\n",
              "    <tr>\n",
              "      <th>1</th>\n",
              "      <td>The blazers and Mavericks (The wests 5 and 6 s...</td>\n",
              "      <td>[the, blazer, and, maverick, the, west, 5, and...</td>\n",
              "    </tr>\n",
              "    <tr>\n",
              "      <th>2</th>\n",
              "      <td>They're favored to win.</td>\n",
              "      <td>[theyre, favored, to, win]</td>\n",
              "    </tr>\n",
              "    <tr>\n",
              "      <th>3</th>\n",
              "      <td>deadass don't kill my buzz</td>\n",
              "      <td>[deadass, dont, kill, my, buzz]</td>\n",
              "    </tr>\n",
              "    <tr>\n",
              "      <th>4</th>\n",
              "      <td>Yep can confirm I saw the tool they use for th...</td>\n",
              "      <td>[yep, can, confirm, i, saw, the, tool, they, u...</td>\n",
              "    </tr>\n",
              "    <tr>\n",
              "      <th>5</th>\n",
              "      <td>do you find ariana grande sexy ?</td>\n",
              "      <td>[do, you, find, ariana, grande, sexy]</td>\n",
              "    </tr>\n",
              "    <tr>\n",
              "      <th>6</th>\n",
              "      <td>What's your weird or unsettling Trick or Treat...</td>\n",
              "      <td>[whats, your, weird, or, unsettling, trick, or...</td>\n",
              "    </tr>\n",
              "    <tr>\n",
              "      <th>7</th>\n",
              "      <td>Probably Sephiroth. I refuse to taint his grea...</td>\n",
              "      <td>[probably, sephiroth, i, refuse, to, taint, hi...</td>\n",
              "    </tr>\n",
              "    <tr>\n",
              "      <th>8</th>\n",
              "      <td>What to upgrade? I have $500 to spend (mainly ...</td>\n",
              "      <td>[what, to, upgrade, i, have, 500, to, spend, m...</td>\n",
              "    </tr>\n",
              "    <tr>\n",
              "      <th>9</th>\n",
              "      <td>Probably count Kanye out Since the rest of his...</td>\n",
              "      <td>[probably, count, kanye, out, since, the, rest...</td>\n",
              "    </tr>\n",
              "  </tbody>\n",
              "</table>\n",
              "</div>\n",
              "      <button class=\"colab-df-convert\" onclick=\"convertToInteractive('df-82f1c80d-0b69-43ca-9bed-55797b8edae9')\"\n",
              "              title=\"Convert this dataframe to an interactive table.\"\n",
              "              style=\"display:none;\">\n",
              "        \n",
              "  <svg xmlns=\"http://www.w3.org/2000/svg\" height=\"24px\"viewBox=\"0 0 24 24\"\n",
              "       width=\"24px\">\n",
              "    <path d=\"M0 0h24v24H0V0z\" fill=\"none\"/>\n",
              "    <path d=\"M18.56 5.44l.94 2.06.94-2.06 2.06-.94-2.06-.94-.94-2.06-.94 2.06-2.06.94zm-11 1L8.5 8.5l.94-2.06 2.06-.94-2.06-.94L8.5 2.5l-.94 2.06-2.06.94zm10 10l.94 2.06.94-2.06 2.06-.94-2.06-.94-.94-2.06-.94 2.06-2.06.94z\"/><path d=\"M17.41 7.96l-1.37-1.37c-.4-.4-.92-.59-1.43-.59-.52 0-1.04.2-1.43.59L10.3 9.45l-7.72 7.72c-.78.78-.78 2.05 0 2.83L4 21.41c.39.39.9.59 1.41.59.51 0 1.02-.2 1.41-.59l7.78-7.78 2.81-2.81c.8-.78.8-2.07 0-2.86zM5.41 20L4 18.59l7.72-7.72 1.47 1.35L5.41 20z\"/>\n",
              "  </svg>\n",
              "      </button>\n",
              "      \n",
              "  <style>\n",
              "    .colab-df-container {\n",
              "      display:flex;\n",
              "      flex-wrap:wrap;\n",
              "      gap: 12px;\n",
              "    }\n",
              "\n",
              "    .colab-df-convert {\n",
              "      background-color: #E8F0FE;\n",
              "      border: none;\n",
              "      border-radius: 50%;\n",
              "      cursor: pointer;\n",
              "      display: none;\n",
              "      fill: #1967D2;\n",
              "      height: 32px;\n",
              "      padding: 0 0 0 0;\n",
              "      width: 32px;\n",
              "    }\n",
              "\n",
              "    .colab-df-convert:hover {\n",
              "      background-color: #E2EBFA;\n",
              "      box-shadow: 0px 1px 2px rgba(60, 64, 67, 0.3), 0px 1px 3px 1px rgba(60, 64, 67, 0.15);\n",
              "      fill: #174EA6;\n",
              "    }\n",
              "\n",
              "    [theme=dark] .colab-df-convert {\n",
              "      background-color: #3B4455;\n",
              "      fill: #D2E3FC;\n",
              "    }\n",
              "\n",
              "    [theme=dark] .colab-df-convert:hover {\n",
              "      background-color: #434B5C;\n",
              "      box-shadow: 0px 1px 3px 1px rgba(0, 0, 0, 0.15);\n",
              "      filter: drop-shadow(0px 1px 2px rgba(0, 0, 0, 0.3));\n",
              "      fill: #FFFFFF;\n",
              "    }\n",
              "  </style>\n",
              "\n",
              "      <script>\n",
              "        const buttonEl =\n",
              "          document.querySelector('#df-82f1c80d-0b69-43ca-9bed-55797b8edae9 button.colab-df-convert');\n",
              "        buttonEl.style.display =\n",
              "          google.colab.kernel.accessAllowed ? 'block' : 'none';\n",
              "\n",
              "        async function convertToInteractive(key) {\n",
              "          const element = document.querySelector('#df-82f1c80d-0b69-43ca-9bed-55797b8edae9');\n",
              "          const dataTable =\n",
              "            await google.colab.kernel.invokeFunction('convertToInteractive',\n",
              "                                                     [key], {});\n",
              "          if (!dataTable) return;\n",
              "\n",
              "          const docLinkHtml = 'Like what you see? Visit the ' +\n",
              "            '<a target=\"_blank\" href=https://colab.research.google.com/notebooks/data_table.ipynb>data table notebook</a>'\n",
              "            + ' to learn more about interactive tables.';\n",
              "          element.innerHTML = '';\n",
              "          dataTable['output_type'] = 'display_data';\n",
              "          await google.colab.output.renderOutput(dataTable, element);\n",
              "          const docLink = document.createElement('div');\n",
              "          docLink.innerHTML = docLinkHtml;\n",
              "          element.appendChild(docLink);\n",
              "        }\n",
              "      </script>\n",
              "    </div>\n",
              "  </div>\n",
              "  "
            ]
          },
          "metadata": {},
          "execution_count": 35
        }
      ],
      "source": [
        "data[[\"parent_comment\", \"parent_comment_tokens\"]].head(10)"
      ]
    },
    {
      "cell_type": "code",
      "execution_count": 36,
      "id": "dc59c9f8",
      "metadata": {
        "colab": {
          "base_uri": "https://localhost:8080/"
        },
        "id": "dc59c9f8",
        "outputId": "2c31c293-7af2-44ca-8fc6-77f791bc8d9a",
        "pycharm": {
          "name": "#%%\n"
        }
      },
      "outputs": [
        {
          "output_type": "execute_result",
          "data": {
            "text/plain": [
              "(1010773,)"
            ]
          },
          "metadata": {},
          "execution_count": 36
        }
      ],
      "source": [
        "data['parent_comment_tokens'].shape"
      ]
    },
    {
      "cell_type": "code",
      "execution_count": 37,
      "id": "08c32428",
      "metadata": {
        "id": "08c32428"
      },
      "outputs": [],
      "source": [
        "X = data[['comment_tokens', 'parent_comment_tokens']]"
      ]
    },
    {
      "cell_type": "code",
      "execution_count": 38,
      "id": "a0e03105",
      "metadata": {
        "colab": {
          "base_uri": "https://localhost:8080/",
          "height": 363
        },
        "id": "a0e03105",
        "outputId": "c873e7da-8e26-4a26-dfa5-f7f73bc5c0c3"
      },
      "outputs": [
        {
          "output_type": "execute_result",
          "data": {
            "text/plain": [
              "                                      comment_tokens  \\\n",
              "0                                      [nc, and, nh]   \n",
              "1  [you, do, know, west, team, play, against, wes...   \n",
              "2  [they, were, underdog, earlier, today, but, si...   \n",
              "3  [this, meme, isnt, funny, none, of, the, new, ...   \n",
              "4              [i, could, use, one, of, those, tool]   \n",
              "5  [i, dont, pay, attention, to, her, but, a, lon...   \n",
              "6  [trick, or, treating, in, general, is, just, w...   \n",
              "7                 [blade, masterymasamune, or, gtfo]   \n",
              "8  [you, dont, have, to, you, have, a, good, buil...   \n",
              "9          [i, would, love, to, see, him, at, lolla]   \n",
              "\n",
              "                               parent_comment_tokens  \n",
              "0  [yeah, i, get, that, argument, at, this, point...  \n",
              "1  [the, blazer, and, maverick, the, west, 5, and...  \n",
              "2                         [theyre, favored, to, win]  \n",
              "3                    [deadass, dont, kill, my, buzz]  \n",
              "4  [yep, can, confirm, i, saw, the, tool, they, u...  \n",
              "5              [do, you, find, ariana, grande, sexy]  \n",
              "6  [whats, your, weird, or, unsettling, trick, or...  \n",
              "7  [probably, sephiroth, i, refuse, to, taint, hi...  \n",
              "8  [what, to, upgrade, i, have, 500, to, spend, m...  \n",
              "9  [probably, count, kanye, out, since, the, rest...  "
            ],
            "text/html": [
              "\n",
              "  <div id=\"df-c250016d-0be3-4cf2-9f32-2eb85b5efbb6\">\n",
              "    <div class=\"colab-df-container\">\n",
              "      <div>\n",
              "<style scoped>\n",
              "    .dataframe tbody tr th:only-of-type {\n",
              "        vertical-align: middle;\n",
              "    }\n",
              "\n",
              "    .dataframe tbody tr th {\n",
              "        vertical-align: top;\n",
              "    }\n",
              "\n",
              "    .dataframe thead th {\n",
              "        text-align: right;\n",
              "    }\n",
              "</style>\n",
              "<table border=\"1\" class=\"dataframe\">\n",
              "  <thead>\n",
              "    <tr style=\"text-align: right;\">\n",
              "      <th></th>\n",
              "      <th>comment_tokens</th>\n",
              "      <th>parent_comment_tokens</th>\n",
              "    </tr>\n",
              "  </thead>\n",
              "  <tbody>\n",
              "    <tr>\n",
              "      <th>0</th>\n",
              "      <td>[nc, and, nh]</td>\n",
              "      <td>[yeah, i, get, that, argument, at, this, point...</td>\n",
              "    </tr>\n",
              "    <tr>\n",
              "      <th>1</th>\n",
              "      <td>[you, do, know, west, team, play, against, wes...</td>\n",
              "      <td>[the, blazer, and, maverick, the, west, 5, and...</td>\n",
              "    </tr>\n",
              "    <tr>\n",
              "      <th>2</th>\n",
              "      <td>[they, were, underdog, earlier, today, but, si...</td>\n",
              "      <td>[theyre, favored, to, win]</td>\n",
              "    </tr>\n",
              "    <tr>\n",
              "      <th>3</th>\n",
              "      <td>[this, meme, isnt, funny, none, of, the, new, ...</td>\n",
              "      <td>[deadass, dont, kill, my, buzz]</td>\n",
              "    </tr>\n",
              "    <tr>\n",
              "      <th>4</th>\n",
              "      <td>[i, could, use, one, of, those, tool]</td>\n",
              "      <td>[yep, can, confirm, i, saw, the, tool, they, u...</td>\n",
              "    </tr>\n",
              "    <tr>\n",
              "      <th>5</th>\n",
              "      <td>[i, dont, pay, attention, to, her, but, a, lon...</td>\n",
              "      <td>[do, you, find, ariana, grande, sexy]</td>\n",
              "    </tr>\n",
              "    <tr>\n",
              "      <th>6</th>\n",
              "      <td>[trick, or, treating, in, general, is, just, w...</td>\n",
              "      <td>[whats, your, weird, or, unsettling, trick, or...</td>\n",
              "    </tr>\n",
              "    <tr>\n",
              "      <th>7</th>\n",
              "      <td>[blade, masterymasamune, or, gtfo]</td>\n",
              "      <td>[probably, sephiroth, i, refuse, to, taint, hi...</td>\n",
              "    </tr>\n",
              "    <tr>\n",
              "      <th>8</th>\n",
              "      <td>[you, dont, have, to, you, have, a, good, buil...</td>\n",
              "      <td>[what, to, upgrade, i, have, 500, to, spend, m...</td>\n",
              "    </tr>\n",
              "    <tr>\n",
              "      <th>9</th>\n",
              "      <td>[i, would, love, to, see, him, at, lolla]</td>\n",
              "      <td>[probably, count, kanye, out, since, the, rest...</td>\n",
              "    </tr>\n",
              "  </tbody>\n",
              "</table>\n",
              "</div>\n",
              "      <button class=\"colab-df-convert\" onclick=\"convertToInteractive('df-c250016d-0be3-4cf2-9f32-2eb85b5efbb6')\"\n",
              "              title=\"Convert this dataframe to an interactive table.\"\n",
              "              style=\"display:none;\">\n",
              "        \n",
              "  <svg xmlns=\"http://www.w3.org/2000/svg\" height=\"24px\"viewBox=\"0 0 24 24\"\n",
              "       width=\"24px\">\n",
              "    <path d=\"M0 0h24v24H0V0z\" fill=\"none\"/>\n",
              "    <path d=\"M18.56 5.44l.94 2.06.94-2.06 2.06-.94-2.06-.94-.94-2.06-.94 2.06-2.06.94zm-11 1L8.5 8.5l.94-2.06 2.06-.94-2.06-.94L8.5 2.5l-.94 2.06-2.06.94zm10 10l.94 2.06.94-2.06 2.06-.94-2.06-.94-.94-2.06-.94 2.06-2.06.94z\"/><path d=\"M17.41 7.96l-1.37-1.37c-.4-.4-.92-.59-1.43-.59-.52 0-1.04.2-1.43.59L10.3 9.45l-7.72 7.72c-.78.78-.78 2.05 0 2.83L4 21.41c.39.39.9.59 1.41.59.51 0 1.02-.2 1.41-.59l7.78-7.78 2.81-2.81c.8-.78.8-2.07 0-2.86zM5.41 20L4 18.59l7.72-7.72 1.47 1.35L5.41 20z\"/>\n",
              "  </svg>\n",
              "      </button>\n",
              "      \n",
              "  <style>\n",
              "    .colab-df-container {\n",
              "      display:flex;\n",
              "      flex-wrap:wrap;\n",
              "      gap: 12px;\n",
              "    }\n",
              "\n",
              "    .colab-df-convert {\n",
              "      background-color: #E8F0FE;\n",
              "      border: none;\n",
              "      border-radius: 50%;\n",
              "      cursor: pointer;\n",
              "      display: none;\n",
              "      fill: #1967D2;\n",
              "      height: 32px;\n",
              "      padding: 0 0 0 0;\n",
              "      width: 32px;\n",
              "    }\n",
              "\n",
              "    .colab-df-convert:hover {\n",
              "      background-color: #E2EBFA;\n",
              "      box-shadow: 0px 1px 2px rgba(60, 64, 67, 0.3), 0px 1px 3px 1px rgba(60, 64, 67, 0.15);\n",
              "      fill: #174EA6;\n",
              "    }\n",
              "\n",
              "    [theme=dark] .colab-df-convert {\n",
              "      background-color: #3B4455;\n",
              "      fill: #D2E3FC;\n",
              "    }\n",
              "\n",
              "    [theme=dark] .colab-df-convert:hover {\n",
              "      background-color: #434B5C;\n",
              "      box-shadow: 0px 1px 3px 1px rgba(0, 0, 0, 0.15);\n",
              "      filter: drop-shadow(0px 1px 2px rgba(0, 0, 0, 0.3));\n",
              "      fill: #FFFFFF;\n",
              "    }\n",
              "  </style>\n",
              "\n",
              "      <script>\n",
              "        const buttonEl =\n",
              "          document.querySelector('#df-c250016d-0be3-4cf2-9f32-2eb85b5efbb6 button.colab-df-convert');\n",
              "        buttonEl.style.display =\n",
              "          google.colab.kernel.accessAllowed ? 'block' : 'none';\n",
              "\n",
              "        async function convertToInteractive(key) {\n",
              "          const element = document.querySelector('#df-c250016d-0be3-4cf2-9f32-2eb85b5efbb6');\n",
              "          const dataTable =\n",
              "            await google.colab.kernel.invokeFunction('convertToInteractive',\n",
              "                                                     [key], {});\n",
              "          if (!dataTable) return;\n",
              "\n",
              "          const docLinkHtml = 'Like what you see? Visit the ' +\n",
              "            '<a target=\"_blank\" href=https://colab.research.google.com/notebooks/data_table.ipynb>data table notebook</a>'\n",
              "            + ' to learn more about interactive tables.';\n",
              "          element.innerHTML = '';\n",
              "          dataTable['output_type'] = 'display_data';\n",
              "          await google.colab.output.renderOutput(dataTable, element);\n",
              "          const docLink = document.createElement('div');\n",
              "          docLink.innerHTML = docLinkHtml;\n",
              "          element.appendChild(docLink);\n",
              "        }\n",
              "      </script>\n",
              "    </div>\n",
              "  </div>\n",
              "  "
            ]
          },
          "metadata": {},
          "execution_count": 38
        }
      ],
      "source": [
        "X.head(10)"
      ]
    },
    {
      "cell_type": "code",
      "execution_count": 39,
      "id": "fc70fc23",
      "metadata": {
        "id": "fc70fc23"
      },
      "outputs": [],
      "source": [
        "Y = data[['label']]"
      ]
    },
    {
      "cell_type": "code",
      "execution_count": 40,
      "id": "d447986d",
      "metadata": {
        "colab": {
          "base_uri": "https://localhost:8080/",
          "height": 363
        },
        "id": "d447986d",
        "outputId": "ee4c31c2-30e8-4e45-a245-d4d1a929843c"
      },
      "outputs": [
        {
          "output_type": "execute_result",
          "data": {
            "text/plain": [
              "         label\n",
              "1010816      1\n",
              "1010817      1\n",
              "1010818      1\n",
              "1010819      1\n",
              "1010820      1\n",
              "1010821      1\n",
              "1010822      1\n",
              "1010823      1\n",
              "1010824      1\n",
              "1010825      1"
            ],
            "text/html": [
              "\n",
              "  <div id=\"df-d9b14497-0b87-4d9b-830c-6cfd85b1786b\">\n",
              "    <div class=\"colab-df-container\">\n",
              "      <div>\n",
              "<style scoped>\n",
              "    .dataframe tbody tr th:only-of-type {\n",
              "        vertical-align: middle;\n",
              "    }\n",
              "\n",
              "    .dataframe tbody tr th {\n",
              "        vertical-align: top;\n",
              "    }\n",
              "\n",
              "    .dataframe thead th {\n",
              "        text-align: right;\n",
              "    }\n",
              "</style>\n",
              "<table border=\"1\" class=\"dataframe\">\n",
              "  <thead>\n",
              "    <tr style=\"text-align: right;\">\n",
              "      <th></th>\n",
              "      <th>label</th>\n",
              "    </tr>\n",
              "  </thead>\n",
              "  <tbody>\n",
              "    <tr>\n",
              "      <th>1010816</th>\n",
              "      <td>1</td>\n",
              "    </tr>\n",
              "    <tr>\n",
              "      <th>1010817</th>\n",
              "      <td>1</td>\n",
              "    </tr>\n",
              "    <tr>\n",
              "      <th>1010818</th>\n",
              "      <td>1</td>\n",
              "    </tr>\n",
              "    <tr>\n",
              "      <th>1010819</th>\n",
              "      <td>1</td>\n",
              "    </tr>\n",
              "    <tr>\n",
              "      <th>1010820</th>\n",
              "      <td>1</td>\n",
              "    </tr>\n",
              "    <tr>\n",
              "      <th>1010821</th>\n",
              "      <td>1</td>\n",
              "    </tr>\n",
              "    <tr>\n",
              "      <th>1010822</th>\n",
              "      <td>1</td>\n",
              "    </tr>\n",
              "    <tr>\n",
              "      <th>1010823</th>\n",
              "      <td>1</td>\n",
              "    </tr>\n",
              "    <tr>\n",
              "      <th>1010824</th>\n",
              "      <td>1</td>\n",
              "    </tr>\n",
              "    <tr>\n",
              "      <th>1010825</th>\n",
              "      <td>1</td>\n",
              "    </tr>\n",
              "  </tbody>\n",
              "</table>\n",
              "</div>\n",
              "      <button class=\"colab-df-convert\" onclick=\"convertToInteractive('df-d9b14497-0b87-4d9b-830c-6cfd85b1786b')\"\n",
              "              title=\"Convert this dataframe to an interactive table.\"\n",
              "              style=\"display:none;\">\n",
              "        \n",
              "  <svg xmlns=\"http://www.w3.org/2000/svg\" height=\"24px\"viewBox=\"0 0 24 24\"\n",
              "       width=\"24px\">\n",
              "    <path d=\"M0 0h24v24H0V0z\" fill=\"none\"/>\n",
              "    <path d=\"M18.56 5.44l.94 2.06.94-2.06 2.06-.94-2.06-.94-.94-2.06-.94 2.06-2.06.94zm-11 1L8.5 8.5l.94-2.06 2.06-.94-2.06-.94L8.5 2.5l-.94 2.06-2.06.94zm10 10l.94 2.06.94-2.06 2.06-.94-2.06-.94-.94-2.06-.94 2.06-2.06.94z\"/><path d=\"M17.41 7.96l-1.37-1.37c-.4-.4-.92-.59-1.43-.59-.52 0-1.04.2-1.43.59L10.3 9.45l-7.72 7.72c-.78.78-.78 2.05 0 2.83L4 21.41c.39.39.9.59 1.41.59.51 0 1.02-.2 1.41-.59l7.78-7.78 2.81-2.81c.8-.78.8-2.07 0-2.86zM5.41 20L4 18.59l7.72-7.72 1.47 1.35L5.41 20z\"/>\n",
              "  </svg>\n",
              "      </button>\n",
              "      \n",
              "  <style>\n",
              "    .colab-df-container {\n",
              "      display:flex;\n",
              "      flex-wrap:wrap;\n",
              "      gap: 12px;\n",
              "    }\n",
              "\n",
              "    .colab-df-convert {\n",
              "      background-color: #E8F0FE;\n",
              "      border: none;\n",
              "      border-radius: 50%;\n",
              "      cursor: pointer;\n",
              "      display: none;\n",
              "      fill: #1967D2;\n",
              "      height: 32px;\n",
              "      padding: 0 0 0 0;\n",
              "      width: 32px;\n",
              "    }\n",
              "\n",
              "    .colab-df-convert:hover {\n",
              "      background-color: #E2EBFA;\n",
              "      box-shadow: 0px 1px 2px rgba(60, 64, 67, 0.3), 0px 1px 3px 1px rgba(60, 64, 67, 0.15);\n",
              "      fill: #174EA6;\n",
              "    }\n",
              "\n",
              "    [theme=dark] .colab-df-convert {\n",
              "      background-color: #3B4455;\n",
              "      fill: #D2E3FC;\n",
              "    }\n",
              "\n",
              "    [theme=dark] .colab-df-convert:hover {\n",
              "      background-color: #434B5C;\n",
              "      box-shadow: 0px 1px 3px 1px rgba(0, 0, 0, 0.15);\n",
              "      filter: drop-shadow(0px 1px 2px rgba(0, 0, 0, 0.3));\n",
              "      fill: #FFFFFF;\n",
              "    }\n",
              "  </style>\n",
              "\n",
              "      <script>\n",
              "        const buttonEl =\n",
              "          document.querySelector('#df-d9b14497-0b87-4d9b-830c-6cfd85b1786b button.colab-df-convert');\n",
              "        buttonEl.style.display =\n",
              "          google.colab.kernel.accessAllowed ? 'block' : 'none';\n",
              "\n",
              "        async function convertToInteractive(key) {\n",
              "          const element = document.querySelector('#df-d9b14497-0b87-4d9b-830c-6cfd85b1786b');\n",
              "          const dataTable =\n",
              "            await google.colab.kernel.invokeFunction('convertToInteractive',\n",
              "                                                     [key], {});\n",
              "          if (!dataTable) return;\n",
              "\n",
              "          const docLinkHtml = 'Like what you see? Visit the ' +\n",
              "            '<a target=\"_blank\" href=https://colab.research.google.com/notebooks/data_table.ipynb>data table notebook</a>'\n",
              "            + ' to learn more about interactive tables.';\n",
              "          element.innerHTML = '';\n",
              "          dataTable['output_type'] = 'display_data';\n",
              "          await google.colab.output.renderOutput(dataTable, element);\n",
              "          const docLink = document.createElement('div');\n",
              "          docLink.innerHTML = docLinkHtml;\n",
              "          element.appendChild(docLink);\n",
              "        }\n",
              "      </script>\n",
              "    </div>\n",
              "  </div>\n",
              "  "
            ]
          },
          "metadata": {},
          "execution_count": 40
        }
      ],
      "source": [
        "Y.tail(10)"
      ]
    },
    {
      "cell_type": "code",
      "execution_count": 41,
      "id": "b2c25f10",
      "metadata": {
        "id": "b2c25f10"
      },
      "outputs": [],
      "source": [
        "# Split data with 60,20,20 split into train, validation, test\n",
        "X_train, X_val, y_train, y_val = train_test_split(X, Y, train_size= 0.6)"
      ]
    },
    {
      "cell_type": "code",
      "execution_count": 42,
      "id": "4ea1484d",
      "metadata": {
        "id": "4ea1484d"
      },
      "outputs": [],
      "source": [
        "X_val, X_test, y_val, y_test = train_test_split(X_val, y_val, train_size = 0.5) "
      ]
    },
    {
      "cell_type": "code",
      "execution_count": 43,
      "id": "3666b500",
      "metadata": {
        "id": "3666b500"
      },
      "outputs": [],
      "source": [
        "X_train = X_train.reset_index(drop = True)\n",
        "X_val = X_val.reset_index(drop = True)\n",
        "X_test = X_test.reset_index(drop = True)"
      ]
    },
    {
      "cell_type": "code",
      "execution_count": 44,
      "id": "18582005",
      "metadata": {
        "id": "18582005"
      },
      "outputs": [],
      "source": [
        "y_train = y_train.reset_index(drop = True)\n",
        "y_valid = y_val.reset_index(drop = True)\n",
        "y_test = y_test.reset_index(drop = True)"
      ]
    },
    {
      "cell_type": "code",
      "execution_count": 45,
      "id": "073540b4",
      "metadata": {
        "id": "073540b4"
      },
      "outputs": [],
      "source": [
        "X_train_copy = X_train.copy()\n",
        "X_val_copy = X_val.copy()\n",
        "X_test_copy = X_test.copy()\n",
        "y_train_copy = y_train.copy()\n",
        "y_valid_copy = y_valid.copy()\n",
        "y_test_copy = y_test.copy()"
      ]
    },
    {
      "cell_type": "code",
      "execution_count": 46,
      "id": "30131dad",
      "metadata": {
        "colab": {
          "base_uri": "https://localhost:8080/",
          "height": 363
        },
        "id": "30131dad",
        "outputId": "9dbef3f4-38cd-42fc-8e32-a7fc372e3471"
      },
      "outputs": [
        {
          "output_type": "execute_result",
          "data": {
            "text/plain": [
              "                                      comment_tokens  \\\n",
              "0  [on, phone, should, have, said, content, not, ...   \n",
              "1  [you, dont, have, an, off, switch, once, youre...   \n",
              "2  [exactly, when, the, morbidly, obese, need, me...   \n",
              "3           [hard, work, pay, off, when, youre, mad]   \n",
              "4  [blocking, people, by, chance, actually, is, m...   \n",
              "5                [no, it, a, third, person, shooter]   \n",
              "6  [im, voting, for, all, woman, who, dont, have,...   \n",
              "7  [bow, and, pray, to, the, koch, brother, you, ...   \n",
              "8  [cp, is, just, the, commanding, officer, if, y...   \n",
              "9  [clearly, console, are, just, that, superior, ...   \n",
              "\n",
              "                               parent_comment_tokens  \n",
              "0                                          [ck, ten]  \n",
              "1                      [leona, lee, sin, jarvan, iv]  \n",
              "2  [a, a, society, we, shouldnt, reward, the, mor...  \n",
              "3  [this, reminds, me, of, a, parable, my, tai, c...  \n",
              "4                             [but, wwwhhhhyyyyyyyy]  \n",
              "5  [so, it, an, fps, i, thought, it, wa, like, pv...  \n",
              "6        [triggered, check, your, voting, privilege]  \n",
              "7  [i, love, being, poor, and, worshipping, the, ...  \n",
              "8  [no, they, ask, for, backup, but, then, cp, sa...  \n",
              "9               [konami, downgrade, pe, pc, version]  "
            ],
            "text/html": [
              "\n",
              "  <div id=\"df-d51605cd-c8fb-47fe-8585-2cca911d746e\">\n",
              "    <div class=\"colab-df-container\">\n",
              "      <div>\n",
              "<style scoped>\n",
              "    .dataframe tbody tr th:only-of-type {\n",
              "        vertical-align: middle;\n",
              "    }\n",
              "\n",
              "    .dataframe tbody tr th {\n",
              "        vertical-align: top;\n",
              "    }\n",
              "\n",
              "    .dataframe thead th {\n",
              "        text-align: right;\n",
              "    }\n",
              "</style>\n",
              "<table border=\"1\" class=\"dataframe\">\n",
              "  <thead>\n",
              "    <tr style=\"text-align: right;\">\n",
              "      <th></th>\n",
              "      <th>comment_tokens</th>\n",
              "      <th>parent_comment_tokens</th>\n",
              "    </tr>\n",
              "  </thead>\n",
              "  <tbody>\n",
              "    <tr>\n",
              "      <th>0</th>\n",
              "      <td>[on, phone, should, have, said, content, not, ...</td>\n",
              "      <td>[ck, ten]</td>\n",
              "    </tr>\n",
              "    <tr>\n",
              "      <th>1</th>\n",
              "      <td>[you, dont, have, an, off, switch, once, youre...</td>\n",
              "      <td>[leona, lee, sin, jarvan, iv]</td>\n",
              "    </tr>\n",
              "    <tr>\n",
              "      <th>2</th>\n",
              "      <td>[exactly, when, the, morbidly, obese, need, me...</td>\n",
              "      <td>[a, a, society, we, shouldnt, reward, the, mor...</td>\n",
              "    </tr>\n",
              "    <tr>\n",
              "      <th>3</th>\n",
              "      <td>[hard, work, pay, off, when, youre, mad]</td>\n",
              "      <td>[this, reminds, me, of, a, parable, my, tai, c...</td>\n",
              "    </tr>\n",
              "    <tr>\n",
              "      <th>4</th>\n",
              "      <td>[blocking, people, by, chance, actually, is, m...</td>\n",
              "      <td>[but, wwwhhhhyyyyyyyy]</td>\n",
              "    </tr>\n",
              "    <tr>\n",
              "      <th>5</th>\n",
              "      <td>[no, it, a, third, person, shooter]</td>\n",
              "      <td>[so, it, an, fps, i, thought, it, wa, like, pv...</td>\n",
              "    </tr>\n",
              "    <tr>\n",
              "      <th>6</th>\n",
              "      <td>[im, voting, for, all, woman, who, dont, have,...</td>\n",
              "      <td>[triggered, check, your, voting, privilege]</td>\n",
              "    </tr>\n",
              "    <tr>\n",
              "      <th>7</th>\n",
              "      <td>[bow, and, pray, to, the, koch, brother, you, ...</td>\n",
              "      <td>[i, love, being, poor, and, worshipping, the, ...</td>\n",
              "    </tr>\n",
              "    <tr>\n",
              "      <th>8</th>\n",
              "      <td>[cp, is, just, the, commanding, officer, if, y...</td>\n",
              "      <td>[no, they, ask, for, backup, but, then, cp, sa...</td>\n",
              "    </tr>\n",
              "    <tr>\n",
              "      <th>9</th>\n",
              "      <td>[clearly, console, are, just, that, superior, ...</td>\n",
              "      <td>[konami, downgrade, pe, pc, version]</td>\n",
              "    </tr>\n",
              "  </tbody>\n",
              "</table>\n",
              "</div>\n",
              "      <button class=\"colab-df-convert\" onclick=\"convertToInteractive('df-d51605cd-c8fb-47fe-8585-2cca911d746e')\"\n",
              "              title=\"Convert this dataframe to an interactive table.\"\n",
              "              style=\"display:none;\">\n",
              "        \n",
              "  <svg xmlns=\"http://www.w3.org/2000/svg\" height=\"24px\"viewBox=\"0 0 24 24\"\n",
              "       width=\"24px\">\n",
              "    <path d=\"M0 0h24v24H0V0z\" fill=\"none\"/>\n",
              "    <path d=\"M18.56 5.44l.94 2.06.94-2.06 2.06-.94-2.06-.94-.94-2.06-.94 2.06-2.06.94zm-11 1L8.5 8.5l.94-2.06 2.06-.94-2.06-.94L8.5 2.5l-.94 2.06-2.06.94zm10 10l.94 2.06.94-2.06 2.06-.94-2.06-.94-.94-2.06-.94 2.06-2.06.94z\"/><path d=\"M17.41 7.96l-1.37-1.37c-.4-.4-.92-.59-1.43-.59-.52 0-1.04.2-1.43.59L10.3 9.45l-7.72 7.72c-.78.78-.78 2.05 0 2.83L4 21.41c.39.39.9.59 1.41.59.51 0 1.02-.2 1.41-.59l7.78-7.78 2.81-2.81c.8-.78.8-2.07 0-2.86zM5.41 20L4 18.59l7.72-7.72 1.47 1.35L5.41 20z\"/>\n",
              "  </svg>\n",
              "      </button>\n",
              "      \n",
              "  <style>\n",
              "    .colab-df-container {\n",
              "      display:flex;\n",
              "      flex-wrap:wrap;\n",
              "      gap: 12px;\n",
              "    }\n",
              "\n",
              "    .colab-df-convert {\n",
              "      background-color: #E8F0FE;\n",
              "      border: none;\n",
              "      border-radius: 50%;\n",
              "      cursor: pointer;\n",
              "      display: none;\n",
              "      fill: #1967D2;\n",
              "      height: 32px;\n",
              "      padding: 0 0 0 0;\n",
              "      width: 32px;\n",
              "    }\n",
              "\n",
              "    .colab-df-convert:hover {\n",
              "      background-color: #E2EBFA;\n",
              "      box-shadow: 0px 1px 2px rgba(60, 64, 67, 0.3), 0px 1px 3px 1px rgba(60, 64, 67, 0.15);\n",
              "      fill: #174EA6;\n",
              "    }\n",
              "\n",
              "    [theme=dark] .colab-df-convert {\n",
              "      background-color: #3B4455;\n",
              "      fill: #D2E3FC;\n",
              "    }\n",
              "\n",
              "    [theme=dark] .colab-df-convert:hover {\n",
              "      background-color: #434B5C;\n",
              "      box-shadow: 0px 1px 3px 1px rgba(0, 0, 0, 0.15);\n",
              "      filter: drop-shadow(0px 1px 2px rgba(0, 0, 0, 0.3));\n",
              "      fill: #FFFFFF;\n",
              "    }\n",
              "  </style>\n",
              "\n",
              "      <script>\n",
              "        const buttonEl =\n",
              "          document.querySelector('#df-d51605cd-c8fb-47fe-8585-2cca911d746e button.colab-df-convert');\n",
              "        buttonEl.style.display =\n",
              "          google.colab.kernel.accessAllowed ? 'block' : 'none';\n",
              "\n",
              "        async function convertToInteractive(key) {\n",
              "          const element = document.querySelector('#df-d51605cd-c8fb-47fe-8585-2cca911d746e');\n",
              "          const dataTable =\n",
              "            await google.colab.kernel.invokeFunction('convertToInteractive',\n",
              "                                                     [key], {});\n",
              "          if (!dataTable) return;\n",
              "\n",
              "          const docLinkHtml = 'Like what you see? Visit the ' +\n",
              "            '<a target=\"_blank\" href=https://colab.research.google.com/notebooks/data_table.ipynb>data table notebook</a>'\n",
              "            + ' to learn more about interactive tables.';\n",
              "          element.innerHTML = '';\n",
              "          dataTable['output_type'] = 'display_data';\n",
              "          await google.colab.output.renderOutput(dataTable, element);\n",
              "          const docLink = document.createElement('div');\n",
              "          docLink.innerHTML = docLinkHtml;\n",
              "          element.appendChild(docLink);\n",
              "        }\n",
              "      </script>\n",
              "    </div>\n",
              "  </div>\n",
              "  "
            ]
          },
          "metadata": {},
          "execution_count": 46
        }
      ],
      "source": [
        "X_train.head(10)"
      ]
    },
    {
      "cell_type": "code",
      "execution_count": 47,
      "id": "47578ddf",
      "metadata": {
        "colab": {
          "base_uri": "https://localhost:8080/"
        },
        "id": "47578ddf",
        "outputId": "7627c0d9-afc4-488b-d42b-1acf87bebbab"
      },
      "outputs": [
        {
          "output_type": "execute_result",
          "data": {
            "text/plain": [
              "606463"
            ]
          },
          "metadata": {},
          "execution_count": 47
        }
      ],
      "source": [
        "len(X_train)"
      ]
    },
    {
      "cell_type": "code",
      "execution_count": 48,
      "id": "dbae060d",
      "metadata": {
        "colab": {
          "base_uri": "https://localhost:8080/"
        },
        "id": "dbae060d",
        "outputId": "0f3b1b2d-20b8-4a40-d181-7857fe133748"
      },
      "outputs": [
        {
          "output_type": "execute_result",
          "data": {
            "text/plain": [
              "(1010773, 7)"
            ]
          },
          "metadata": {},
          "execution_count": 48
        }
      ],
      "source": [
        "data.shape"
      ]
    },
    {
      "cell_type": "markdown",
      "source": [
        "## Generating sentence vector - adding word vectors and weighting by TF-IDF values for every index"
      ],
      "metadata": {
        "id": "0zzU_igT9gVm"
      },
      "id": "0zzU_igT9gVm"
    },
    {
      "cell_type": "code",
      "execution_count": 49,
      "id": "b7a03f8e",
      "metadata": {
        "id": "b7a03f8e",
        "pycharm": {
          "name": "#%%\n"
        }
      },
      "outputs": [],
      "source": [
        "# Since comments are already preprocessed and tokenized,\n",
        "# the vectorizer only needs to take tokens as they are.\n",
        "tfidfVectorizer = TfidfVectorizer(analyzer=lambda tokens: tokens)\n",
        "corpus = pd.concat([X_train['comment_tokens'], X_train['parent_comment_tokens']])\n",
        "tfidfMatrix = tfidfVectorizer.fit_transform(corpus)\n",
        "vocabulary = tfidfVectorizer.vocabulary_"
      ]
    },
    {
      "cell_type": "code",
      "execution_count": 50,
      "id": "0c014963",
      "metadata": {
        "colab": {
          "base_uri": "https://localhost:8080/"
        },
        "id": "0c014963",
        "outputId": "34df388e-ea64-478c-a0c3-e45b6933e7f9"
      },
      "outputs": [
        {
          "output_type": "execute_result",
          "data": {
            "text/plain": [
              "(1212926, 284259)"
            ]
          },
          "metadata": {},
          "execution_count": 50
        }
      ],
      "source": [
        "tfidfMatrix.shape"
      ]
    },
    {
      "cell_type": "code",
      "execution_count": 51,
      "id": "f5b13c91",
      "metadata": {
        "colab": {
          "base_uri": "https://localhost:8080/"
        },
        "id": "f5b13c91",
        "outputId": "37cc0704-1921-4386-e558-7d16bdc1efcd",
        "pycharm": {
          "name": "#%%\n"
        }
      },
      "outputs": [
        {
          "output_type": "execute_result",
          "data": {
            "text/plain": [
              "<1212926x284259 sparse matrix of type '<class 'numpy.float64'>'\n",
              "\twith 17874970 stored elements in Compressed Sparse Row format>"
            ]
          },
          "metadata": {},
          "execution_count": 51
        }
      ],
      "source": [
        "# the tfidf matrix has 2021546 rows,\n",
        "# where the 0 ~ 606462 rows represent original comments in the same order as those in dataset,\n",
        "# and the 606463 ~ 1212926 rows represent parent comments in the same order as those in dataset;\n",
        "# and the tfidf matrix has 395961 columns, each represents a word in the vocabulary.\n",
        "tfidfMatrix"
      ]
    },
    {
      "cell_type": "code",
      "execution_count": 52,
      "id": "63904094",
      "metadata": {
        "colab": {
          "base_uri": "https://localhost:8080/"
        },
        "id": "63904094",
        "outputId": "04cf0f6a-a5c1-47e9-aaad-3050f1863438",
        "pycharm": {
          "name": "#%%\n"
        }
      },
      "outputs": [
        {
          "output_type": "execute_result",
          "data": {
            "text/plain": [
              "[('on', 182107),\n",
              " ('phone', 192175),\n",
              " ('should', 228571),\n",
              " ('have', 117890),\n",
              " ('said', 219337),\n",
              " ('content', 64758),\n",
              " ('not', 177859),\n",
              " ('ck', 59599),\n",
              " ('ten', 248712),\n",
              " ('you', 281864)]"
            ]
          },
          "metadata": {},
          "execution_count": 52
        }
      ],
      "source": [
        "# By using the following dict, we can obtain the index of a given word for querying tfidf matrix.\n",
        "list(vocabulary.items())[0:10] "
      ]
    },
    {
      "cell_type": "markdown",
      "id": "f81f253d",
      "metadata": {
        "id": "f81f253d",
        "pycharm": {
          "name": "#%% md\n"
        }
      },
      "source": [
        "Once we have learned word vectors, to compute the sentence vector of a comment,\n",
        "first fetch the corresponding row from the tfidf matrix (if it is the i-th original comment, then\n",
        "it is the i-th row; if it is the i-th parent comment, then it is the (1010773 + i)-th row),\n",
        "second for each word in the comment find its corresponding tfidf value from the row,\n",
        "third compute the average of the word vectors weighted by corresponding tfidf values."
      ]
    },
    {
      "cell_type": "code",
      "execution_count": 53,
      "id": "b6460a32",
      "metadata": {
        "colab": {
          "base_uri": "https://localhost:8080/"
        },
        "id": "b6460a32",
        "outputId": "8d76c610-ab56-4c97-aad8-2854cdb0d2c6"
      },
      "outputs": [
        {
          "output_type": "execute_result",
          "data": {
            "text/plain": [
              "(1212926, 284259)"
            ]
          },
          "metadata": {},
          "execution_count": 53
        }
      ],
      "source": [
        "tfidfMatrix.shape"
      ]
    },
    {
      "cell_type": "code",
      "execution_count": 54,
      "id": "8a113d9b",
      "metadata": {
        "id": "8a113d9b"
      },
      "outputs": [],
      "source": [
        "#tfidfMatrix[0,249920]"
      ]
    },
    {
      "cell_type": "code",
      "execution_count": 55,
      "id": "18b2accb",
      "metadata": {
        "colab": {
          "base_uri": "https://localhost:8080/"
        },
        "id": "18b2accb",
        "outputId": "5464ab66-8346-42f5-e0d6-3d4ea50bdee0"
      },
      "outputs": [
        {
          "output_type": "execute_result",
          "data": {
            "text/plain": [
              "249988"
            ]
          },
          "metadata": {},
          "execution_count": 55
        }
      ],
      "source": [
        "vocabulary['thats']"
      ]
    },
    {
      "cell_type": "code",
      "execution_count": 56,
      "id": "1cc375d3",
      "metadata": {
        "id": "1cc375d3"
      },
      "outputs": [],
      "source": [
        "tfidfMatrixtest = tfidfVectorizer.transform(pd.concat([X_test['comment_tokens'], X_test['parent_comment_tokens']]))\n",
        "tfidfMatrixvalid = tfidfVectorizer.transform(pd.concat([X_val['comment_tokens'], X_val['parent_comment_tokens']]))"
      ]
    },
    {
      "cell_type": "code",
      "execution_count": 57,
      "id": "1ecd437a",
      "metadata": {
        "colab": {
          "base_uri": "https://localhost:8080/"
        },
        "id": "1ecd437a",
        "outputId": "a89cfa2e-89b5-47ea-896b-0e9fd063a61e"
      },
      "outputs": [
        {
          "output_type": "execute_result",
          "data": {
            "text/plain": [
              "(404310, 284259)"
            ]
          },
          "metadata": {},
          "execution_count": 57
        }
      ],
      "source": [
        "tfidfMatrixtest.shape"
      ]
    },
    {
      "cell_type": "code",
      "execution_count": 59,
      "id": "acf259a2",
      "metadata": {
        "id": "acf259a2"
      },
      "outputs": [],
      "source": [
        "def generate_dataset(X, tfidfmat):\n",
        "    '''\n",
        "    Generates the weighted vectors from TF_IDF and word vectors.\n",
        "    '''\n",
        "\n",
        "    comment_featurevec = []\n",
        "    parent_featurevec = []\n",
        "    \n",
        "    for index, sample in X.iterrows():\n",
        "        \n",
        "        comment_vec = np.zeros(300)\n",
        "        parent_comment_vec = np.zeros(300)\n",
        "        comment_tokens = sample['comment_tokens']\n",
        "        parent_comment_tokens = sample['parent_comment_tokens']\n",
        "        counter1 = 0\n",
        "        \n",
        "        for token in comment_tokens:\n",
        "            \n",
        "            if token in glove and token in vocabulary:\n",
        "                counter1 += 1\n",
        "                comment_vec += tfidfmat[index, vocabulary[token]] * glove[token]\n",
        "        \n",
        "        counter2 = 0\n",
        "        for token in parent_comment_tokens:\n",
        "            \n",
        "            if token in glove and token in vocabulary:\n",
        "                counter2 += 1 \n",
        "                parent_comment_vec += tfidfmat[index+len(X), vocabulary[token]] * glove[token]\n",
        "        \n",
        "        if counter1 != 0:\n",
        "            comment_featurevec.append(comment_vec/counter1)\n",
        "        else:\n",
        "            comment_featurevec.append(comment_vec)\n",
        "        \n",
        "        if counter2 != 0:\n",
        "            parent_featurevec.append(parent_comment_vec/counter2)\n",
        "        else:\n",
        "            parent_featurevec.append(parent_comment_vec)\n",
        "            \n",
        "        \n",
        "    #print(len(comment_featurevec))\n",
        "    X['comment_weighted_vec'] = comment_featurevec\n",
        "    X['parent_weighted_vec'] = parent_featurevec\n",
        "    new_df = pd.DataFrame()\n",
        "        \n",
        "    return X\n",
        "    \n",
        "    \n",
        "    "
      ]
    },
    {
      "cell_type": "code",
      "execution_count": 60,
      "id": "900ae47b",
      "metadata": {
        "id": "900ae47b"
      },
      "outputs": [],
      "source": [
        "X_train = generate_dataset(X_train, tfidfMatrix)"
      ]
    },
    {
      "cell_type": "code",
      "execution_count": 61,
      "id": "5cc96859",
      "metadata": {
        "id": "5cc96859"
      },
      "outputs": [],
      "source": [
        "X_val = generate_dataset(X_val, tfidfMatrixvalid)"
      ]
    },
    {
      "cell_type": "code",
      "execution_count": 62,
      "id": "00520084",
      "metadata": {
        "id": "00520084"
      },
      "outputs": [],
      "source": [
        "X_test = generate_dataset(X_test, tfidfMatrixtest)"
      ]
    },
    {
      "cell_type": "code",
      "execution_count": 63,
      "id": "1d600dc0",
      "metadata": {
        "id": "1d600dc0"
      },
      "outputs": [],
      "source": [
        "X_train = X_train[['comment_weighted_vec', 'parent_weighted_vec']]\n",
        "X_val = X_val[['comment_weighted_vec', 'parent_weighted_vec']]\n",
        "X_test = X_test[['comment_weighted_vec', 'parent_weighted_vec']]"
      ]
    },
    {
      "cell_type": "code",
      "execution_count": 64,
      "id": "3b4a331b",
      "metadata": {
        "id": "3b4a331b"
      },
      "outputs": [],
      "source": [
        "def featurize(dataset):\n",
        "    '''\n",
        "    Expands features into columns\n",
        "    '''\n",
        "    x = pd.DataFrame(dataset['parent_weighted_vec'].tolist(), columns = [i for i in range(300)])\n",
        "    y = pd.DataFrame(dataset['comment_weighted_vec'].tolist(), columns = [i for i in range(300, 600)])\n",
        "    return pd.concat([x, y], axis = 1)"
      ]
    },
    {
      "cell_type": "code",
      "execution_count": 65,
      "id": "28816d29",
      "metadata": {
        "id": "28816d29"
      },
      "outputs": [],
      "source": [
        "X_train = featurize(X_train)\n",
        "X_val = featurize(X_val)\n",
        "X_test = featurize(X_test)"
      ]
    },
    {
      "cell_type": "markdown",
      "source": [
        "## Model - Logistic Regression"
      ],
      "metadata": {
        "id": "ZJpF7z4A96Rd"
      },
      "id": "ZJpF7z4A96Rd"
    },
    {
      "cell_type": "code",
      "execution_count": 66,
      "id": "a690c8dd",
      "metadata": {
        "id": "a690c8dd"
      },
      "outputs": [],
      "source": [
        "# Training logistic regression classifier for 500 max iters to converge. (Doesn't converge on low iterations since high number of features)\n",
        "clf = LogisticRegression(max_iter = 500).fit(X_train, y_train.values.ravel())"
      ]
    },
    {
      "cell_type": "code",
      "execution_count": 67,
      "id": "b3595214",
      "metadata": {
        "colab": {
          "base_uri": "https://localhost:8080/"
        },
        "id": "b3595214",
        "outputId": "302f65d4-3e95-40e6-fcad-35b45f38cf53"
      },
      "outputs": [
        {
          "output_type": "execute_result",
          "data": {
            "text/plain": [
              "0.5957557319878312"
            ]
          },
          "metadata": {},
          "execution_count": 67
        }
      ],
      "source": [
        "# Accuracy on test data\n",
        "clf.score(X_test, y_test)"
      ]
    },
    {
      "cell_type": "code",
      "execution_count": 68,
      "id": "c4d2faa1",
      "metadata": {
        "colab": {
          "base_uri": "https://localhost:8080/"
        },
        "id": "c4d2faa1",
        "outputId": "bd9d0664-a11f-46d8-cc4e-99477449ecc3"
      },
      "outputs": [
        {
          "output_type": "execute_result",
          "data": {
            "text/plain": [
              "0.596349335905617"
            ]
          },
          "metadata": {},
          "execution_count": 68
        }
      ],
      "source": [
        "# Accuracy on validation data\n",
        "clf.score(X_val, y_val)"
      ]
    },
    {
      "cell_type": "code",
      "execution_count": 69,
      "id": "55ad9e9a",
      "metadata": {
        "colab": {
          "base_uri": "https://localhost:8080/"
        },
        "id": "55ad9e9a",
        "outputId": "8f3098a5-7105-437b-e833-863788262ac0"
      },
      "outputs": [
        {
          "output_type": "execute_result",
          "data": {
            "text/plain": [
              "array([1])"
            ]
          },
          "metadata": {},
          "execution_count": 69
        }
      ],
      "source": [
        "# predicting label of first test sample for example.\n",
        "clf.predict(X_test.iloc[2].values.reshape(1,-1))"
      ]
    },
    {
      "cell_type": "markdown",
      "id": "6434cf6e",
      "metadata": {
        "id": "6434cf6e"
      },
      "source": [
        "## Model: Feedforward network"
      ]
    },
    {
      "cell_type": "code",
      "execution_count": 70,
      "id": "efe36d07",
      "metadata": {
        "id": "efe36d07"
      },
      "outputs": [],
      "source": [
        "x_tr = torch.tensor(X_train.iloc[:,0:600].values, dtype= torch.float32)\n",
        "x_val = torch.tensor(X_val.iloc[:,0:600].values, dtype= torch.float32)\n",
        "x_test = torch.tensor(X_test.iloc[:,0:600].values,dtype= torch.float32)\n",
        "y_tr = torch.tensor(list(y_train['label']), dtype= torch.long)\n",
        "y_vali = torch.tensor(list(y_val['label']), dtype= torch.long)\n",
        "y_tst = torch.tensor(list(y_test['label']), dtype= torch.long)"
      ]
    },
    {
      "cell_type": "code",
      "execution_count": 71,
      "id": "1c23309f",
      "metadata": {
        "id": "1c23309f"
      },
      "outputs": [],
      "source": [
        "x_tr = x_tr.to(device)\n",
        "x_val = x_val.to(device)\n",
        "x_test = x_test.to(device)\n",
        "y_tr = y_tr.to(device)\n",
        "y_vali = y_vali.to(device)\n",
        "y_tst = y_tst.to(device)"
      ]
    },
    {
      "cell_type": "code",
      "execution_count": 72,
      "id": "7fb79ac0",
      "metadata": {
        "id": "7fb79ac0"
      },
      "outputs": [],
      "source": [
        "class XY(Dataset):\n",
        "  def __init__(self, x, y):\n",
        "    self.x = x\n",
        "    self.y = y\n",
        "  def __len__(self):\n",
        "    return len(self.y)\n",
        "  def __getitem__(self, i):\n",
        "    return self.x[i], self.y[i]"
      ]
    },
    {
      "cell_type": "code",
      "execution_count": 73,
      "id": "21cafb33",
      "metadata": {
        "id": "21cafb33"
      },
      "outputs": [],
      "source": [
        "trainset = XY(x_tr, y_tr)\n",
        "valset = XY(x_val, y_vali)\n",
        "testset = XY(x_test, y_tst)"
      ]
    },
    {
      "cell_type": "code",
      "execution_count": 74,
      "id": "3cc8be1a",
      "metadata": {
        "id": "3cc8be1a"
      },
      "outputs": [],
      "source": [
        "input_dim = 600\n",
        "hidden_dim = 256\n",
        "num_layers = 2\n",
        "output_dim = 2\n",
        "num_epochs = 100\n",
        "batch_size = 128"
      ]
    },
    {
      "cell_type": "code",
      "execution_count": 75,
      "id": "30edb561",
      "metadata": {
        "id": "30edb561"
      },
      "outputs": [],
      "source": [
        "trainloader = torch.utils.data.DataLoader(trainset, batch_size = batch_size, shuffle=True)\n",
        "valloader = torch.utils.data.DataLoader(valset, batch_size = batch_size, shuffle=True)\n",
        "testloader = torch.utils.data.DataLoader(testset, batch_size = batch_size, shuffle=True)"
      ]
    },
    {
      "cell_type": "code",
      "execution_count": 76,
      "id": "6d0ee1a2",
      "metadata": {
        "id": "6d0ee1a2"
      },
      "outputs": [],
      "source": [
        "# Defining the feedforward model\n",
        "class FFNN(nn.Module):\n",
        "    def __init__(self, layer_num, input_dim, hidden_dim, output_dim):\n",
        "      super(FFNN, self).__init__()\n",
        "      self.layers = []\n",
        "      for i in range(layer_num):\n",
        "        self.layers.append(nn.Linear(input_dim if i == 0 else hidden_dim, hidden_dim))\n",
        "        self.layers.append(nn.ReLU())\n",
        "      self.layers.append(nn.Linear(input_dim if layer_num == 0 else hidden_dim, output_dim))\n",
        "\n",
        "      self.layers = nn.ModuleList(self.layers)\n",
        "    \n",
        "    def forward(self, x):\n",
        "        for layer in self.layers:\n",
        "          x = layer(x)\n",
        "        return x"
      ]
    },
    {
      "cell_type": "code",
      "execution_count": 77,
      "id": "3512215c",
      "metadata": {
        "id": "3512215c"
      },
      "outputs": [],
      "source": [
        "\n",
        "model = FFNN(num_layers, input_dim, hidden_dim, output_dim).to(device)\n",
        "\n",
        "loss_fn = nn.CrossEntropyLoss()\n",
        "optimizer = torch.optim.Adam(model.parameters(), lr=0.001)"
      ]
    },
    {
      "cell_type": "code",
      "execution_count": 78,
      "id": "fb1f6246",
      "metadata": {
        "colab": {
          "base_uri": "https://localhost:8080/"
        },
        "id": "fb1f6246",
        "outputId": "94ea77fb-ea40-410e-e354-e25444eee6a3"
      },
      "outputs": [
        {
          "output_type": "stream",
          "name": "stdout",
          "text": [
            "Epoch completed: 5\n",
            "\tTraining Loss: 0.567\n",
            "\tValidation Loss: 0.616\n",
            "\n",
            "Epoch completed: 10\n",
            "\tTraining Loss: 0.509\n",
            "\tValidation Loss: 0.672\n",
            "\n",
            "Epoch completed: 15\n",
            "\tTraining Loss: 0.465\n",
            "\tValidation Loss: 0.738\n",
            "\n",
            "Epoch completed: 20\n",
            "\tTraining Loss: 0.430\n",
            "\tValidation Loss: 0.837\n",
            "\n",
            "Epoch completed: 25\n",
            "\tTraining Loss: 0.403\n",
            "\tValidation Loss: 0.944\n",
            "\n",
            "Epoch completed: 30\n",
            "\tTraining Loss: 0.382\n",
            "\tValidation Loss: 1.019\n",
            "\n",
            "Epoch completed: 35\n",
            "\tTraining Loss: 0.364\n",
            "\tValidation Loss: 1.136\n",
            "\n",
            "Epoch completed: 40\n",
            "\tTraining Loss: 0.349\n",
            "\tValidation Loss: 1.234\n",
            "\n",
            "Epoch completed: 45\n",
            "\tTraining Loss: 0.335\n",
            "\tValidation Loss: 1.297\n",
            "\n",
            "Epoch completed: 50\n",
            "\tTraining Loss: 0.324\n",
            "\tValidation Loss: 1.401\n",
            "\n",
            "Epoch completed: 55\n",
            "\tTraining Loss: 0.315\n",
            "\tValidation Loss: 1.485\n",
            "\n",
            "Epoch completed: 60\n",
            "\tTraining Loss: 0.306\n",
            "\tValidation Loss: 1.573\n",
            "\n",
            "Epoch completed: 65\n",
            "\tTraining Loss: 0.298\n",
            "\tValidation Loss: 1.648\n",
            "\n",
            "Epoch completed: 70\n",
            "\tTraining Loss: 0.291\n",
            "\tValidation Loss: 1.749\n",
            "\n",
            "Epoch completed: 75\n",
            "\tTraining Loss: 0.283\n",
            "\tValidation Loss: 1.803\n",
            "\n",
            "Epoch completed: 80\n",
            "\tTraining Loss: 0.277\n",
            "\tValidation Loss: 1.894\n",
            "\n",
            "Epoch completed: 85\n",
            "\tTraining Loss: 0.271\n",
            "\tValidation Loss: 1.964\n",
            "\n",
            "Epoch completed: 90\n",
            "\tTraining Loss: 0.266\n",
            "\tValidation Loss: 2.058\n",
            "\n",
            "Epoch completed: 95\n",
            "\tTraining Loss: 0.260\n",
            "\tValidation Loss: 2.107\n",
            "\n",
            "Epoch completed: 100\n",
            "\tTraining Loss: 0.257\n",
            "\tValidation Loss: 2.196\n",
            "\n"
          ]
        }
      ],
      "source": [
        "train_losses = []\n",
        "val_losses = []\n",
        "val_loss_min = math.inf\n",
        "for epoch in range(num_epochs):\n",
        "    train_loss = 0\n",
        "    val_loss = 0\n",
        "    \n",
        "    model.train()\n",
        "    for data, target in trainloader:\n",
        "      data = data.to(device)\n",
        "      target = target.to(device)\n",
        "      output = model(data)\n",
        "      loss = loss_fn(output, target)  \n",
        "      train_loss += loss.item()\n",
        "      optimizer.zero_grad()\n",
        "      loss.backward()\n",
        "      optimizer.step()\n",
        "\n",
        "    model.eval()\n",
        "    for data, target in valloader:\n",
        "      data = data.to(device)\n",
        "      target = target.to(device)\n",
        "      output = model(data)\n",
        "      loss = loss_fn(output, target)\n",
        "      val_loss += loss.item()\n",
        "    \n",
        "    train_losses.append(train_loss/len(trainloader))\n",
        "    val_losses.append(val_loss/len(valloader))\n",
        "\n",
        "    if val_loss <= val_loss_min:\n",
        "      torch.save(model.state_dict(), 'model.pt')\n",
        "      val_loss_min = val_loss\n",
        "    if (epoch + 1) % 5 == 0:\n",
        "      print(\"Epoch completed: \" + str(epoch+1) +\n",
        "            f\"\\n\\tTraining Loss: {train_losses[epoch]:.3f}\" + \n",
        "            f\"\\n\\tValidation Loss: {val_losses[epoch]:.3f}\\n\")"
      ]
    },
    {
      "cell_type": "markdown",
      "source": [
        "#### Feedforward model: Training and prediction results:"
      ],
      "metadata": {
        "id": "EYxJf5nfCwVJ"
      },
      "id": "EYxJf5nfCwVJ"
    },
    {
      "cell_type": "code",
      "source": [
        "plt.plot(list(range(1,len(train_losses) + 1)), train_losses, label = \"Training\")\n",
        "plt.plot(list(range(1,len(val_losses) +1)), val_losses, label = \"Validation\")\n",
        "plt.legend()\n",
        "plt.xlabel(\"Epoch\")\n",
        "plt.ylabel(\"Loss\")\n",
        "plt.show()"
      ],
      "metadata": {
        "colab": {
          "base_uri": "https://localhost:8080/",
          "height": 279
        },
        "id": "7Xn0MI0NCNuj",
        "outputId": "ea996300-db96-42a1-9739-ca81068f4f5d"
      },
      "id": "7Xn0MI0NCNuj",
      "execution_count": 79,
      "outputs": [
        {
          "output_type": "display_data",
          "data": {
            "text/plain": [
              "<Figure size 432x288 with 1 Axes>"
            ],
            "image/png": "[encoded data removed]"
          },
          "metadata": {
            "needs_background": "light"
          }
        }
      ]
    },
    {
      "cell_type": "code",
      "execution_count": 80,
      "id": "ed0ddb9c",
      "metadata": {
        "colab": {
          "base_uri": "https://localhost:8080/"
        },
        "id": "ed0ddb9c",
        "outputId": "4ecd4fbb-8813-4429-d37a-e15d7aca5001"
      },
      "outputs": [
        {
          "output_type": "stream",
          "name": "stdout",
          "text": [
            "              precision    recall  f1-score   support\n",
            "\n",
            "           0       0.67      0.64      0.65    101076\n",
            "           1       0.65      0.68      0.67    101079\n",
            "\n",
            "    accuracy                           0.66    202155\n",
            "   macro avg       0.66      0.66      0.66    202155\n",
            "weighted avg       0.66      0.66      0.66    202155\n",
            "\n"
          ]
        }
      ],
      "source": [
        "from sklearn.metrics import classification_report\n",
        "\n",
        "# On validation set\n",
        "\n",
        "preds = []\n",
        "labels = torch.tensor(list(y_val['label'].values))\n",
        "model = FFNN(2, input_dim, hidden_dim, output_dim)\n",
        "model.load_state_dict(torch.load('model.pt'))\n",
        "with torch.no_grad():\n",
        "    for index, row in X_val.iterrows():\n",
        "        output = model(torch.Tensor(row))\n",
        "        preds.append(torch.argmax(output, dim=0))\n",
        "        \n",
        "print(classification_report(labels, preds))"
      ]
    },
    {
      "cell_type": "code",
      "execution_count": 81,
      "id": "b61ca6a4",
      "metadata": {
        "colab": {
          "base_uri": "https://localhost:8080/"
        },
        "id": "b61ca6a4",
        "outputId": "19b88270-155e-4587-a46e-70a6a9ccb76a"
      },
      "outputs": [
        {
          "output_type": "stream",
          "name": "stdout",
          "text": [
            "              precision    recall  f1-score   support\n",
            "\n",
            "           0       0.67      0.64      0.65    101107\n",
            "           1       0.65      0.69      0.67    101048\n",
            "\n",
            "    accuracy                           0.66    202155\n",
            "   macro avg       0.66      0.66      0.66    202155\n",
            "weighted avg       0.66      0.66      0.66    202155\n",
            "\n"
          ]
        }
      ],
      "source": [
        "# On test set\n",
        "\n",
        "preds = []\n",
        "labels = torch.tensor(list(y_test['label'].values))\n",
        "model = FFNN(2, input_dim, hidden_dim, output_dim)\n",
        "model.load_state_dict(torch.load('model.pt'))\n",
        "with torch.no_grad():\n",
        "    for index, row in X_test.iterrows():\n",
        "        output = model(torch.Tensor(row))\n",
        "        preds.append(torch.argmax(output, dim=0))\n",
        "        \n",
        "print(classification_report(labels, preds))"
      ]
    },
    {
      "cell_type": "markdown",
      "id": "1dce49cc",
      "metadata": {
        "id": "1dce49cc"
      },
      "source": [
        "## Models: LSTMs"
      ]
    },
    {
      "cell_type": "markdown",
      "source": [
        "### Generating zero-padded encoded sequences."
      ],
      "metadata": {
        "id": "iUYyGLlyC--K"
      },
      "id": "iUYyGLlyC--K"
    },
    {
      "cell_type": "code",
      "execution_count": 83,
      "id": "c7dedb5f",
      "metadata": {
        "colab": {
          "base_uri": "https://localhost:8080/"
        },
        "id": "c7dedb5f",
        "outputId": "9cf4a76e-08d5-44cb-e1b1-41b3e74ed41a"
      },
      "outputs": [
        {
          "output_type": "execute_result",
          "data": {
            "text/plain": [
              "count    606463.000000\n",
              "mean         10.465794\n",
              "std           9.733838\n",
              "min           0.000000\n",
              "25%           5.000000\n",
              "50%           9.000000\n",
              "75%          14.000000\n",
              "max        2000.000000\n",
              "dtype: float64"
            ]
          },
          "metadata": {},
          "execution_count": 83
        }
      ],
      "source": [
        "# Survey average length of comments\n",
        "pd.Series([len(x) for x in X_train_copy['comment_tokens']]).describe()"
      ]
    },
    {
      "cell_type": "code",
      "execution_count": 84,
      "id": "cd01914e",
      "metadata": {
        "colab": {
          "base_uri": "https://localhost:8080/"
        },
        "id": "cd01914e",
        "outputId": "e85ba578-ba80-4a16-9dd0-e24d4130669a"
      },
      "outputs": [
        {
          "output_type": "execute_result",
          "data": {
            "text/plain": [
              "count    606463.000000\n",
              "mean         24.453363\n",
              "std          41.903698\n",
              "min           0.000000\n",
              "25%           8.000000\n",
              "50%          14.000000\n",
              "75%          27.000000\n",
              "max        2671.000000\n",
              "dtype: float64"
            ]
          },
          "metadata": {},
          "execution_count": 84
        }
      ],
      "source": [
        "pd.Series([len(x) for x in X_train_copy['parent_comment_tokens']]).describe()"
      ]
    },
    {
      "cell_type": "code",
      "execution_count": 85,
      "id": "b1d6749b",
      "metadata": {
        "id": "b1d6749b"
      },
      "outputs": [],
      "source": [
        "def encode_lstm_training_data(dataset, vocabulary, seq_length):\n",
        "    '''\n",
        "    pads and encodes comments according to vocabulary key to index, sequence length.\n",
        "    Pads with zero if too short, truncates to first seq_length values if too long\n",
        "    '''\n",
        "    new_com, new_par = [], []\n",
        "    \n",
        "    \n",
        "    for i, row in dataset.iterrows():\n",
        "        temp = []\n",
        "        temp_par = []\n",
        "        com = row['comment_tokens']\n",
        "        par = row['parent_comment_tokens']\n",
        "        for token in com :\n",
        "            if token in vocabulary:\n",
        "                temp.append(vocabulary[token])\n",
        "        for token in par :\n",
        "            if token in vocabulary:\n",
        "                temp_par.append(vocabulary[token])\n",
        "        \n",
        "        if len(temp) > seq_length:\n",
        "            temp = temp[:seq_length]\n",
        "        elif len(temp) < seq_length:\n",
        "            temp = [0 for i in range(seq_length - len(temp))] + temp\n",
        "        if len(temp_par) > seq_length:\n",
        "            temp_par = temp_par[:seq_length]\n",
        "        elif len(temp_par) < seq_length:\n",
        "            temp_par = [0 for i in range(seq_length - len(temp_par))] + temp_par\n",
        "        new_com.append(temp_par + temp)\n",
        "\n",
        "    \n",
        "    return pd.DataFrame({'encoded_sequence': new_com})\n",
        "        "
      ]
    },
    {
      "cell_type": "code",
      "execution_count": 86,
      "id": "3867bede",
      "metadata": {
        "id": "3867bede"
      },
      "outputs": [],
      "source": [
        "encoded_x_train = encode_lstm_training_data(X_train_copy, glove_vocab, 30)\n",
        "encoded_x_valid = encode_lstm_training_data(X_val_copy, glove_vocab, 30)\n",
        "encoded_x_test = encode_lstm_training_data(X_test_copy, glove_vocab, 30)"
      ]
    },
    {
      "cell_type": "code",
      "execution_count": 87,
      "id": "1f156978",
      "metadata": {
        "colab": {
          "base_uri": "https://localhost:8080/"
        },
        "id": "1f156978",
        "outputId": "60fc2005-8b40-4bd7-acb0-55ba78ad258f"
      },
      "outputs": [
        {
          "output_type": "execute_result",
          "data": {
            "text/plain": [
              "count    202155.0\n",
              "mean         60.0\n",
              "std           0.0\n",
              "min          60.0\n",
              "25%          60.0\n",
              "50%          60.0\n",
              "75%          60.0\n",
              "max          60.0\n",
              "dtype: float64"
            ]
          },
          "metadata": {},
          "execution_count": 87
        }
      ],
      "source": [
        "pd.Series([len(x) for x in encoded_x_test['encoded_sequence']]).describe()"
      ]
    },
    {
      "cell_type": "code",
      "execution_count": 88,
      "id": "debf5dd1",
      "metadata": {
        "id": "debf5dd1"
      },
      "outputs": [],
      "source": [
        "encoded_x_train2 = pd.DataFrame(encoded_x_train['encoded_sequence'].tolist(), columns = [i for i in range(60)])\n",
        "encoded_x_valid2 = pd.DataFrame(encoded_x_valid['encoded_sequence'].tolist(), columns = [i for i in range(60)])\n",
        "encoded_x_test2 = pd.DataFrame(encoded_x_test['encoded_sequence'].tolist(), columns = [i for i in range(60)])"
      ]
    },
    {
      "cell_type": "code",
      "execution_count": 89,
      "id": "ebd728ef",
      "metadata": {
        "colab": {
          "base_uri": "https://localhost:8080/"
        },
        "id": "ebd728ef",
        "outputId": "639b1473-4911-41b1-9131-a38afa4381e9"
      },
      "outputs": [
        {
          "output_type": "execute_result",
          "data": {
            "text/plain": [
              "array([[     0,      0,      0, ...,      0,      0, 154265],\n",
              "       [     0,      0,      0, ...,  30164,     22,     64],\n",
              "       [     0,      0,  14219, ...,   1136,      4,    743],\n",
              "       ...,\n",
              "       [  3202,      5,     20, ...,     30,      7,    873],\n",
              "       [     0,      0,      0, ...,    192,   2706,  37742],\n",
              "       [     0,      0,      0, ...,     37,    172,   1400]])"
            ]
          },
          "metadata": {},
          "execution_count": 89
        }
      ],
      "source": [
        "encoded_x_test2.values"
      ]
    },
    {
      "cell_type": "code",
      "execution_count": 90,
      "id": "f0f1ecc9",
      "metadata": {
        "id": "f0f1ecc9"
      },
      "outputs": [],
      "source": [
        "x_tr_lstm = torch.tensor(encoded_x_train2.values, dtype= torch.long)\n",
        "x_val_lstm = torch.tensor(encoded_x_valid2.values, dtype= torch.long)\n",
        "x_test_lstm = torch.tensor(encoded_x_test2.values, dtype= torch.long)"
      ]
    },
    {
      "cell_type": "code",
      "execution_count": 91,
      "id": "cd0c95f6",
      "metadata": {
        "id": "cd0c95f6"
      },
      "outputs": [],
      "source": [
        "y_tr_lstm = torch.tensor(list(y_train['label']), dtype= torch.float)\n",
        "y_vali_lstm = torch.tensor(list(y_val['label']), dtype= torch.float)\n",
        "y_tst_lstm = torch.tensor(list(y_test['label']), dtype= torch.float)"
      ]
    },
    {
      "cell_type": "code",
      "execution_count": 92,
      "id": "345a07da",
      "metadata": {
        "id": "345a07da"
      },
      "outputs": [],
      "source": [
        "x_tr_lstm = x_tr_lstm.to(device)\n",
        "x_val_lstm = x_val_lstm.to(device)\n",
        "x_test_lstm = x_test_lstm.to(device)\n",
        "y_tr_lstm = y_tr_lstm.to(device)\n",
        "y_vali_lstm = y_vali_lstm.to(device)\n",
        "y_tst_lstm = y_tst_lstm.to(device)\n"
      ]
    },
    {
      "cell_type": "code",
      "execution_count": 93,
      "id": "b68e3dbf",
      "metadata": {
        "id": "b68e3dbf"
      },
      "outputs": [],
      "source": [
        "trainset_lstm = XY(x_tr_lstm, y_tr_lstm)\n",
        "valset_lstm = XY(x_val_lstm, y_vali_lstm)\n",
        "testset_lstm = XY(x_test_lstm, y_tst_lstm)"
      ]
    },
    {
      "cell_type": "code",
      "execution_count": 94,
      "id": "5217bc85",
      "metadata": {
        "id": "5217bc85"
      },
      "outputs": [],
      "source": [
        "batch_size = 512"
      ]
    },
    {
      "cell_type": "code",
      "execution_count": 95,
      "id": "c761e86c",
      "metadata": {
        "id": "c761e86c"
      },
      "outputs": [],
      "source": [
        "trainloader_lstm = torch.utils.data.DataLoader(trainset_lstm, batch_size = batch_size, shuffle=True)\n",
        "valloader_lstm = torch.utils.data.DataLoader(valset_lstm, batch_size = batch_size, shuffle=True)\n",
        "testloader_lstm = torch.utils.data.DataLoader(testset_lstm, batch_size = batch_size, shuffle=True)"
      ]
    },
    {
      "cell_type": "code",
      "execution_count": 96,
      "id": "08905b61",
      "metadata": {
        "id": "08905b61"
      },
      "outputs": [],
      "source": [
        "def combine_ht(hn):\n",
        "    '''\n",
        "    concatenates the two ht values output by the bi-lstm for encoded sequence \n",
        "    '''\n",
        "    return torch.cat((hn[-2, :, :], hn[-1, :, :]), dim = 1)\n",
        "\n",
        "class LSTM(nn.Module):\n",
        "    '''\n",
        "    Class defining the Bi-LSTM model with pre-trained embeddings, stacked bi-lstm layer,\n",
        "    with dropout, linear layer and final sigmoid activation \n",
        "    '''\n",
        "    \n",
        "    def __init__(self, hidden_units, num_layers, v_n):\n",
        "        super().__init__()\n",
        "        self.embedding = nn.Embedding.from_pretrained(torch.FloatTensor(glove.vectors))\n",
        "        self.lstmlayer = nn.LSTM(300, hidden_units, num_layers = num_layers , dropout = 0.3, batch_first = True, bidirectional = True)\n",
        "        #self.dropout = nn.Dropout(0.2)\n",
        "        self.linear = nn.Linear(hidden_units * 2 , 1)\n",
        "        self.sigmoid = nn.Sigmoid()\n",
        "    \n",
        "    def forward(self, x):\n",
        "        x = self.embedding(x)\n",
        "        out, (hn, cn) = self.lstmlayer(x)\n",
        "        x = self.linear(combine_ht(hn))\n",
        "        x = self.sigmoid(x)\n",
        "        \n",
        "        return x\n",
        "        \n",
        "class LSTM_Attention(nn.Module):\n",
        "    '''\n",
        "    Adds multiplicative attention to above model.\n",
        "    '''\n",
        "    \n",
        "    def __init__(self, hidden_units, num_layers, v_n):\n",
        "        super().__init__()\n",
        "        self.embedding = nn.Embedding.from_pretrained(torch.FloatTensor(glove.vectors))\n",
        "        self.lstmlayer = nn.LSTM(300, hidden_units, num_layers = num_layers , dropout = 0.3, batch_first = True, bidirectional = True)\n",
        "        self.attention_linear = nn.Linear(hidden_units * 2, 1)\n",
        "        self.tanh = nn.Tanh()\n",
        "        self.softmax = nn.Softmax(dim = 1)\n",
        "        #self.dropout = nn.Dropout(0.2)\n",
        "        self.linear = nn.Linear(hidden_units * 2 , 1)\n",
        "        self.sigmoid = nn.Sigmoid()\n",
        "    \n",
        "    def forward(self, x):\n",
        "        x = self.embedding(x)\n",
        "        out, (hn, cn) = self.lstmlayer(x)\n",
        "        combined_h = combine_ht(hn)\n",
        "        attention_weights = self.attention_linear(combined_h)\n",
        "        attention_weights = self.tanh(attention_weights)\n",
        "        attention_weights = self.softmax(attention_weights)\n",
        "        new_combined_h = attention_weights * combined_h\n",
        "        x = self.linear(new_combined_h)\n",
        "        x = self.sigmoid(x)\n",
        "        \n",
        "        return x\n",
        "\n",
        "        "
      ]
    },
    {
      "cell_type": "code",
      "execution_count": 97,
      "id": "55326093",
      "metadata": {
        "id": "55326093"
      },
      "outputs": [],
      "source": [
        "# Hyperparameter definitions\n",
        "vocab_size = len(glove_vocab)\n",
        "hidden_units = 128\n",
        "num_layers = 2\n",
        "learning_rate = 0.001\n",
        "epochs = 10"
      ]
    },
    {
      "cell_type": "markdown",
      "source": [
        "### Bi-LSTM Model "
      ],
      "metadata": {
        "id": "rXuQNYTGEDOJ"
      },
      "id": "rXuQNYTGEDOJ"
    },
    {
      "cell_type": "code",
      "execution_count": null,
      "id": "2f979a9e",
      "metadata": {
        "id": "2f979a9e"
      },
      "outputs": [],
      "source": [
        "LSTMModel = LSTM(hidden_units, num_layers, vocab_size).to(device)"
      ]
    },
    {
      "cell_type": "code",
      "execution_count": null,
      "id": "60109599",
      "metadata": {
        "colab": {
          "base_uri": "https://localhost:8080/"
        },
        "id": "60109599",
        "outputId": "2cd08170-4343-4800-ccc7-06523208f4ba"
      },
      "outputs": [
        {
          "output_type": "stream",
          "name": "stdout",
          "text": [
            "LSTM(\n",
            "  (embedding): Embedding(400000, 300)\n",
            "  (lstmlayer): LSTM(300, 128, num_layers=2, batch_first=True, dropout=0.3, bidirectional=True)\n",
            "  (linear): Linear(in_features=256, out_features=1, bias=True)\n",
            "  (sigmoid): Sigmoid()\n",
            ")\n"
          ]
        }
      ],
      "source": [
        "print(LSTMModel)"
      ]
    },
    {
      "cell_type": "code",
      "execution_count": null,
      "id": "aab2409e",
      "metadata": {
        "id": "aab2409e"
      },
      "outputs": [],
      "source": [
        "optimizer = torch.optim.Adam(LSTMModel.parameters(), lr = learning_rate)\n",
        "loss_fn = nn.BCELoss()"
      ]
    },
    {
      "cell_type": "code",
      "execution_count": null,
      "id": "66487a83",
      "metadata": {
        "id": "66487a83"
      },
      "outputs": [],
      "source": [
        "def train_lstm(model, epochs):\n",
        "    \n",
        "    #model.train()\n",
        "    train_losses = []\n",
        "    valid_losses = []\n",
        "    minval = math.inf\n",
        "    \n",
        "    for epoch in range(epochs):\n",
        "        t_loss = 0\n",
        "        v_loss = 0\n",
        "        model.train()\n",
        "        for sequence, label in trainloader_lstm:\n",
        "            \n",
        "            sequence = sequence.to(device)\n",
        "            label = label.to(device)\n",
        "            #print(label.shape)\n",
        "            output = model(sequence)\n",
        "            #print(torch.round(output))\n",
        "            loss = loss_fn(output.squeeze(), label)\n",
        "            t_loss += loss.item()\n",
        "            optimizer.zero_grad()\n",
        "            loss.backward()\n",
        "            nn.utils.clip_grad_norm_(model.parameters(), 5)\n",
        "            optimizer.step()\n",
        "            #print(\"One batch done\")\n",
        "        \n",
        "        model.eval()\n",
        "        for sequence, label in valloader_lstm:\n",
        "            \n",
        "            sequence = sequence.to(device)\n",
        "            label = label.to(device)\n",
        "            \n",
        "            output = model(sequence)\n",
        "            loss = loss_fn(output.squeeze(), label)\n",
        "            v_loss += loss.item()\n",
        "        \n",
        "        \n",
        "        train_losses.append(t_loss/len(trainloader_lstm))\n",
        "        valid_losses.append(v_loss/len(valloader_lstm))\n",
        "    \n",
        "        print(\"Epoch \", (epoch+1), \" Train loss: \", t_loss/len(trainloader_lstm), \" Validation loss: \", v_loss/len(valloader_lstm))\n",
        "        if v_loss <= minval:\n",
        "          torch.save(model.state_dict(), 'lstmmodel.pt')\n",
        "          minval = v_loss \n",
        "        \n",
        "    return train_losses, valid_losses\n",
        "            \n",
        "            \n",
        "            \n",
        "            \n",
        "            \n",
        "        \n",
        "            "
      ]
    },
    {
      "cell_type": "code",
      "execution_count": null,
      "id": "0d7c5950",
      "metadata": {
        "colab": {
          "base_uri": "https://localhost:8080/"
        },
        "id": "0d7c5950",
        "outputId": "07e32c73-d149-4e8e-e16f-b10985efbd41"
      },
      "outputs": [
        {
          "output_type": "stream",
          "name": "stdout",
          "text": [
            "Epoch  1  Train loss:  0.5902125573359461  Validation loss:  0.5576232962970492\n",
            "Epoch  2  Train loss:  0.5462968363037592  Validation loss:  0.5434453334989428\n",
            "Epoch  3  Train loss:  0.5273659183254725  Validation loss:  0.5330335725711871\n",
            "Epoch  4  Train loss:  0.5115474679047548  Validation loss:  0.5302296901051002\n",
            "Epoch  5  Train loss:  0.49592136597331565  Validation loss:  0.530509033836896\n",
            "Epoch  6  Train loss:  0.47999272950087923  Validation loss:  0.5342805554595175\n",
            "Epoch  7  Train loss:  0.4627102090588099  Validation loss:  0.5407699024375481\n",
            "Epoch  8  Train loss:  0.44470288107163797  Validation loss:  0.5546572460403926\n",
            "Epoch  9  Train loss:  0.42543453687353977  Validation loss:  0.5688464723055876\n",
            "Epoch  10  Train loss:  0.4067065224868839  Validation loss:  0.5860718282717693\n",
            "Epoch  11  Train loss:  0.386707572293181  Validation loss:  0.6089618912226037\n",
            "Epoch  12  Train loss:  0.3675020375332249  Validation loss:  0.634871585233302\n",
            "Epoch  13  Train loss:  0.34958601299720476  Validation loss:  0.6568713372266746\n",
            "Epoch  14  Train loss:  0.3334194529157148  Validation loss:  0.6764612145061735\n",
            "Epoch  15  Train loss:  0.3174253135919571  Validation loss:  0.7050437282912339\n",
            "Epoch  16  Train loss:  0.30348801549979904  Validation loss:  0.7350095486339134\n",
            "Epoch  17  Train loss:  0.2900376625830614  Validation loss:  0.7803557192222982\n",
            "Epoch  18  Train loss:  0.27737080911292306  Validation loss:  0.8238224447528019\n",
            "Epoch  19  Train loss:  0.2666577523519218  Validation loss:  0.806924316551112\n",
            "Epoch  20  Train loss:  0.2564263196685646  Validation loss:  0.8751243778421909\n"
          ]
        }
      ],
      "source": [
        "lstm_t_losses, lstm_v_losses = train_lstm(LSTMModel, 20)"
      ]
    },
    {
      "cell_type": "markdown",
      "source": [
        "### Bi-LSTM - Results and inference\n",
        "\n"
      ],
      "metadata": {
        "id": "H9qta5DYEKO0"
      },
      "id": "H9qta5DYEKO0"
    },
    {
      "cell_type": "code",
      "execution_count": null,
      "id": "ed0ee289",
      "metadata": {
        "id": "ed0ee289"
      },
      "outputs": [],
      "source": [
        "evalmodel = LSTM(hidden_units, num_layers, vocab_size).to(device)\n",
        "evalmodel.load_state_dict(torch.load('lstmmodel.pt'))\n",
        "\n",
        "preds = []\n",
        "labels = []\n",
        "evalmodel.eval()\n",
        "with torch.no_grad():\n",
        "    for sequences, label in testloader_lstm:\n",
        "        output = evalmodel(sequences)\n",
        "        preds = preds + torch.round(output.squeeze()).tolist()\n",
        "        labels = labels + label.tolist()\n",
        "        "
      ]
    },
    {
      "cell_type": "code",
      "source": [
        "preds2 = []\n",
        "labels2 = []\n",
        "\n",
        "with torch.no_grad():\n",
        "    for sequences, label in valloader_lstm:\n",
        "        output = evalmodel(sequences)\n",
        "        preds2 = preds2 + torch.round(output.squeeze()).tolist()\n",
        "        labels2 = labels2 + label.tolist()"
      ],
      "metadata": {
        "id": "1wfKnzH2Axs1"
      },
      "id": "1wfKnzH2Axs1",
      "execution_count": null,
      "outputs": []
    },
    {
      "cell_type": "code",
      "source": [
        "# On test set\n",
        "classification_report(labels, preds)"
      ],
      "metadata": {
        "colab": {
          "base_uri": "https://localhost:8080/",
          "height": 53
        },
        "id": "cue77sb0XAcN",
        "outputId": "1695e882-3bc9-4e37-c2de-c6a41bd331d2"
      },
      "id": "cue77sb0XAcN",
      "execution_count": null,
      "outputs": [
        {
          "output_type": "execute_result",
          "data": {
            "text/plain": [
              "'              precision    recall  f1-score   support\\n\\n         0.0       0.71      0.79      0.75    101283\\n         1.0       0.76      0.67      0.71    100872\\n\\n    accuracy                           0.73    202155\\n   macro avg       0.73      0.73      0.73    202155\\nweighted avg       0.73      0.73      0.73    202155\\n'"
            ],
            "application/vnd.google.colaboratory.intrinsic+json": {
              "type": "string"
            }
          },
          "metadata": {},
          "execution_count": 169
        }
      ]
    },
    {
      "cell_type": "code",
      "source": [
        "# prediction of validation set\n",
        "classification_report(labels2, preds2)"
      ],
      "metadata": {
        "colab": {
          "base_uri": "https://localhost:8080/",
          "height": 53
        },
        "id": "oXlEJGV-BC1W",
        "outputId": "7bd2cf17-1558-43ff-ae68-aaae5efffdb6"
      },
      "id": "oXlEJGV-BC1W",
      "execution_count": null,
      "outputs": [
        {
          "output_type": "execute_result",
          "data": {
            "text/plain": [
              "'              precision    recall  f1-score   support\\n\\n         0.0       0.71      0.79      0.75    100720\\n         1.0       0.76      0.67      0.72    101435\\n\\n    accuracy                           0.73    202155\\n   macro avg       0.74      0.73      0.73    202155\\nweighted avg       0.74      0.73      0.73    202155\\n'"
            ],
            "application/vnd.google.colaboratory.intrinsic+json": {
              "type": "string"
            }
          },
          "metadata": {},
          "execution_count": 176
        }
      ]
    },
    {
      "cell_type": "code",
      "source": [
        "plt.plot(lstm_t_losses, label = \"Training loss\")\n",
        "plt.plot(lstm_v_losses, label = \"Validation loss\")\n",
        "plt.legend()\n",
        "plt.xlabel(\"Epoch\")\n",
        "plt.ylabel(\"Loss\")\n",
        "plt.show()"
      ],
      "metadata": {
        "colab": {
          "base_uri": "https://localhost:8080/",
          "height": 281
        },
        "id": "_s6ztoDNe5y0",
        "outputId": "738b9230-06ff-449e-ce73-e3aca4563c91"
      },
      "id": "_s6ztoDNe5y0",
      "execution_count": null,
      "outputs": [
        {
          "output_type": "display_data",
          "data": {
            "text/plain": [
              "<Figure size 432x288 with 1 Axes>"
            ],
            "image/png": "[encoded data removed]"
          },
          "metadata": {
            "needs_background": "light"
          }
        }
      ]
    },
    {
      "cell_type": "code",
      "source": [
        "plt.plot(lstm_t_losses[:10], label = \"Training loss\")\n",
        "plt.plot(lstm_v_losses[:10], label = \"Validation loss\")\n",
        "plt.legend()\n",
        "plt.xlabel(\"Epoch\")\n",
        "plt.ylabel(\"Loss\")\n",
        "plt.show()"
      ],
      "metadata": {
        "colab": {
          "base_uri": "https://localhost:8080/",
          "height": 279
        },
        "id": "6OnstwGDrtBh",
        "outputId": "d117223e-63ac-43bd-fff5-6c50eeca469b"
      },
      "id": "6OnstwGDrtBh",
      "execution_count": null,
      "outputs": [
        {
          "output_type": "display_data",
          "data": {
            "text/plain": [
              "<Figure size 432x288 with 1 Axes>"
            ],
            "image/png": "[encoded data removed]"
          },
          "metadata": {
            "needs_background": "light"
          }
        }
      ]
    },
    {
      "cell_type": "markdown",
      "source": [
        "### Attention - Bi-LSTM model : training"
      ],
      "metadata": {
        "id": "S-_aneZ-whwf"
      },
      "id": "S-_aneZ-whwf"
    },
    {
      "cell_type": "code",
      "source": [
        "AttentionLSTMModel = LSTM_Attention(hidden_units, num_layers, vocab_size).to(device)"
      ],
      "metadata": {
        "id": "nZVpv2S8EYQO"
      },
      "id": "nZVpv2S8EYQO",
      "execution_count": 98,
      "outputs": []
    },
    {
      "cell_type": "code",
      "source": [
        "optimizer = torch.optim.Adam(AttentionLSTMModel.parameters(), lr = learning_rate)\n",
        "loss_fn = nn.BCELoss()"
      ],
      "metadata": {
        "id": "WuP8tHIkEr4U"
      },
      "id": "WuP8tHIkEr4U",
      "execution_count": 99,
      "outputs": []
    },
    {
      "cell_type": "code",
      "source": [
        "def train_lstm_attention(model, epochs):\n",
        "    \n",
        "    #model.train()\n",
        "    train_losses = []\n",
        "    valid_losses = []\n",
        "    minval = math.inf\n",
        "    \n",
        "    for epoch in range(epochs):\n",
        "        t_loss = 0\n",
        "        v_loss = 0\n",
        "        model.train()\n",
        "        for sequence, label in trainloader_lstm:\n",
        "            \n",
        "            sequence = sequence.to(device)\n",
        "            label = label.to(device)\n",
        "            #print(label.shape)\n",
        "            output = model(sequence)\n",
        "            #print(torch.round(output))\n",
        "            loss = loss_fn(output.squeeze(), label)\n",
        "            t_loss += loss.item()\n",
        "            optimizer.zero_grad()\n",
        "            loss.backward()\n",
        "            nn.utils.clip_grad_norm_(model.parameters(), 5)\n",
        "            optimizer.step()\n",
        "            #print(\"One batch done\")\n",
        "        \n",
        "        model.eval()\n",
        "        for sequence, label in valloader_lstm:\n",
        "            \n",
        "            sequence = sequence.to(device)\n",
        "            label = label.to(device)\n",
        "            \n",
        "            output = model(sequence)\n",
        "            loss = loss_fn(output.squeeze(), label)\n",
        "            v_loss += loss.item()\n",
        "        \n",
        "        \n",
        "        train_losses.append(t_loss/len(trainloader_lstm))\n",
        "        valid_losses.append(v_loss/len(valloader_lstm))\n",
        "    \n",
        "        print(\"Epoch \", (epoch+1), \" Train loss: \", t_loss/len(trainloader_lstm), \" Validation loss: \", v_loss/len(valloader_lstm))\n",
        "        if v_loss <= minval:\n",
        "          torch.save(model.state_dict(), 'lstmmodel2.pt')\n",
        "          minval = v_loss \n",
        "        \n",
        "    return train_losses, valid_losses\n",
        "            "
      ],
      "metadata": {
        "id": "aCuNJ3VFEr6p"
      },
      "id": "aCuNJ3VFEr6p",
      "execution_count": 100,
      "outputs": []
    },
    {
      "cell_type": "code",
      "source": [
        "attention_lstm_t_losses, attention_lstm_v_losses = train_lstm_attention(AttentionLSTMModel, 5)"
      ],
      "metadata": {
        "colab": {
          "base_uri": "https://localhost:8080/"
        },
        "id": "AhslqnzaEr8z",
        "outputId": "cdced20e-d196-4907-8100-76c7a8c191d7"
      },
      "id": "AhslqnzaEr8z",
      "execution_count": 101,
      "outputs": [
        {
          "output_type": "stream",
          "name": "stdout",
          "text": [
            "Epoch  1  Train loss:  0.5919497729353764  Validation loss:  0.5594098922572558\n",
            "Epoch  2  Train loss:  0.5478750209516614  Validation loss:  0.5461588034146949\n",
            "Epoch  3  Train loss:  0.5291803189722295  Validation loss:  0.5389906607096708\n",
            "Epoch  4  Train loss:  0.5139312767278293  Validation loss:  0.5297768428355832\n",
            "Epoch  5  Train loss:  0.4985856267218851  Validation loss:  0.530596051035048\n"
          ]
        }
      ]
    },
    {
      "cell_type": "markdown",
      "source": [
        "### Bi-LSTM with attention: Results and inference"
      ],
      "metadata": {
        "id": "wNJ2t_3aEsAw"
      },
      "id": "wNJ2t_3aEsAw"
    },
    {
      "cell_type": "code",
      "source": [
        "evalmodel = LSTM_Attention(hidden_units, num_layers, vocab_size).to(device)\n",
        "evalmodel.load_state_dict(torch.load('lstmmodel2.pt'))\n",
        "\n",
        "preds = []\n",
        "labels = []\n",
        "evalmodel.eval()\n",
        "with torch.no_grad():\n",
        "    for sequences, label in testloader_lstm:\n",
        "        output = evalmodel(sequences)\n",
        "        preds = preds + torch.round(output.squeeze()).tolist()\n",
        "        labels = labels + label.tolist()\n",
        "        "
      ],
      "metadata": {
        "id": "tBPiKJH9EsCu"
      },
      "id": "tBPiKJH9EsCu",
      "execution_count": 102,
      "outputs": []
    },
    {
      "cell_type": "code",
      "source": [
        "print(classification_report(labels, preds))"
      ],
      "metadata": {
        "colab": {
          "base_uri": "https://localhost:8080/"
        },
        "id": "AYDS-L4WEsEi",
        "outputId": "bc5f9980-aa7e-479e-8797-c8637c5597fb"
      },
      "id": "AYDS-L4WEsEi",
      "execution_count": 105,
      "outputs": [
        {
          "output_type": "stream",
          "name": "stdout",
          "text": [
            "              precision    recall  f1-score   support\n",
            "\n",
            "         0.0       0.72      0.76      0.74    101107\n",
            "         1.0       0.75      0.70      0.72    101048\n",
            "\n",
            "    accuracy                           0.73    202155\n",
            "   macro avg       0.73      0.73      0.73    202155\n",
            "weighted avg       0.73      0.73      0.73    202155\n",
            "\n"
          ]
        }
      ]
    },
    {
      "cell_type": "code",
      "source": [
        "plt.plot(attention_lstm_t_losses, label = \"Training loss\")\n",
        "plt.plot(attention_lstm_v_losses, label = \"Validation loss\")\n",
        "plt.legend()\n",
        "plt.xlabel(\"Epoch\")\n",
        "plt.ylabel(\"Loss\")\n",
        "plt.show()"
      ],
      "metadata": {
        "colab": {
          "base_uri": "https://localhost:8080/",
          "height": 279
        },
        "id": "QlFHaUmUGAM7",
        "outputId": "f6dfc3ce-9324-4389-f957-aba52f3bda7d"
      },
      "id": "QlFHaUmUGAM7",
      "execution_count": 104,
      "outputs": [
        {
          "output_type": "display_data",
          "data": {
            "text/plain": [
              "<Figure size 432x288 with 1 Axes>"
            ],
            "image/png": "[encoded data removed]"
          },
          "metadata": {
            "needs_background": "light"
          }
        }
      ]
    }
  ],
  "metadata": {
    "accelerator": "GPU",
    "colab": {
      "machine_shape": "hm",
      "name": "Sarcasm Detection.ipynb",
      "provenance": [],
      "collapsed_sections": []
    },
    "kernelspec": {
      "display_name": "Python 3 (ipykernel)",
      "language": "python",
      "name": "python3"
    },
    "language_info": {
      "codemirror_mode": {
        "name": "ipython",
        "version": 3
      },
      "file_extension": ".py",
      "mimetype": "text/x-python",
      "name": "python",
      "nbconvert_exporter": "python",
      "pygments_lexer": "ipython3",
      "version": "3.9.6"
    }
  },
  "nbformat": 4,
  "nbformat_minor": 5
}