{
 "cells": [
  {
   "cell_type": "markdown",
   "id": "ead11495",
   "metadata": {},
   "source": [
    "# CS6140 Project - Detection Of Sarcasm In Text"
   ]
  },
  {
   "cell_type": "markdown",
   "id": "6f775377",
   "metadata": {},
   "source": [
    "## 1. Data Preprocessing"
   ]
  },
  {
   "cell_type": "code",
   "execution_count": 25,
   "id": "8b434d61",
   "metadata": {},
   "outputs": [],
   "source": [
    "import pandas as pd\n",
    "import numpy as np\n",
    "import matplotlib.pyplot as plt\n",
    "import nltk\n",
    "from nltk.corpus import stopwords\n",
    "from nltk.tokenize import wordpunct_tokenize\n",
    "from nltk.stem import WordNetLemmatizer\n",
    "import re\n",
    "import gensim\n",
    "from gensim.models import Word2Vec\n",
    "import sklearn\n",
    "from sklearn.feature_extraction.text import TfidfVectorizer"
   ]
  },
  {
   "cell_type": "code",
   "execution_count": 16,
   "id": "50b389d4",
   "metadata": {},
   "outputs": [
    {
     "name": "stderr",
     "output_type": "stream",
     "text": [
      "[nltk_data] Downloading package wordnet to /Users/jackist/nltk_data...\n",
      "[nltk_data]   Package wordnet is already up-to-date!\n",
      "[nltk_data] Downloading package omw-1.4 to /Users/jackist/nltk_data...\n",
      "[nltk_data]   Unzipping corpora/omw-1.4.zip.\n"
     ]
    },
    {
     "data": {
      "text/plain": "True"
     },
     "execution_count": 16,
     "metadata": {},
     "output_type": "execute_result"
    }
   ],
   "source": [
    "# Run these if not up to date\n",
    "# nltk.download('stopwords')\n",
    "# nltk.download('punkt')\n",
    "nltk.download('wordnet')\n",
    "nltk.download('omw-1.4')"
   ]
  },
  {
   "cell_type": "code",
   "execution_count": 2,
   "id": "65d44928",
   "metadata": {},
   "outputs": [],
   "source": [
    "data = pd.read_csv(\"train-balanced-sarcasm.csv\")"
   ]
  },
  {
   "cell_type": "code",
   "execution_count": 3,
   "id": "f1a7d4a5",
   "metadata": {},
   "outputs": [],
   "source": [
    "data = data[['label', 'comment', 'subreddit', 'score', 'parent_comment']]"
   ]
  },
  {
   "cell_type": "code",
   "execution_count": 4,
   "id": "e7d40f5c",
   "metadata": {},
   "outputs": [
    {
     "data": {
      "text/plain": "   label                                            comment  \\\n0      0                                         NC and NH.   \n1      0  You do know west teams play against west teams...   \n2      0  They were underdogs earlier today, but since G...   \n3      0  This meme isn't funny none of the \"new york ni...   \n4      0                    I could use one of those tools.   \n5      0  I don't pay attention to her, but as long as s...   \n6      0      Trick or treating in general is just weird...   \n7      0                    Blade Mastery+Masamune or GTFO!   \n8      0  You don't have to, you have a good build, buy ...   \n9      0                  I would love to see him at lolla.   \n\n            subreddit  score  \\\n0            politics      2   \n1                 nba     -4   \n2                 nfl      3   \n3  BlackPeopleTwitter     -8   \n4  MaddenUltimateTeam      6   \n5           AskReddit      0   \n6           AskReddit      1   \n7       FFBraveExvius      2   \n8        pcmasterrace      1   \n9        Lollapalooza      2   \n\n                                      parent_comment  \n0  Yeah, I get that argument. At this point, I'd ...  \n1  The blazers and Mavericks (The wests 5 and 6 s...  \n2                            They're favored to win.  \n3                         deadass don't kill my buzz  \n4  Yep can confirm I saw the tool they use for th...  \n5                   do you find ariana grande sexy ?  \n6  What's your weird or unsettling Trick or Treat...  \n7  Probably Sephiroth. I refuse to taint his grea...  \n8  What to upgrade? I have $500 to spend (mainly ...  \n9  Probably count Kanye out Since the rest of his...  ",
      "text/html": "<div>\n<style scoped>\n    .dataframe tbody tr th:only-of-type {\n        vertical-align: middle;\n    }\n\n    .dataframe tbody tr th {\n        vertical-align: top;\n    }\n\n    .dataframe thead th {\n        text-align: right;\n    }\n</style>\n<table border=\"1\" class=\"dataframe\">\n  <thead>\n    <tr style=\"text-align: right;\">\n      <th></th>\n      <th>label</th>\n      <th>comment</th>\n      <th>subreddit</th>\n      <th>score</th>\n      <th>parent_comment</th>\n    </tr>\n  </thead>\n  <tbody>\n    <tr>\n      <th>0</th>\n      <td>0</td>\n      <td>NC and NH.</td>\n      <td>politics</td>\n      <td>2</td>\n      <td>Yeah, I get that argument. At this point, I'd ...</td>\n    </tr>\n    <tr>\n      <th>1</th>\n      <td>0</td>\n      <td>You do know west teams play against west teams...</td>\n      <td>nba</td>\n      <td>-4</td>\n      <td>The blazers and Mavericks (The wests 5 and 6 s...</td>\n    </tr>\n    <tr>\n      <th>2</th>\n      <td>0</td>\n      <td>They were underdogs earlier today, but since G...</td>\n      <td>nfl</td>\n      <td>3</td>\n      <td>They're favored to win.</td>\n    </tr>\n    <tr>\n      <th>3</th>\n      <td>0</td>\n      <td>This meme isn't funny none of the \"new york ni...</td>\n      <td>BlackPeopleTwitter</td>\n      <td>-8</td>\n      <td>deadass don't kill my buzz</td>\n    </tr>\n    <tr>\n      <th>4</th>\n      <td>0</td>\n      <td>I could use one of those tools.</td>\n      <td>MaddenUltimateTeam</td>\n      <td>6</td>\n      <td>Yep can confirm I saw the tool they use for th...</td>\n    </tr>\n    <tr>\n      <th>5</th>\n      <td>0</td>\n      <td>I don't pay attention to her, but as long as s...</td>\n      <td>AskReddit</td>\n      <td>0</td>\n      <td>do you find ariana grande sexy ?</td>\n    </tr>\n    <tr>\n      <th>6</th>\n      <td>0</td>\n      <td>Trick or treating in general is just weird...</td>\n      <td>AskReddit</td>\n      <td>1</td>\n      <td>What's your weird or unsettling Trick or Treat...</td>\n    </tr>\n    <tr>\n      <th>7</th>\n      <td>0</td>\n      <td>Blade Mastery+Masamune or GTFO!</td>\n      <td>FFBraveExvius</td>\n      <td>2</td>\n      <td>Probably Sephiroth. I refuse to taint his grea...</td>\n    </tr>\n    <tr>\n      <th>8</th>\n      <td>0</td>\n      <td>You don't have to, you have a good build, buy ...</td>\n      <td>pcmasterrace</td>\n      <td>1</td>\n      <td>What to upgrade? I have $500 to spend (mainly ...</td>\n    </tr>\n    <tr>\n      <th>9</th>\n      <td>0</td>\n      <td>I would love to see him at lolla.</td>\n      <td>Lollapalooza</td>\n      <td>2</td>\n      <td>Probably count Kanye out Since the rest of his...</td>\n    </tr>\n  </tbody>\n</table>\n</div>"
     },
     "execution_count": 4,
     "metadata": {},
     "output_type": "execute_result"
    }
   ],
   "source": [
    "data.head(10)"
   ]
  },
  {
   "cell_type": "code",
   "execution_count": 5,
   "id": "80f02bff",
   "metadata": {},
   "outputs": [
    {
     "data": {
      "text/plain": "label              0\ncomment           53\nsubreddit          0\nscore              0\nparent_comment     0\ndtype: int64"
     },
     "execution_count": 5,
     "metadata": {},
     "output_type": "execute_result"
    }
   ],
   "source": [
    "data.isna().sum()"
   ]
  },
  {
   "cell_type": "code",
   "execution_count": 6,
   "id": "de29e50d",
   "metadata": {},
   "outputs": [],
   "source": [
    "data = data.dropna(axis=0)"
   ]
  },
  {
   "cell_type": "code",
   "execution_count": 7,
   "id": "95a447af",
   "metadata": {},
   "outputs": [
    {
     "data": {
      "text/plain": "label             0\ncomment           0\nsubreddit         0\nscore             0\nparent_comment    0\ndtype: int64"
     },
     "execution_count": 7,
     "metadata": {},
     "output_type": "execute_result"
    }
   ],
   "source": [
    "data.isna().sum()"
   ]
  },
  {
   "cell_type": "code",
   "execution_count": 9,
   "id": "2c0dc030",
   "metadata": {},
   "outputs": [],
   "source": [
    "data['comment_tokens'] = data['comment']\n",
    "data['comment_tokens'] = data['comment_tokens'].str.lower()\n",
    "data['comment_tokens'] = data['comment_tokens'].str.replace('[^\\w\\s]','', regex = True)\n",
    "data['comment_tokens'] = data['comment_tokens'].str.replace('can\\'t','can not',regex = True)\n",
    "data['comment_tokens'] = data['comment_tokens'].str.replace('\\'d',' would',regex = True)\n",
    "data['comment_tokens'] = data['comment_tokens'].str.replace('wouldn\\'t','would not',regex = True)\n",
    "data['comment_tokens'] = data['comment_tokens'].str.replace('couldn\\'t','could not',regex = True)"
   ]
  },
  {
   "cell_type": "code",
   "execution_count": 10,
   "outputs": [],
   "source": [
    "data['parent_comment_tokens'] = data['parent_comment']\n",
    "data['parent_comment_tokens'] = data['parent_comment_tokens'].str.lower()\n",
    "data['parent_comment_tokens'] = data['parent_comment_tokens'].str.replace('[^\\w\\s]','', regex = True)\n",
    "data['parent_comment_tokens'] = data['parent_comment_tokens'].str.replace('can\\'t','can not',regex = True)\n",
    "data['parent_comment_tokens'] = data['parent_comment_tokens'].str.replace('\\'d',' would',regex = True)\n",
    "data['parent_comment_tokens'] = data['parent_comment_tokens'].str.replace('wouldn\\'t','would not',regex = True)\n",
    "data['parent_comment_tokens'] = data['parent_comment_tokens'].str.replace('couldn\\'t','could not',regex = True)"
   ],
   "metadata": {
    "collapsed": false,
    "pycharm": {
     "name": "#%%\n"
    }
   }
  },
  {
   "cell_type": "code",
   "execution_count": 12,
   "id": "d7a3ec18",
   "metadata": {},
   "outputs": [],
   "source": [
    "lemma = WordNetLemmatizer()\n",
    "def apply_lemmatizer(sentence):\n",
    "    return [lemma.lemmatize(token) for token in wordpunct_tokenize(sentence)]"
   ]
  },
  {
   "cell_type": "code",
   "execution_count": 17,
   "outputs": [],
   "source": [
    "data[\"comment_tokens\"] = data.comment_tokens.apply(apply_lemmatizer)\n",
    "data[\"parent_comment_tokens\"] = data.parent_comment_tokens.apply(apply_lemmatizer)"
   ],
   "metadata": {
    "collapsed": false,
    "pycharm": {
     "name": "#%%\n"
    }
   }
  },
  {
   "cell_type": "code",
   "execution_count": 22,
   "id": "f971fd31",
   "metadata": {},
   "outputs": [
    {
     "data": {
      "text/plain": "                                             comment  \\\n0                                         NC and NH.   \n1  You do know west teams play against west teams...   \n2  They were underdogs earlier today, but since G...   \n3  This meme isn't funny none of the \"new york ni...   \n4                    I could use one of those tools.   \n5  I don't pay attention to her, but as long as s...   \n6      Trick or treating in general is just weird...   \n7                    Blade Mastery+Masamune or GTFO!   \n8  You don't have to, you have a good build, buy ...   \n9                  I would love to see him at lolla.   \n\n                                      comment_tokens  \n0                                      [nc, and, nh]  \n1  [you, do, know, west, team, play, against, wes...  \n2  [they, were, underdog, earlier, today, but, si...  \n3  [this, meme, isnt, funny, none, of, the, new, ...  \n4              [i, could, use, one, of, those, tool]  \n5  [i, dont, pay, attention, to, her, but, a, lon...  \n6  [trick, or, treating, in, general, is, just, w...  \n7                 [blade, masterymasamune, or, gtfo]  \n8  [you, dont, have, to, you, have, a, good, buil...  \n9          [i, would, love, to, see, him, at, lolla]  ",
      "text/html": "<div>\n<style scoped>\n    .dataframe tbody tr th:only-of-type {\n        vertical-align: middle;\n    }\n\n    .dataframe tbody tr th {\n        vertical-align: top;\n    }\n\n    .dataframe thead th {\n        text-align: right;\n    }\n</style>\n<table border=\"1\" class=\"dataframe\">\n  <thead>\n    <tr style=\"text-align: right;\">\n      <th></th>\n      <th>comment</th>\n      <th>comment_tokens</th>\n    </tr>\n  </thead>\n  <tbody>\n    <tr>\n      <th>0</th>\n      <td>NC and NH.</td>\n      <td>[nc, and, nh]</td>\n    </tr>\n    <tr>\n      <th>1</th>\n      <td>You do know west teams play against west teams...</td>\n      <td>[you, do, know, west, team, play, against, wes...</td>\n    </tr>\n    <tr>\n      <th>2</th>\n      <td>They were underdogs earlier today, but since G...</td>\n      <td>[they, were, underdog, earlier, today, but, si...</td>\n    </tr>\n    <tr>\n      <th>3</th>\n      <td>This meme isn't funny none of the \"new york ni...</td>\n      <td>[this, meme, isnt, funny, none, of, the, new, ...</td>\n    </tr>\n    <tr>\n      <th>4</th>\n      <td>I could use one of those tools.</td>\n      <td>[i, could, use, one, of, those, tool]</td>\n    </tr>\n    <tr>\n      <th>5</th>\n      <td>I don't pay attention to her, but as long as s...</td>\n      <td>[i, dont, pay, attention, to, her, but, a, lon...</td>\n    </tr>\n    <tr>\n      <th>6</th>\n      <td>Trick or treating in general is just weird...</td>\n      <td>[trick, or, treating, in, general, is, just, w...</td>\n    </tr>\n    <tr>\n      <th>7</th>\n      <td>Blade Mastery+Masamune or GTFO!</td>\n      <td>[blade, masterymasamune, or, gtfo]</td>\n    </tr>\n    <tr>\n      <th>8</th>\n      <td>You don't have to, you have a good build, buy ...</td>\n      <td>[you, dont, have, to, you, have, a, good, buil...</td>\n    </tr>\n    <tr>\n      <th>9</th>\n      <td>I would love to see him at lolla.</td>\n      <td>[i, would, love, to, see, him, at, lolla]</td>\n    </tr>\n  </tbody>\n</table>\n</div>"
     },
     "execution_count": 22,
     "metadata": {},
     "output_type": "execute_result"
    }
   ],
   "source": [
    "data[[\"comment\", \"comment_tokens\"]].head(10)"
   ]
  },
  {
   "cell_type": "code",
   "execution_count": 47,
   "outputs": [
    {
     "data": {
      "text/plain": "(1010773,)"
     },
     "execution_count": 47,
     "metadata": {},
     "output_type": "execute_result"
    }
   ],
   "source": [
    "data['comment_tokens'].shape"
   ],
   "metadata": {
    "collapsed": false,
    "pycharm": {
     "name": "#%%\n"
    }
   }
  },
  {
   "cell_type": "code",
   "execution_count": 24,
   "outputs": [
    {
     "data": {
      "text/plain": "                                      parent_comment  \\\n0  Yeah, I get that argument. At this point, I'd ...   \n1  The blazers and Mavericks (The wests 5 and 6 s...   \n2                            They're favored to win.   \n3                         deadass don't kill my buzz   \n4  Yep can confirm I saw the tool they use for th...   \n5                   do you find ariana grande sexy ?   \n6  What's your weird or unsettling Trick or Treat...   \n7  Probably Sephiroth. I refuse to taint his grea...   \n8  What to upgrade? I have $500 to spend (mainly ...   \n9  Probably count Kanye out Since the rest of his...   \n\n                               parent_comment_tokens  \n0  [yeah, i, get, that, argument, at, this, point...  \n1  [the, blazer, and, maverick, the, west, 5, and...  \n2                         [theyre, favored, to, win]  \n3                    [deadass, dont, kill, my, buzz]  \n4  [yep, can, confirm, i, saw, the, tool, they, u...  \n5              [do, you, find, ariana, grande, sexy]  \n6  [whats, your, weird, or, unsettling, trick, or...  \n7  [probably, sephiroth, i, refuse, to, taint, hi...  \n8  [what, to, upgrade, i, have, 500, to, spend, m...  \n9  [probably, count, kanye, out, since, the, rest...  ",
      "text/html": "<div>\n<style scoped>\n    .dataframe tbody tr th:only-of-type {\n        vertical-align: middle;\n    }\n\n    .dataframe tbody tr th {\n        vertical-align: top;\n    }\n\n    .dataframe thead th {\n        text-align: right;\n    }\n</style>\n<table border=\"1\" class=\"dataframe\">\n  <thead>\n    <tr style=\"text-align: right;\">\n      <th></th>\n      <th>parent_comment</th>\n      <th>parent_comment_tokens</th>\n    </tr>\n  </thead>\n  <tbody>\n    <tr>\n      <th>0</th>\n      <td>Yeah, I get that argument. At this point, I'd ...</td>\n      <td>[yeah, i, get, that, argument, at, this, point...</td>\n    </tr>\n    <tr>\n      <th>1</th>\n      <td>The blazers and Mavericks (The wests 5 and 6 s...</td>\n      <td>[the, blazer, and, maverick, the, west, 5, and...</td>\n    </tr>\n    <tr>\n      <th>2</th>\n      <td>They're favored to win.</td>\n      <td>[theyre, favored, to, win]</td>\n    </tr>\n    <tr>\n      <th>3</th>\n      <td>deadass don't kill my buzz</td>\n      <td>[deadass, dont, kill, my, buzz]</td>\n    </tr>\n    <tr>\n      <th>4</th>\n      <td>Yep can confirm I saw the tool they use for th...</td>\n      <td>[yep, can, confirm, i, saw, the, tool, they, u...</td>\n    </tr>\n    <tr>\n      <th>5</th>\n      <td>do you find ariana grande sexy ?</td>\n      <td>[do, you, find, ariana, grande, sexy]</td>\n    </tr>\n    <tr>\n      <th>6</th>\n      <td>What's your weird or unsettling Trick or Treat...</td>\n      <td>[whats, your, weird, or, unsettling, trick, or...</td>\n    </tr>\n    <tr>\n      <th>7</th>\n      <td>Probably Sephiroth. I refuse to taint his grea...</td>\n      <td>[probably, sephiroth, i, refuse, to, taint, hi...</td>\n    </tr>\n    <tr>\n      <th>8</th>\n      <td>What to upgrade? I have $500 to spend (mainly ...</td>\n      <td>[what, to, upgrade, i, have, 500, to, spend, m...</td>\n    </tr>\n    <tr>\n      <th>9</th>\n      <td>Probably count Kanye out Since the rest of his...</td>\n      <td>[probably, count, kanye, out, since, the, rest...</td>\n    </tr>\n  </tbody>\n</table>\n</div>"
     },
     "execution_count": 24,
     "metadata": {},
     "output_type": "execute_result"
    }
   ],
   "source": [
    "data[[\"parent_comment\", \"parent_comment_tokens\"]].head(10)"
   ],
   "metadata": {
    "collapsed": false,
    "pycharm": {
     "name": "#%%\n"
    }
   }
  },
  {
   "cell_type": "code",
   "execution_count": 48,
   "outputs": [
    {
     "data": {
      "text/plain": "(1010773,)"
     },
     "execution_count": 48,
     "metadata": {},
     "output_type": "execute_result"
    }
   ],
   "source": [
    "data['parent_comment_tokens'].shape"
   ],
   "metadata": {
    "collapsed": false,
    "pycharm": {
     "name": "#%%\n"
    }
   }
  },
  {
   "cell_type": "code",
   "execution_count": 26,
   "outputs": [],
   "source": [
    "# Since comments are already preprocessed and tokenized,\n",
    "# the vectorizer only needs to take tokens as they are.\n",
    "tfidfVectorizer = TfidfVectorizer(analyzer=lambda tokens: tokens)\n",
    "corpus = pd.concat([data['comment_tokens'], data['parent_comment_tokens']])\n",
    "tfidfMatrix = tfidfVectorizer.fit_transform(corpus)\n",
    "vocabulary = tfidfVectorizer.vocabulary_"
   ],
   "metadata": {
    "collapsed": false,
    "pycharm": {
     "name": "#%%\n"
    }
   }
  },
  {
   "cell_type": "code",
   "execution_count": 45,
   "outputs": [
    {
     "data": {
      "text/plain": "<2021546x395961 sparse matrix of type '<class 'numpy.float64'>'\n\twith 29660642 stored elements in Compressed Sparse Row format>"
     },
     "execution_count": 45,
     "metadata": {},
     "output_type": "execute_result"
    }
   ],
   "source": [
    "# the tfidf matrix has 2021546 rows,\n",
    "# where the 0 ~ 1010772 rows represent original comments in the same order as those in dataset,\n",
    "# and the 1010773 ~ 2021545 rows represent parent comments in the same order as those in dataset;\n",
    "# and the tfidf matrix has 395961 columns, each represents a word in the vocabulary.\n",
    "tfidfMatrix"
   ],
   "metadata": {
    "collapsed": false,
    "pycharm": {
     "name": "#%%\n"
    }
   }
  },
  {
   "cell_type": "code",
   "execution_count": 50,
   "outputs": [
    {
     "data": {
      "text/plain": "{'nc': 239750,\n 'and': 38319,\n 'nh': 242628,\n 'you': 392472,\n 'do': 111597,\n 'know': 197955,\n 'west': 381455,\n 'team': 345253,\n 'play': 270965,\n 'against': 32301,\n 'more': 232730,\n 'than': 348058,\n 'east': 119000,\n 'right': 298452,\n 'they': 349693,\n 'were': 381308,\n 'underdog': 365194,\n 'earlier': 118727,\n 'today': 353770,\n 'but': 71136,\n 'since': 320629,\n 'gronks': 157855,\n 'announcement': 39401,\n 'this': 350282,\n 'afternoon': 32143,\n 'the': 348530,\n 'vega': 372186,\n 'line': 208050,\n 'ha': 160542,\n 'moved': 233943,\n 'to': 353586,\n 'patriot': 263570,\n '1': 1240,\n 'meme': 223710,\n 'isnt': 185230,\n 'funny': 145320,\n 'none': 245545,\n 'of': 252047,\n 'new': 241934,\n 'york': 392386,\n 'nigga': 243154,\n 'one': 254363,\n 'are': 43407,\n 'i': 175470,\n 'could': 93126,\n 'use': 369466,\n 'those': 350687,\n 'tool': 354629,\n 'dont': 112859,\n 'pay': 263907,\n 'attention': 47264,\n 'her': 166956,\n 'a': 27194,\n 'long': 210547,\n 'shes': 316672,\n 'legal': 204702,\n 'wouldnt': 387174,\n 'kick': 195783,\n 'out': 257887,\n 'bed': 55683,\n 'before': 56072,\n 'she': 316247,\n 'took': 354621,\n 'load': 209488,\n 'trick': 358040,\n 'or': 256348,\n 'treating': 357539,\n 'in': 179063,\n 'general': 149826,\n 'is': 184731,\n 'just': 191682,\n 'weird': 380640,\n 'blade': 61367,\n 'masterymasamune': 219694,\n 'gtfo': 158576,\n 'have': 164467,\n 'good': 154722,\n 'build': 69800,\n 'buy': 71868,\n 'game': 147036,\n 'save': 307996,\n 'it': 185586,\n 'would': 387158,\n 'love': 211611,\n 'see': 311834,\n 'him': 169034,\n 'at': 46557,\n 'lolla': 210273,\n 'think': 350058,\n 'significant': 319986,\n 'amount': 37670,\n 'be': 55041,\n 'spending': 329693,\n 'their': 348814,\n 'tax': 344730,\n 'dollar': 112359,\n 'on': 254196,\n 'other': 257563,\n 'people': 265651,\n 'damn': 99787,\n 'wa': 376790,\n 'hoping': 171920,\n 'god': 153731,\n 'real': 290061,\n 'an': 37987,\n 'agenda': 32452,\n 'great': 156805,\n 'idea': 176311,\n 'ayy': 49778,\n 'bb': 54681,\n 'wassup': 378763,\n 'make': 216029,\n 'bit': 60463,\n 'sense': 313604,\n 'context': 90867,\n 'what': 381913,\n 'fuck': 144230,\n 'noted': 248381,\n 'because': 55529,\n 'really': 290224,\n 'bother': 65330,\n 'sign': 319947,\n 'weakness': 379704,\n 'why': 383303,\n 'fail': 131671,\n 'me': 221926,\n 'my': 237032,\n 'precious': 276746,\n 'preflashpoint': 277150,\n 'clark': 84052,\n 'lois': 210107,\n 'hug': 173652,\n 'back': 50571,\n 'tightly': 352072,\n 'burying': 70867,\n 'head': 165103,\n 'into': 183301,\n 'space': 328573,\n 'between': 58406,\n 'his': 169529,\n 'collar': 86857,\n 'bone': 64086,\n 'shoulder': 318631,\n 'point': 272526,\n 'theyre': 349728,\n 'so': 325613,\n 'stable': 332190,\n 'house': 172731,\n 'em': 122477,\n 'conservatism': 90262,\n 'ideology': 176485,\n 'for': 140431,\n 'sure': 340088,\n 'reaction': 289855,\n 'liberalism': 206543,\n 'that': 348196,\n 'not': 248156,\n 'say': 308181,\n 'developed': 106791,\n 'something': 326975,\n 'conception': 89118,\n 'maybe': 220642,\n 'control': 91104,\n 'certainly': 78287,\n 'evidence': 127982,\n 'collusion': 87056,\n 'mine': 227833,\n 'auto': 48115,\n 'renewed': 294488,\n 'without': 385135,\n 'asking': 45518,\n 'day': 101211,\n '466': 17786,\n 'jesus': 188823,\n 'fnaf': 139651,\n 'fan': 132439,\n 'confirmed': 89637,\n 'cry': 96360,\n 'first': 137384,\n 'thought': 350770,\n 'instruction': 182234,\n 'fixing': 137921,\n 'car': 74920,\n 'wasnt': 378720,\n 'guy': 159898,\n 'there': 349362,\n 'no': 244237,\n 'way': 379363,\n 'he': 165085,\n 'trolling': 358740,\n 'human': 173835,\n 'being': 56380,\n 'with': 385042,\n 'actual': 30231,\n 'feeling': 134561,\n 'according': 29350,\n 'video': 373869,\n 'put': 283512,\n 'together': 353960,\n 'by': 72146,\n 'gb': 148954,\n 'side': 319568,\n 'bullet': 70076,\n 'fucking': 144374,\n 'theyll': 349719,\n 'all': 35143,\n 'review': 296968,\n 'kiiiiiiiil': 196099,\n 'rfuckyouididthemath': 297433,\n 'even': 127514,\n 'about': 28595,\n 'round': 302180,\n 'golf': 154495,\n 'stuffed': 336759,\n 'animal': 39032,\n 'ive': 186331,\n 'had': 160922,\n 'born': 65029,\n 'only': 254904,\n 'watched': 378867,\n '20': 8700,\n 'min': 227620,\n 'bc': 54912,\n 'fell': 134851,\n 'asleep': 45576,\n 'time': 352288,\n 'already': 36150,\n 'drank': 114984,\n 'coke': 86616,\n 'zero': 394538,\n 'opened': 255593,\n 'diet': 108223,\n 'mountain': 233730,\n 'dew': 107059,\n 'lube': 212500,\n 'up': 368173,\n 'take': 343176,\n 'how': 172921,\n 'medium': 222718,\n 'chose': 81993,\n 'never': 241811,\n 'bring': 67624,\n 'election': 121605,\n 'cant': 74438,\n 'go': 153482,\n 'wrong': 387733,\n 'yahudi': 390260,\n 'dap': 100254,\n 'soros': 327721,\n 'well': 380796,\n '1571049': 5688,\n 'roger': 300898,\n 'such': 337982,\n 'owner': 259782,\n 'wow': 387228,\n 'totally': 355475,\n 'unreasonable': 367329,\n 'assume': 46217,\n 'agency': 32440,\n 'covered': 93754,\n 'bush': 70909,\n 'war': 378065,\n 'crime': 95222,\n 'muh': 235231,\n 'republican': 295229,\n 'party': 262844,\n 'partisan': 262779,\n 'ho': 170279,\n 'melania': 223420,\n 'said': 305806,\n 'happened': 163032,\n 'didnt': 108037,\n 'woman': 385735,\n 'tbh': 344937,\n 'giant': 151524,\n 'dent': 105240,\n 'probably': 279142,\n 'made': 214811,\n 'glacier': 152551,\n 'itself': 186066,\n 'im': 177893,\n 'considered': 90330,\n 'asshole': 45986,\n 'let': 205795,\n 'most': 233281,\n 'shit': 317397,\n 'trend': 357762,\n 'thatll': 348302,\n 'die': 108078,\n 'month': 232176,\n 'try': 359614,\n 'talking': 343404,\n 'department': 105356,\n 'run': 303751,\n 'pas': 262925,\n 'punt': 283026,\n '2': 8699,\n 'cc3': 77333,\n 'cc2s': 77332,\n 'looper': 211037,\n 'aftermarket': 32135,\n 'mod': 230523,\n 'tho': 350511,\n 'suce': 337969,\n 'success': 337907,\n 'give': 152404,\n 'trouble': 358953,\n 'worth': 387066,\n 'mushroom': 236366,\n 'stew': 334341,\n 'yes': 391612,\n 'each': 118594,\n 'battle': 54247,\n '10': 1241,\n '3112': 13891,\n 'snorlax': 325358,\n 'will': 383978,\n 'last': 202764,\n 'minute': 228517,\n 'believe': 56637,\n 'can': 73924,\n 'happy': 163134,\n 'meal': 221987,\n 'toy': 355999,\n '199': 7817,\n 'found': 141398,\n 'stein': 333943,\n 'gate': 148439,\n 'if': 176835,\n 'youre': 392754,\n 'buying': 71906,\n 'off': 252103,\n 'dun': 117325,\n 'goofed': 154936,\n 'anyone': 41466,\n 'ever': 127612,\n 'talk': 343382,\n 'young': 392648,\n 'private': 278906,\n 'john': 190059,\n 'lott': 211448,\n 'hack': 160788,\n 'who': 382940,\n 'credence': 94844,\n 'want': 377963,\n 'keep': 194366,\n 'any': 41372,\n 'safety': 305639,\n 'regulation': 293108,\n 'away': 49214,\n 'from': 143531,\n 'gun': 159322,\n 'forevs': 140766,\n 'playing': 271244,\n 'offlane': 252384,\n 'while': 382413,\n 'bo1s': 63149,\n 'hate': 164181,\n 'tournament': 355754,\n 'winner': 384593,\n 'loser': 211332,\n 'bracket': 66174,\n 'second': 311464,\n 'best': 57939,\n 'may': 220620,\n 'very': 373296,\n 'end': 123471,\n '58th': 20276,\n 'reason': 290435,\n 'should': 318618,\n 'groupstage': 158099,\n 'backwards': 50940,\n 'been': 55922,\n 'lunatic': 213061,\n 'get': 150736,\n 'pyramid': 283887,\n 'your': 392746,\n 'cat': 76491,\n 'player': 271055,\n 'peasant': 264611,\n 'thats': 348337,\n 'argument': 43718,\n 'here': 167044,\n 'calling': 73377,\n 'stealing': 333636,\n 'reference': 292474,\n 'scummy': 310821,\n 'referencing': 292487,\n 'includes': 179507,\n 'changing': 79202,\n 'recognizable': 291123,\n 'still': 334577,\n 'own': 259761,\n 'uniqueness': 366489,\n 'like': 207518,\n 'dark': 100374,\n 'soul': 327966,\n 'berserk': 57778,\n 'directly': 109274,\n 'putting': 283604,\n 'gut': 159781,\n 'dog': 112019,\n 'dump': 117294,\n 'dude': 116816,\n 'answer': 39666,\n 'need': 240357,\n 'wait': 377293,\n 'until': 367891,\n 'potus': 275559,\n 'start': 332986,\n 'twitter': 361584,\n 'morning': 232960,\n 'joe': 189948,\n 'jawline': 187858,\n 'oh': 252773,\n 'come': 87533,\n 'gotta': 155545,\n 'teacher': 345194,\n 'exam': 128398,\n 'after': 32097,\n 'halloween': 162076,\n 'name': 238284,\n 'simpson': 320541,\n 'irl': 184443,\n 'gave': 148637,\n 'quite': 285554,\n 'frighten': 143330,\n 'remembered': 294171,\n 'yellowpeople': 391479,\n 'show': 318739,\n 'hell': 166412,\n 'face': 131042,\n 'middle': 226388,\n 'left': 204569,\n 'page': 260668,\n '13': 4236,\n 'two': 361645,\n 'baby': 50379,\n 'five': 137797,\n 'year': 391052,\n 'marriage': 218907,\n 'whichever': 382370,\n 'mommy': 231355,\n 'daddy': 99137,\n 'completely': 88666,\n 'stop': 335100,\n 'doing': 112247,\n 'step': 334058,\n '35': 14739,\n 'except': 128566,\n 'anniversary': 39338,\n 'when': 382246,\n 'secretary': 311593,\n 'fired': 137131,\n 'again': 32243,\n 'yeah': 390845,\n 'enough': 124267,\n 'cod': 86134,\n 'hoiberg': 170615,\n 'dwight': 118132,\n 'spoiler': 330425,\n 'realized': 290183,\n 'easy': 119080,\n 'every': 127758,\n 'lonely': 210528,\n 'person': 266709,\n 'earth': 118828,\n '1985': 7782,\n 'yugo': 393183,\n 'hahaha': 161135,\n 'agree': 32804,\n 'which': 382365,\n 'deal': 102126,\n 'tree': 357605,\n 'fiddy': 136028,\n '911': 25356,\n 'america': 37133,\n 'appeared': 42243,\n 'united': 366522,\n 'another': 39580,\n 'common': 88104,\n 'threat': 351020,\n 'bmw': 63060,\n 'driver': 115609,\n 'imagine': 177980,\n 'forest': 140703,\n 'park': 262437,\n 'night': 243221,\n 'suicide': 338377,\n 'watch': 378845,\n 'kala': 192695,\n 'ko': 198206,\n 'ba': 50172,\n 'sabi': 305227,\n 'nya': 250408,\n 'dati': 100953,\n 'china': 81298,\n 'russia': 304134,\n 'na': 237586,\n 'ang': 38725,\n 'tutulong': 360998,\n 'sa': 305065,\n 'pinas': 269420,\n 'havent': 164525,\n 'tried': 358118,\n 'henna': 166863,\n 'mainly': 215790,\n 'permanent': 266420,\n 'kind': 196536,\n 'commitment': 88052,\n 'haha': 161117,\n 'eww': 128259,\n 'mac': 214306,\n 'background': 50683,\n 'quick': 285249,\n 'someone': 326907,\n 'photoshop': 268319,\n 'scooby': 309962,\n 'puppy': 283097,\n 'turn': 360754,\n 'archery': 43233,\n 'full': 144795,\n 'draw': 115035,\n 'elbow': 121495,\n 'below': 56866,\n 'heart': 165549,\n 'both': 65320,\n 'pretty': 278224,\n 'uptight': 368827,\n 'disney': 110278,\n 'star': 332739,\n 'old': 253474,\n 'eu': 126933,\n 'seen': 311981,\n 'done': 112686,\n 'disagree': 109489,\n 'theyve': 349752,\n 'lime': 207873,\n 'neptune': 241149,\n 'add': 30516,\n 'gt': 158485,\n 'automatically': 48432,\n 'taken': 343199,\n 'low': 211779,\n 'salvage': 306366,\n 'doggo': 112107,\n 'puppers': 283070,\n 'arent': 43547,\n 'sposed': 330793,\n 'drink': 115485,\n '1512798': 5475,\n 'honestly': 171446,\n 'mind': 227674,\n 'much': 234940,\n 'liberal': 206516,\n 'them': 348891,\n 'credit': 94868,\n 'intervening': 183173,\n 'thatd': 348237,\n 'hilarious': 168808,\n 'blow': 62559,\n 'some': 326842,\n 'spot': 330797,\n 'book': 64390,\n 'tape': 344014,\n '1940s': 7537,\n 'big': 59250,\n 'band': 52345,\n 'music': 236378,\n 'pepe': 265839,\n 'couldnt': 93144,\n 'breathe': 67020,\n 'few': 135610,\n 'reading': 289945,\n 'laughing': 203089,\n 'hard': 163289,\n 'now': 249017,\n 'carried': 75761,\n 'price': 278415,\n 'pstv': 281987,\n 'going': 154197,\n 'devs': 107040,\n 'plan': 270589,\n 'nerf': 241242,\n 'd': 98773,\n 'bet': 58113,\n 'next': 242346,\n 'patch': 263305,\n '3': 13287,\n 'bf': 58604,\n 'sound': 328066,\n 'might': 226835,\n 'extra': 130094,\n 'chromosome': 82341,\n 'hope': 171875,\n 'swindle': 341389,\n 'perpetual': 266560,\n 'check': 80057,\n 'surprise': 340266,\n 'mating': 220087,\n 'female': 134933,\n 'jim': 189356,\n 'joneson': 190432,\n 'target': 344195,\n 'we': 379655,\n 'sober': 325708,\n 'phrasing': 268396,\n 'anymore': 41424,\n 'frankly': 142089,\n 'doesnt': 111968,\n 'act': 29995,\n 'care': 75252,\n 'zip': 395023,\n 'cool': 91496,\n 'interested': 182735,\n 'appears': 42249,\n 'swimming': 341375,\n 'pool': 273728,\n 'underneath': 365306,\n 'larger': 202555,\n 'hometown': 171208,\n 'spoke': 330480,\n 'rim': 298805,\n 'pimp': 269352,\n 'though': 350724,\n 'grab': 155987,\n 'coat': 85832,\n 'these': 349580,\n 'tore': 355133,\n 'getting': 150888,\n 'refusing': 292774,\n 'help': 166621,\n 'tang': 343728,\n 'mocha': 230482,\n 'careful': 75311,\n 'wish': 384929,\n 'aldon': 34602,\n 'smith': 324458,\n 'raider': 286984,\n 'mile': 227106,\n 'high': 168266,\n 'sorry': 327756,\n 'mean': 222011,\n 'l': 200870,\n 'bot': 65270,\n 'send': 313464,\n 'sometimes': 327071,\n 'wonder': 385931,\n 'anything': 41516,\n 'burn': 70676,\n 'bombed': 63960,\n 'building': 69832,\n 'mr': 234341,\n 'garrison': 148227,\n 'president': 277911,\n 'speaking': 329134,\n 'english': 124006,\n '395': 15629,\n 'titan': 353070,\n 'ozymandias_3': 260029,\n 'making': 216158,\n 'arrow': 44532,\n 'worse': 386980,\n '250': 11119,\n '300': 13289,\n 'life': 207003,\n 'insurance': 182333,\n 'payout': 264013,\n 'either': 121259,\n 'joes': 189983,\n 'andy': 38641,\n 'ogle': 252710,\n 'kod': 198286,\n 'amir': 37462,\n 'part': 262649,\n 'got': 155445,\n 'porn': 274241,\n 'vibe': 373635,\n 'test': 347428,\n 'dummy': 117283,\n 'irrelevant': 184618,\n 'whether': 382330,\n 'assange': 45764,\n 'self': 312415,\n 'imposed': 178792,\n 'detention': 106534,\n 'government': 155676,\n 'arbitrarily': 43084,\n 'did': 107952,\n 'figure': 136317,\n 'altright': 36498,\n 'field': 136066,\n 'wtf': 387937,\n 'lmaoo': 209371,\n 'bang': 52503,\n 'problem': 279218,\n 'thank': 348074,\n 'kinda': 196539,\n 'obvious': 251368,\n 'immediately': 178243,\n 'traded': 356287,\n 'down': 114092,\n 'ram': 287400,\n 'goff': 154112,\n 'egyptian': 120901,\n 'unification': 366293,\n 'whopping': 383169,\n '5316': 19617,\n 'ago': 32708,\n 'ish': 184908,\n 'gimme': 151970,\n 'sec': 311400,\n 'yous': 392837,\n 'pronoun': 280374,\n 'comment': 87866,\n 'similar': 320420,\n 'went': 381257,\n 'storm': 335294,\n 'assumption': 46227,\n 'cannot': 74374,\n 'proven': 281265,\n 'job': 189781,\n 'tom': 354234,\n 'gif': 151644,\n 'angle': 38824,\n 'far': 132871,\n 'lucio': 212616,\n 'travelled': 357403,\n 'short': 318345,\n 'hair': 161455,\n 'duh': 117027,\n 'silencer': 320150,\n 'bastard': 53860,\n 'definitely': 103722,\n 'discipline': 109675,\n 'lot': 211398,\n 'u': 362257,\n 'aware': 49195,\n 'danger': 99996,\n 'forced': 140502,\n 'industrialize': 180234,\n 'e': 118434,\n 'o': 250660,\n 'g': 146110,\n 'y': 390037,\n 'purest': 283182,\n 'marvalz': 219146,\n 'challenge': 78859,\n 'maar': 214238,\n 'wie': 383533,\n 'zwijgen': 395852,\n 'lopen': 211131,\n 'de': 101853,\n 'kans': 193150,\n 'niets': 243100,\n 'te': 345161,\n 'krijgen': 199531,\n 'rtf2shitposterclub': 303036,\n 'switched': 341472,\n 'led': 204379,\n 'blue': 62654,\n 'red': 291486,\n 'small': 323961,\n 'mark': 218639,\n 'werent': 381338,\n 'looking': 210845,\n 't_d': 342538,\n 'shitposter': 317647,\n 'please': 271471,\n 'afton': 32188,\n 'congratulation': 89849,\n 'everyone': 127820,\n 'motorcycle': 233622,\n 'midlifing': 226574,\n 'customer': 98052,\n 'respect': 295908,\n 'store': 335219,\n 'closing': 85181,\n 'always': 36612,\n 'clue': 85420,\n 'throw': 351288,\n 'shift': 316866,\n 'theyd': 349705,\n 'matter': 220190,\n 'incurably': 179793,\n 'misanthropic': 228803,\n 'exactly': 128330,\n 'whatsoever': 382059,\n 'metal': 224993,\n 'gear': 149151,\n 'guess': 158912,\n 'modern': 230670,\n 'social': 325830,\n 'justice': 191784,\n 'black': 60999,\n 'gay': 148702,\n 'midget': 226512,\n 'beat': 55305,\n 'grandfinals': 156312,\n 'convey': 91349,\n 'sarcasm': 307335,\n 'over': 258675,\n 'internet': 182930,\n 'clip': 84908,\n 'yellign': 391433,\n 'waste': 378770,\n 'memory': 223910,\n 'bandwidth': 52468,\n 'coming': 87743,\n 'sub': 337186,\n 'reasonable': 290439,\n 'article': 44739,\n 'source': 328205,\n 'smoke': 324537,\n 'weed': 380219,\n 'hefty': 166076,\n 'guerrilla': 158907,\n 'warfare': 378200,\n 'campaign': 73762,\n 'invading': 183559,\n 'alaska': 34313,\n 'expensive': 129445,\n 'state': 333142,\n 'wage': 377100,\n 'cooking': 91479,\n 'hank': 162837,\n 'legend': 204788,\n 'tomorrow': 354369,\n 'reccomend': 290825,\n 'physical': 268485,\n 'sharing': 315960,\n 'kid': 195861,\n 'imbarusing': 178051,\n 'gramar': 156204,\n 'our': 257838,\n 'final': 136615,\n 'requested': 295358,\n 'nintendo': 243734,\n 'switch': 341456,\n 'launch': 203125,\n 'title': 353162,\n 'custer': 98026,\n 'revenge': 296849,\n 'hd': 164967,\n 'am': 36686,\n 'youd': 392532,\n 'subscription': 337626,\n 'multiplayer': 235644,\n 'bulletstorm': 70102,\n 'hyped': 175015,\n 'recommend': 291188,\n 'uninstalling': 366396,\n 'install': 182032,\n 'clinton': 84857,\n 'pls': 271857,\n 'kill': 196183,\n 'doe': 111916,\n 'diamond': 107533,\n 'cap': 74562,\n 'w': 376702,\n 'tag': 342890,\n 'soon': 327407,\n 'durid': 117689,\n 'bare': 53083,\n 'fite': 137708,\n 'kat': 193751,\n 'scrats': 310323,\n 'chikken': 81032,\n 'lazer': 203558,\n 'green': 157008,\n 'theocracy': 349188,\n 'scary': 308802,\n 'dope': 113283,\n 'google': 154967,\n 'hapf': 162987,\n 'studying': 336734,\n 'half': 161694,\n 'redditing': 291659,\n 'wiki': 383794,\n 'path': 263394,\n 'distraction': 110746,\n 'fund': 145119,\n 'type': 362011,\n 'place': 270404,\n '71': 22626,\n 'free': 142396,\n 'pack': 260399,\n 'opinion': 255834,\n 'fact': 131368,\n 'girlfriend': 152192,\n 'became': 55512,\n 'zombie': 395299,\n 'saying': 308238,\n 'better': 58283,\n 'innercity': 181413,\n 'school': 309432,\n 'tooi': 354613,\n 'enjoy': 124136,\n 'although': 36435,\n 'seperately': 313842,\n 'frog': 143477,\n 'wing': 384453,\n 'bump': 70306,\n 'as': 45005,\n 'hop': 171872,\n 'irony': 184553,\n 'ty': 361919,\n 'papa': 261850,\n 'bless': 61849,\n 'statistic': 333366,\n 'hidden': 168131,\n 'due': 116929,\n 'process': 279368,\n 'remember': 294161,\n 'story': 335387,\n 'news': 242130,\n 'riot': 299036,\n 'police': 272984,\n 'marching': 218289,\n 'volvo': 375772,\n 'office': 252288,\n 'truncheon': 359479,\n 'beating': 55343,\n 'designer': 106085,\n 'invented': 183626,\n 'seatbelt': 311305,\n 'heaven': 165755,\n 'son': 327173,\n 'kek': 194533,\n 'guide': 159021,\n 'penis': 265394,\n 'therefore': 349397,\n 'support': 339853,\n 'dairy': 99463,\n 'flacco': 138049,\n 'elite': 122100,\n 'central': 78042,\n 'perk': 266323,\n 'youll': 392621,\n 'friend': 143134,\n 'issue': 185440,\n 'many': 217968,\n 'thing': 349916,\n 'too': 354561,\n 'law': 203335,\n 'caffeine': 72877,\n 'alcohol': 34514,\n 'nicotine': 242993,\n 'substance': 337695,\n 'used': 369480,\n 'create': 94756,\n 'physiological': 268521,\n 'effect': 120508,\n 'nonsense': 246814,\n 'blocked': 62164,\n 'moron': 232993,\n 'smell': 324306,\n 'releasing': 293760,\n 'stuff': 336750,\n 'safeway': 305662,\n 'shopper': 318299,\n 'freds': 142389,\n 'ebt': 119389,\n 'card': 75104,\n 'declined': 102993,\n 'wanna': 377939,\n 'stack': 332215,\n 'early': 118741,\n 'possible': 274690,\n 'power': 275732,\n 'mana': 216864,\n 'online': 254859,\n 'proud': 281197,\n 'obligatory': 251131,\n 'cupertino': 97634,\n 'combination': 87446,\n 'headphone': 165261,\n 'charger': 79526,\n 'port': 274345,\n 'sympathy': 341878,\n 'vod': 375340,\n 'mad': 214725,\n 'racism': 286307,\n 'then': 349082,\n 'tell': 346375,\n 'offended': 252171,\n 'word': 386414,\n 'faggot': 131589,\n 'misspelled': 229336,\n 'speed': 329402,\n 'eat': 119153,\n 'peanut': 264567,\n 'dying': 118267,\n 'milk': 227272,\n 'diarrhea': 107606,\n 'rare': 288297,\n 'gluten': 153223,\n 'stay': 333525,\n 'home': 171006,\n 'deserve': 106008,\n ...}"
     },
     "execution_count": 50,
     "metadata": {},
     "output_type": "execute_result"
    }
   ],
   "source": [
    "# By using the following dict, we can obtain the index of a given word for querying tfidf matrix.\n",
    "vocabulary"
   ],
   "metadata": {
    "collapsed": false,
    "pycharm": {
     "name": "#%%\n"
    }
   }
  },
  {
   "cell_type": "markdown",
   "source": [
    "Once we have learned word vectors, to compute the sentence vector of a comment,\n",
    "first fetch the corresponding row from the tfidf matrix (if it is the i-th original comment, then\n",
    "it is the i-th row; if it is the i-th parent comment, then it is the (1010773 + i)-th row),\n",
    "second for each word in the comment find its corresponding tfidf value from the row,\n",
    "third compute the average of the word vectors weighted by corresponding tfidf values."
   ],
   "metadata": {
    "collapsed": false,
    "pycharm": {
     "name": "#%% md\n"
    }
   }
  },
  {
   "cell_type": "markdown",
   "id": "d9c63624",
   "metadata": {},
   "source": [
    "## 2. Models"
   ]
  },
  {
   "cell_type": "markdown",
   "id": "ca83ff02",
   "metadata": {},
   "source": [
    "## 3. Evaluation"
   ]
  },
  {
   "cell_type": "code",
   "execution_count": null,
   "id": "65cd2d83",
   "metadata": {},
   "outputs": [],
   "source": []
  }
 ],
 "metadata": {
  "kernelspec": {
   "display_name": "Python 3 (ipykernel)",
   "language": "python",
   "name": "python3"
  },
  "language_info": {
   "codemirror_mode": {
    "name": "ipython",
    "version": 3
   },
   "file_extension": ".py",
   "mimetype": "text/x-python",
   "name": "python",
   "nbconvert_exporter": "python",
   "pygments_lexer": "ipython3",
   "version": "3.9.6"
  }
 },
 "nbformat": 4,
 "nbformat_minor": 5
}