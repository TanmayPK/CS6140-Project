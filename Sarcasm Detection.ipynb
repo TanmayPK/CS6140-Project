{
 "cells": [
  {
   "cell_type": "markdown",
   "metadata": {
    "id": "UKJINQ5yB-Vr"
   },
   "source": [
    "# CS6140 Project - Detection Of Sarcasm In Text"
   ]
  },
  {
   "cell_type": "markdown",
   "metadata": {
    "id": "PxgwsNuQB-Vu"
   },
   "source": [
    "## 1. Data Preprocessing"
   ]
  },
  {
   "cell_type": "code",
   "execution_count": 1,
   "metadata": {
    "id": "fxO2rgxTB-Vv"
   },
   "outputs": [],
   "source": [
    "import pandas as pd\n",
    "import numpy as np\n",
    "import matplotlib.pyplot as plt\n",
    "import nltk\n",
    "from nltk.corpus import stopwords\n",
    "from nltk.tokenize import wordpunct_tokenize\n",
    "from nltk.stem import WordNetLemmatizer\n",
    "import re\n",
    "import gensim\n",
    "import gensim.downloader as api\n",
    "import sklearn\n",
    "import torch\n",
    "import torch.nn as nn\n",
    "import torch.nn.functional as F\n",
    "from torch.utils.data import Dataset\n",
    "from sklearn.feature_extraction.text import TfidfVectorizer\n",
    "from sklearn.model_selection import train_test_split\n",
    "from gensim.models import KeyedVectors\n",
    "from sklearn.linear_model import LogisticRegression\n",
    "import math"
   ]
  },
  {
   "cell_type": "code",
   "execution_count": 2,
   "metadata": {
    "id": "jctNPaWvB-Vx"
   },
   "outputs": [],
   "source": [
    "#Run if running notebook with vectors locally for first time. Files added to gitignore\n",
    "#glove = api.load('glove-wiki-gigaword-300')\n",
    "#glove.save('glovevectors.bin')"
   ]
  },
  {
   "cell_type": "code",
   "execution_count": 3,
   "metadata": {
    "id": "GjEaOxnKB-Vy"
   },
   "outputs": [],
   "source": [
    "glove = KeyedVectors.load('glovevectors.bin')"
   ]
  },
  {
   "cell_type": "code",
   "execution_count": 4,
   "metadata": {
    "colab": {
     "base_uri": "https://localhost:8080/"
    },
    "id": "_GG-8VkuB-Vz",
    "outputId": "839ce457-92b2-4fa0-d72c-886fcfeeaeba"
   },
   "outputs": [
    {
     "name": "stdout",
     "output_type": "stream",
     "text": [
      "[nltk_data] Downloading package stopwords to /root/nltk_data...\n",
      "[nltk_data]   Package stopwords is already up-to-date!\n",
      "[nltk_data] Downloading package punkt to /root/nltk_data...\n",
      "[nltk_data]   Package punkt is already up-to-date!\n",
      "[nltk_data] Downloading package wordnet to /root/nltk_data...\n",
      "[nltk_data]   Package wordnet is already up-to-date!\n",
      "[nltk_data] Downloading package omw-1.4 to /root/nltk_data...\n",
      "[nltk_data]   Package omw-1.4 is already up-to-date!\n"
     ]
    },
    {
     "data": {
      "text/plain": [
       "True"
      ]
     },
     "execution_count": 4,
     "metadata": {},
     "output_type": "execute_result"
    }
   ],
   "source": [
    "# Run these if not up to date\n",
    "#nltk.download('stopwords')\n",
    "#nltk.download('punkt')\n",
    "#nltk.download('wordnet')\n",
    "#nltk.download('omw-1.4')"
   ]
  },
  {
   "cell_type": "code",
   "execution_count": 5,
   "metadata": {
    "colab": {
     "base_uri": "https://localhost:8080/"
    },
    "id": "JtfVx9TEIBee",
    "outputId": "b1ba1765-7ba3-4779-d418-1e14d2086ed8"
   },
   "outputs": [
    {
     "data": {
      "text/plain": [
       "True"
      ]
     },
     "execution_count": 5,
     "metadata": {},
     "output_type": "execute_result"
    }
   ],
   "source": [
    "torch.cuda.is_available()"
   ]
  },
  {
   "cell_type": "code",
   "execution_count": 6,
   "metadata": {
    "id": "Sd3JBUqLIDQk"
   },
   "outputs": [],
   "source": [
    "def get_default_device():\n",
    "    \"\"\"Picking GPU if available or else CPU\"\"\"\n",
    "    if torch.cuda.is_available():\n",
    "        return torch.device('cuda')\n",
    "    else:\n",
    "        return torch.device('cpu')\n",
    "device = get_default_device()"
   ]
  },
  {
   "cell_type": "code",
   "execution_count": 7,
   "metadata": {
    "id": "vU3o3ps3IMCl"
   },
   "outputs": [],
   "source": [
    "def to_device(data, device):\n",
    "    \"\"\"Move tensor(s) to chosen device\"\"\"\n",
    "    if isinstance(data, (list,tuple)):\n",
    "        return [to_device(x, device) for x in data]\n",
    "    return data.to(device, non_blocking=True)"
   ]
  },
  {
   "cell_type": "code",
   "execution_count": 8,
   "metadata": {
    "id": "DJ0-7mx7B-V0"
   },
   "outputs": [],
   "source": [
    "data = pd.read_csv(\"train-balanced-sarcasm.csv\")"
   ]
  },
  {
   "cell_type": "code",
   "execution_count": 9,
   "metadata": {
    "id": "952XhfnwB-V0"
   },
   "outputs": [],
   "source": [
    "data = data[['label', 'comment', 'subreddit', 'score', 'parent_comment']]"
   ]
  },
  {
   "cell_type": "code",
   "execution_count": 10,
   "metadata": {
    "colab": {
     "base_uri": "https://localhost:8080/",
     "height": 442
    },
    "id": "a_iBqMpFB-V0",
    "outputId": "472442a4-ddc3-48fb-d758-06b3ef5a6d72"
   },
   "outputs": [
    {
     "data": {
      "text/html": [
       "\n",
       "  <div id=\"df-3a2dff71-12ea-49f6-bed5-21e25678ba9c\">\n",
       "    <div class=\"colab-df-container\">\n",
       "      <div>\n",
       "<style scoped>\n",
       "    .dataframe tbody tr th:only-of-type {\n",
       "        vertical-align: middle;\n",
       "    }\n",
       "\n",
       "    .dataframe tbody tr th {\n",
       "        vertical-align: top;\n",
       "    }\n",
       "\n",
       "    .dataframe thead th {\n",
       "        text-align: right;\n",
       "    }\n",
       "</style>\n",
       "<table border=\"1\" class=\"dataframe\">\n",
       "  <thead>\n",
       "    <tr style=\"text-align: right;\">\n",
       "      <th></th>\n",
       "      <th>label</th>\n",
       "      <th>comment</th>\n",
       "      <th>subreddit</th>\n",
       "      <th>score</th>\n",
       "      <th>parent_comment</th>\n",
       "    </tr>\n",
       "  </thead>\n",
       "  <tbody>\n",
       "    <tr>\n",
       "      <th>0</th>\n",
       "      <td>0</td>\n",
       "      <td>NC and NH.</td>\n",
       "      <td>politics</td>\n",
       "      <td>2</td>\n",
       "      <td>Yeah, I get that argument. At this point, I'd ...</td>\n",
       "    </tr>\n",
       "    <tr>\n",
       "      <th>1</th>\n",
       "      <td>0</td>\n",
       "      <td>You do know west teams play against west teams...</td>\n",
       "      <td>nba</td>\n",
       "      <td>-4</td>\n",
       "      <td>The blazers and Mavericks (The wests 5 and 6 s...</td>\n",
       "    </tr>\n",
       "    <tr>\n",
       "      <th>2</th>\n",
       "      <td>0</td>\n",
       "      <td>They were underdogs earlier today, but since G...</td>\n",
       "      <td>nfl</td>\n",
       "      <td>3</td>\n",
       "      <td>They're favored to win.</td>\n",
       "    </tr>\n",
       "    <tr>\n",
       "      <th>3</th>\n",
       "      <td>0</td>\n",
       "      <td>This meme isn't funny none of the \"new york ni...</td>\n",
       "      <td>BlackPeopleTwitter</td>\n",
       "      <td>-8</td>\n",
       "      <td>deadass don't kill my buzz</td>\n",
       "    </tr>\n",
       "    <tr>\n",
       "      <th>4</th>\n",
       "      <td>0</td>\n",
       "      <td>I could use one of those tools.</td>\n",
       "      <td>MaddenUltimateTeam</td>\n",
       "      <td>6</td>\n",
       "      <td>Yep can confirm I saw the tool they use for th...</td>\n",
       "    </tr>\n",
       "    <tr>\n",
       "      <th>5</th>\n",
       "      <td>0</td>\n",
       "      <td>I don't pay attention to her, but as long as s...</td>\n",
       "      <td>AskReddit</td>\n",
       "      <td>0</td>\n",
       "      <td>do you find ariana grande sexy ?</td>\n",
       "    </tr>\n",
       "    <tr>\n",
       "      <th>6</th>\n",
       "      <td>0</td>\n",
       "      <td>Trick or treating in general is just weird...</td>\n",
       "      <td>AskReddit</td>\n",
       "      <td>1</td>\n",
       "      <td>What's your weird or unsettling Trick or Treat...</td>\n",
       "    </tr>\n",
       "    <tr>\n",
       "      <th>7</th>\n",
       "      <td>0</td>\n",
       "      <td>Blade Mastery+Masamune or GTFO!</td>\n",
       "      <td>FFBraveExvius</td>\n",
       "      <td>2</td>\n",
       "      <td>Probably Sephiroth. I refuse to taint his grea...</td>\n",
       "    </tr>\n",
       "    <tr>\n",
       "      <th>8</th>\n",
       "      <td>0</td>\n",
       "      <td>You don't have to, you have a good build, buy ...</td>\n",
       "      <td>pcmasterrace</td>\n",
       "      <td>1</td>\n",
       "      <td>What to upgrade? I have $500 to spend (mainly ...</td>\n",
       "    </tr>\n",
       "    <tr>\n",
       "      <th>9</th>\n",
       "      <td>0</td>\n",
       "      <td>I would love to see him at lolla.</td>\n",
       "      <td>Lollapalooza</td>\n",
       "      <td>2</td>\n",
       "      <td>Probably count Kanye out Since the rest of his...</td>\n",
       "    </tr>\n",
       "  </tbody>\n",
       "</table>\n",
       "</div>\n",
       "      <button class=\"colab-df-convert\" onclick=\"convertToInteractive('df-3a2dff71-12ea-49f6-bed5-21e25678ba9c')\"\n",
       "              title=\"Convert this dataframe to an interactive table.\"\n",
       "              style=\"display:none;\">\n",
       "        \n",
       "  <svg xmlns=\"http://www.w3.org/2000/svg\" height=\"24px\"viewBox=\"0 0 24 24\"\n",
       "       width=\"24px\">\n",
       "    <path d=\"M0 0h24v24H0V0z\" fill=\"none\"/>\n",
       "    <path d=\"M18.56 5.44l.94 2.06.94-2.06 2.06-.94-2.06-.94-.94-2.06-.94 2.06-2.06.94zm-11 1L8.5 8.5l.94-2.06 2.06-.94-2.06-.94L8.5 2.5l-.94 2.06-2.06.94zm10 10l.94 2.06.94-2.06 2.06-.94-2.06-.94-.94-2.06-.94 2.06-2.06.94z\"/><path d=\"M17.41 7.96l-1.37-1.37c-.4-.4-.92-.59-1.43-.59-.52 0-1.04.2-1.43.59L10.3 9.45l-7.72 7.72c-.78.78-.78 2.05 0 2.83L4 21.41c.39.39.9.59 1.41.59.51 0 1.02-.2 1.41-.59l7.78-7.78 2.81-2.81c.8-.78.8-2.07 0-2.86zM5.41 20L4 18.59l7.72-7.72 1.47 1.35L5.41 20z\"/>\n",
       "  </svg>\n",
       "      </button>\n",
       "      \n",
       "  <style>\n",
       "    .colab-df-container {\n",
       "      display:flex;\n",
       "      flex-wrap:wrap;\n",
       "      gap: 12px;\n",
       "    }\n",
       "\n",
       "    .colab-df-convert {\n",
       "      background-color: #E8F0FE;\n",
       "      border: none;\n",
       "      border-radius: 50%;\n",
       "      cursor: pointer;\n",
       "      display: none;\n",
       "      fill: #1967D2;\n",
       "      height: 32px;\n",
       "      padding: 0 0 0 0;\n",
       "      width: 32px;\n",
       "    }\n",
       "\n",
       "    .colab-df-convert:hover {\n",
       "      background-color: #E2EBFA;\n",
       "      box-shadow: 0px 1px 2px rgba(60, 64, 67, 0.3), 0px 1px 3px 1px rgba(60, 64, 67, 0.15);\n",
       "      fill: #174EA6;\n",
       "    }\n",
       "\n",
       "    [theme=dark] .colab-df-convert {\n",
       "      background-color: #3B4455;\n",
       "      fill: #D2E3FC;\n",
       "    }\n",
       "\n",
       "    [theme=dark] .colab-df-convert:hover {\n",
       "      background-color: #434B5C;\n",
       "      box-shadow: 0px 1px 3px 1px rgba(0, 0, 0, 0.15);\n",
       "      filter: drop-shadow(0px 1px 2px rgba(0, 0, 0, 0.3));\n",
       "      fill: #FFFFFF;\n",
       "    }\n",
       "  </style>\n",
       "\n",
       "      <script>\n",
       "        const buttonEl =\n",
       "          document.querySelector('#df-3a2dff71-12ea-49f6-bed5-21e25678ba9c button.colab-df-convert');\n",
       "        buttonEl.style.display =\n",
       "          google.colab.kernel.accessAllowed ? 'block' : 'none';\n",
       "\n",
       "        async function convertToInteractive(key) {\n",
       "          const element = document.querySelector('#df-3a2dff71-12ea-49f6-bed5-21e25678ba9c');\n",
       "          const dataTable =\n",
       "            await google.colab.kernel.invokeFunction('convertToInteractive',\n",
       "                                                     [key], {});\n",
       "          if (!dataTable) return;\n",
       "\n",
       "          const docLinkHtml = 'Like what you see? Visit the ' +\n",
       "            '<a target=\"_blank\" href=https://colab.research.google.com/notebooks/data_table.ipynb>data table notebook</a>'\n",
       "            + ' to learn more about interactive tables.';\n",
       "          element.innerHTML = '';\n",
       "          dataTable['output_type'] = 'display_data';\n",
       "          await google.colab.output.renderOutput(dataTable, element);\n",
       "          const docLink = document.createElement('div');\n",
       "          docLink.innerHTML = docLinkHtml;\n",
       "          element.appendChild(docLink);\n",
       "        }\n",
       "      </script>\n",
       "    </div>\n",
       "  </div>\n",
       "  "
      ],
      "text/plain": [
       "   label                                            comment  \\\n",
       "0      0                                         NC and NH.   \n",
       "1      0  You do know west teams play against west teams...   \n",
       "2      0  They were underdogs earlier today, but since G...   \n",
       "3      0  This meme isn't funny none of the \"new york ni...   \n",
       "4      0                    I could use one of those tools.   \n",
       "5      0  I don't pay attention to her, but as long as s...   \n",
       "6      0      Trick or treating in general is just weird...   \n",
       "7      0                    Blade Mastery+Masamune or GTFO!   \n",
       "8      0  You don't have to, you have a good build, buy ...   \n",
       "9      0                  I would love to see him at lolla.   \n",
       "\n",
       "            subreddit  score  \\\n",
       "0            politics      2   \n",
       "1                 nba     -4   \n",
       "2                 nfl      3   \n",
       "3  BlackPeopleTwitter     -8   \n",
       "4  MaddenUltimateTeam      6   \n",
       "5           AskReddit      0   \n",
       "6           AskReddit      1   \n",
       "7       FFBraveExvius      2   \n",
       "8        pcmasterrace      1   \n",
       "9        Lollapalooza      2   \n",
       "\n",
       "                                      parent_comment  \n",
       "0  Yeah, I get that argument. At this point, I'd ...  \n",
       "1  The blazers and Mavericks (The wests 5 and 6 s...  \n",
       "2                            They're favored to win.  \n",
       "3                         deadass don't kill my buzz  \n",
       "4  Yep can confirm I saw the tool they use for th...  \n",
       "5                   do you find ariana grande sexy ?  \n",
       "6  What's your weird or unsettling Trick or Treat...  \n",
       "7  Probably Sephiroth. I refuse to taint his grea...  \n",
       "8  What to upgrade? I have $500 to spend (mainly ...  \n",
       "9  Probably count Kanye out Since the rest of his...  "
      ]
     },
     "execution_count": 10,
     "metadata": {},
     "output_type": "execute_result"
    }
   ],
   "source": [
    "data.head(10)"
   ]
  },
  {
   "cell_type": "code",
   "execution_count": 11,
   "metadata": {
    "colab": {
     "base_uri": "https://localhost:8080/"
    },
    "id": "xWFbcerEB-V2",
    "outputId": "a01c2a17-546c-45c0-a294-d5f1191e9892"
   },
   "outputs": [
    {
     "data": {
      "text/plain": [
       "label              0\n",
       "comment           53\n",
       "subreddit          0\n",
       "score              0\n",
       "parent_comment     0\n",
       "dtype: int64"
      ]
     },
     "execution_count": 11,
     "metadata": {},
     "output_type": "execute_result"
    }
   ],
   "source": [
    "data.isna().sum()"
   ]
  },
  {
   "cell_type": "code",
   "execution_count": 12,
   "metadata": {
    "id": "EAjZeoulB-V2"
   },
   "outputs": [],
   "source": [
    "data = data.dropna(axis=0)"
   ]
  },
  {
   "cell_type": "code",
   "execution_count": 13,
   "metadata": {
    "colab": {
     "base_uri": "https://localhost:8080/"
    },
    "id": "pPV_mJCcB-V3",
    "outputId": "55794c3f-4375-451c-99f0-ddf361b2f35d"
   },
   "outputs": [
    {
     "data": {
      "text/plain": [
       "label             0\n",
       "comment           0\n",
       "subreddit         0\n",
       "score             0\n",
       "parent_comment    0\n",
       "dtype: int64"
      ]
     },
     "execution_count": 13,
     "metadata": {},
     "output_type": "execute_result"
    }
   ],
   "source": [
    "data.isna().sum()"
   ]
  },
  {
   "cell_type": "code",
   "execution_count": 14,
   "metadata": {
    "id": "K6cgEllvB-V3"
   },
   "outputs": [],
   "source": [
    "data['comment_tokens'] = data['comment']\n",
    "data['comment_tokens'] = data['comment_tokens'].str.lower()\n",
    "data['comment_tokens'] = data['comment_tokens'].str.replace('can\\'t','can not',regex = True)\n",
    "data['comment_tokens'] = data['comment_tokens'].str.replace('\\'d',' would',regex = True)\n",
    "data['comment_tokens'] = data['comment_tokens'].str.replace('wouldn\\'t','would not',regex = True)\n",
    "data['comment_tokens'] = data['comment_tokens'].str.replace('couldn\\'t','could not',regex = True)\n",
    "data['comment_tokens'] = data['comment_tokens'].str.replace('[^\\w\\s]','', regex = True)"
   ]
  },
  {
   "cell_type": "code",
   "execution_count": 15,
   "metadata": {
    "id": "9ajDQKuaB-V4",
    "pycharm": {
     "name": "#%%\n"
    }
   },
   "outputs": [],
   "source": [
    "data['parent_comment_tokens'] = data['parent_comment']\n",
    "data['parent_comment_tokens'] = data['parent_comment_tokens'].str.lower()\n",
    "data['parent_comment_tokens'] = data['parent_comment_tokens'].str.replace('can\\'t','can not',regex = True)\n",
    "data['parent_comment_tokens'] = data['parent_comment_tokens'].str.replace('\\'d',' would',regex = True)\n",
    "data['parent_comment_tokens'] = data['parent_comment_tokens'].str.replace('wouldn\\'t','would not',regex = True)\n",
    "data['parent_comment_tokens'] = data['parent_comment_tokens'].str.replace('couldn\\'t','could not',regex = True)\n",
    "data['parent_comment_tokens'] = data['parent_comment_tokens'].str.replace('[^\\w\\s]','', regex = True)"
   ]
  },
  {
   "cell_type": "code",
   "execution_count": 16,
   "metadata": {
    "id": "YmNKK5FIB-V4"
   },
   "outputs": [],
   "source": [
    "lemma = WordNetLemmatizer()\n",
    "def apply_lemmatizer(sentence):\n",
    "    return [lemma.lemmatize(token) for token in wordpunct_tokenize(sentence)]"
   ]
  },
  {
   "cell_type": "code",
   "execution_count": 17,
   "metadata": {
    "id": "53Tz39z1B-V5",
    "pycharm": {
     "name": "#%%\n"
    }
   },
   "outputs": [],
   "source": [
    "data[\"comment_tokens\"] = data.comment_tokens.apply(apply_lemmatizer)\n",
    "data[\"parent_comment_tokens\"] = data.parent_comment_tokens.apply(apply_lemmatizer)"
   ]
  },
  {
   "cell_type": "code",
   "execution_count": 18,
   "metadata": {
    "colab": {
     "base_uri": "https://localhost:8080/",
     "height": 363
    },
    "id": "Babfw21UB-V5",
    "outputId": "28a55c5c-453b-4145-865e-5e4511eecd0c"
   },
   "outputs": [
    {
     "data": {
      "text/html": [
       "\n",
       "  <div id=\"df-602eb255-4940-49cc-a449-7b267c5fee87\">\n",
       "    <div class=\"colab-df-container\">\n",
       "      <div>\n",
       "<style scoped>\n",
       "    .dataframe tbody tr th:only-of-type {\n",
       "        vertical-align: middle;\n",
       "    }\n",
       "\n",
       "    .dataframe tbody tr th {\n",
       "        vertical-align: top;\n",
       "    }\n",
       "\n",
       "    .dataframe thead th {\n",
       "        text-align: right;\n",
       "    }\n",
       "</style>\n",
       "<table border=\"1\" class=\"dataframe\">\n",
       "  <thead>\n",
       "    <tr style=\"text-align: right;\">\n",
       "      <th></th>\n",
       "      <th>comment</th>\n",
       "      <th>comment_tokens</th>\n",
       "    </tr>\n",
       "  </thead>\n",
       "  <tbody>\n",
       "    <tr>\n",
       "      <th>0</th>\n",
       "      <td>NC and NH.</td>\n",
       "      <td>[nc, and, nh]</td>\n",
       "    </tr>\n",
       "    <tr>\n",
       "      <th>1</th>\n",
       "      <td>You do know west teams play against west teams...</td>\n",
       "      <td>[you, do, know, west, team, play, against, wes...</td>\n",
       "    </tr>\n",
       "    <tr>\n",
       "      <th>2</th>\n",
       "      <td>They were underdogs earlier today, but since G...</td>\n",
       "      <td>[they, were, underdog, earlier, today, but, si...</td>\n",
       "    </tr>\n",
       "    <tr>\n",
       "      <th>3</th>\n",
       "      <td>This meme isn't funny none of the \"new york ni...</td>\n",
       "      <td>[this, meme, isnt, funny, none, of, the, new, ...</td>\n",
       "    </tr>\n",
       "    <tr>\n",
       "      <th>4</th>\n",
       "      <td>I could use one of those tools.</td>\n",
       "      <td>[i, could, use, one, of, those, tool]</td>\n",
       "    </tr>\n",
       "    <tr>\n",
       "      <th>5</th>\n",
       "      <td>I don't pay attention to her, but as long as s...</td>\n",
       "      <td>[i, dont, pay, attention, to, her, but, a, lon...</td>\n",
       "    </tr>\n",
       "    <tr>\n",
       "      <th>6</th>\n",
       "      <td>Trick or treating in general is just weird...</td>\n",
       "      <td>[trick, or, treating, in, general, is, just, w...</td>\n",
       "    </tr>\n",
       "    <tr>\n",
       "      <th>7</th>\n",
       "      <td>Blade Mastery+Masamune or GTFO!</td>\n",
       "      <td>[blade, masterymasamune, or, gtfo]</td>\n",
       "    </tr>\n",
       "    <tr>\n",
       "      <th>8</th>\n",
       "      <td>You don't have to, you have a good build, buy ...</td>\n",
       "      <td>[you, dont, have, to, you, have, a, good, buil...</td>\n",
       "    </tr>\n",
       "    <tr>\n",
       "      <th>9</th>\n",
       "      <td>I would love to see him at lolla.</td>\n",
       "      <td>[i, would, love, to, see, him, at, lolla]</td>\n",
       "    </tr>\n",
       "  </tbody>\n",
       "</table>\n",
       "</div>\n",
       "      <button class=\"colab-df-convert\" onclick=\"convertToInteractive('df-602eb255-4940-49cc-a449-7b267c5fee87')\"\n",
       "              title=\"Convert this dataframe to an interactive table.\"\n",
       "              style=\"display:none;\">\n",
       "        \n",
       "  <svg xmlns=\"http://www.w3.org/2000/svg\" height=\"24px\"viewBox=\"0 0 24 24\"\n",
       "       width=\"24px\">\n",
       "    <path d=\"M0 0h24v24H0V0z\" fill=\"none\"/>\n",
       "    <path d=\"M18.56 5.44l.94 2.06.94-2.06 2.06-.94-2.06-.94-.94-2.06-.94 2.06-2.06.94zm-11 1L8.5 8.5l.94-2.06 2.06-.94-2.06-.94L8.5 2.5l-.94 2.06-2.06.94zm10 10l.94 2.06.94-2.06 2.06-.94-2.06-.94-.94-2.06-.94 2.06-2.06.94z\"/><path d=\"M17.41 7.96l-1.37-1.37c-.4-.4-.92-.59-1.43-.59-.52 0-1.04.2-1.43.59L10.3 9.45l-7.72 7.72c-.78.78-.78 2.05 0 2.83L4 21.41c.39.39.9.59 1.41.59.51 0 1.02-.2 1.41-.59l7.78-7.78 2.81-2.81c.8-.78.8-2.07 0-2.86zM5.41 20L4 18.59l7.72-7.72 1.47 1.35L5.41 20z\"/>\n",
       "  </svg>\n",
       "      </button>\n",
       "      \n",
       "  <style>\n",
       "    .colab-df-container {\n",
       "      display:flex;\n",
       "      flex-wrap:wrap;\n",
       "      gap: 12px;\n",
       "    }\n",
       "\n",
       "    .colab-df-convert {\n",
       "      background-color: #E8F0FE;\n",
       "      border: none;\n",
       "      border-radius: 50%;\n",
       "      cursor: pointer;\n",
       "      display: none;\n",
       "      fill: #1967D2;\n",
       "      height: 32px;\n",
       "      padding: 0 0 0 0;\n",
       "      width: 32px;\n",
       "    }\n",
       "\n",
       "    .colab-df-convert:hover {\n",
       "      background-color: #E2EBFA;\n",
       "      box-shadow: 0px 1px 2px rgba(60, 64, 67, 0.3), 0px 1px 3px 1px rgba(60, 64, 67, 0.15);\n",
       "      fill: #174EA6;\n",
       "    }\n",
       "\n",
       "    [theme=dark] .colab-df-convert {\n",
       "      background-color: #3B4455;\n",
       "      fill: #D2E3FC;\n",
       "    }\n",
       "\n",
       "    [theme=dark] .colab-df-convert:hover {\n",
       "      background-color: #434B5C;\n",
       "      box-shadow: 0px 1px 3px 1px rgba(0, 0, 0, 0.15);\n",
       "      filter: drop-shadow(0px 1px 2px rgba(0, 0, 0, 0.3));\n",
       "      fill: #FFFFFF;\n",
       "    }\n",
       "  </style>\n",
       "\n",
       "      <script>\n",
       "        const buttonEl =\n",
       "          document.querySelector('#df-602eb255-4940-49cc-a449-7b267c5fee87 button.colab-df-convert');\n",
       "        buttonEl.style.display =\n",
       "          google.colab.kernel.accessAllowed ? 'block' : 'none';\n",
       "\n",
       "        async function convertToInteractive(key) {\n",
       "          const element = document.querySelector('#df-602eb255-4940-49cc-a449-7b267c5fee87');\n",
       "          const dataTable =\n",
       "            await google.colab.kernel.invokeFunction('convertToInteractive',\n",
       "                                                     [key], {});\n",
       "          if (!dataTable) return;\n",
       "\n",
       "          const docLinkHtml = 'Like what you see? Visit the ' +\n",
       "            '<a target=\"_blank\" href=https://colab.research.google.com/notebooks/data_table.ipynb>data table notebook</a>'\n",
       "            + ' to learn more about interactive tables.';\n",
       "          element.innerHTML = '';\n",
       "          dataTable['output_type'] = 'display_data';\n",
       "          await google.colab.output.renderOutput(dataTable, element);\n",
       "          const docLink = document.createElement('div');\n",
       "          docLink.innerHTML = docLinkHtml;\n",
       "          element.appendChild(docLink);\n",
       "        }\n",
       "      </script>\n",
       "    </div>\n",
       "  </div>\n",
       "  "
      ],
      "text/plain": [
       "                                             comment  \\\n",
       "0                                         NC and NH.   \n",
       "1  You do know west teams play against west teams...   \n",
       "2  They were underdogs earlier today, but since G...   \n",
       "3  This meme isn't funny none of the \"new york ni...   \n",
       "4                    I could use one of those tools.   \n",
       "5  I don't pay attention to her, but as long as s...   \n",
       "6      Trick or treating in general is just weird...   \n",
       "7                    Blade Mastery+Masamune or GTFO!   \n",
       "8  You don't have to, you have a good build, buy ...   \n",
       "9                  I would love to see him at lolla.   \n",
       "\n",
       "                                      comment_tokens  \n",
       "0                                      [nc, and, nh]  \n",
       "1  [you, do, know, west, team, play, against, wes...  \n",
       "2  [they, were, underdog, earlier, today, but, si...  \n",
       "3  [this, meme, isnt, funny, none, of, the, new, ...  \n",
       "4              [i, could, use, one, of, those, tool]  \n",
       "5  [i, dont, pay, attention, to, her, but, a, lon...  \n",
       "6  [trick, or, treating, in, general, is, just, w...  \n",
       "7                 [blade, masterymasamune, or, gtfo]  \n",
       "8  [you, dont, have, to, you, have, a, good, buil...  \n",
       "9          [i, would, love, to, see, him, at, lolla]  "
      ]
     },
     "execution_count": 18,
     "metadata": {},
     "output_type": "execute_result"
    }
   ],
   "source": [
    "data[[\"comment\", \"comment_tokens\"]].head(10)"
   ]
  },
  {
   "cell_type": "code",
   "execution_count": 19,
   "metadata": {
    "colab": {
     "base_uri": "https://localhost:8080/"
    },
    "id": "90mlFX-TB-V6",
    "outputId": "c3e07284-5b3e-4901-808c-89d2c5debb47",
    "pycharm": {
     "name": "#%%\n"
    }
   },
   "outputs": [
    {
     "data": {
      "text/plain": [
       "(1010773,)"
      ]
     },
     "execution_count": 19,
     "metadata": {},
     "output_type": "execute_result"
    }
   ],
   "source": [
    "data['comment_tokens'].shape"
   ]
  },
  {
   "cell_type": "code",
   "execution_count": 20,
   "metadata": {
    "colab": {
     "base_uri": "https://localhost:8080/",
     "height": 363
    },
    "id": "PhMNLACvB-V6",
    "outputId": "ff40cd20-aee9-4d41-b763-6fbf3cfce398",
    "pycharm": {
     "name": "#%%\n"
    }
   },
   "outputs": [
    {
     "data": {
      "text/html": [
       "\n",
       "  <div id=\"df-082517af-115a-42be-a443-5e058b2e28e2\">\n",
       "    <div class=\"colab-df-container\">\n",
       "      <div>\n",
       "<style scoped>\n",
       "    .dataframe tbody tr th:only-of-type {\n",
       "        vertical-align: middle;\n",
       "    }\n",
       "\n",
       "    .dataframe tbody tr th {\n",
       "        vertical-align: top;\n",
       "    }\n",
       "\n",
       "    .dataframe thead th {\n",
       "        text-align: right;\n",
       "    }\n",
       "</style>\n",
       "<table border=\"1\" class=\"dataframe\">\n",
       "  <thead>\n",
       "    <tr style=\"text-align: right;\">\n",
       "      <th></th>\n",
       "      <th>parent_comment</th>\n",
       "      <th>parent_comment_tokens</th>\n",
       "    </tr>\n",
       "  </thead>\n",
       "  <tbody>\n",
       "    <tr>\n",
       "      <th>0</th>\n",
       "      <td>Yeah, I get that argument. At this point, I'd ...</td>\n",
       "      <td>[yeah, i, get, that, argument, at, this, point...</td>\n",
       "    </tr>\n",
       "    <tr>\n",
       "      <th>1</th>\n",
       "      <td>The blazers and Mavericks (The wests 5 and 6 s...</td>\n",
       "      <td>[the, blazer, and, maverick, the, west, 5, and...</td>\n",
       "    </tr>\n",
       "    <tr>\n",
       "      <th>2</th>\n",
       "      <td>They're favored to win.</td>\n",
       "      <td>[theyre, favored, to, win]</td>\n",
       "    </tr>\n",
       "    <tr>\n",
       "      <th>3</th>\n",
       "      <td>deadass don't kill my buzz</td>\n",
       "      <td>[deadass, dont, kill, my, buzz]</td>\n",
       "    </tr>\n",
       "    <tr>\n",
       "      <th>4</th>\n",
       "      <td>Yep can confirm I saw the tool they use for th...</td>\n",
       "      <td>[yep, can, confirm, i, saw, the, tool, they, u...</td>\n",
       "    </tr>\n",
       "    <tr>\n",
       "      <th>5</th>\n",
       "      <td>do you find ariana grande sexy ?</td>\n",
       "      <td>[do, you, find, ariana, grande, sexy]</td>\n",
       "    </tr>\n",
       "    <tr>\n",
       "      <th>6</th>\n",
       "      <td>What's your weird or unsettling Trick or Treat...</td>\n",
       "      <td>[whats, your, weird, or, unsettling, trick, or...</td>\n",
       "    </tr>\n",
       "    <tr>\n",
       "      <th>7</th>\n",
       "      <td>Probably Sephiroth. I refuse to taint his grea...</td>\n",
       "      <td>[probably, sephiroth, i, refuse, to, taint, hi...</td>\n",
       "    </tr>\n",
       "    <tr>\n",
       "      <th>8</th>\n",
       "      <td>What to upgrade? I have $500 to spend (mainly ...</td>\n",
       "      <td>[what, to, upgrade, i, have, 500, to, spend, m...</td>\n",
       "    </tr>\n",
       "    <tr>\n",
       "      <th>9</th>\n",
       "      <td>Probably count Kanye out Since the rest of his...</td>\n",
       "      <td>[probably, count, kanye, out, since, the, rest...</td>\n",
       "    </tr>\n",
       "  </tbody>\n",
       "</table>\n",
       "</div>\n",
       "      <button class=\"colab-df-convert\" onclick=\"convertToInteractive('df-082517af-115a-42be-a443-5e058b2e28e2')\"\n",
       "              title=\"Convert this dataframe to an interactive table.\"\n",
       "              style=\"display:none;\">\n",
       "        \n",
       "  <svg xmlns=\"http://www.w3.org/2000/svg\" height=\"24px\"viewBox=\"0 0 24 24\"\n",
       "       width=\"24px\">\n",
       "    <path d=\"M0 0h24v24H0V0z\" fill=\"none\"/>\n",
       "    <path d=\"M18.56 5.44l.94 2.06.94-2.06 2.06-.94-2.06-.94-.94-2.06-.94 2.06-2.06.94zm-11 1L8.5 8.5l.94-2.06 2.06-.94-2.06-.94L8.5 2.5l-.94 2.06-2.06.94zm10 10l.94 2.06.94-2.06 2.06-.94-2.06-.94-.94-2.06-.94 2.06-2.06.94z\"/><path d=\"M17.41 7.96l-1.37-1.37c-.4-.4-.92-.59-1.43-.59-.52 0-1.04.2-1.43.59L10.3 9.45l-7.72 7.72c-.78.78-.78 2.05 0 2.83L4 21.41c.39.39.9.59 1.41.59.51 0 1.02-.2 1.41-.59l7.78-7.78 2.81-2.81c.8-.78.8-2.07 0-2.86zM5.41 20L4 18.59l7.72-7.72 1.47 1.35L5.41 20z\"/>\n",
       "  </svg>\n",
       "      </button>\n",
       "      \n",
       "  <style>\n",
       "    .colab-df-container {\n",
       "      display:flex;\n",
       "      flex-wrap:wrap;\n",
       "      gap: 12px;\n",
       "    }\n",
       "\n",
       "    .colab-df-convert {\n",
       "      background-color: #E8F0FE;\n",
       "      border: none;\n",
       "      border-radius: 50%;\n",
       "      cursor: pointer;\n",
       "      display: none;\n",
       "      fill: #1967D2;\n",
       "      height: 32px;\n",
       "      padding: 0 0 0 0;\n",
       "      width: 32px;\n",
       "    }\n",
       "\n",
       "    .colab-df-convert:hover {\n",
       "      background-color: #E2EBFA;\n",
       "      box-shadow: 0px 1px 2px rgba(60, 64, 67, 0.3), 0px 1px 3px 1px rgba(60, 64, 67, 0.15);\n",
       "      fill: #174EA6;\n",
       "    }\n",
       "\n",
       "    [theme=dark] .colab-df-convert {\n",
       "      background-color: #3B4455;\n",
       "      fill: #D2E3FC;\n",
       "    }\n",
       "\n",
       "    [theme=dark] .colab-df-convert:hover {\n",
       "      background-color: #434B5C;\n",
       "      box-shadow: 0px 1px 3px 1px rgba(0, 0, 0, 0.15);\n",
       "      filter: drop-shadow(0px 1px 2px rgba(0, 0, 0, 0.3));\n",
       "      fill: #FFFFFF;\n",
       "    }\n",
       "  </style>\n",
       "\n",
       "      <script>\n",
       "        const buttonEl =\n",
       "          document.querySelector('#df-082517af-115a-42be-a443-5e058b2e28e2 button.colab-df-convert');\n",
       "        buttonEl.style.display =\n",
       "          google.colab.kernel.accessAllowed ? 'block' : 'none';\n",
       "\n",
       "        async function convertToInteractive(key) {\n",
       "          const element = document.querySelector('#df-082517af-115a-42be-a443-5e058b2e28e2');\n",
       "          const dataTable =\n",
       "            await google.colab.kernel.invokeFunction('convertToInteractive',\n",
       "                                                     [key], {});\n",
       "          if (!dataTable) return;\n",
       "\n",
       "          const docLinkHtml = 'Like what you see? Visit the ' +\n",
       "            '<a target=\"_blank\" href=https://colab.research.google.com/notebooks/data_table.ipynb>data table notebook</a>'\n",
       "            + ' to learn more about interactive tables.';\n",
       "          element.innerHTML = '';\n",
       "          dataTable['output_type'] = 'display_data';\n",
       "          await google.colab.output.renderOutput(dataTable, element);\n",
       "          const docLink = document.createElement('div');\n",
       "          docLink.innerHTML = docLinkHtml;\n",
       "          element.appendChild(docLink);\n",
       "        }\n",
       "      </script>\n",
       "    </div>\n",
       "  </div>\n",
       "  "
      ],
      "text/plain": [
       "                                      parent_comment  \\\n",
       "0  Yeah, I get that argument. At this point, I'd ...   \n",
       "1  The blazers and Mavericks (The wests 5 and 6 s...   \n",
       "2                            They're favored to win.   \n",
       "3                         deadass don't kill my buzz   \n",
       "4  Yep can confirm I saw the tool they use for th...   \n",
       "5                   do you find ariana grande sexy ?   \n",
       "6  What's your weird or unsettling Trick or Treat...   \n",
       "7  Probably Sephiroth. I refuse to taint his grea...   \n",
       "8  What to upgrade? I have $500 to spend (mainly ...   \n",
       "9  Probably count Kanye out Since the rest of his...   \n",
       "\n",
       "                               parent_comment_tokens  \n",
       "0  [yeah, i, get, that, argument, at, this, point...  \n",
       "1  [the, blazer, and, maverick, the, west, 5, and...  \n",
       "2                         [theyre, favored, to, win]  \n",
       "3                    [deadass, dont, kill, my, buzz]  \n",
       "4  [yep, can, confirm, i, saw, the, tool, they, u...  \n",
       "5              [do, you, find, ariana, grande, sexy]  \n",
       "6  [whats, your, weird, or, unsettling, trick, or...  \n",
       "7  [probably, sephiroth, i, refuse, to, taint, hi...  \n",
       "8  [what, to, upgrade, i, have, 500, to, spend, m...  \n",
       "9  [probably, count, kanye, out, since, the, rest...  "
      ]
     },
     "execution_count": 20,
     "metadata": {},
     "output_type": "execute_result"
    }
   ],
   "source": [
    "data[[\"parent_comment\", \"parent_comment_tokens\"]].head(10)"
   ]
  },
  {
   "cell_type": "code",
   "execution_count": 21,
   "metadata": {
    "colab": {
     "base_uri": "https://localhost:8080/"
    },
    "id": "csO8vZCeB-V7",
    "outputId": "9d8ba787-2d6d-42a2-df1b-d662008ddc83",
    "pycharm": {
     "name": "#%%\n"
    }
   },
   "outputs": [
    {
     "data": {
      "text/plain": [
       "(1010773,)"
      ]
     },
     "execution_count": 21,
     "metadata": {},
     "output_type": "execute_result"
    }
   ],
   "source": [
    "data['parent_comment_tokens'].shape"
   ]
  },
  {
   "cell_type": "code",
   "execution_count": 22,
   "metadata": {
    "id": "c1KHKynAB-V8"
   },
   "outputs": [],
   "source": [
    "X = data[['comment_tokens', 'parent_comment_tokens']]"
   ]
  },
  {
   "cell_type": "code",
   "execution_count": 23,
   "metadata": {
    "colab": {
     "base_uri": "https://localhost:8080/",
     "height": 363
    },
    "id": "q1-UQkLdB-V8",
    "outputId": "3e109d85-0143-4ae0-d65b-b026629bd091"
   },
   "outputs": [
    {
     "data": {
      "text/html": [
       "\n",
       "  <div id=\"df-9327e258-9510-41f1-9fb4-fbed140f6c11\">\n",
       "    <div class=\"colab-df-container\">\n",
       "      <div>\n",
       "<style scoped>\n",
       "    .dataframe tbody tr th:only-of-type {\n",
       "        vertical-align: middle;\n",
       "    }\n",
       "\n",
       "    .dataframe tbody tr th {\n",
       "        vertical-align: top;\n",
       "    }\n",
       "\n",
       "    .dataframe thead th {\n",
       "        text-align: right;\n",
       "    }\n",
       "</style>\n",
       "<table border=\"1\" class=\"dataframe\">\n",
       "  <thead>\n",
       "    <tr style=\"text-align: right;\">\n",
       "      <th></th>\n",
       "      <th>comment_tokens</th>\n",
       "      <th>parent_comment_tokens</th>\n",
       "    </tr>\n",
       "  </thead>\n",
       "  <tbody>\n",
       "    <tr>\n",
       "      <th>0</th>\n",
       "      <td>[nc, and, nh]</td>\n",
       "      <td>[yeah, i, get, that, argument, at, this, point...</td>\n",
       "    </tr>\n",
       "    <tr>\n",
       "      <th>1</th>\n",
       "      <td>[you, do, know, west, team, play, against, wes...</td>\n",
       "      <td>[the, blazer, and, maverick, the, west, 5, and...</td>\n",
       "    </tr>\n",
       "    <tr>\n",
       "      <th>2</th>\n",
       "      <td>[they, were, underdog, earlier, today, but, si...</td>\n",
       "      <td>[theyre, favored, to, win]</td>\n",
       "    </tr>\n",
       "    <tr>\n",
       "      <th>3</th>\n",
       "      <td>[this, meme, isnt, funny, none, of, the, new, ...</td>\n",
       "      <td>[deadass, dont, kill, my, buzz]</td>\n",
       "    </tr>\n",
       "    <tr>\n",
       "      <th>4</th>\n",
       "      <td>[i, could, use, one, of, those, tool]</td>\n",
       "      <td>[yep, can, confirm, i, saw, the, tool, they, u...</td>\n",
       "    </tr>\n",
       "    <tr>\n",
       "      <th>5</th>\n",
       "      <td>[i, dont, pay, attention, to, her, but, a, lon...</td>\n",
       "      <td>[do, you, find, ariana, grande, sexy]</td>\n",
       "    </tr>\n",
       "    <tr>\n",
       "      <th>6</th>\n",
       "      <td>[trick, or, treating, in, general, is, just, w...</td>\n",
       "      <td>[whats, your, weird, or, unsettling, trick, or...</td>\n",
       "    </tr>\n",
       "    <tr>\n",
       "      <th>7</th>\n",
       "      <td>[blade, masterymasamune, or, gtfo]</td>\n",
       "      <td>[probably, sephiroth, i, refuse, to, taint, hi...</td>\n",
       "    </tr>\n",
       "    <tr>\n",
       "      <th>8</th>\n",
       "      <td>[you, dont, have, to, you, have, a, good, buil...</td>\n",
       "      <td>[what, to, upgrade, i, have, 500, to, spend, m...</td>\n",
       "    </tr>\n",
       "    <tr>\n",
       "      <th>9</th>\n",
       "      <td>[i, would, love, to, see, him, at, lolla]</td>\n",
       "      <td>[probably, count, kanye, out, since, the, rest...</td>\n",
       "    </tr>\n",
       "  </tbody>\n",
       "</table>\n",
       "</div>\n",
       "      <button class=\"colab-df-convert\" onclick=\"convertToInteractive('df-9327e258-9510-41f1-9fb4-fbed140f6c11')\"\n",
       "              title=\"Convert this dataframe to an interactive table.\"\n",
       "              style=\"display:none;\">\n",
       "        \n",
       "  <svg xmlns=\"http://www.w3.org/2000/svg\" height=\"24px\"viewBox=\"0 0 24 24\"\n",
       "       width=\"24px\">\n",
       "    <path d=\"M0 0h24v24H0V0z\" fill=\"none\"/>\n",
       "    <path d=\"M18.56 5.44l.94 2.06.94-2.06 2.06-.94-2.06-.94-.94-2.06-.94 2.06-2.06.94zm-11 1L8.5 8.5l.94-2.06 2.06-.94-2.06-.94L8.5 2.5l-.94 2.06-2.06.94zm10 10l.94 2.06.94-2.06 2.06-.94-2.06-.94-.94-2.06-.94 2.06-2.06.94z\"/><path d=\"M17.41 7.96l-1.37-1.37c-.4-.4-.92-.59-1.43-.59-.52 0-1.04.2-1.43.59L10.3 9.45l-7.72 7.72c-.78.78-.78 2.05 0 2.83L4 21.41c.39.39.9.59 1.41.59.51 0 1.02-.2 1.41-.59l7.78-7.78 2.81-2.81c.8-.78.8-2.07 0-2.86zM5.41 20L4 18.59l7.72-7.72 1.47 1.35L5.41 20z\"/>\n",
       "  </svg>\n",
       "      </button>\n",
       "      \n",
       "  <style>\n",
       "    .colab-df-container {\n",
       "      display:flex;\n",
       "      flex-wrap:wrap;\n",
       "      gap: 12px;\n",
       "    }\n",
       "\n",
       "    .colab-df-convert {\n",
       "      background-color: #E8F0FE;\n",
       "      border: none;\n",
       "      border-radius: 50%;\n",
       "      cursor: pointer;\n",
       "      display: none;\n",
       "      fill: #1967D2;\n",
       "      height: 32px;\n",
       "      padding: 0 0 0 0;\n",
       "      width: 32px;\n",
       "    }\n",
       "\n",
       "    .colab-df-convert:hover {\n",
       "      background-color: #E2EBFA;\n",
       "      box-shadow: 0px 1px 2px rgba(60, 64, 67, 0.3), 0px 1px 3px 1px rgba(60, 64, 67, 0.15);\n",
       "      fill: #174EA6;\n",
       "    }\n",
       "\n",
       "    [theme=dark] .colab-df-convert {\n",
       "      background-color: #3B4455;\n",
       "      fill: #D2E3FC;\n",
       "    }\n",
       "\n",
       "    [theme=dark] .colab-df-convert:hover {\n",
       "      background-color: #434B5C;\n",
       "      box-shadow: 0px 1px 3px 1px rgba(0, 0, 0, 0.15);\n",
       "      filter: drop-shadow(0px 1px 2px rgba(0, 0, 0, 0.3));\n",
       "      fill: #FFFFFF;\n",
       "    }\n",
       "  </style>\n",
       "\n",
       "      <script>\n",
       "        const buttonEl =\n",
       "          document.querySelector('#df-9327e258-9510-41f1-9fb4-fbed140f6c11 button.colab-df-convert');\n",
       "        buttonEl.style.display =\n",
       "          google.colab.kernel.accessAllowed ? 'block' : 'none';\n",
       "\n",
       "        async function convertToInteractive(key) {\n",
       "          const element = document.querySelector('#df-9327e258-9510-41f1-9fb4-fbed140f6c11');\n",
       "          const dataTable =\n",
       "            await google.colab.kernel.invokeFunction('convertToInteractive',\n",
       "                                                     [key], {});\n",
       "          if (!dataTable) return;\n",
       "\n",
       "          const docLinkHtml = 'Like what you see? Visit the ' +\n",
       "            '<a target=\"_blank\" href=https://colab.research.google.com/notebooks/data_table.ipynb>data table notebook</a>'\n",
       "            + ' to learn more about interactive tables.';\n",
       "          element.innerHTML = '';\n",
       "          dataTable['output_type'] = 'display_data';\n",
       "          await google.colab.output.renderOutput(dataTable, element);\n",
       "          const docLink = document.createElement('div');\n",
       "          docLink.innerHTML = docLinkHtml;\n",
       "          element.appendChild(docLink);\n",
       "        }\n",
       "      </script>\n",
       "    </div>\n",
       "  </div>\n",
       "  "
      ],
      "text/plain": [
       "                                      comment_tokens  \\\n",
       "0                                      [nc, and, nh]   \n",
       "1  [you, do, know, west, team, play, against, wes...   \n",
       "2  [they, were, underdog, earlier, today, but, si...   \n",
       "3  [this, meme, isnt, funny, none, of, the, new, ...   \n",
       "4              [i, could, use, one, of, those, tool]   \n",
       "5  [i, dont, pay, attention, to, her, but, a, lon...   \n",
       "6  [trick, or, treating, in, general, is, just, w...   \n",
       "7                 [blade, masterymasamune, or, gtfo]   \n",
       "8  [you, dont, have, to, you, have, a, good, buil...   \n",
       "9          [i, would, love, to, see, him, at, lolla]   \n",
       "\n",
       "                               parent_comment_tokens  \n",
       "0  [yeah, i, get, that, argument, at, this, point...  \n",
       "1  [the, blazer, and, maverick, the, west, 5, and...  \n",
       "2                         [theyre, favored, to, win]  \n",
       "3                    [deadass, dont, kill, my, buzz]  \n",
       "4  [yep, can, confirm, i, saw, the, tool, they, u...  \n",
       "5              [do, you, find, ariana, grande, sexy]  \n",
       "6  [whats, your, weird, or, unsettling, trick, or...  \n",
       "7  [probably, sephiroth, i, refuse, to, taint, hi...  \n",
       "8  [what, to, upgrade, i, have, 500, to, spend, m...  \n",
       "9  [probably, count, kanye, out, since, the, rest...  "
      ]
     },
     "execution_count": 23,
     "metadata": {},
     "output_type": "execute_result"
    }
   ],
   "source": [
    "X.head(10)"
   ]
  },
  {
   "cell_type": "code",
   "execution_count": 24,
   "metadata": {
    "id": "EodAkf1pB-V9"
   },
   "outputs": [],
   "source": [
    "Y = data[['label']]"
   ]
  },
  {
   "cell_type": "code",
   "execution_count": 25,
   "metadata": {
    "colab": {
     "base_uri": "https://localhost:8080/",
     "height": 363
    },
    "id": "NfBMg_DWB-V9",
    "outputId": "45930e2e-478f-4de7-b74a-32cbe6e5b0c7"
   },
   "outputs": [
    {
     "data": {
      "text/html": [
       "\n",
       "  <div id=\"df-63b5e22d-6407-4b29-847a-5c4ed9a73145\">\n",
       "    <div class=\"colab-df-container\">\n",
       "      <div>\n",
       "<style scoped>\n",
       "    .dataframe tbody tr th:only-of-type {\n",
       "        vertical-align: middle;\n",
       "    }\n",
       "\n",
       "    .dataframe tbody tr th {\n",
       "        vertical-align: top;\n",
       "    }\n",
       "\n",
       "    .dataframe thead th {\n",
       "        text-align: right;\n",
       "    }\n",
       "</style>\n",
       "<table border=\"1\" class=\"dataframe\">\n",
       "  <thead>\n",
       "    <tr style=\"text-align: right;\">\n",
       "      <th></th>\n",
       "      <th>label</th>\n",
       "    </tr>\n",
       "  </thead>\n",
       "  <tbody>\n",
       "    <tr>\n",
       "      <th>1010816</th>\n",
       "      <td>1</td>\n",
       "    </tr>\n",
       "    <tr>\n",
       "      <th>1010817</th>\n",
       "      <td>1</td>\n",
       "    </tr>\n",
       "    <tr>\n",
       "      <th>1010818</th>\n",
       "      <td>1</td>\n",
       "    </tr>\n",
       "    <tr>\n",
       "      <th>1010819</th>\n",
       "      <td>1</td>\n",
       "    </tr>\n",
       "    <tr>\n",
       "      <th>1010820</th>\n",
       "      <td>1</td>\n",
       "    </tr>\n",
       "    <tr>\n",
       "      <th>1010821</th>\n",
       "      <td>1</td>\n",
       "    </tr>\n",
       "    <tr>\n",
       "      <th>1010822</th>\n",
       "      <td>1</td>\n",
       "    </tr>\n",
       "    <tr>\n",
       "      <th>1010823</th>\n",
       "      <td>1</td>\n",
       "    </tr>\n",
       "    <tr>\n",
       "      <th>1010824</th>\n",
       "      <td>1</td>\n",
       "    </tr>\n",
       "    <tr>\n",
       "      <th>1010825</th>\n",
       "      <td>1</td>\n",
       "    </tr>\n",
       "  </tbody>\n",
       "</table>\n",
       "</div>\n",
       "      <button class=\"colab-df-convert\" onclick=\"convertToInteractive('df-63b5e22d-6407-4b29-847a-5c4ed9a73145')\"\n",
       "              title=\"Convert this dataframe to an interactive table.\"\n",
       "              style=\"display:none;\">\n",
       "        \n",
       "  <svg xmlns=\"http://www.w3.org/2000/svg\" height=\"24px\"viewBox=\"0 0 24 24\"\n",
       "       width=\"24px\">\n",
       "    <path d=\"M0 0h24v24H0V0z\" fill=\"none\"/>\n",
       "    <path d=\"M18.56 5.44l.94 2.06.94-2.06 2.06-.94-2.06-.94-.94-2.06-.94 2.06-2.06.94zm-11 1L8.5 8.5l.94-2.06 2.06-.94-2.06-.94L8.5 2.5l-.94 2.06-2.06.94zm10 10l.94 2.06.94-2.06 2.06-.94-2.06-.94-.94-2.06-.94 2.06-2.06.94z\"/><path d=\"M17.41 7.96l-1.37-1.37c-.4-.4-.92-.59-1.43-.59-.52 0-1.04.2-1.43.59L10.3 9.45l-7.72 7.72c-.78.78-.78 2.05 0 2.83L4 21.41c.39.39.9.59 1.41.59.51 0 1.02-.2 1.41-.59l7.78-7.78 2.81-2.81c.8-.78.8-2.07 0-2.86zM5.41 20L4 18.59l7.72-7.72 1.47 1.35L5.41 20z\"/>\n",
       "  </svg>\n",
       "      </button>\n",
       "      \n",
       "  <style>\n",
       "    .colab-df-container {\n",
       "      display:flex;\n",
       "      flex-wrap:wrap;\n",
       "      gap: 12px;\n",
       "    }\n",
       "\n",
       "    .colab-df-convert {\n",
       "      background-color: #E8F0FE;\n",
       "      border: none;\n",
       "      border-radius: 50%;\n",
       "      cursor: pointer;\n",
       "      display: none;\n",
       "      fill: #1967D2;\n",
       "      height: 32px;\n",
       "      padding: 0 0 0 0;\n",
       "      width: 32px;\n",
       "    }\n",
       "\n",
       "    .colab-df-convert:hover {\n",
       "      background-color: #E2EBFA;\n",
       "      box-shadow: 0px 1px 2px rgba(60, 64, 67, 0.3), 0px 1px 3px 1px rgba(60, 64, 67, 0.15);\n",
       "      fill: #174EA6;\n",
       "    }\n",
       "\n",
       "    [theme=dark] .colab-df-convert {\n",
       "      background-color: #3B4455;\n",
       "      fill: #D2E3FC;\n",
       "    }\n",
       "\n",
       "    [theme=dark] .colab-df-convert:hover {\n",
       "      background-color: #434B5C;\n",
       "      box-shadow: 0px 1px 3px 1px rgba(0, 0, 0, 0.15);\n",
       "      filter: drop-shadow(0px 1px 2px rgba(0, 0, 0, 0.3));\n",
       "      fill: #FFFFFF;\n",
       "    }\n",
       "  </style>\n",
       "\n",
       "      <script>\n",
       "        const buttonEl =\n",
       "          document.querySelector('#df-63b5e22d-6407-4b29-847a-5c4ed9a73145 button.colab-df-convert');\n",
       "        buttonEl.style.display =\n",
       "          google.colab.kernel.accessAllowed ? 'block' : 'none';\n",
       "\n",
       "        async function convertToInteractive(key) {\n",
       "          const element = document.querySelector('#df-63b5e22d-6407-4b29-847a-5c4ed9a73145');\n",
       "          const dataTable =\n",
       "            await google.colab.kernel.invokeFunction('convertToInteractive',\n",
       "                                                     [key], {});\n",
       "          if (!dataTable) return;\n",
       "\n",
       "          const docLinkHtml = 'Like what you see? Visit the ' +\n",
       "            '<a target=\"_blank\" href=https://colab.research.google.com/notebooks/data_table.ipynb>data table notebook</a>'\n",
       "            + ' to learn more about interactive tables.';\n",
       "          element.innerHTML = '';\n",
       "          dataTable['output_type'] = 'display_data';\n",
       "          await google.colab.output.renderOutput(dataTable, element);\n",
       "          const docLink = document.createElement('div');\n",
       "          docLink.innerHTML = docLinkHtml;\n",
       "          element.appendChild(docLink);\n",
       "        }\n",
       "      </script>\n",
       "    </div>\n",
       "  </div>\n",
       "  "
      ],
      "text/plain": [
       "         label\n",
       "1010816      1\n",
       "1010817      1\n",
       "1010818      1\n",
       "1010819      1\n",
       "1010820      1\n",
       "1010821      1\n",
       "1010822      1\n",
       "1010823      1\n",
       "1010824      1\n",
       "1010825      1"
      ]
     },
     "execution_count": 25,
     "metadata": {},
     "output_type": "execute_result"
    }
   ],
   "source": [
    "Y.tail(10)"
   ]
  },
  {
   "cell_type": "code",
   "execution_count": 26,
   "metadata": {
    "id": "6mnu3l3QB-V-"
   },
   "outputs": [],
   "source": [
    "X_train, X_val, y_train, y_val = train_test_split(X, Y, train_size= 0.6)"
   ]
  },
  {
   "cell_type": "code",
   "execution_count": 27,
   "metadata": {
    "id": "iCPPPTHrB-V-"
   },
   "outputs": [],
   "source": [
    "X_val, X_test, y_val, y_test = train_test_split(X_val, y_val, train_size = 0.5) "
   ]
  },
  {
   "cell_type": "code",
   "execution_count": 28,
   "metadata": {
    "id": "j3pn34veB-V-"
   },
   "outputs": [],
   "source": [
    "X_train = X_train.reset_index(drop = True)\n",
    "X_val = X_val.reset_index(drop = True)\n",
    "X_test = X_test.reset_index(drop = True)"
   ]
  },
  {
   "cell_type": "code",
   "execution_count": 29,
   "metadata": {
    "id": "9dWmr6L7B-V-"
   },
   "outputs": [],
   "source": [
    "y_train = y_train.reset_index(drop = True)\n",
    "y_valid = y_val.reset_index(drop = True)\n",
    "y_test = y_test.reset_index(drop = True)"
   ]
  },
  {
   "cell_type": "code",
   "execution_count": 30,
   "metadata": {
    "colab": {
     "base_uri": "https://localhost:8080/",
     "height": 363
    },
    "id": "Ej_7dKWPB-V_",
    "outputId": "65e77730-308e-4c84-a9c8-eddb5a84f132"
   },
   "outputs": [
    {
     "data": {
      "text/html": [
       "\n",
       "  <div id=\"df-46107a2d-60b2-4522-9bad-92ef2e6cd8b7\">\n",
       "    <div class=\"colab-df-container\">\n",
       "      <div>\n",
       "<style scoped>\n",
       "    .dataframe tbody tr th:only-of-type {\n",
       "        vertical-align: middle;\n",
       "    }\n",
       "\n",
       "    .dataframe tbody tr th {\n",
       "        vertical-align: top;\n",
       "    }\n",
       "\n",
       "    .dataframe thead th {\n",
       "        text-align: right;\n",
       "    }\n",
       "</style>\n",
       "<table border=\"1\" class=\"dataframe\">\n",
       "  <thead>\n",
       "    <tr style=\"text-align: right;\">\n",
       "      <th></th>\n",
       "      <th>comment_tokens</th>\n",
       "      <th>parent_comment_tokens</th>\n",
       "    </tr>\n",
       "  </thead>\n",
       "  <tbody>\n",
       "    <tr>\n",
       "      <th>0</th>\n",
       "      <td>[a, someone, working, my, way, into, 512, gym,...</td>\n",
       "      <td>[my, so, call, it, the, universal, climber, st...</td>\n",
       "    </tr>\n",
       "    <tr>\n",
       "      <th>1</th>\n",
       "      <td>[yeh, be, yourself, your, uncool, white, self]</td>\n",
       "      <td>[the, man, saying, dont, try, to, be, someone,...</td>\n",
       "    </tr>\n",
       "    <tr>\n",
       "      <th>2</th>\n",
       "      <td>[yes, for, the, first, two, i, see, that, it, ...</td>\n",
       "      <td>[is, that, what, cause, the, crash, are, these...</td>\n",
       "    </tr>\n",
       "    <tr>\n",
       "      <th>3</th>\n",
       "      <td>[thats, what, the, hawk, get, for, wearing, th...</td>\n",
       "      <td>[vucevic, hit, the, game, winner]</td>\n",
       "    </tr>\n",
       "    <tr>\n",
       "      <th>4</th>\n",
       "      <td>[my, condolence, on, the, loss, of, your, brot...</td>\n",
       "      <td>[lent, my, brotherinlaw, my, ps2, this, is, ho...</td>\n",
       "    </tr>\n",
       "    <tr>\n",
       "      <th>5</th>\n",
       "      <td>[do, you, think, we, should, bring, back, la, ...</td>\n",
       "      <td>[awesome, im, fairly, familiar, with, 100, luc...</td>\n",
       "    </tr>\n",
       "    <tr>\n",
       "      <th>6</th>\n",
       "      <td>[password, recovery, isnt, implemented, yet]</td>\n",
       "      <td>[how, do, i, reset, the, password, i, can, not...</td>\n",
       "    </tr>\n",
       "    <tr>\n",
       "      <th>7</th>\n",
       "      <td>[strange, i, thought, everybody, replied, to, ...</td>\n",
       "      <td>[negative]</td>\n",
       "    </tr>\n",
       "    <tr>\n",
       "      <th>8</th>\n",
       "      <td>[im, inclined, to, think, it, wa, meant, a, a,...</td>\n",
       "      <td>[what, the, hell, crawled, up, your, as, go, p...</td>\n",
       "    </tr>\n",
       "    <tr>\n",
       "      <th>9</th>\n",
       "      <td>[assad, had, to, destroy, the, town, in, order...</td>\n",
       "      <td>[largely, because, theyve, got, sane, rule, of...</td>\n",
       "    </tr>\n",
       "  </tbody>\n",
       "</table>\n",
       "</div>\n",
       "      <button class=\"colab-df-convert\" onclick=\"convertToInteractive('df-46107a2d-60b2-4522-9bad-92ef2e6cd8b7')\"\n",
       "              title=\"Convert this dataframe to an interactive table.\"\n",
       "              style=\"display:none;\">\n",
       "        \n",
       "  <svg xmlns=\"http://www.w3.org/2000/svg\" height=\"24px\"viewBox=\"0 0 24 24\"\n",
       "       width=\"24px\">\n",
       "    <path d=\"M0 0h24v24H0V0z\" fill=\"none\"/>\n",
       "    <path d=\"M18.56 5.44l.94 2.06.94-2.06 2.06-.94-2.06-.94-.94-2.06-.94 2.06-2.06.94zm-11 1L8.5 8.5l.94-2.06 2.06-.94-2.06-.94L8.5 2.5l-.94 2.06-2.06.94zm10 10l.94 2.06.94-2.06 2.06-.94-2.06-.94-.94-2.06-.94 2.06-2.06.94z\"/><path d=\"M17.41 7.96l-1.37-1.37c-.4-.4-.92-.59-1.43-.59-.52 0-1.04.2-1.43.59L10.3 9.45l-7.72 7.72c-.78.78-.78 2.05 0 2.83L4 21.41c.39.39.9.59 1.41.59.51 0 1.02-.2 1.41-.59l7.78-7.78 2.81-2.81c.8-.78.8-2.07 0-2.86zM5.41 20L4 18.59l7.72-7.72 1.47 1.35L5.41 20z\"/>\n",
       "  </svg>\n",
       "      </button>\n",
       "      \n",
       "  <style>\n",
       "    .colab-df-container {\n",
       "      display:flex;\n",
       "      flex-wrap:wrap;\n",
       "      gap: 12px;\n",
       "    }\n",
       "\n",
       "    .colab-df-convert {\n",
       "      background-color: #E8F0FE;\n",
       "      border: none;\n",
       "      border-radius: 50%;\n",
       "      cursor: pointer;\n",
       "      display: none;\n",
       "      fill: #1967D2;\n",
       "      height: 32px;\n",
       "      padding: 0 0 0 0;\n",
       "      width: 32px;\n",
       "    }\n",
       "\n",
       "    .colab-df-convert:hover {\n",
       "      background-color: #E2EBFA;\n",
       "      box-shadow: 0px 1px 2px rgba(60, 64, 67, 0.3), 0px 1px 3px 1px rgba(60, 64, 67, 0.15);\n",
       "      fill: #174EA6;\n",
       "    }\n",
       "\n",
       "    [theme=dark] .colab-df-convert {\n",
       "      background-color: #3B4455;\n",
       "      fill: #D2E3FC;\n",
       "    }\n",
       "\n",
       "    [theme=dark] .colab-df-convert:hover {\n",
       "      background-color: #434B5C;\n",
       "      box-shadow: 0px 1px 3px 1px rgba(0, 0, 0, 0.15);\n",
       "      filter: drop-shadow(0px 1px 2px rgba(0, 0, 0, 0.3));\n",
       "      fill: #FFFFFF;\n",
       "    }\n",
       "  </style>\n",
       "\n",
       "      <script>\n",
       "        const buttonEl =\n",
       "          document.querySelector('#df-46107a2d-60b2-4522-9bad-92ef2e6cd8b7 button.colab-df-convert');\n",
       "        buttonEl.style.display =\n",
       "          google.colab.kernel.accessAllowed ? 'block' : 'none';\n",
       "\n",
       "        async function convertToInteractive(key) {\n",
       "          const element = document.querySelector('#df-46107a2d-60b2-4522-9bad-92ef2e6cd8b7');\n",
       "          const dataTable =\n",
       "            await google.colab.kernel.invokeFunction('convertToInteractive',\n",
       "                                                     [key], {});\n",
       "          if (!dataTable) return;\n",
       "\n",
       "          const docLinkHtml = 'Like what you see? Visit the ' +\n",
       "            '<a target=\"_blank\" href=https://colab.research.google.com/notebooks/data_table.ipynb>data table notebook</a>'\n",
       "            + ' to learn more about interactive tables.';\n",
       "          element.innerHTML = '';\n",
       "          dataTable['output_type'] = 'display_data';\n",
       "          await google.colab.output.renderOutput(dataTable, element);\n",
       "          const docLink = document.createElement('div');\n",
       "          docLink.innerHTML = docLinkHtml;\n",
       "          element.appendChild(docLink);\n",
       "        }\n",
       "      </script>\n",
       "    </div>\n",
       "  </div>\n",
       "  "
      ],
      "text/plain": [
       "                                      comment_tokens  \\\n",
       "0  [a, someone, working, my, way, into, 512, gym,...   \n",
       "1     [yeh, be, yourself, your, uncool, white, self]   \n",
       "2  [yes, for, the, first, two, i, see, that, it, ...   \n",
       "3  [thats, what, the, hawk, get, for, wearing, th...   \n",
       "4  [my, condolence, on, the, loss, of, your, brot...   \n",
       "5  [do, you, think, we, should, bring, back, la, ...   \n",
       "6       [password, recovery, isnt, implemented, yet]   \n",
       "7  [strange, i, thought, everybody, replied, to, ...   \n",
       "8  [im, inclined, to, think, it, wa, meant, a, a,...   \n",
       "9  [assad, had, to, destroy, the, town, in, order...   \n",
       "\n",
       "                               parent_comment_tokens  \n",
       "0  [my, so, call, it, the, universal, climber, st...  \n",
       "1  [the, man, saying, dont, try, to, be, someone,...  \n",
       "2  [is, that, what, cause, the, crash, are, these...  \n",
       "3                  [vucevic, hit, the, game, winner]  \n",
       "4  [lent, my, brotherinlaw, my, ps2, this, is, ho...  \n",
       "5  [awesome, im, fairly, familiar, with, 100, luc...  \n",
       "6  [how, do, i, reset, the, password, i, can, not...  \n",
       "7                                         [negative]  \n",
       "8  [what, the, hell, crawled, up, your, as, go, p...  \n",
       "9  [largely, because, theyve, got, sane, rule, of...  "
      ]
     },
     "execution_count": 30,
     "metadata": {},
     "output_type": "execute_result"
    }
   ],
   "source": [
    "X_train.head(10)"
   ]
  },
  {
   "cell_type": "code",
   "execution_count": 31,
   "metadata": {
    "colab": {
     "base_uri": "https://localhost:8080/"
    },
    "id": "-a5h-ocrB-V_",
    "outputId": "1810412d-9f3b-44eb-9724-9db86a65f358"
   },
   "outputs": [
    {
     "data": {
      "text/plain": [
       "606463"
      ]
     },
     "execution_count": 31,
     "metadata": {},
     "output_type": "execute_result"
    }
   ],
   "source": [
    "len(X_train)"
   ]
  },
  {
   "cell_type": "code",
   "execution_count": 32,
   "metadata": {
    "colab": {
     "base_uri": "https://localhost:8080/"
    },
    "id": "qsArxBw3B-WA",
    "outputId": "a5bd4fdb-e21d-4b30-b2f4-683db909d6e8"
   },
   "outputs": [
    {
     "data": {
      "text/plain": [
       "(1010773, 7)"
      ]
     },
     "execution_count": 32,
     "metadata": {},
     "output_type": "execute_result"
    }
   ],
   "source": [
    "data.shape"
   ]
  },
  {
   "cell_type": "code",
   "execution_count": 33,
   "metadata": {
    "id": "GRyg5ZxWB-WA",
    "pycharm": {
     "name": "#%%\n"
    }
   },
   "outputs": [],
   "source": [
    "# Since comments are already preprocessed and tokenized,\n",
    "# the vectorizer only needs to take tokens as they are.\n",
    "tfidfVectorizer = TfidfVectorizer(analyzer=lambda tokens: tokens)\n",
    "corpus = pd.concat([X_train['comment_tokens'], X_train['parent_comment_tokens']])\n",
    "tfidfMatrix = tfidfVectorizer.fit_transform(corpus)\n",
    "vocabulary = tfidfVectorizer.vocabulary_"
   ]
  },
  {
   "cell_type": "code",
   "execution_count": 34,
   "metadata": {
    "colab": {
     "base_uri": "https://localhost:8080/"
    },
    "id": "OzqK3tVAB-WA",
    "outputId": "e61853e7-aa9e-4c38-add0-f4e2b1504bcd"
   },
   "outputs": [
    {
     "data": {
      "text/plain": [
       "(1212926, 284048)"
      ]
     },
     "execution_count": 34,
     "metadata": {},
     "output_type": "execute_result"
    }
   ],
   "source": [
    "tfidfMatrix.shape"
   ]
  },
  {
   "cell_type": "code",
   "execution_count": 35,
   "metadata": {
    "colab": {
     "base_uri": "https://localhost:8080/"
    },
    "id": "SRILmYjTB-WB",
    "outputId": "4c441989-7674-4ddf-a61b-893986e8bbe8",
    "pycharm": {
     "name": "#%%\n"
    }
   },
   "outputs": [
    {
     "data": {
      "text/plain": [
       "<1212926x284048 sparse matrix of type '<class 'numpy.float64'>'\n",
       "\twith 17840926 stored elements in Compressed Sparse Row format>"
      ]
     },
     "execution_count": 35,
     "metadata": {},
     "output_type": "execute_result"
    }
   ],
   "source": [
    "# the tfidf matrix has 2021546 rows,\n",
    "# where the 0 ~ 606462 rows represent original comments in the same order as those in dataset,\n",
    "# and the 606463 ~ 1212926 rows represent parent comments in the same order as those in dataset;\n",
    "# and the tfidf matrix has 395961 columns, each represents a word in the vocabulary.\n",
    "tfidfMatrix"
   ]
  },
  {
   "cell_type": "code",
   "execution_count": 36,
   "metadata": {
    "colab": {
     "base_uri": "https://localhost:8080/"
    },
    "id": "uY-W2yFaB-WB",
    "outputId": "61235d3a-e6ac-4def-c4e0-ba07c438b02e",
    "pycharm": {
     "name": "#%%\n"
    }
   },
   "outputs": [
    {
     "data": {
      "text/plain": [
       "{'a': 18913,\n",
       " 'someone': 234219,\n",
       " 'working': 277116,\n",
       " 'my': 169741,\n",
       " 'way': 271843,\n",
       " 'into': 131278,\n",
       " '512': 13417,\n",
       " 'gym': 114750,\n",
       " 'route': 216518,\n",
       " 'that': 249553,\n",
       " 'shirt': 227366,\n",
       " 'is': 132332,\n",
       " 'dope': 81010,\n",
       " 'yeh': 280863,\n",
       " 'be': 38897,\n",
       " 'yourself': 281819,\n",
       " 'your': 281783,\n",
       " 'uncool': 261395,\n",
       " 'white': 274175,\n",
       " 'self': 223838,\n",
       " 'yes': 281015,\n",
       " 'for': 100484,\n",
       " 'the': 249786,\n",
       " 'first': 98223,\n",
       " 'two': 259067,\n",
       " 'i': 125643,\n",
       " 'see': 223420,\n",
       " 'it': 132933,\n",
       " 'usually': 265051,\n",
       " 'this': 250971,\n",
       " 'attack': 33201,\n",
       " 'though': 251278,\n",
       " 'thats': 249653,\n",
       " 'what': 273688,\n",
       " 'hawk': 117854,\n",
       " 'get': 107873,\n",
       " 'wearing': 272208,\n",
       " 'those': 251252,\n",
       " 'short': 228067,\n",
       " 'with': 275981,\n",
       " 'jersey': 135189,\n",
       " 'condolence': 63552,\n",
       " 'on': 181811,\n",
       " 'loss': 151242,\n",
       " 'of': 180314,\n",
       " 'brotherinlaw': 48482,\n",
       " 'do': 79832,\n",
       " 'you': 281595,\n",
       " 'think': 250804,\n",
       " 'we': 272054,\n",
       " 'should': 228264,\n",
       " 'bring': 47907,\n",
       " 'back': 35670,\n",
       " 'la': 143918,\n",
       " 'momia': 165670,\n",
       " 'password': 188354,\n",
       " 'recovery': 208506,\n",
       " 'isnt': 132685,\n",
       " 'implemented': 127925,\n",
       " 'yet': 281124,\n",
       " 'strange': 240467,\n",
       " 'thought': 251308,\n",
       " 'everybody': 91403,\n",
       " 'replied': 211182,\n",
       " 'to': 253307,\n",
       " 'their': 249978,\n",
       " 'hate': 117544,\n",
       " 'mail': 154356,\n",
       " 'im': 127359,\n",
       " 'inclined': 128530,\n",
       " 'wa': 270018,\n",
       " 'meant': 158997,\n",
       " 'joke': 136225,\n",
       " 'but': 50432,\n",
       " 'he': 118198,\n",
       " 'foolishly': 100354,\n",
       " 'left': 146488,\n",
       " 'off': 180349,\n",
       " 'assad': 32222,\n",
       " 'had': 115229,\n",
       " 'destroy': 75988,\n",
       " 'town': 254963,\n",
       " 'in': 128208,\n",
       " 'order': 183495,\n",
       " 'save': 220649,\n",
       " 'they': 250566,\n",
       " 'clearly': 59955,\n",
       " 'reached': 207360,\n",
       " 'check': 56794,\n",
       " 'point': 194994,\n",
       " 'and': 26922,\n",
       " 'shouldve': 228311,\n",
       " 'pulled': 202264,\n",
       " 'him': 120972,\n",
       " 'through': 251644,\n",
       " 'bungie': 49892,\n",
       " 'better': 41184,\n",
       " 'fix': 98574,\n",
       " 'obvious': 179846,\n",
       " 'big': 41871,\n",
       " 'before': 39630,\n",
       " 'launch': 145484,\n",
       " 'would': 277484,\n",
       " 'nice': 173795,\n",
       " 'have': 117744,\n",
       " 'oj': 181074,\n",
       " 'know': 141768,\n",
       " 'flashing': 98998,\n",
       " 'bare': 37477,\n",
       " 'ankle': 27563,\n",
       " 'mine': 163176,\n",
       " 'correct': 65795,\n",
       " 'one': 181935,\n",
       " 'always': 25681,\n",
       " 'butter': 50717,\n",
       " 'toast': 253345,\n",
       " 'even': 91243,\n",
       " 'if': 126597,\n",
       " 'plan': 193648,\n",
       " 'put': 202841,\n",
       " 'something': 234257,\n",
       " 'else': 87442,\n",
       " 'make': 154610,\n",
       " 'molestation': 165538,\n",
       " 'illegal': 127138,\n",
       " 'not': 177574,\n",
       " 'going': 110353,\n",
       " 'bathroom': 38195,\n",
       " 'jesus': 135250,\n",
       " 'sound': 235026,\n",
       " 'like': 148579,\n",
       " 'quite': 204330,\n",
       " 'debbie': 73096,\n",
       " 'downer': 81626,\n",
       " 'there': 250347,\n",
       " 'ha': 114967,\n",
       " 'more': 166672,\n",
       " 'let': 147366,\n",
       " 'just': 137305,\n",
       " 'bomb': 45243,\n",
       " 'mexico': 161496,\n",
       " 'instead': 130445,\n",
       " 'drop': 82817,\n",
       " 'cold': 61589,\n",
       " 'blooded': 44106,\n",
       " 'space': 235383,\n",
       " 'nazi': 171542,\n",
       " 'who': 274409,\n",
       " 'travel': 256024,\n",
       " 'cosmos': 66073,\n",
       " 'spread': 237098,\n",
       " 'good': 110711,\n",
       " 'word': 276971,\n",
       " 'eugenics': 90869,\n",
       " 'kinda': 140765,\n",
       " 'fish': 98343,\n",
       " 'colon': 61886,\n",
       " 'or': 183357,\n",
       " 'maybe': 157941,\n",
       " 'dash': 71826,\n",
       " 'go': 109851,\n",
       " 'school': 221665,\n",
       " 'understand': 261755,\n",
       " 'from': 102673,\n",
       " 'houston': 123745,\n",
       " 'live': 149581,\n",
       " 'city': 59288,\n",
       " 'so': 233323,\n",
       " 'happier': 116773,\n",
       " 'than': 249460,\n",
       " 'pig': 192550,\n",
       " 'shit': 227404,\n",
       " 'right': 213783,\n",
       " 'now': 178154,\n",
       " 'our': 184428,\n",
       " 'cheat': 56752,\n",
       " 'arent': 30616,\n",
       " 'same': 219514,\n",
       " 'anymore': 29106,\n",
       " 'give': 109050,\n",
       " 'law': 145637,\n",
       " 'doesnt': 80096,\n",
       " 'care': 53325,\n",
       " 'how': 123795,\n",
       " 'perfect': 190440,\n",
       " 'place': 193520,\n",
       " 'protest': 201057,\n",
       " 'still': 239687,\n",
       " 'sure': 243672,\n",
       " 'can': 52412,\n",
       " 'use': 264723,\n",
       " 'gold': 110413,\n",
       " 'pray': 197799,\n",
       " 'will': 275202,\n",
       " 'work': 277044,\n",
       " 'b': 35292,\n",
       " 'play': 193894,\n",
       " 'tank': 246375,\n",
       " 'medium': 159452,\n",
       " 'c': 51278,\n",
       " 'only': 182336,\n",
       " 'detracking': 76173,\n",
       " 'd': 70433,\n",
       " 'accept': 20330,\n",
       " 'fact': 93972,\n",
       " 'cannot': 52715,\n",
       " 'move': 167546,\n",
       " 'next': 173498,\n",
       " 'match': 157366,\n",
       " 'thanks': 249489,\n",
       " 'track': 255189,\n",
       " 'record': 208453,\n",
       " 'appointment': 29819,\n",
       " 'govt': 111479,\n",
       " 'been': 39522,\n",
       " 'par': 187526,\n",
       " 'excellence': 91939,\n",
       " 'totally': 254650,\n",
       " 'where': 273945,\n",
       " 'got': 111250,\n",
       " 'confidence': 63663,\n",
       " 'sauce': 220539,\n",
       " 'yeah': 280485,\n",
       " 'an': 26675,\n",
       " 'ubuntu': 259757,\n",
       " 'fest': 96846,\n",
       " 'here': 119597,\n",
       " 'atleast': 33044,\n",
       " 'chose': 58183,\n",
       " 'host': 123401,\n",
       " 'german': 107702,\n",
       " 'everyone': 91444,\n",
       " 'watching': 271503,\n",
       " 'when': 273925,\n",
       " 'guy': 114530,\n",
       " 'came': 52177,\n",
       " 'stage': 238068,\n",
       " 'his': 121327,\n",
       " 'story': 240256,\n",
       " 'about': 19909,\n",
       " 'loving': 151542,\n",
       " 'game': 105222,\n",
       " 'no': 174838,\n",
       " 'longer': 150712,\n",
       " 'playing': 194077,\n",
       " 'because': 39259,\n",
       " 'latest': 145331,\n",
       " 'direction': 78068,\n",
       " 'takebn': 245935,\n",
       " 'p2w': 186138,\n",
       " 'saved': 220653,\n",
       " 'stuff': 241238,\n",
       " 'main': 154393,\n",
       " 'account': 20475,\n",
       " 'bot': 46213,\n",
       " 'ban': 36879,\n",
       " 'wave': 271768,\n",
       " 'literally': 149429,\n",
       " 'want': 270840,\n",
       " 'kill': 140513,\n",
       " 'us': 264560,\n",
       " 'wrong': 278291,\n",
       " '1st': 5882,\n",
       " 'line': 148947,\n",
       " 'spezza': 236270,\n",
       " 'hey': 120097,\n",
       " 'repost': 211256,\n",
       " 'given': 109068,\n",
       " 'response': 211945,\n",
       " 'tell': 248230,\n",
       " 'why': 274681,\n",
       " 'dont': 80718,\n",
       " 'friend': 102396,\n",
       " 'some': 234178,\n",
       " 'sooner': 234554,\n",
       " 'others': 184261,\n",
       " 'oh': 180801,\n",
       " 'read': 207412,\n",
       " 'mark': 156524,\n",
       " 'wahlbergs': 270302,\n",
       " 'voice': 269027,\n",
       " 'at': 32795,\n",
       " 'bottom': 46328,\n",
       " 'tithing': 252992,\n",
       " 'slip': 231720,\n",
       " 'say': 220781,\n",
       " 'all': 24644,\n",
       " 'money': 165815,\n",
       " 'president': 198824,\n",
       " 'pretty': 199040,\n",
       " 'independent': 128808,\n",
       " 'really': 207660,\n",
       " 'livecut': 149593,\n",
       " 'free': 101888,\n",
       " 'sugarbytes': 242333,\n",
       " 'effectrix': 86171,\n",
       " 'paid': 186641,\n",
       " '50': 13008,\n",
       " 'much': 168231,\n",
       " 'expensive': 92605,\n",
       " 'house': 123658,\n",
       " 'car': 53096,\n",
       " 'list': 149335,\n",
       " 'could': 66314,\n",
       " 'link': 149055,\n",
       " 'nonshow': 176680,\n",
       " 'incanon': 128378,\n",
       " 'adventure': 21876,\n",
       " 'finger': 97812,\n",
       " 'call': 51961,\n",
       " 'down': 81592,\n",
       " 'lightning': 148484,\n",
       " 'people': 190123,\n",
       " 'beware': 41333,\n",
       " 'rich': 213427,\n",
       " 'aholes': 23251,\n",
       " 'regardless': 209608,\n",
       " 'sex': 225521,\n",
       " 'help': 119294,\n",
       " 'everything': 91477,\n",
       " 'dare': 71550,\n",
       " 'police': 195315,\n",
       " 'attacked': 33212,\n",
       " 'ireland': 132053,\n",
       " 'praised': 197720,\n",
       " 'believe': 40037,\n",
       " '5year': 14450,\n",
       " 'old': 181293,\n",
       " 'refugee': 209519,\n",
       " 'capable': 52858,\n",
       " 'driving': 82711,\n",
       " 'truck': 257230,\n",
       " 'yep': 280973,\n",
       " 'instant': 130402,\n",
       " 'refund': 209534,\n",
       " 'me': 158867,\n",
       " 'spoiler': 236737,\n",
       " 'book': 45571,\n",
       " 'contains': 64546,\n",
       " 'night': 174110,\n",
       " 'actually': 21113,\n",
       " 'werent': 273259,\n",
       " 'baptized': 37336,\n",
       " 'are': 30524,\n",
       " 'hell': 119146,\n",
       " 'ignorance': 126785,\n",
       " 'knowing': 141812,\n",
       " 'creator': 67568,\n",
       " 'interesting': 130882,\n",
       " 'wonder': 276615,\n",
       " 'weapon': 272128,\n",
       " 'map': 156087,\n",
       " 'exclusive': 92068,\n",
       " 'era': 89683,\n",
       " 'cvts': 70122,\n",
       " 'passenger': 188276,\n",
       " 'trump': 257376,\n",
       " 'well': 272874,\n",
       " 'loved': 151456,\n",
       " 'negative': 172245,\n",
       " 'must': 169393,\n",
       " 'getting': 107962,\n",
       " 'murica': 169089,\n",
       " 'racist': 204876,\n",
       " 'unconstitutional': 261376,\n",
       " 'after': 22447,\n",
       " 'minority': 163564,\n",
       " 'theyre': 250589,\n",
       " 'little': 149516,\n",
       " 'shitty': 227687,\n",
       " 'long': 150672,\n",
       " 'ketchup': 139716,\n",
       " 'laptop': 145010,\n",
       " 'doe': 80065,\n",
       " 'look': 150865,\n",
       " 'window': 275443,\n",
       " 'up': 263817,\n",
       " 'childhood': 57542,\n",
       " 'oliver': 181445,\n",
       " 'likuta': 148741,\n",
       " 'confirmed': 63714,\n",
       " 'killed': 140558,\n",
       " 'jew': 135344,\n",
       " 'cause': 54581,\n",
       " 'were': 273240,\n",
       " 'being': 39854,\n",
       " 'oppressed': 183170,\n",
       " 'by': 51135,\n",
       " 'them': 250028,\n",
       " 'youll': 281704,\n",
       " 'fine': 97762,\n",
       " 'mew': 161438,\n",
       " 'sbw': 220950,\n",
       " '6': 14458,\n",
       " 'calm': 52055,\n",
       " 'satan': 220390,\n",
       " 'student': 241163,\n",
       " 'fault': 95577,\n",
       " 'fast': 95306,\n",
       " 'eddie': 85695,\n",
       " 'running': 217691,\n",
       " 'great': 112252,\n",
       " 'year': 280620,\n",
       " 'trophy': 257084,\n",
       " 'paramount': 187647,\n",
       " 'kid': 140289,\n",
       " 'development': 76306,\n",
       " 'wow': 277934,\n",
       " 'havent': 117791,\n",
       " 'seen': 223529,\n",
       " 'pic': 192238,\n",
       " 'couple': 66622,\n",
       " 'week': 272518,\n",
       " 'originality': 183720,\n",
       " 'chicken': 57367,\n",
       " 'bastard': 38061,\n",
       " 'fuck': 103184,\n",
       " 'op': 182748,\n",
       " 'need': 172083,\n",
       " 'ice': 126021,\n",
       " 'cream': 67489,\n",
       " 'calling': 52007,\n",
       " 'cps': 67012,\n",
       " 'real': 207536,\n",
       " 'magic': 154009,\n",
       " 'bill': 42168,\n",
       " 'fold': 100118,\n",
       " 'went': 273207,\n",
       " 'ill': 127114,\n",
       " 'aileron': 23358,\n",
       " 'roll': 215664,\n",
       " 'eyy': 93387,\n",
       " 'bb': 38636,\n",
       " 'u': 259502,\n",
       " 'wan': 270762,\n",
       " 'sum': 242571,\n",
       " 'fuk': 103535,\n",
       " 'hillary': 120868,\n",
       " 'build': 49464,\n",
       " 'wall': 270599,\n",
       " 'border': 45924,\n",
       " 'between': 41270,\n",
       " 'america': 26054,\n",
       " 'india': 128843,\n",
       " 'compensating': 62891,\n",
       " 'palestinian': 186908,\n",
       " 'economically': 85561,\n",
       " 'hamas': 116127,\n",
       " 'didnt': 77200,\n",
       " 'exist': 92344,\n",
       " 'making': 154702,\n",
       " 'h2h': 114892,\n",
       " 'experience': 92633,\n",
       " 'amazing': 25854,\n",
       " 'higher': 120473,\n",
       " 'division': 79439,\n",
       " 'lie': 148154,\n",
       " 'lucky': 152188,\n",
       " 'worked': 277070,\n",
       " 'hard': 116898,\n",
       " 'month': 166268,\n",
       " 'deserves': 75719,\n",
       " 'add': 21306,\n",
       " 'hexcrest': 120070,\n",
       " 'focus': 100030,\n",
       " 'sight': 229170,\n",
       " 'wyvern': 278853,\n",
       " 'solution': 234116,\n",
       " 'every': 91399,\n",
       " 'problem': 199751,\n",
       " 'world': 277217,\n",
       " 'raise': 205484,\n",
       " 'tax': 247060,\n",
       " 'none': 175753,\n",
       " 'intelligence': 130695,\n",
       " 'national': 171210,\n",
       " 'defense': 73911,\n",
       " 'remember': 210594,\n",
       " 'drink': 82594,\n",
       " 'lot': 151274,\n",
       " 'alcohol': 24200,\n",
       " 'keep': 139191,\n",
       " 'hydrated': 125169,\n",
       " 'heroin': 119805,\n",
       " 'everywhere': 91511,\n",
       " 'dayz': 72363,\n",
       " 'ptsd': 201924,\n",
       " 'over': 185049,\n",
       " 'again': 22551,\n",
       " 'death': 72926,\n",
       " 'sentence': 224778,\n",
       " 'avoided': 34600,\n",
       " 'inconvenience': 128648,\n",
       " '5': 13007,\n",
       " 'hour': 123616,\n",
       " 'searching': 222958,\n",
       " 'reddit': 208658,\n",
       " 'drift': 82557,\n",
       " 'used': 264730,\n",
       " 'hashtag': 117432,\n",
       " 'raremicrosoft': 206268,\n",
       " 'mgm': 161619,\n",
       " 'board': 44695,\n",
       " 'too': 253984,\n",
       " 'parity': 187842,\n",
       " 'league': 146053,\n",
       " 'then': 250150,\n",
       " 'able': 19787,\n",
       " 'choose': 58115,\n",
       " 'taunt': 246989,\n",
       " 'victory': 267872,\n",
       " 'dance': 71252,\n",
       " 'asking': 32064,\n",
       " 'lucha': 152109,\n",
       " 'question': 204002,\n",
       " 'tremendous': 256261,\n",
       " 'knowledge': 141827,\n",
       " 'apparently': 29644,\n",
       " 'cost': 66096,\n",
       " 'bunch': 49851,\n",
       " 'battleship': 38419,\n",
       " 'launched': 145489,\n",
       " 'rihanna': 213949,\n",
       " 'stardom': 238441,\n",
       " 'punching': 202382,\n",
       " '2020': 6516,\n",
       " 'considered': 64217,\n",
       " 'retro': 212421,\n",
       " 'hence': 119433,\n",
       " 'brought': 48514,\n",
       " 'fat': 95389,\n",
       " 'makeani': 154614,\n",
       " 'wait': 270365,\n",
       " 'quoting': 204430,\n",
       " 'roy': 216603,\n",
       " 'out': 184458,\n",
       " 'eagle': 84837,\n",
       " 'time': 252384,\n",
       " 'offseason': 180586,\n",
       " 'commendation': 62441,\n",
       " 'without': 276053,\n",
       " 'gun': 114113,\n",
       " 'might': 162445,\n",
       " 'e': 84695,\n",
       " 'wont': 276692,\n",
       " 'fun': 103765,\n",
       " 'bench': 40281,\n",
       " 'rodgers': 215446,\n",
       " 'remainder': 210523,\n",
       " 'contract': 64725,\n",
       " 'ensure': 88971,\n",
       " 'healthy': 118492,\n",
       " 'hopefully': 123042,\n",
       " 'justin': 137399,\n",
       " 'hamburglar': 116146,\n",
       " 'trudeau': 257265,\n",
       " 'promise': 200491,\n",
       " 'pull': 202256,\n",
       " 'away': 34715,\n",
       " 'winning': 275678,\n",
       " 'saying': 220813,\n",
       " 'liberal': 147888,\n",
       " 'power': 197294,\n",
       " 'day': 72197,\n",
       " 'breakfast': 47390,\n",
       " 'dear': 72911,\n",
       " 'jponion': 136704,\n",
       " 'prove': 201219,\n",
       " 'female': 96466,\n",
       " 'voted': 269474,\n",
       " 'sander': 219769,\n",
       " 'entitled': 89092,\n",
       " 'date': 71958,\n",
       " 'feeling': 96211,\n",
       " 'bern': 40719,\n",
       " 'soon': 234548,\n",
       " 'additional': 21363,\n",
       " 'clarification': 59649,\n",
       " 'composite': 63088,\n",
       " 'ranking': 206010,\n",
       " 'news': 173354,\n",
       " 'report': 211216,\n",
       " 'computer': 63197,\n",
       " 'science': 221885,\n",
       " 'linkedin': 149067,\n",
       " 'university': 262666,\n",
       " 'software': 233811,\n",
       " 'developer': 76295,\n",
       " 'startup': 238625,\n",
       " 'finally': 97684,\n",
       " 'number': 178754,\n",
       " 'company': 62791,\n",
       " 'run': 217576,\n",
       " 'respective': 211899,\n",
       " 'alumnus': 25652,\n",
       " 'according': 20455,\n",
       " 'angellist': 27236,\n",
       " 'despite': 75895,\n",
       " 'techready': 247822,\n",
       " 'title': 253003,\n",
       " 'mostly': 167091,\n",
       " 'reference': 209321,\n",
       " 'logic': 150280,\n",
       " 'foot': 100384,\n",
       " 'style': 241465,\n",
       " 'okay': 181119,\n",
       " 'antiestablishment': 28281,\n",
       " 'checkmate': 56827,\n",
       " 'delegate': 74407,\n",
       " 'strategy': 240543,\n",
       " 'state': 238680,\n",
       " 'dude': 83535,\n",
       " 'cmon': 60821,\n",
       " 'kind': 140762,\n",
       " 'plot': 194455,\n",
       " 'structure': 241062,\n",
       " 'artistic': 31563,\n",
       " 'design': 75753,\n",
       " 'come': 62210,\n",
       " 'least': 146197,\n",
       " 'decade': 73214,\n",
       " 'throne': 251625,\n",
       " 'workout': 277154,\n",
       " 'top': 254180,\n",
       " 'rcmp': 207083,\n",
       " 'bernie': 40753,\n",
       " 'huge': 124316,\n",
       " 'supporter': 243517,\n",
       " 'glasssteagall': 109284,\n",
       " 'ah': 23052,\n",
       " 'explains': 92734,\n",
       " 'never': 173127,\n",
       " 'shipped': 227302,\n",
       " 'anywhere': 29230,\n",
       " 'sympathy': 244990,\n",
       " 'devil': 76361,\n",
       " 'rolling': 215703,\n",
       " 'stone': 239968,\n",
       " 'pay': 188882,\n",
       " 'buy': 50943,\n",
       " 'bluray': 44513,\n",
       " 'men': 160343,\n",
       " 'woman': 276479,\n",
       " 'slut': 232024,\n",
       " 'punished': 202427,\n",
       " 'ole': 181369,\n",
       " 'mcjobs': 158562,\n",
       " 'barry': 37745,\n",
       " 'once': 181854,\n",
       " 'amtrak': 26607,\n",
       " 'bought': 46385,\n",
       " 'appears': 29686,\n",
       " 'sort': 234835,\n",
       " 'special': 235839,\n",
       " 'heritage': 119713,\n",
       " 'based': 37869,\n",
       " 'photo': 191970,\n",
       " 'taken': 245945,\n",
       " 'guess': 113805,\n",
       " 'whole': 274463,\n",
       " 'message': 160981,\n",
       " 'part': 188001,\n",
       " 'said': 219035,\n",
       " 'hurt': 124890,\n",
       " 'upset': 264201,\n",
       " 'close': 60451,\n",
       " 'reading': 207452,\n",
       " 'comprehension': 63128,\n",
       " 'polish': 195388,\n",
       " 'sejm': 223755,\n",
       " 'interactive': 130780,\n",
       " 'psst': 201715,\n",
       " 'missed': 164160,\n",
       " 'mana': 155230,\n",
       " 'crypt': 68753,\n",
       " 'sol': 233911,\n",
       " 'ring': 214096,\n",
       " 'ancient': 26904,\n",
       " 'tomb': 253791,\n",
       " 't1': 245284,\n",
       " '1v1': 5948,\n",
       " 'fair': 94237,\n",
       " 'thomas': 251155,\n",
       " 'engine': 88630,\n",
       " 'noise': 175137,\n",
       " 'argument': 30740,\n",
       " 'unlimited': 262787,\n",
       " 'mean': 158927,\n",
       " 'sarcastic': 220191,\n",
       " 'lol': 150405,\n",
       " 'doot': 80984,\n",
       " 'hold': 122146,\n",
       " '7': 15566,\n",
       " 'kennys': 139512,\n",
       " 'shape': 226285,\n",
       " 'rub': 217214,\n",
       " 'head': 118213,\n",
       " 'scientific': 221918,\n",
       " 'study': 241216,\n",
       " 'true': 257275,\n",
       " 'wccftech': 271995,\n",
       " 'found': 101177,\n",
       " 'owner': 185899,\n",
       " 'dog': 80134,\n",
       " 'staying': 238954,\n",
       " 'new': 173211,\n",
       " 'home': 122399,\n",
       " 'judging': 136905,\n",
       " 'sweet': 244515,\n",
       " 'timid': 252614,\n",
       " 'video': 267898,\n",
       " 'take': 245929,\n",
       " 'accurate': 20549,\n",
       " 'prevent': 199083,\n",
       " 'unfettered': 262126,\n",
       " 'immigration': 127655,\n",
       " 'horde': 123121,\n",
       " 'arabia': 30148,\n",
       " 'arriving': 31313,\n",
       " 'doorstep': 80967,\n",
       " 'youre': 281790,\n",
       " 'telling': 248248,\n",
       " 'skin': 230744,\n",
       " 'peeled': 189607,\n",
       " 'sunburn': 242722,\n",
       " 'human': 124444,\n",
       " 'reason': 207817,\n",
       " 'child': 57509,\n",
       " 'brother': 48472,\n",
       " 'dead': 72717,\n",
       " 'forever': 100698,\n",
       " 'odd': 180148,\n",
       " 'handing': 116388,\n",
       " 'these': 250502,\n",
       " 'racially': 204844,\n",
       " 'homogenous': 122620,\n",
       " 'israel': 132754,\n",
       " 'created': 67527,\n",
       " 'both': 46246,\n",
       " 'isi': 132493,\n",
       " 'social': 233471,\n",
       " 'spreading': 237103,\n",
       " 'information': 129447,\n",
       " 'spaceship': 235463,\n",
       " 'adidas': 21494,\n",
       " 'trash': 255935,\n",
       " 'worth': 277422,\n",
       " 'federal': 96042,\n",
       " 'sentencing': 224788,\n",
       " 'guideline': 113892,\n",
       " 'mandatory': 155425,\n",
       " 'advisory': 21957,\n",
       " 'curriculum': 69791,\n",
       " 'bachelor': 35650,\n",
       " 'nanotechnology': 170843,\n",
       " 'differ': 77370,\n",
       " 'mechanical': 159158,\n",
       " 'material': 157438,\n",
       " 'engineering': 88637,\n",
       " 'concentration': 63331,\n",
       " 'mem': 160135,\n",
       " 'such': 242144,\n",
       " 'offer': 180431,\n",
       " 'political': 195422,\n",
       " 'statement': 238733,\n",
       " 'tumblrinas': 258178,\n",
       " 'already': 25374,\n",
       " 'nut': 178924,\n",
       " 'job': 135924,\n",
       " 'retroactively': 212423,\n",
       " 'heal': 118410,\n",
       " 'insanity': 130115,\n",
       " 'commit': 62580,\n",
       " 'sudoku': 242252,\n",
       " '1010': 1184,\n",
       " 'kick': 140231,\n",
       " 'as': 31681,\n",
       " 'internet': 131010,\n",
       " 'freedom': 101938,\n",
       " 'speech': 235975,\n",
       " 'intolerant': 131288,\n",
       " 'toxic': 255016,\n",
       " 'repercussion': 211078,\n",
       " 'mossad': 167054,\n",
       " 'ging': 108780,\n",
       " 'iranian': 132000,\n",
       " 'teacher': 247395,\n",
       " 'bro': 48070,\n",
       " 'geography': 107558,\n",
       " 'industry': 129077,\n",
       " 'standard': 238272,\n",
       " 'microsoft': 161995,\n",
       " 'superior': 243176,\n",
       " 'product': 200001,\n",
       " 'which': 274003,\n",
       " 'trust': 257545,\n",
       " 'spy': 237334,\n",
       " 'opposed': 183141,\n",
       " 'collection': 61743,\n",
       " 'program': 200230,\n",
       " 'basement': 37897,\n",
       " 'anything': 29168,\n",
       " 'cognitive': 61408,\n",
       " 'within': 276031,\n",
       " 'ug': 260016,\n",
       " 'affect': 22195,\n",
       " 'language': 144844,\n",
       " '1000': 826,\n",
       " 'pound': 197202,\n",
       " 'seems': 223520,\n",
       " 'fuss': 104185,\n",
       " 'most': 167068,\n",
       " 'likely': 148661,\n",
       " 'amount': 26445,\n",
       " 'very': 267475,\n",
       " 'small': 232108,\n",
       " 'gain': 104934,\n",
       " 'sense': 224699,\n",
       " 'pu': 201940,\n",
       " 've': 266604,\n",
       " 'benefit': 40355,\n",
       " 'hindsightwhy': 121113,\n",
       " 'overkill': 185353,\n",
       " 'easier': 85070,\n",
       " 'sd': 222738,\n",
       " 'thank': 249472,\n",
       " 'god': 110023,\n",
       " 'fence': 96619,\n",
       " 'around': 31163,\n",
       " 'shopping': 228040,\n",
       " 'walmart': 270694,\n",
       " 'brainwashed': 47013,\n",
       " 'corporate': 65742,\n",
       " 'culture': 69388,\n",
       " 'business': 50323,\n",
       " 'sleeping': 231509,\n",
       " 'pussy': 202808,\n",
       " 'serial': 225039,\n",
       " 'killer': 140566,\n",
       " 'team': 247435,\n",
       " 'constantly': 64384,\n",
       " 'pass': 188237,\n",
       " 'bad': 35991,\n",
       " 'everyones': 91457,\n",
       " 'theirs': 249982,\n",
       " 'replace': 211119,\n",
       " 'clee': 59990,\n",
       " 'win': 275351,\n",
       " 'start': 238567,\n",
       " 'learning': 146168,\n",
       " 'russian': 217856,\n",
       " 'simultaneously': 229681,\n",
       " 'awesome': 34755,\n",
       " 'booing': 45569,\n",
       " 'nobody': 174907,\n",
       " 'allen': 24779,\n",
       " 'fieldhouse': 97264,\n",
       " 'ever': 91301,\n",
       " 'boo': 45485,\n",
       " 'anyone': 29131,\n",
       " 'predicted': 198113,\n",
       " 'alabama': 23969,\n",
       " 'playoff': 194121,\n",
       " 'whenever': 273929,\n",
       " 'black': 43138,\n",
       " 'person': 190874,\n",
       " 'forgot': 100807,\n",
       " 'safety': 218914,\n",
       " 'stop': 240054,\n",
       " 'sumbit': 242594,\n",
       " 'application': 29791,\n",
       " 'other': 184237,\n",
       " 'toddler': 253468,\n",
       " 'mastermind': 157232,\n",
       " 'boy': 46638,\n",
       " 'fully': 103704,\n",
       " 'grown': 113253,\n",
       " 'resist': 211768,\n",
       " 'command': 62391,\n",
       " 'whoa': 274410,\n",
       " 'spends': 236206,\n",
       " 'three': 251491,\n",
       " 'painting': 186728,\n",
       " 'himself': 121041,\n",
       " 'ticket': 252024,\n",
       " 'sit': 230163,\n",
       " 'upfront': 263989,\n",
       " 'seattle': 223045,\n",
       " 'follow': 100179,\n",
       " 'while': 274036,\n",
       " 'ready': 207491,\n",
       " 'fame': 94597,\n",
       " 'whore': 274578,\n",
       " 'shocker': 227837,\n",
       " 'meh': 159830,\n",
       " 'quickscope': 204157,\n",
       " '4th': 12909,\n",
       " 'terrorist': 248903,\n",
       " 'giving': 109084,\n",
       " '1v1s': 5952,\n",
       " 'sadly': 218813,\n",
       " 'complained': 62972,\n",
       " 'downvoted': 81796,\n",
       " 'stockpile': 239884,\n",
       " 'upvotes': 264317,\n",
       " 'usual': 265047,\n",
       " 'karma': 138564,\n",
       " 'happened': 116725,\n",
       " 'disagree': 78239,\n",
       " 'downvote': 81788,\n",
       " 'etiquette': 90746,\n",
       " 'largemouth': 145073,\n",
       " 'congrats': 63860,\n",
       " 'water': 271554,\n",
       " 'ago': 22886,\n",
       " 'hang': 116529,\n",
       " 'boat': 44735,\n",
       " 'wanted': 270847,\n",
       " 'catch': 54328,\n",
       " 'french': 102230,\n",
       " 'writing': 278271,\n",
       " 'described': 75647,\n",
       " 'hieroglyph': 120390,\n",
       " 'v': 265430,\n",
       " 'analytical': 26756,\n",
       " 'research': 211608,\n",
       " 'goal': 109868,\n",
       " 'feel': 96189,\n",
       " 'learnt': 146178,\n",
       " 'speaking': 235795,\n",
       " 'tone': 253886,\n",
       " 'using': 264902,\n",
       " 'rather': 206496,\n",
       " 'typing': 259373,\n",
       " 'cap': 52849,\n",
       " 'accusatory': 20564,\n",
       " 'normal': 177273,\n",
       " 'legendary': 146655,\n",
       " 'card': 53220,\n",
       " 'hulk': 124408,\n",
       " 'hogan': 122041,\n",
       " 'daughter': 72057,\n",
       " 'brook': 48392,\n",
       " 'beginning': 39706,\n",
       " 'weekend': 272532,\n",
       " '911': 17657,\n",
       " 'course': 66653,\n",
       " 'idiot': 126398,\n",
       " 'each': 84817,\n",
       " 'bullshit': 49726,\n",
       " 'high': 120415,\n",
       " 'history': 121410,\n",
       " 'fox': 101324,\n",
       " 's': 218282,\n",
       " 'similar': 229547,\n",
       " 'played': 193944,\n",
       " 'nba': 171600,\n",
       " 'suddenly': 242234,\n",
       " 'blue': 44336,\n",
       " 'capture': 53071,\n",
       " 'uncloak': 261301,\n",
       " 'six': 230283,\n",
       " 'last': 145224,\n",
       " 'happy': 116790,\n",
       " 'half': 115751,\n",
       " 'safe': 218862,\n",
       " 'til': 252287,\n",
       " 'girl': 108892,\n",
       " 'fart': 95205,\n",
       " 'kneetodowntaunt': 141593,\n",
       " 'combo': 62161,\n",
       " '210': 6865,\n",
       " 'holding': 122156,\n",
       " 'football': 100391,\n",
       " 'stereotype': 239412,\n",
       " 'european': 91004,\n",
       " 'piston': 193220,\n",
       " 'pie': 192451,\n",
       " 'baking': 36458,\n",
       " 'contest': 64625,\n",
       " 'production': 200005,\n",
       " 'paulie': 188754,\n",
       " 'tried': 256525,\n",
       " 'advantage': 21862,\n",
       " 'am': 25731,\n",
       " '1': 823,\n",
       " 'ama': 25747,\n",
       " '5800': 14016,\n",
       " 'fav': 95643,\n",
       " 'ak': 23770,\n",
       " 'ive': 133457,\n",
       " 'ton': 253878,\n",
       " 'flint': 99337,\n",
       " 'enough': 88877,\n",
       " 'downside': 81727,\n",
       " 'vaccinated': 265636,\n",
       " 'american': 26082,\n",
       " 'express': 92887,\n",
       " 'accepted': 20344,\n",
       " 'uk': 260380,\n",
       " ...}"
      ]
     },
     "execution_count": 36,
     "metadata": {},
     "output_type": "execute_result"
    }
   ],
   "source": [
    "# By using the following dict, we can obtain the index of a given word for querying tfidf matrix.\n",
    "vocabulary"
   ]
  },
  {
   "cell_type": "markdown",
   "metadata": {
    "id": "JHIXaRG8B-WC",
    "pycharm": {
     "name": "#%% md\n"
    }
   },
   "source": [
    "Once we have learned word vectors, to compute the sentence vector of a comment,\n",
    "first fetch the corresponding row from the tfidf matrix (if it is the i-th original comment, then\n",
    "it is the i-th row; if it is the i-th parent comment, then it is the (1010773 + i)-th row),\n",
    "second for each word in the comment find its corresponding tfidf value from the row,\n",
    "third compute the average of the word vectors weighted by corresponding tfidf values."
   ]
  },
  {
   "cell_type": "code",
   "execution_count": 37,
   "metadata": {
    "colab": {
     "base_uri": "https://localhost:8080/"
    },
    "id": "NWkN9_eTB-WC",
    "outputId": "d5cf9334-8fdb-4305-f60d-f72b77456c4c"
   },
   "outputs": [
    {
     "data": {
      "text/plain": [
       "(1212926, 284048)"
      ]
     },
     "execution_count": 37,
     "metadata": {},
     "output_type": "execute_result"
    }
   ],
   "source": [
    "tfidfMatrix.shape"
   ]
  },
  {
   "cell_type": "code",
   "execution_count": 38,
   "metadata": {
    "colab": {
     "base_uri": "https://localhost:8080/"
    },
    "id": "eL8lq1BGB-WC",
    "outputId": "f9a984cb-9e56-4274-e86c-0eaf3418b3e3"
   },
   "outputs": [
    {
     "data": {
      "text/plain": [
       "0.0"
      ]
     },
     "execution_count": 38,
     "metadata": {},
     "output_type": "execute_result"
    }
   ],
   "source": [
    "tfidfMatrix[0,249920]"
   ]
  },
  {
   "cell_type": "code",
   "execution_count": 39,
   "metadata": {
    "colab": {
     "base_uri": "https://localhost:8080/"
    },
    "id": "DwNKPUx5B-WC",
    "outputId": "d78f7e9d-0f6f-44c3-beb9-516ec01e0281"
   },
   "outputs": [
    {
     "data": {
      "text/plain": [
       "249653"
      ]
     },
     "execution_count": 39,
     "metadata": {},
     "output_type": "execute_result"
    }
   ],
   "source": [
    "vocabulary['thats']"
   ]
  },
  {
   "cell_type": "code",
   "execution_count": 40,
   "metadata": {
    "id": "VOWPXq_HB-WD"
   },
   "outputs": [],
   "source": [
    "tfidfMatrixtest = tfidfVectorizer.transform(pd.concat([X_test['comment_tokens'], X_test['parent_comment_tokens']]))\n",
    "tfidfMatrixvalid = tfidfVectorizer.transform(pd.concat([X_val['comment_tokens'], X_val['parent_comment_tokens']]))"
   ]
  },
  {
   "cell_type": "code",
   "execution_count": 41,
   "metadata": {
    "colab": {
     "base_uri": "https://localhost:8080/"
    },
    "id": "4l5WiMpEB-WD",
    "outputId": "6e484943-6e6e-4ea7-cdae-2a08ca6cca74"
   },
   "outputs": [
    {
     "data": {
      "text/plain": [
       "(404310, 284048)"
      ]
     },
     "execution_count": 41,
     "metadata": {},
     "output_type": "execute_result"
    }
   ],
   "source": [
    "tfidfMatrixtest.shape"
   ]
  },
  {
   "cell_type": "code",
   "execution_count": 42,
   "metadata": {
    "colab": {
     "base_uri": "https://localhost:8080/",
     "height": 363
    },
    "id": "bB1Eh7b8B-WE",
    "outputId": "1f354084-2bc7-4b3d-e6fe-48a5de7e33c3"
   },
   "outputs": [
    {
     "data": {
      "text/html": [
       "\n",
       "  <div id=\"df-adcf517e-049a-4cd7-a13a-a1212a1d47d0\">\n",
       "    <div class=\"colab-df-container\">\n",
       "      <div>\n",
       "<style scoped>\n",
       "    .dataframe tbody tr th:only-of-type {\n",
       "        vertical-align: middle;\n",
       "    }\n",
       "\n",
       "    .dataframe tbody tr th {\n",
       "        vertical-align: top;\n",
       "    }\n",
       "\n",
       "    .dataframe thead th {\n",
       "        text-align: right;\n",
       "    }\n",
       "</style>\n",
       "<table border=\"1\" class=\"dataframe\">\n",
       "  <thead>\n",
       "    <tr style=\"text-align: right;\">\n",
       "      <th></th>\n",
       "      <th>comment_tokens</th>\n",
       "      <th>parent_comment_tokens</th>\n",
       "    </tr>\n",
       "  </thead>\n",
       "  <tbody>\n",
       "    <tr>\n",
       "      <th>0</th>\n",
       "      <td>[yeah, it, ended, up, being, just, indigestion]</td>\n",
       "      <td>[wa, the, old, woman, okay]</td>\n",
       "    </tr>\n",
       "    <tr>\n",
       "      <th>1</th>\n",
       "      <td>[i, feel, like, some, of, my, headshot, even, ...</td>\n",
       "      <td>[providing, you, can, track, people, very, wel...</td>\n",
       "    </tr>\n",
       "    <tr>\n",
       "      <th>2</th>\n",
       "      <td>[bitpay]</td>\n",
       "      <td>[i, want, to, take, bitcoin, for, my, business...</td>\n",
       "    </tr>\n",
       "    <tr>\n",
       "      <th>3</th>\n",
       "      <td>[are, they, actually, any, different, then, re...</td>\n",
       "      <td>[get, supreme, one, pleb]</td>\n",
       "    </tr>\n",
       "    <tr>\n",
       "      <th>4</th>\n",
       "      <td>[why, would, she, imitate, rather, than, do, h...</td>\n",
       "      <td>[im, really, impressed, with, how, well, she, ...</td>\n",
       "    </tr>\n",
       "    <tr>\n",
       "      <th>5</th>\n",
       "      <td>[thr, final, mash, episode, back, in, the, ear...</td>\n",
       "      <td>[what, wa, the, last, filmtv, series, you, cri...</td>\n",
       "    </tr>\n",
       "    <tr>\n",
       "      <th>6</th>\n",
       "      <td>[sound, like, local, government, either, have,...</td>\n",
       "      <td>[what, can, i, do, about, this]</td>\n",
       "    </tr>\n",
       "    <tr>\n",
       "      <th>7</th>\n",
       "      <td>[way, to, over, react]</td>\n",
       "      <td>[let, actually, not, because, mass, shooting, ...</td>\n",
       "    </tr>\n",
       "    <tr>\n",
       "      <th>8</th>\n",
       "      <td>[well, i, retract, my, statement, about, the, ...</td>\n",
       "      <td>[yes, the, galaxy, s7, is, well, known, for, n...</td>\n",
       "    </tr>\n",
       "    <tr>\n",
       "      <th>9</th>\n",
       "      <td>[oeuf]</td>\n",
       "      <td>[yeacould, be, could, have, been, melon, melon...</td>\n",
       "    </tr>\n",
       "  </tbody>\n",
       "</table>\n",
       "</div>\n",
       "      <button class=\"colab-df-convert\" onclick=\"convertToInteractive('df-adcf517e-049a-4cd7-a13a-a1212a1d47d0')\"\n",
       "              title=\"Convert this dataframe to an interactive table.\"\n",
       "              style=\"display:none;\">\n",
       "        \n",
       "  <svg xmlns=\"http://www.w3.org/2000/svg\" height=\"24px\"viewBox=\"0 0 24 24\"\n",
       "       width=\"24px\">\n",
       "    <path d=\"M0 0h24v24H0V0z\" fill=\"none\"/>\n",
       "    <path d=\"M18.56 5.44l.94 2.06.94-2.06 2.06-.94-2.06-.94-.94-2.06-.94 2.06-2.06.94zm-11 1L8.5 8.5l.94-2.06 2.06-.94-2.06-.94L8.5 2.5l-.94 2.06-2.06.94zm10 10l.94 2.06.94-2.06 2.06-.94-2.06-.94-.94-2.06-.94 2.06-2.06.94z\"/><path d=\"M17.41 7.96l-1.37-1.37c-.4-.4-.92-.59-1.43-.59-.52 0-1.04.2-1.43.59L10.3 9.45l-7.72 7.72c-.78.78-.78 2.05 0 2.83L4 21.41c.39.39.9.59 1.41.59.51 0 1.02-.2 1.41-.59l7.78-7.78 2.81-2.81c.8-.78.8-2.07 0-2.86zM5.41 20L4 18.59l7.72-7.72 1.47 1.35L5.41 20z\"/>\n",
       "  </svg>\n",
       "      </button>\n",
       "      \n",
       "  <style>\n",
       "    .colab-df-container {\n",
       "      display:flex;\n",
       "      flex-wrap:wrap;\n",
       "      gap: 12px;\n",
       "    }\n",
       "\n",
       "    .colab-df-convert {\n",
       "      background-color: #E8F0FE;\n",
       "      border: none;\n",
       "      border-radius: 50%;\n",
       "      cursor: pointer;\n",
       "      display: none;\n",
       "      fill: #1967D2;\n",
       "      height: 32px;\n",
       "      padding: 0 0 0 0;\n",
       "      width: 32px;\n",
       "    }\n",
       "\n",
       "    .colab-df-convert:hover {\n",
       "      background-color: #E2EBFA;\n",
       "      box-shadow: 0px 1px 2px rgba(60, 64, 67, 0.3), 0px 1px 3px 1px rgba(60, 64, 67, 0.15);\n",
       "      fill: #174EA6;\n",
       "    }\n",
       "\n",
       "    [theme=dark] .colab-df-convert {\n",
       "      background-color: #3B4455;\n",
       "      fill: #D2E3FC;\n",
       "    }\n",
       "\n",
       "    [theme=dark] .colab-df-convert:hover {\n",
       "      background-color: #434B5C;\n",
       "      box-shadow: 0px 1px 3px 1px rgba(0, 0, 0, 0.15);\n",
       "      filter: drop-shadow(0px 1px 2px rgba(0, 0, 0, 0.3));\n",
       "      fill: #FFFFFF;\n",
       "    }\n",
       "  </style>\n",
       "\n",
       "      <script>\n",
       "        const buttonEl =\n",
       "          document.querySelector('#df-adcf517e-049a-4cd7-a13a-a1212a1d47d0 button.colab-df-convert');\n",
       "        buttonEl.style.display =\n",
       "          google.colab.kernel.accessAllowed ? 'block' : 'none';\n",
       "\n",
       "        async function convertToInteractive(key) {\n",
       "          const element = document.querySelector('#df-adcf517e-049a-4cd7-a13a-a1212a1d47d0');\n",
       "          const dataTable =\n",
       "            await google.colab.kernel.invokeFunction('convertToInteractive',\n",
       "                                                     [key], {});\n",
       "          if (!dataTable) return;\n",
       "\n",
       "          const docLinkHtml = 'Like what you see? Visit the ' +\n",
       "            '<a target=\"_blank\" href=https://colab.research.google.com/notebooks/data_table.ipynb>data table notebook</a>'\n",
       "            + ' to learn more about interactive tables.';\n",
       "          element.innerHTML = '';\n",
       "          dataTable['output_type'] = 'display_data';\n",
       "          await google.colab.output.renderOutput(dataTable, element);\n",
       "          const docLink = document.createElement('div');\n",
       "          docLink.innerHTML = docLinkHtml;\n",
       "          element.appendChild(docLink);\n",
       "        }\n",
       "      </script>\n",
       "    </div>\n",
       "  </div>\n",
       "  "
      ],
      "text/plain": [
       "                                      comment_tokens  \\\n",
       "0    [yeah, it, ended, up, being, just, indigestion]   \n",
       "1  [i, feel, like, some, of, my, headshot, even, ...   \n",
       "2                                           [bitpay]   \n",
       "3  [are, they, actually, any, different, then, re...   \n",
       "4  [why, would, she, imitate, rather, than, do, h...   \n",
       "5  [thr, final, mash, episode, back, in, the, ear...   \n",
       "6  [sound, like, local, government, either, have,...   \n",
       "7                             [way, to, over, react]   \n",
       "8  [well, i, retract, my, statement, about, the, ...   \n",
       "9                                             [oeuf]   \n",
       "\n",
       "                               parent_comment_tokens  \n",
       "0                        [wa, the, old, woman, okay]  \n",
       "1  [providing, you, can, track, people, very, wel...  \n",
       "2  [i, want, to, take, bitcoin, for, my, business...  \n",
       "3                          [get, supreme, one, pleb]  \n",
       "4  [im, really, impressed, with, how, well, she, ...  \n",
       "5  [what, wa, the, last, filmtv, series, you, cri...  \n",
       "6                    [what, can, i, do, about, this]  \n",
       "7  [let, actually, not, because, mass, shooting, ...  \n",
       "8  [yes, the, galaxy, s7, is, well, known, for, n...  \n",
       "9  [yeacould, be, could, have, been, melon, melon...  "
      ]
     },
     "execution_count": 42,
     "metadata": {},
     "output_type": "execute_result"
    }
   ],
   "source": [
    "X_test.head(10)"
   ]
  },
  {
   "cell_type": "code",
   "execution_count": 43,
   "metadata": {
    "colab": {
     "base_uri": "https://localhost:8080/"
    },
    "id": "Apu6E71eB-WE",
    "outputId": "c124d6ac-8add-40a5-b01b-12b065f2af62"
   },
   "outputs": [
    {
     "data": {
      "text/plain": [
       "100484"
      ]
     },
     "execution_count": 43,
     "metadata": {},
     "output_type": "execute_result"
    }
   ],
   "source": [
    "vocabulary['for']"
   ]
  },
  {
   "cell_type": "code",
   "execution_count": 44,
   "metadata": {
    "colab": {
     "base_uri": "https://localhost:8080/"
    },
    "id": "u8A7jdafB-WE",
    "outputId": "d4bd6644-9df2-43ec-e534-cbe013df9418"
   },
   "outputs": [
    {
     "data": {
      "text/plain": [
       "0.0"
      ]
     },
     "execution_count": 44,
     "metadata": {},
     "output_type": "execute_result"
    }
   ],
   "source": [
    "tfidfMatrixtest[0, 100573]"
   ]
  },
  {
   "cell_type": "code",
   "execution_count": 45,
   "metadata": {
    "id": "muyep1SGB-WF"
   },
   "outputs": [],
   "source": [
    "def generate_dataset(X, tfidfmat):\n",
    "    comment_featurevec = []\n",
    "    parent_featurevec = []\n",
    "    \n",
    "    for index, sample in X.iterrows():\n",
    "        \n",
    "        comment_vec = np.zeros(300)\n",
    "        parent_comment_vec = np.zeros(300)\n",
    "        comment_tokens = sample['comment_tokens']\n",
    "        parent_comment_tokens = sample['parent_comment_tokens']\n",
    "        counter1 = 0\n",
    "        \n",
    "        for token in comment_tokens:\n",
    "            \n",
    "            if token in glove and token in vocabulary:\n",
    "                counter1 += 1\n",
    "                comment_vec += tfidfmat[index, vocabulary[token]] * glove[token]\n",
    "        \n",
    "        counter2 = 0\n",
    "        for token in parent_comment_tokens:\n",
    "            \n",
    "            if token in glove and token in vocabulary:\n",
    "                counter2 += 1 \n",
    "                parent_comment_vec += tfidfmat[index+len(X), vocabulary[token]] * glove[token]\n",
    "        \n",
    "        if counter1 != 0:\n",
    "            comment_featurevec.append(comment_vec/counter1)\n",
    "        else:\n",
    "            comment_featurevec.append(comment_vec)\n",
    "        \n",
    "        if counter2 != 0:\n",
    "            parent_featurevec.append(parent_comment_vec/counter2)\n",
    "        else:\n",
    "            parent_featurevec.append(parent_comment_vec)\n",
    "            \n",
    "        \n",
    "    #print(len(comment_featurevec))\n",
    "    X['comment_weighted_vec'] = comment_featurevec\n",
    "    X['parent_weighted_vec'] = parent_featurevec\n",
    "    new_df = pd.DataFrame()\n",
    "        \n",
    "    return X\n",
    "    \n",
    "    \n",
    "    "
   ]
  },
  {
   "cell_type": "code",
   "execution_count": 46,
   "metadata": {
    "id": "wQ6QfXMtB-WF"
   },
   "outputs": [],
   "source": [
    "X_train = generate_dataset(X_train, tfidfMatrix)"
   ]
  },
  {
   "cell_type": "code",
   "execution_count": 47,
   "metadata": {
    "id": "gnGtChVSB-WG"
   },
   "outputs": [],
   "source": [
    "X_val = generate_dataset(X_val, tfidfMatrixvalid)"
   ]
  },
  {
   "cell_type": "code",
   "execution_count": 48,
   "metadata": {
    "id": "WXFNbr7JB-WG"
   },
   "outputs": [],
   "source": [
    "X_test = generate_dataset(X_test, tfidfMatrixtest)"
   ]
  },
  {
   "cell_type": "code",
   "execution_count": 49,
   "metadata": {
    "id": "mLRcW6yCB-WG"
   },
   "outputs": [],
   "source": [
    "X_train = X_train[['comment_weighted_vec', 'parent_weighted_vec']]\n",
    "X_val = X_val[['comment_weighted_vec', 'parent_weighted_vec']]\n",
    "X_test = X_test[['comment_weighted_vec', 'parent_weighted_vec']]"
   ]
  },
  {
   "cell_type": "code",
   "execution_count": 50,
   "metadata": {
    "id": "kDk4t9dDB-WG"
   },
   "outputs": [],
   "source": [
    "def featurize(dataset):\n",
    "    x = pd.DataFrame(dataset['parent_weighted_vec'].tolist(), columns = [i for i in range(300)])\n",
    "    y = pd.DataFrame(dataset['comment_weighted_vec'].tolist(), columns = [i for i in range(300, 600)])\n",
    "    return pd.concat([x, y], axis = 1)"
   ]
  },
  {
   "cell_type": "code",
   "execution_count": 51,
   "metadata": {
    "id": "Y2lcwA11B-WH"
   },
   "outputs": [],
   "source": [
    "X_train = featurize(X_train)\n",
    "X_val = featurize(X_val)\n",
    "X_test = featurize(X_test)"
   ]
  },
  {
   "cell_type": "code",
   "execution_count": 52,
   "metadata": {
    "id": "kN3JkrP_B-WH"
   },
   "outputs": [],
   "source": [
    "clf = LogisticRegression(max_iter = 500).fit(X_train, y_train.values.ravel())"
   ]
  },
  {
   "cell_type": "code",
   "execution_count": 53,
   "metadata": {
    "colab": {
     "base_uri": "https://localhost:8080/"
    },
    "id": "1UgJdzZLB-WH",
    "outputId": "015046bb-ee5e-42db-905a-64112c272e69"
   },
   "outputs": [
    {
     "data": {
      "text/plain": [
       "0.5964977368850635"
      ]
     },
     "execution_count": 53,
     "metadata": {},
     "output_type": "execute_result"
    }
   ],
   "source": [
    "clf.score(X_test, y_test)"
   ]
  },
  {
   "cell_type": "code",
   "execution_count": 54,
   "metadata": {
    "colab": {
     "base_uri": "https://localhost:8080/"
    },
    "id": "eZUGHLTXB-WH",
    "outputId": "93e1634a-f3c5-47ea-feb2-10e3ee2edbfb"
   },
   "outputs": [
    {
     "data": {
      "text/plain": [
       "0.5935643441913383"
      ]
     },
     "execution_count": 54,
     "metadata": {},
     "output_type": "execute_result"
    }
   ],
   "source": [
    "clf.score(X_val, y_val)"
   ]
  },
  {
   "cell_type": "code",
   "execution_count": 55,
   "metadata": {
    "colab": {
     "base_uri": "https://localhost:8080/"
    },
    "id": "gW9kLxF3B-WI",
    "outputId": "a3d073ec-5854-4743-b037-dd41da9479df"
   },
   "outputs": [
    {
     "data": {
      "text/plain": [
       "array([1])"
      ]
     },
     "execution_count": 55,
     "metadata": {},
     "output_type": "execute_result"
    }
   ],
   "source": [
    "clf.predict(X_test.iloc[2].values.reshape(1,-1))"
   ]
  },
  {
   "cell_type": "markdown",
   "metadata": {
    "id": "aGuumrFiF9Rz"
   },
   "source": [
    "Feed Forward Neural Net Begin...."
   ]
  },
  {
   "cell_type": "code",
   "execution_count": 70,
   "metadata": {
    "id": "-xn7hj5cB-WM"
   },
   "outputs": [],
   "source": [
    "x_tr = torch.tensor(X_train.iloc[:,0:600].values, dtype= torch.float32)\n",
    "x_val = torch.tensor(X_val.iloc[:,0:600].values, dtype= torch.float32)\n",
    "x_test = torch.tensor(X_test.iloc[:,0:600].values,dtype= torch.float32)\n",
    "y_tr = torch.tensor(list(y_train['label']), dtype= torch.long)\n",
    "y_vali = torch.tensor(list(y_val['label']), dtype= torch.long)\n",
    "y_tst = torch.tensor(list(y_test['label']), dtype= torch.long)"
   ]
  },
  {
   "cell_type": "code",
   "execution_count": 71,
   "metadata": {
    "colab": {
     "base_uri": "https://localhost:8080/"
    },
    "id": "lCx2ZXKaedex",
    "outputId": "bedd0595-e531-4b45-90c1-348452391627"
   },
   "outputs": [
    {
     "data": {
      "text/plain": [
       "tensor([[-0.0248,  0.0141, -0.0494,  ..., -0.0317,  0.0076,  0.0226],\n",
       "        [-0.0096, -0.0013, -0.0602,  ..., -0.0546, -0.0038,  0.0154],\n",
       "        [-0.0444,  0.0113, -0.0118,  ..., -0.0727, -0.0282,  0.0099],\n",
       "        ...,\n",
       "        [-0.0440,  0.0138, -0.0153,  ...,  0.0837, -0.0454, -0.0131],\n",
       "        [ 0.0214,  0.0437,  0.0123,  ..., -0.0339, -0.0062, -0.0168],\n",
       "        [-0.0095,  0.0027, -0.0059,  ..., -0.0492,  0.0064, -0.0106]],\n",
       "       device='cuda:0')"
      ]
     },
     "execution_count": 71,
     "metadata": {},
     "output_type": "execute_result"
    }
   ],
   "source": [
    "x_tr.to(device)"
   ]
  },
  {
   "cell_type": "code",
   "execution_count": 72,
   "metadata": {
    "colab": {
     "base_uri": "https://localhost:8080/"
    },
    "id": "t9RPHm01ejls",
    "outputId": "761ea7cd-1b76-492d-f930-c47dfb4fd045"
   },
   "outputs": [
    {
     "data": {
      "text/plain": [
       "tensor([1, 0, 0,  ..., 0, 0, 1], device='cuda:0')"
      ]
     },
     "execution_count": 72,
     "metadata": {},
     "output_type": "execute_result"
    }
   ],
   "source": [
    "x_val.to(device)\n",
    "x_test.to(device)\n",
    "y_tr.to(device)\n",
    "y_vali.to(device)\n",
    "y_tst.to(device)"
   ]
  },
  {
   "cell_type": "code",
   "execution_count": 73,
   "metadata": {
    "id": "0EQfBeN3evN8"
   },
   "outputs": [],
   "source": [
    "class XY(Dataset):\n",
    "  def __init__(self, x, y):\n",
    "    self.x = x\n",
    "    self.y = y\n",
    "  def __len__(self):\n",
    "    return len(self.y)\n",
    "  def __getitem__(self, i):\n",
    "    return self.x[i], self.y[i]"
   ]
  },
  {
   "cell_type": "code",
   "execution_count": 74,
   "metadata": {
    "id": "4GQcddZ-fzM_"
   },
   "outputs": [],
   "source": [
    "trainset = XY(x_tr, y_tr)\n",
    "valset = XY(x_val, y_vali)\n",
    "testset = XY(x_test, y_tst)"
   ]
  },
  {
   "cell_type": "code",
   "execution_count": 127,
   "metadata": {
    "id": "zTeVYXFTucMc"
   },
   "outputs": [],
   "source": [
    "input_dim = 600\n",
    "hidden_dim = 256\n",
    "output_dim = 3\n",
    "num_epochs = 100\n",
    "batch_size = 128"
   ]
  },
  {
   "cell_type": "code",
   "execution_count": 128,
   "metadata": {
    "id": "WUBrSjr-n8QZ"
   },
   "outputs": [],
   "source": [
    "trainloader = torch.utils.data.DataLoader(trainset, batch_size = batch_size, shuffle=True)\n",
    "valloader = torch.utils.data.DataLoader(valset, batch_size = batch_size, shuffle=True)\n",
    "testloader = torch.utils.data.DataLoader(testset, batch_size = batch_size, shuffle=True)"
   ]
  },
  {
   "cell_type": "markdown",
   "metadata": {
    "id": "pTDHL0Q9B-WM"
   },
   "source": [
    "## 2. Models"
   ]
  },
  {
   "cell_type": "code",
   "execution_count": 129,
   "metadata": {
    "id": "SyrDlWZsB-WN"
   },
   "outputs": [],
   "source": [
    "class FFNN(nn.Module):\n",
    "    def __init__(self, layer_num, input_dim, hidden_dim, output_dim):\n",
    "      super(FFNN, self).__init__()\n",
    "      self.layers = [nn.Linear(input_dim, hidden_dim)]\n",
    "      for i in range(1, layer_num):\n",
    "        self.layers.append(nn.Linear(hidden_dim, hidden_dim))\n",
    "        self.layers.append(nn.ReLU())\n",
    "      self.layers.append(nn.Linear(hidden_dim, output_dim))\n",
    "\n",
    "      self.layers = nn.ModuleList(self.layers)\n",
    "    \n",
    "    def forward(self, x):\n",
    "        for layer in self.layers:\n",
    "          x = layer(x)\n",
    "        return x"
   ]
  },
  {
   "cell_type": "code",
   "execution_count": 130,
   "metadata": {
    "id": "XTDqgpLnB-WN"
   },
   "outputs": [],
   "source": [
    "model = FFNN(2, input_dim, hidden_dim, output_dim).to(device)\n",
    "\n",
    "loss_fn = nn.CrossEntropyLoss()\n",
    "optimizer = torch.optim.Adam(model.parameters(), lr=0.001)"
   ]
  },
  {
   "cell_type": "code",
   "execution_count": 131,
   "metadata": {
    "colab": {
     "base_uri": "https://localhost:8080/"
    },
    "id": "P_q5BW3JB-WN",
    "outputId": "4fb8fe19-2e78-4a9e-e0fd-051f68a4c9fe"
   },
   "outputs": [
    {
     "name": "stdout",
     "output_type": "stream",
     "text": [
      "Epoch completed: 20\n",
      "\tTraining Loss: 0.589\n",
      "\tValidation Loss: 0.571\n",
      "\n",
      "Epoch completed: 40\n",
      "\tTraining Loss: 0.572\n",
      "\tValidation Loss: 0.548\n",
      "\n",
      "Epoch completed: 60\n",
      "\tTraining Loss: 0.562\n",
      "\tValidation Loss: 0.537\n",
      "\n",
      "Epoch completed: 80\n",
      "\tTraining Loss: 0.556\n",
      "\tValidation Loss: 0.585\n",
      "\n",
      "Epoch completed: 100\n",
      "\tTraining Loss: 0.551\n",
      "\tValidation Loss: 0.589\n",
      "\n"
     ]
    }
   ],
   "source": [
    "train_losses = []\n",
    "val_losses = []\n",
    "val_loss_min = math.inf\n",
    "for epoch in range(num_epochs):\n",
    "    train_loss = 0\n",
    "    val_loss = 0\n",
    "    \n",
    "    model.train()\n",
    "    for data, target in trainloader:\n",
    "      optimizer.zero_grad()\n",
    "      data = data.to(device)\n",
    "      target = target.to(device)\n",
    "      output = model(data)\n",
    "      optimizer.zero_grad() \n",
    "      loss = loss_fn(output, target)  \n",
    "      train_loss += loss.item()\n",
    "      loss.backward()\n",
    "      optimizer.step()\n",
    "      inpt = []\n",
    "    \n",
    "    model.eval()\n",
    "    for data, target in valloader:\n",
    "      data = data.to(device)\n",
    "      target = target.to(device)\n",
    "      output = model(data)\n",
    "      val_loss += loss.item()\n",
    "    \n",
    "    train_losses.append(train_loss/len(trainloader))\n",
    "    val_losses.append(val_loss/len(valloader))\n",
    "\n",
    "    if val_loss <= val_loss_min:\n",
    "      torch.save(model.state_dict(), 'model.pt')\n",
    "      val_loss_min = val_loss \n",
    "    if (epoch + 1) % 20 == 0:\n",
    "      print(\"Epoch completed: \" + str(epoch+1) +\n",
    "            f\"\\n\\tTraining Loss: {train_losses[epoch]:.3f}\" + \n",
    "            f\"\\n\\tValidation Loss: {val_losses[epoch]:.3f}\\n\")"
   ]
  },
  {
   "cell_type": "code",
   "execution_count": 132,
   "metadata": {
    "colab": {
     "base_uri": "https://localhost:8080/"
    },
    "id": "KXCAuImpB-WO",
    "outputId": "0c3b4c98-0c42-427c-bba2-59f41efb2b57"
   },
   "outputs": [
    {
     "name": "stdout",
     "output_type": "stream",
     "text": [
      "              precision    recall  f1-score   support\n",
      "\n",
      "           0       0.64      0.66      0.65    100991\n",
      "           1       0.65      0.64      0.64    101164\n",
      "\n",
      "    accuracy                           0.65    202155\n",
      "   macro avg       0.65      0.65      0.65    202155\n",
      "weighted avg       0.65      0.65      0.65    202155\n",
      "\n"
     ]
    }
   ],
   "source": [
    "from sklearn.metrics import classification_report\n",
    "preds = []\n",
    "labels = torch.tensor(list(y_val['label'].values))\n",
    "model = FFNN(2, input_dim, hidden_dim, output_dim)\n",
    "model.load_state_dict(torch.load('model.pt'))\n",
    "with torch.no_grad():\n",
    "    for index, row in X_val.iterrows():\n",
    "        output = model(torch.Tensor(row))\n",
    "        preds.append(torch.argmax(output, dim=0))\n",
    "        \n",
    "print(classification_report(labels, preds))"
   ]
  },
  {
   "cell_type": "code",
   "execution_count": 134,
   "metadata": {
    "colab": {
     "base_uri": "https://localhost:8080/"
    },
    "id": "X9g2eTfeB-WO",
    "outputId": "5f06c15f-a420-4525-b0b7-09ae32645fdf"
   },
   "outputs": [
    {
     "name": "stdout",
     "output_type": "stream",
     "text": [
      "              precision    recall  f1-score   support\n",
      "\n",
      "           0       0.65      0.66      0.65    101295\n",
      "           1       0.65      0.64      0.65    100860\n",
      "\n",
      "    accuracy                           0.65    202155\n",
      "   macro avg       0.65      0.65      0.65    202155\n",
      "weighted avg       0.65      0.65      0.65    202155\n",
      "\n"
     ]
    }
   ],
   "source": [
    "from sklearn.metrics import classification_report\n",
    "preds = []\n",
    "labels = torch.tensor(list(y_test['label'].values))\n",
    "model = FFNN(2, input_dim, hidden_dim, output_dim)\n",
    "model.load_state_dict(torch.load('model.pt'))\n",
    "with torch.no_grad():\n",
    "    for index, row in X_test.iterrows():\n",
    "        output = model(torch.Tensor(row))\n",
    "        preds.append(torch.argmax(output, dim=0))\n",
    "        \n",
    "print(classification_report(labels, preds))"
   ]
  },
  {
   "cell_type": "markdown",
   "metadata": {
    "id": "Q82xCkbRB-WP"
   },
   "source": [
    "## 3. Evaluation"
   ]
  },
  {
   "cell_type": "code",
   "execution_count": 135,
   "metadata": {
    "colab": {
     "base_uri": "https://localhost:8080/",
     "height": 279
    },
    "id": "tx1TuafAB-WP",
    "outputId": "a7d12a7d-c43c-4e02-ae7d-3d0839d9d898"
   },
   "outputs": [
    {
     "data": {
      "image/png": "[encoded data removed]",
      "text/plain": [
       "<Figure size 432x288 with 1 Axes>"
      ]
     },
     "metadata": {
      "needs_background": "light"
     },
     "output_type": "display_data"
    }
   ],
   "source": [
    "plt.plot(list(range(1,len(train_losses) + 1)), train_losses, label = \"Training loss\")\n",
    "plt.plot(list(range(1,len(val_losses) +1)), val_losses, label = \"Validation loss\")\n",
    "plt.legend()\n",
    "plt.xlabel(\"Loss\")\n",
    "plt.ylabel(\"Epoch\")\n",
    "plt.show()"
   ]
  }
 ],
 "metadata": {
  "accelerator": "GPU",
  "colab": {
   "machine_shape": "hm",
   "name": "Sarcasm Detection.ipynb",
   "provenance": []
  },
  "kernelspec": {
   "display_name": "Python 3",
   "language": "python",
   "name": "python3"
  },
  "language_info": {
   "codemirror_mode": {
    "name": "ipython",
    "version": 3
   },
   "file_extension": ".py",
   "mimetype": "text/x-python",
   "name": "python",
   "nbconvert_exporter": "python",
   "pygments_lexer": "ipython3",
   "version": "3.8.5"
  }
 },
 "nbformat": 4,
 "nbformat_minor": 5
}
